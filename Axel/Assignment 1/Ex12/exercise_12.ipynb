{
 "cells": [
  {
   "cell_type": "markdown",
   "metadata": {},
   "source": [
    "# Exercise Set 12: Peer effects \n",
    "\n",
    "\n",
    "In this Exercise Set 12 we will investigate peer effects data. "
   ]
  },
  {
   "cell_type": "code",
   "execution_count": 46,
   "metadata": {},
   "outputs": [],
   "source": [
    "import pandas as pd\n",
    "import numpy as np\n",
    "import matplotlib.pyplot as plt\n",
    "import statsmodels.formula.api as smf\n",
    "from statsmodels.formula.api import ols\n",
    "import matplotlib.pyplot as plt\n",
    "%matplotlib inline\n"
   ]
  },
  {
   "cell_type": "markdown",
   "metadata": {},
   "source": [
    "## 12.1: roommate peer effects\n",
    "\n",
    "\n",
    "<br>\n",
    "<br>\n",
    "\n",
    "We use a simlated dataset which will give results that provide conclusions similar to Sacerdote (2000). \n",
    "\n",
    "### Data structuring \n",
    "\n",
    "Our data set does not contain a network but has an implicit one associated. We assume there is an edge between all room mates. \n",
    "\n",
    "> **Ex. 12.1.1:** Create a column called `person_other` with identity of the other person in room.\n",
    ">> *Hint:* You can get the unique people in the room by using `df.groupby('room').person.unique()`."
   ]
  },
  {
   "cell_type": "code",
   "execution_count": 39,
   "metadata": {},
   "outputs": [
    {
     "data": {
      "text/html": [
       "<div>\n",
       "<style scoped>\n",
       "    .dataframe tbody tr th:only-of-type {\n",
       "        vertical-align: middle;\n",
       "    }\n",
       "\n",
       "    .dataframe tbody tr th {\n",
       "        vertical-align: top;\n",
       "    }\n",
       "\n",
       "    .dataframe thead th {\n",
       "        text-align: right;\n",
       "    }\n",
       "</style>\n",
       "<table border=\"1\" class=\"dataframe\">\n",
       "  <thead>\n",
       "    <tr style=\"text-align: right;\">\n",
       "      <th></th>\n",
       "      <th>person</th>\n",
       "      <th>room</th>\n",
       "      <th>high_school_GPA</th>\n",
       "      <th>college_GPA</th>\n",
       "    </tr>\n",
       "  </thead>\n",
       "  <tbody>\n",
       "    <tr>\n",
       "      <td>0</td>\n",
       "      <td>0</td>\n",
       "      <td>351</td>\n",
       "      <td>-1.715472</td>\n",
       "      <td>-1.285307</td>\n",
       "    </tr>\n",
       "    <tr>\n",
       "      <td>1</td>\n",
       "      <td>1</td>\n",
       "      <td>738</td>\n",
       "      <td>-0.530190</td>\n",
       "      <td>-0.031833</td>\n",
       "    </tr>\n",
       "    <tr>\n",
       "      <td>2</td>\n",
       "      <td>2</td>\n",
       "      <td>247</td>\n",
       "      <td>-0.589543</td>\n",
       "      <td>-0.203230</td>\n",
       "    </tr>\n",
       "    <tr>\n",
       "      <td>3</td>\n",
       "      <td>3</td>\n",
       "      <td>751</td>\n",
       "      <td>-1.303115</td>\n",
       "      <td>0.982488</td>\n",
       "    </tr>\n",
       "    <tr>\n",
       "      <td>4</td>\n",
       "      <td>4</td>\n",
       "      <td>698</td>\n",
       "      <td>0.156678</td>\n",
       "      <td>-0.371632</td>\n",
       "    </tr>\n",
       "  </tbody>\n",
       "</table>\n",
       "</div>"
      ],
      "text/plain": [
       "   person  room  high_school_GPA  college_GPA\n",
       "0       0   351        -1.715472    -1.285307\n",
       "1       1   738        -0.530190    -0.031833\n",
       "2       2   247        -0.589543    -0.203230\n",
       "3       3   751        -1.303115     0.982488\n",
       "4       4   698         0.156678    -0.371632"
      ]
     },
     "execution_count": 39,
     "metadata": {},
     "output_type": "execute_result"
    }
   ],
   "source": [
    "data = pd.read_csv(\"peer_effects_room.csv\") \n",
    "data.head()"
   ]
  },
  {
   "cell_type": "code",
   "execution_count": 40,
   "metadata": {},
   "outputs": [
    {
     "data": {
      "text/html": [
       "<div>\n",
       "<style scoped>\n",
       "    .dataframe tbody tr th:only-of-type {\n",
       "        vertical-align: middle;\n",
       "    }\n",
       "\n",
       "    .dataframe tbody tr th {\n",
       "        vertical-align: top;\n",
       "    }\n",
       "\n",
       "    .dataframe thead th {\n",
       "        text-align: right;\n",
       "    }\n",
       "</style>\n",
       "<table border=\"1\" class=\"dataframe\">\n",
       "  <thead>\n",
       "    <tr style=\"text-align: right;\">\n",
       "      <th></th>\n",
       "      <th>person</th>\n",
       "      <th>room</th>\n",
       "      <th>high_school_GPA</th>\n",
       "      <th>college_GPA</th>\n",
       "      <th>person_other</th>\n",
       "    </tr>\n",
       "  </thead>\n",
       "  <tbody>\n",
       "    <tr>\n",
       "      <td>0</td>\n",
       "      <td>0</td>\n",
       "      <td>351</td>\n",
       "      <td>-1.715472</td>\n",
       "      <td>-1.285307</td>\n",
       "      <td>1645</td>\n",
       "    </tr>\n",
       "    <tr>\n",
       "      <td>1</td>\n",
       "      <td>1</td>\n",
       "      <td>738</td>\n",
       "      <td>-0.530190</td>\n",
       "      <td>-0.031833</td>\n",
       "      <td>1039</td>\n",
       "    </tr>\n",
       "    <tr>\n",
       "      <td>2</td>\n",
       "      <td>2</td>\n",
       "      <td>247</td>\n",
       "      <td>-0.589543</td>\n",
       "      <td>-0.203230</td>\n",
       "      <td>944</td>\n",
       "    </tr>\n",
       "    <tr>\n",
       "      <td>3</td>\n",
       "      <td>3</td>\n",
       "      <td>751</td>\n",
       "      <td>-1.303115</td>\n",
       "      <td>0.982488</td>\n",
       "      <td>1099</td>\n",
       "    </tr>\n",
       "    <tr>\n",
       "      <td>4</td>\n",
       "      <td>4</td>\n",
       "      <td>698</td>\n",
       "      <td>0.156678</td>\n",
       "      <td>-0.371632</td>\n",
       "      <td>1708</td>\n",
       "    </tr>\n",
       "    <tr>\n",
       "      <td>...</td>\n",
       "      <td>...</td>\n",
       "      <td>...</td>\n",
       "      <td>...</td>\n",
       "      <td>...</td>\n",
       "      <td>...</td>\n",
       "    </tr>\n",
       "    <tr>\n",
       "      <td>995</td>\n",
       "      <td>1995</td>\n",
       "      <td>539</td>\n",
       "      <td>-1.258312</td>\n",
       "      <td>-1.622298</td>\n",
       "      <td>728</td>\n",
       "    </tr>\n",
       "    <tr>\n",
       "      <td>996</td>\n",
       "      <td>1996</td>\n",
       "      <td>39</td>\n",
       "      <td>-0.038745</td>\n",
       "      <td>0.694112</td>\n",
       "      <td>1497</td>\n",
       "    </tr>\n",
       "    <tr>\n",
       "      <td>997</td>\n",
       "      <td>1997</td>\n",
       "      <td>990</td>\n",
       "      <td>0.790980</td>\n",
       "      <td>0.257346</td>\n",
       "      <td>1589</td>\n",
       "    </tr>\n",
       "    <tr>\n",
       "      <td>998</td>\n",
       "      <td>1998</td>\n",
       "      <td>69</td>\n",
       "      <td>-1.556436</td>\n",
       "      <td>-1.371018</td>\n",
       "      <td>1475</td>\n",
       "    </tr>\n",
       "    <tr>\n",
       "      <td>999</td>\n",
       "      <td>1999</td>\n",
       "      <td>252</td>\n",
       "      <td>-0.866682</td>\n",
       "      <td>-0.928917</td>\n",
       "      <td>871</td>\n",
       "    </tr>\n",
       "  </tbody>\n",
       "</table>\n",
       "<p>2000 rows × 5 columns</p>\n",
       "</div>"
      ],
      "text/plain": [
       "     person  room  high_school_GPA  college_GPA  person_other\n",
       "0         0   351        -1.715472    -1.285307          1645\n",
       "1         1   738        -0.530190    -0.031833          1039\n",
       "2         2   247        -0.589543    -0.203230           944\n",
       "3         3   751        -1.303115     0.982488          1099\n",
       "4         4   698         0.156678    -0.371632          1708\n",
       "..      ...   ...              ...          ...           ...\n",
       "995    1995   539        -1.258312    -1.622298           728\n",
       "996    1996    39        -0.038745     0.694112          1497\n",
       "997    1997   990         0.790980     0.257346          1589\n",
       "998    1998    69        -1.556436    -1.371018          1475\n",
       "999    1999   252        -0.866682    -0.928917           871\n",
       "\n",
       "[2000 rows x 5 columns]"
      ]
     },
     "execution_count": 40,
     "metadata": {},
     "output_type": "execute_result"
    }
   ],
   "source": [
    "data2 = data.groupby('room').person.agg(['min','max']).rename(columns={'min':'person','max':'person_other'})\n",
    "data2.set_index('person')\n",
    "\n",
    "#merge new data in old creating a full dataset\n",
    "merging1 = data.merge(data2, on = 'person')\n",
    "\n",
    "#renaming the comlumns and indexing after person\n",
    "data4 = data2.rename(columns={'person':'person_other','person_other':'person'})\n",
    "data4.set_index('person')\n",
    "\n",
    "#merge updated data \n",
    "merging2 = data.merge(data4, on ='person')\n",
    "\n",
    "#assembling the data \n",
    "fulldata = pd.concat([merging1,merging2])\n",
    "\n",
    "fulldata"
   ]
  },
  {
   "cell_type": "markdown",
   "metadata": {},
   "source": [
    "<br>\n",
    "\n",
    "> **Ex. 12.1.2:** Add information on the roommate GPA in high school and college.\n",
    ">> *Hint:* This can be done merging on `person_other`."
   ]
  },
  {
   "cell_type": "code",
   "execution_count": 41,
   "metadata": {},
   "outputs": [
    {
     "data": {
      "text/html": [
       "<div>\n",
       "<style scoped>\n",
       "    .dataframe tbody tr th:only-of-type {\n",
       "        vertical-align: middle;\n",
       "    }\n",
       "\n",
       "    .dataframe tbody tr th {\n",
       "        vertical-align: top;\n",
       "    }\n",
       "\n",
       "    .dataframe thead th {\n",
       "        text-align: right;\n",
       "    }\n",
       "</style>\n",
       "<table border=\"1\" class=\"dataframe\">\n",
       "  <thead>\n",
       "    <tr style=\"text-align: right;\">\n",
       "      <th></th>\n",
       "      <th>person</th>\n",
       "      <th>room</th>\n",
       "      <th>high_school_GPA_x</th>\n",
       "      <th>college_GPA_x</th>\n",
       "      <th>person_other</th>\n",
       "      <th>high_school_GPA_y</th>\n",
       "      <th>college_GPA_y</th>\n",
       "    </tr>\n",
       "  </thead>\n",
       "  <tbody>\n",
       "    <tr>\n",
       "      <td>0</td>\n",
       "      <td>0</td>\n",
       "      <td>351</td>\n",
       "      <td>-1.715472</td>\n",
       "      <td>-1.285307</td>\n",
       "      <td>1645</td>\n",
       "      <td>-0.818594</td>\n",
       "      <td>-0.434847</td>\n",
       "    </tr>\n",
       "    <tr>\n",
       "      <td>1</td>\n",
       "      <td>1</td>\n",
       "      <td>738</td>\n",
       "      <td>-0.530190</td>\n",
       "      <td>-0.031833</td>\n",
       "      <td>1039</td>\n",
       "      <td>-0.493444</td>\n",
       "      <td>0.299729</td>\n",
       "    </tr>\n",
       "    <tr>\n",
       "      <td>2</td>\n",
       "      <td>2</td>\n",
       "      <td>247</td>\n",
       "      <td>-0.589543</td>\n",
       "      <td>-0.203230</td>\n",
       "      <td>944</td>\n",
       "      <td>1.281112</td>\n",
       "      <td>-0.479543</td>\n",
       "    </tr>\n",
       "    <tr>\n",
       "      <td>3</td>\n",
       "      <td>3</td>\n",
       "      <td>751</td>\n",
       "      <td>-1.303115</td>\n",
       "      <td>0.982488</td>\n",
       "      <td>1099</td>\n",
       "      <td>-1.812137</td>\n",
       "      <td>-2.267394</td>\n",
       "    </tr>\n",
       "    <tr>\n",
       "      <td>4</td>\n",
       "      <td>4</td>\n",
       "      <td>698</td>\n",
       "      <td>0.156678</td>\n",
       "      <td>-0.371632</td>\n",
       "      <td>1708</td>\n",
       "      <td>-0.327219</td>\n",
       "      <td>0.670683</td>\n",
       "    </tr>\n",
       "    <tr>\n",
       "      <td>...</td>\n",
       "      <td>...</td>\n",
       "      <td>...</td>\n",
       "      <td>...</td>\n",
       "      <td>...</td>\n",
       "      <td>...</td>\n",
       "      <td>...</td>\n",
       "      <td>...</td>\n",
       "    </tr>\n",
       "    <tr>\n",
       "      <td>1995</td>\n",
       "      <td>1995</td>\n",
       "      <td>539</td>\n",
       "      <td>-1.258312</td>\n",
       "      <td>-1.622298</td>\n",
       "      <td>728</td>\n",
       "      <td>-0.463023</td>\n",
       "      <td>-0.393440</td>\n",
       "    </tr>\n",
       "    <tr>\n",
       "      <td>1996</td>\n",
       "      <td>1996</td>\n",
       "      <td>39</td>\n",
       "      <td>-0.038745</td>\n",
       "      <td>0.694112</td>\n",
       "      <td>1497</td>\n",
       "      <td>-0.042269</td>\n",
       "      <td>-0.139776</td>\n",
       "    </tr>\n",
       "    <tr>\n",
       "      <td>1997</td>\n",
       "      <td>1997</td>\n",
       "      <td>990</td>\n",
       "      <td>0.790980</td>\n",
       "      <td>0.257346</td>\n",
       "      <td>1589</td>\n",
       "      <td>-0.024570</td>\n",
       "      <td>0.415604</td>\n",
       "    </tr>\n",
       "    <tr>\n",
       "      <td>1998</td>\n",
       "      <td>1998</td>\n",
       "      <td>69</td>\n",
       "      <td>-1.556436</td>\n",
       "      <td>-1.371018</td>\n",
       "      <td>1475</td>\n",
       "      <td>-1.542693</td>\n",
       "      <td>-2.470238</td>\n",
       "    </tr>\n",
       "    <tr>\n",
       "      <td>1999</td>\n",
       "      <td>1999</td>\n",
       "      <td>252</td>\n",
       "      <td>-0.866682</td>\n",
       "      <td>-0.928917</td>\n",
       "      <td>871</td>\n",
       "      <td>1.127386</td>\n",
       "      <td>0.177540</td>\n",
       "    </tr>\n",
       "  </tbody>\n",
       "</table>\n",
       "<p>2000 rows × 7 columns</p>\n",
       "</div>"
      ],
      "text/plain": [
       "      person  room  high_school_GPA_x  college_GPA_x  person_other  \\\n",
       "0          0   351          -1.715472      -1.285307          1645   \n",
       "1          1   738          -0.530190      -0.031833          1039   \n",
       "2          2   247          -0.589543      -0.203230           944   \n",
       "3          3   751          -1.303115       0.982488          1099   \n",
       "4          4   698           0.156678      -0.371632          1708   \n",
       "...      ...   ...                ...            ...           ...   \n",
       "1995    1995   539          -1.258312      -1.622298           728   \n",
       "1996    1996    39          -0.038745       0.694112          1497   \n",
       "1997    1997   990           0.790980       0.257346          1589   \n",
       "1998    1998    69          -1.556436      -1.371018          1475   \n",
       "1999    1999   252          -0.866682      -0.928917           871   \n",
       "\n",
       "      high_school_GPA_y  college_GPA_y  \n",
       "0             -0.818594      -0.434847  \n",
       "1             -0.493444       0.299729  \n",
       "2              1.281112      -0.479543  \n",
       "3             -1.812137      -2.267394  \n",
       "4             -0.327219       0.670683  \n",
       "...                 ...            ...  \n",
       "1995          -0.463023      -0.393440  \n",
       "1996          -0.042269      -0.139776  \n",
       "1997          -0.024570       0.415604  \n",
       "1998          -1.542693      -2.470238  \n",
       "1999           1.127386       0.177540  \n",
       "\n",
       "[2000 rows x 7 columns]"
      ]
     },
     "execution_count": 41,
     "metadata": {},
     "output_type": "execute_result"
    }
   ],
   "source": [
    "#adding the other persons results\n",
    "df = fulldata[['person_other','high_school_GPA','college_GPA']]\n",
    "df = df.rename(columns={'person_other':'person'})\n",
    "\n",
    "#merging into full dataset\n",
    "fulldata = fulldata.merge(df, on='person')\n",
    "fulldata"
   ]
  },
  {
   "cell_type": "markdown",
   "metadata": {},
   "source": [
    "<br>\n",
    "<br>\n",
    "\n",
    "### Data exploration and randomization\n",
    "\n",
    "We now have our final dataset and can begin investigating how the raw data looks. \n",
    "\n",
    "> **Ex. 12.1.3:** plot own GPA in high school vs college in a scatter plot."
   ]
  },
  {
   "cell_type": "code",
   "execution_count": 63,
   "metadata": {},
   "outputs": [
    {
     "data": {
      "text/plain": [
       "Text(0.5, 0, 'High School GPA')"
      ]
     },
     "execution_count": 63,
     "metadata": {},
     "output_type": "execute_result"
    },
    {
     "data": {
      "image/png": "[encoded data removed]",
      "text/plain": [
       "<Figure size 720x432 with 1 Axes>"
      ]
     },
     "metadata": {
      "needs_background": "light"
     },
     "output_type": "display_data"
    }
   ],
   "source": [
    "\n",
    "\n",
    "fig, ax = plt.subplots(figsize=[10,6])\n",
    "plt.scatter(fulldata['high_school_GPA_x'],fulldata['college_GPA_x'])\n",
    "plt.ylabel('College GPA')\n",
    "plt.xlabel('High School GPA')\n"
   ]
  },
  {
   "cell_type": "markdown",
   "metadata": {},
   "source": [
    "<br>\n",
    "We want to check there is random assignment of roommates. \n",
    "\n",
    "> **Ex. 12.1.4:** Plot high school GPA vs roommate's high school GPA. Comment on the output. Run a regresion of high school GPA on roommate's high school GPA to formally check random assignment.\n",
    ">\n",
    ">> *Hint*: To run regressions in python, you can use the `statsmodels` package. Look up it's documentation and use the `.formula` api to estimate your model. To see a summary of a fitted model you can call `.summary()` on the object. \n",
    ">\n",
    ">> *Hint:* Under random assignment we would expect there to be no relation between the high school GPA's of roommates. Why is this? "
   ]
  },
  {
   "cell_type": "code",
   "execution_count": 65,
   "metadata": {},
   "outputs": [
    {
     "data": {
      "text/plain": [
       "Text(0, 0.5, 'Roommate GPA')"
      ]
     },
     "execution_count": 65,
     "metadata": {},
     "output_type": "execute_result"
    },
    {
     "data": {
      "image/png": "[encoded data removed]",
      "text/plain": [
       "<Figure size 576x432 with 1 Axes>"
      ]
     },
     "metadata": {
      "needs_background": "light"
     },
     "output_type": "display_data"
    }
   ],
   "source": [
    "fig, ax = plt.subplots(figsize=[8,6])\n",
    "plt.scatter(fulldata['high_school_GPA_x'],fulldata['high_school_GPA_y'])\n",
    "plt.xlabel('High school GPA')\n",
    "plt.ylabel('Roommate GPA')\n"
   ]
  },
  {
   "cell_type": "code",
   "execution_count": 58,
   "metadata": {},
   "outputs": [
    {
     "data": {
      "text/html": [
       "<table class=\"simpletable\">\n",
       "<caption>OLS Regression Results</caption>\n",
       "<tr>\n",
       "  <th>Dep. Variable:</th>    <td>high_school_GPA_x</td> <th>  R-squared:         </th> <td>   0.000</td>\n",
       "</tr>\n",
       "<tr>\n",
       "  <th>Model:</th>                   <td>OLS</td>        <th>  Adj. R-squared:    </th> <td>  -0.000</td>\n",
       "</tr>\n",
       "<tr>\n",
       "  <th>Method:</th>             <td>Least Squares</td>   <th>  F-statistic:       </th> <td> 0.07263</td>\n",
       "</tr>\n",
       "<tr>\n",
       "  <th>Date:</th>             <td>Fri, 22 May 2020</td>  <th>  Prob (F-statistic):</th>  <td> 0.788</td> \n",
       "</tr>\n",
       "<tr>\n",
       "  <th>Time:</th>                 <td>20:34:25</td>      <th>  Log-Likelihood:    </th> <td> -2883.6</td>\n",
       "</tr>\n",
       "<tr>\n",
       "  <th>No. Observations:</th>      <td>  2000</td>       <th>  AIC:               </th> <td>   5771.</td>\n",
       "</tr>\n",
       "<tr>\n",
       "  <th>Df Residuals:</th>          <td>  1998</td>       <th>  BIC:               </th> <td>   5782.</td>\n",
       "</tr>\n",
       "<tr>\n",
       "  <th>Df Model:</th>              <td>     1</td>       <th>                     </th>     <td> </td>   \n",
       "</tr>\n",
       "<tr>\n",
       "  <th>Covariance Type:</th>      <td>nonrobust</td>     <th>                     </th>     <td> </td>   \n",
       "</tr>\n",
       "</table>\n",
       "<table class=\"simpletable\">\n",
       "<tr>\n",
       "          <td></td>             <th>coef</th>     <th>std err</th>      <th>t</th>      <th>P>|t|</th>  <th>[0.025</th>    <th>0.975]</th>  \n",
       "</tr>\n",
       "<tr>\n",
       "  <th>Intercept</th>         <td>   -0.0284</td> <td>    0.023</td> <td>   -1.241</td> <td> 0.215</td> <td>   -0.073</td> <td>    0.016</td>\n",
       "</tr>\n",
       "<tr>\n",
       "  <th>high_school_GPA_y</th> <td>   -0.0060</td> <td>    0.022</td> <td>   -0.269</td> <td> 0.788</td> <td>   -0.050</td> <td>    0.038</td>\n",
       "</tr>\n",
       "</table>\n",
       "<table class=\"simpletable\">\n",
       "<tr>\n",
       "  <th>Omnibus:</th>       <td> 0.231</td> <th>  Durbin-Watson:     </th> <td>   1.904</td>\n",
       "</tr>\n",
       "<tr>\n",
       "  <th>Prob(Omnibus):</th> <td> 0.891</td> <th>  Jarque-Bera (JB):  </th> <td>   0.288</td>\n",
       "</tr>\n",
       "<tr>\n",
       "  <th>Skew:</th>          <td> 0.015</td> <th>  Prob(JB):          </th> <td>   0.866</td>\n",
       "</tr>\n",
       "<tr>\n",
       "  <th>Kurtosis:</th>      <td> 2.949</td> <th>  Cond. No.          </th> <td>    1.04</td>\n",
       "</tr>\n",
       "</table><br/><br/>Warnings:<br/>[1] Standard Errors assume that the covariance matrix of the errors is correctly specified."
      ],
      "text/plain": [
       "<class 'statsmodels.iolib.summary.Summary'>\n",
       "\"\"\"\n",
       "                            OLS Regression Results                            \n",
       "==============================================================================\n",
       "Dep. Variable:      high_school_GPA_x   R-squared:                       0.000\n",
       "Model:                            OLS   Adj. R-squared:                 -0.000\n",
       "Method:                 Least Squares   F-statistic:                   0.07263\n",
       "Date:                Fri, 22 May 2020   Prob (F-statistic):              0.788\n",
       "Time:                        20:34:25   Log-Likelihood:                -2883.6\n",
       "No. Observations:                2000   AIC:                             5771.\n",
       "Df Residuals:                    1998   BIC:                             5782.\n",
       "Df Model:                           1                                         \n",
       "Covariance Type:            nonrobust                                         \n",
       "=====================================================================================\n",
       "                        coef    std err          t      P>|t|      [0.025      0.975]\n",
       "-------------------------------------------------------------------------------------\n",
       "Intercept            -0.0284      0.023     -1.241      0.215      -0.073       0.016\n",
       "high_school_GPA_y    -0.0060      0.022     -0.269      0.788      -0.050       0.038\n",
       "==============================================================================\n",
       "Omnibus:                        0.231   Durbin-Watson:                   1.904\n",
       "Prob(Omnibus):                  0.891   Jarque-Bera (JB):                0.288\n",
       "Skew:                           0.015   Prob(JB):                        0.866\n",
       "Kurtosis:                       2.949   Cond. No.                         1.04\n",
       "==============================================================================\n",
       "\n",
       "Warnings:\n",
       "[1] Standard Errors assume that the covariance matrix of the errors is correctly specified.\n",
       "\"\"\""
      ]
     },
     "execution_count": 58,
     "metadata": {},
     "output_type": "execute_result"
    }
   ],
   "source": [
    "reg = smf.ols('high_school_GPA_x ~ high_school_GPA_y', data=fulldata).fit()\n",
    "reg.summary()"
   ]
  },
  {
   "cell_type": "markdown",
   "metadata": {},
   "source": [
    "<br>\n",
    "<br>\n",
    "\n",
    "## Roommate effect\n",
    "\n",
    "Having checked the data we move on to analyzing peer effects. We begin with analyzing **exogenous** peer effects. I.e. peer effects that are related to the ex ante characteristics of the roommate.\n",
    "\n",
    "> **Ex. 12.1.5:** Plot own GPA in college vs. roommate GPA in high school. Comment on the output. Test whether there is an impact using a regresion of college school GPA on high school GPA for the person itself and its roommate."
   ]
  },
  {
   "cell_type": "code",
   "execution_count": 66,
   "metadata": {},
   "outputs": [
    {
     "data": {
      "text/plain": [
       "Text(0.5, 0, 'College GPA')"
      ]
     },
     "execution_count": 66,
     "metadata": {},
     "output_type": "execute_result"
    },
    {
     "data": {
      "image/png": "[encoded data removed]",
      "text/plain": [
       "<Figure size 576x432 with 1 Axes>"
      ]
     },
     "metadata": {
      "needs_background": "light"
     },
     "output_type": "display_data"
    }
   ],
   "source": [
    "fig, ax = plt.subplots(figsize=[8,6])\n",
    "plt.scatter(fulldata['college_GPA_x'],fulldata['high_school_GPA_y'])\n",
    "plt.ylabel('Roommate high school GPA')\n",
    "plt.xlabel('College GPA')\n"
   ]
  },
  {
   "cell_type": "markdown",
   "metadata": {},
   "source": [
    "There seems to be no effect on the college gpa given the roommates highshool GPA. "
   ]
  },
  {
   "cell_type": "code",
   "execution_count": 67,
   "metadata": {},
   "outputs": [
    {
     "data": {
      "text/html": [
       "<table class=\"simpletable\">\n",
       "<caption>OLS Regression Results</caption>\n",
       "<tr>\n",
       "  <th>Dep. Variable:</th>      <td>college_GPA_x</td>  <th>  R-squared:         </th> <td>   0.402</td> \n",
       "</tr>\n",
       "<tr>\n",
       "  <th>Model:</th>                   <td>OLS</td>       <th>  Adj. R-squared:    </th> <td>   0.401</td> \n",
       "</tr>\n",
       "<tr>\n",
       "  <th>Method:</th>             <td>Least Squares</td>  <th>  F-statistic:       </th> <td>   671.3</td> \n",
       "</tr>\n",
       "<tr>\n",
       "  <th>Date:</th>             <td>Fri, 22 May 2020</td> <th>  Prob (F-statistic):</th> <td>1.03e-223</td>\n",
       "</tr>\n",
       "<tr>\n",
       "  <th>Time:</th>                 <td>20:40:44</td>     <th>  Log-Likelihood:    </th> <td> -2586.0</td> \n",
       "</tr>\n",
       "<tr>\n",
       "  <th>No. Observations:</th>      <td>  2000</td>      <th>  AIC:               </th> <td>   5178.</td> \n",
       "</tr>\n",
       "<tr>\n",
       "  <th>Df Residuals:</th>          <td>  1997</td>      <th>  BIC:               </th> <td>   5195.</td> \n",
       "</tr>\n",
       "<tr>\n",
       "  <th>Df Model:</th>              <td>     2</td>      <th>                     </th>     <td> </td>    \n",
       "</tr>\n",
       "<tr>\n",
       "  <th>Covariance Type:</th>      <td>nonrobust</td>    <th>                     </th>     <td> </td>    \n",
       "</tr>\n",
       "</table>\n",
       "<table class=\"simpletable\">\n",
       "<tr>\n",
       "          <td></td>             <th>coef</th>     <th>std err</th>      <th>t</th>      <th>P>|t|</th>  <th>[0.025</th>    <th>0.975]</th>  \n",
       "</tr>\n",
       "<tr>\n",
       "  <th>Intercept</th>         <td>   -0.0226</td> <td>    0.020</td> <td>   -1.147</td> <td> 0.252</td> <td>   -0.061</td> <td>    0.016</td>\n",
       "</tr>\n",
       "<tr>\n",
       "  <th>high_school_GPA_x</th> <td>    0.7059</td> <td>    0.019</td> <td>   36.606</td> <td> 0.000</td> <td>    0.668</td> <td>    0.744</td>\n",
       "</tr>\n",
       "<tr>\n",
       "  <th>high_school_GPA_y</th> <td>    0.0356</td> <td>    0.019</td> <td>    1.847</td> <td> 0.065</td> <td>   -0.002</td> <td>    0.073</td>\n",
       "</tr>\n",
       "</table>\n",
       "<table class=\"simpletable\">\n",
       "<tr>\n",
       "  <th>Omnibus:</th>       <td>77.587</td> <th>  Durbin-Watson:     </th> <td>   1.973</td>\n",
       "</tr>\n",
       "<tr>\n",
       "  <th>Prob(Omnibus):</th> <td> 0.000</td> <th>  Jarque-Bera (JB):  </th> <td> 213.025</td>\n",
       "</tr>\n",
       "<tr>\n",
       "  <th>Skew:</th>          <td>-0.117</td> <th>  Prob(JB):          </th> <td>5.52e-47</td>\n",
       "</tr>\n",
       "<tr>\n",
       "  <th>Kurtosis:</th>      <td> 4.582</td> <th>  Cond. No.          </th> <td>    1.05</td>\n",
       "</tr>\n",
       "</table><br/><br/>Warnings:<br/>[1] Standard Errors assume that the covariance matrix of the errors is correctly specified."
      ],
      "text/plain": [
       "<class 'statsmodels.iolib.summary.Summary'>\n",
       "\"\"\"\n",
       "                            OLS Regression Results                            \n",
       "==============================================================================\n",
       "Dep. Variable:          college_GPA_x   R-squared:                       0.402\n",
       "Model:                            OLS   Adj. R-squared:                  0.401\n",
       "Method:                 Least Squares   F-statistic:                     671.3\n",
       "Date:                Fri, 22 May 2020   Prob (F-statistic):          1.03e-223\n",
       "Time:                        20:40:44   Log-Likelihood:                -2586.0\n",
       "No. Observations:                2000   AIC:                             5178.\n",
       "Df Residuals:                    1997   BIC:                             5195.\n",
       "Df Model:                           2                                         \n",
       "Covariance Type:            nonrobust                                         \n",
       "=====================================================================================\n",
       "                        coef    std err          t      P>|t|      [0.025      0.975]\n",
       "-------------------------------------------------------------------------------------\n",
       "Intercept            -0.0226      0.020     -1.147      0.252      -0.061       0.016\n",
       "high_school_GPA_x     0.7059      0.019     36.606      0.000       0.668       0.744\n",
       "high_school_GPA_y     0.0356      0.019      1.847      0.065      -0.002       0.073\n",
       "==============================================================================\n",
       "Omnibus:                       77.587   Durbin-Watson:                   1.973\n",
       "Prob(Omnibus):                  0.000   Jarque-Bera (JB):              213.025\n",
       "Skew:                          -0.117   Prob(JB):                     5.52e-47\n",
       "Kurtosis:                       4.582   Cond. No.                         1.05\n",
       "==============================================================================\n",
       "\n",
       "Warnings:\n",
       "[1] Standard Errors assume that the covariance matrix of the errors is correctly specified.\n",
       "\"\"\""
      ]
     },
     "execution_count": 67,
     "metadata": {},
     "output_type": "execute_result"
    }
   ],
   "source": [
    "reg = smf.ols('college_GPA_x ~ high_school_GPA_x + high_school_GPA_y', data=fulldata).fit()\n",
    "\n",
    "reg.summary()"
   ]
  },
  {
   "cell_type": "markdown",
   "metadata": {},
   "source": [
    "As noted above the resutls shows that there is no correlation on the two variables. "
   ]
  },
  {
   "cell_type": "markdown",
   "metadata": {},
   "source": [
    "We now move on to analyze **endogenous** peer effects.\n",
    "\n",
    "> **Ex. 12.1.6:** Test whether there is an association between own college GPA and roommates. Do this by running a regresion of college school GPA on high school GPA for the person itself and its roommate. Comment on the output."
   ]
  },
  {
   "cell_type": "code",
   "execution_count": 70,
   "metadata": {},
   "outputs": [
    {
     "data": {
      "text/html": [
       "<table class=\"simpletable\">\n",
       "<caption>OLS Regression Results</caption>\n",
       "<tr>\n",
       "  <th>Dep. Variable:</th>      <td>college_GPA_x</td>  <th>  R-squared:         </th> <td>   0.405</td> \n",
       "</tr>\n",
       "<tr>\n",
       "  <th>Model:</th>                   <td>OLS</td>       <th>  Adj. R-squared:    </th> <td>   0.405</td> \n",
       "</tr>\n",
       "<tr>\n",
       "  <th>Method:</th>             <td>Least Squares</td>  <th>  F-statistic:       </th> <td>   453.7</td> \n",
       "</tr>\n",
       "<tr>\n",
       "  <th>Date:</th>             <td>Fri, 22 May 2020</td> <th>  Prob (F-statistic):</th> <td>1.02e-224</td>\n",
       "</tr>\n",
       "<tr>\n",
       "  <th>Time:</th>                 <td>20:50:47</td>     <th>  Log-Likelihood:    </th> <td> -2580.3</td> \n",
       "</tr>\n",
       "<tr>\n",
       "  <th>No. Observations:</th>      <td>  2000</td>      <th>  AIC:               </th> <td>   5169.</td> \n",
       "</tr>\n",
       "<tr>\n",
       "  <th>Df Residuals:</th>          <td>  1996</td>      <th>  BIC:               </th> <td>   5191.</td> \n",
       "</tr>\n",
       "<tr>\n",
       "  <th>Df Model:</th>              <td>     3</td>      <th>                     </th>     <td> </td>    \n",
       "</tr>\n",
       "<tr>\n",
       "  <th>Covariance Type:</th>      <td>nonrobust</td>    <th>                     </th>     <td> </td>    \n",
       "</tr>\n",
       "</table>\n",
       "<table class=\"simpletable\">\n",
       "<tr>\n",
       "          <td></td>             <th>coef</th>     <th>std err</th>      <th>t</th>      <th>P>|t|</th>  <th>[0.025</th>    <th>0.975]</th>  \n",
       "</tr>\n",
       "<tr>\n",
       "  <th>Intercept</th>         <td>   -0.0209</td> <td>    0.020</td> <td>   -1.063</td> <td> 0.288</td> <td>   -0.060</td> <td>    0.018</td>\n",
       "</tr>\n",
       "<tr>\n",
       "  <th>high_school_GPA_x</th> <td>    0.7032</td> <td>    0.019</td> <td>   36.530</td> <td> 0.000</td> <td>    0.665</td> <td>    0.741</td>\n",
       "</tr>\n",
       "<tr>\n",
       "  <th>high_school_GPA_y</th> <td>   -0.0176</td> <td>    0.025</td> <td>   -0.708</td> <td> 0.479</td> <td>   -0.066</td> <td>    0.031</td>\n",
       "</tr>\n",
       "<tr>\n",
       "  <th>college_GPA_y</th>     <td>    0.0754</td> <td>    0.022</td> <td>    3.378</td> <td> 0.001</td> <td>    0.032</td> <td>    0.119</td>\n",
       "</tr>\n",
       "</table>\n",
       "<table class=\"simpletable\">\n",
       "<tr>\n",
       "  <th>Omnibus:</th>       <td>79.457</td> <th>  Durbin-Watson:     </th> <td>   1.977</td>\n",
       "</tr>\n",
       "<tr>\n",
       "  <th>Prob(Omnibus):</th> <td> 0.000</td> <th>  Jarque-Bera (JB):  </th> <td> 221.843</td>\n",
       "</tr>\n",
       "<tr>\n",
       "  <th>Skew:</th>          <td>-0.117</td> <th>  Prob(JB):          </th> <td>6.72e-49</td>\n",
       "</tr>\n",
       "<tr>\n",
       "  <th>Kurtosis:</th>      <td> 4.615</td> <th>  Cond. No.          </th> <td>    2.14</td>\n",
       "</tr>\n",
       "</table><br/><br/>Warnings:<br/>[1] Standard Errors assume that the covariance matrix of the errors is correctly specified."
      ],
      "text/plain": [
       "<class 'statsmodels.iolib.summary.Summary'>\n",
       "\"\"\"\n",
       "                            OLS Regression Results                            \n",
       "==============================================================================\n",
       "Dep. Variable:          college_GPA_x   R-squared:                       0.405\n",
       "Model:                            OLS   Adj. R-squared:                  0.405\n",
       "Method:                 Least Squares   F-statistic:                     453.7\n",
       "Date:                Fri, 22 May 2020   Prob (F-statistic):          1.02e-224\n",
       "Time:                        20:50:47   Log-Likelihood:                -2580.3\n",
       "No. Observations:                2000   AIC:                             5169.\n",
       "Df Residuals:                    1996   BIC:                             5191.\n",
       "Df Model:                           3                                         \n",
       "Covariance Type:            nonrobust                                         \n",
       "=====================================================================================\n",
       "                        coef    std err          t      P>|t|      [0.025      0.975]\n",
       "-------------------------------------------------------------------------------------\n",
       "Intercept            -0.0209      0.020     -1.063      0.288      -0.060       0.018\n",
       "high_school_GPA_x     0.7032      0.019     36.530      0.000       0.665       0.741\n",
       "high_school_GPA_y    -0.0176      0.025     -0.708      0.479      -0.066       0.031\n",
       "college_GPA_y         0.0754      0.022      3.378      0.001       0.032       0.119\n",
       "==============================================================================\n",
       "Omnibus:                       79.457   Durbin-Watson:                   1.977\n",
       "Prob(Omnibus):                  0.000   Jarque-Bera (JB):              221.843\n",
       "Skew:                          -0.117   Prob(JB):                     6.72e-49\n",
       "Kurtosis:                       4.615   Cond. No.                         2.14\n",
       "==============================================================================\n",
       "\n",
       "Warnings:\n",
       "[1] Standard Errors assume that the covariance matrix of the errors is correctly specified.\n",
       "\"\"\""
      ]
     },
     "execution_count": 70,
     "metadata": {},
     "output_type": "execute_result"
    }
   ],
   "source": [
    "reg = smf.ols('college_GPA_x ~ high_school_GPA_x + high_school_GPA_y + college_GPA_y', data=fulldata).fit()\n",
    "\n",
    "reg.summary()"
   ]
  },
  {
   "cell_type": "markdown",
   "metadata": {},
   "source": [
    "It appears from the ols that the college GPA of ones roommate has an effect on ones own college GPA and vice versa. "
   ]
  },
  {
   "cell_type": "markdown",
   "metadata": {},
   "source": [
    "<br>\n",
    "<br>\n",
    "\n",
    "# 12.2 Peer effects in Danish classrooms\n",
    "\n",
    "Read the [report by Kraka on peer effects in Danish schools](http://kraka.dk/sites/default/files/public/baggrundsnotat_klassekammerateffekter_0.pdf) from 2019. If you do not speak Danish talk to your group about the content.\n",
    "> **Ex. 12.2.1:** Explain the identification strategy in words."
   ]
  },
  {
   "cell_type": "markdown",
   "metadata": {},
   "source": [
    "They measure the peer effects and the results achieved in life based on socioeconomic factors. Exploiting the variation in classes throughout the years makes sure that there is a randomisation that ensures doesnt exist any selection bias. "
   ]
  },
  {
   "cell_type": "markdown",
   "metadata": {},
   "source": [
    "> **Ex. 12.2.2:** Are there any shortcomings of the identification strategy? What does the seminal paper [Hoxby (2000)](https://www.nber.org/papers/w78612.pdf) test for?"
   ]
  },
  {
   "cell_type": "markdown",
   "metadata": {},
   "source": [
    "There must exist a selection bias of sorts in the model as parents more or less have the possibility to move their kids into new classes. There could also be a shortcoming of the gender indentification measurements as well as the social inherentence and parents expectations.\n",
    "\n",
    "Howby (2000) tests the peer effect based on racial and gender composition."
   ]
  },
  {
   "cell_type": "markdown",
   "metadata": {},
   "source": [
    "> **Ex. 12.2.3:** Try to come up with identification strategies for identifying peer effects in the context of Danish class rooms."
   ]
  },
  {
   "cell_type": "code",
   "execution_count": null,
   "metadata": {},
   "outputs": [],
   "source": []
  }
 ],
 "metadata": {
  "kernelspec": {
   "display_name": "Python 3",
   "language": "python",
   "name": "python3"
  },
  "language_info": {
   "codemirror_mode": {
    "name": "ipython",
    "version": 3
   },
   "file_extension": ".py",
   "mimetype": "text/x-python",
   "name": "python",
   "nbconvert_exporter": "python",
   "pygments_lexer": "ipython3",
   "version": "3.7.4"
  }
 },
 "nbformat": 4,
 "nbformat_minor": 4
}
