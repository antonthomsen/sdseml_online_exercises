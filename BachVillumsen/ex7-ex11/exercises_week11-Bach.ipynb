{
 "cells": [
  {
   "cell_type": "markdown",
   "metadata": {},
   "source": [
    "# Week 11: Networks 3 (epidemiology)\n"
   ]
  },
  {
   "cell_type": "markdown",
   "metadata": {
    "ExecuteTime": {
     "end_time": "2017-08-23T15:30:03.634114Z",
     "start_time": "2017-08-23T15:30:03.629294Z"
    }
   },
   "source": [
    "While researchers have been modeling the spread of diseases and information for many years, the COVID-19 pandemic playing out right now puts a new emphasis on the importance of being able to model (and thus predict) how diseases propagate through populations. So how do you most effectively model the spread of a disease? There are many^ ways, and all of them (at least the useful ones) involves networks. In this notebook you will get your hands on a couple different modeling approaches. Specifically:\n",
    "\n",
    "* Spreading processes on static networks\n",
    "* Spreading processes on temporal networks\n",
    "* Metapopulation models"
   ]
  },
  {
   "cell_type": "markdown",
   "metadata": {},
   "source": [
    "**Questions**: Outside of class, use [issue on GitHub](https://github.com/abjer/tsds/issues) for asking questions."
   ]
  },
  {
   "cell_type": "markdown",
   "metadata": {},
   "source": [
    "## Imports"
   ]
  },
  {
   "cell_type": "code",
   "execution_count": 1,
   "metadata": {
    "ExecuteTime": {
     "end_time": "2020-04-24T11:47:07.339115Z",
     "start_time": "2020-04-24T11:47:06.861645Z"
    }
   },
   "outputs": [],
   "source": [
    "%matplotlib inline\n",
    "import matplotlib.pylab as plt\n",
    "import networkx as nx\n",
    "import netwulf as nw\n",
    "import numpy as np"
   ]
  },
  {
   "cell_type": "markdown",
   "metadata": {},
   "source": [
    "## Exercises"
   ]
  },
  {
   "cell_type": "markdown",
   "metadata": {},
   "source": [
    "In a *contact network* nodes are people and links represent interactions that can happen between people. You can use such a network as a *substrate* for simulating the spreading of \"something\". Spreading of what? That's up to you. It can be a disease, a behavior, a piece of information, anything you can imagine people may pass along. There's a whole subfield of Network Science which deals with this, but the fundamental idea is actually quite simple:\n",
    "\n",
    "> Nodes that are connected can transmit this \"something\" with a probability. Each timestep of the simulation is an opportunity for the \"something\" to spread.\n",
    "\n",
    "You can then make this more nuanced by adding extra criteria for transmission. For disease modeling these can e.g. be that nodes can only be infected after multiple exposures or if multiple neighbors are infected, that they can be cured and become resistant/susceptible with some probability, that they may die and exit the simulation creating a void in the network, that becoming infected makes them change their links, that godzilla walks in and eats everyone—the possibilities are endless and you decide which rules exist in the simulation universe."
   ]
  },
  {
   "cell_type": "markdown",
   "metadata": {},
   "source": [
    "Generally speaking, there are four major classes of so-called \"compartmental models\" in network epidemiology:\n",
    "* *Susceptible-Infected (SI)*: Nodes are susceptible at start, and once they are infected they never recover. This models spreading of unforgetable information, or diseases that people get and pass on, and never recover from (like HIV, herpes, etc.).\n",
    "* *Susceptible-Infected-Susceptible (SIS)*: Nodes are susceptible, then get infected and stay infected for some time, then get susceptible again, an the cycle continues. This could model things like the flu which comes and goes and you get and recover from over and over again.\n",
    "* *Susceptible-Infected-Resistant (SIR)*: Nodes become infected and after some time they gain resistance so that they can niether become infected nor spread disease/information further. Once they are resistant they are essentially \"removed\" from the network, so this type of model works for diseases where people recover and gain resistance as well as ones that kill people, as niether type of person can transmit (measles, chickenpox but also rabies, Creutzfeldt–Jakob disease, etc.).\n",
    "* *Susceptible-Infected-Resistant-Susceptible (SIRS)*: Probably self-explanatory if you understood the above."
   ]
  },
  {
   "cell_type": "markdown",
   "metadata": {},
   "source": [
    "The idea that drives the \"compartmenal\" modeling approach is that within a population you can assign each\n",
    "individual to a compartment based on their \"state\" (infected, susceptible, etc.). When you start the simulation,\n",
    "individuals then flow between compartments with specific flow rates.\n",
    "\n",
    "![img](https://upload.wikimedia.org/wikipedia/commons/9/93/SIR_Flow_Diagram.svg)\n",
    "\n",
    "This then allows us to describe the flow of individuals between compartments (and thus the spreading of the disease)\n",
    "using differential equations. For example in the simple SIR model shown above, the dynamics can be described with\n",
    "three differential equations (one for each compartment). They each tell us how fast the population in the corresponding\n",
    "compartment it changing:\n",
    "\n",
    "$$\\frac{dS}{dt} = -\\beta SI$$\n",
    "\n",
    "$$\\frac{dI}{dt} = \\beta SI - \\gamma I$$\n",
    "\n",
    "$$\\frac{dR}{dt} = \\gamma I$$"
   ]
  },
  {
   "cell_type": "markdown",
   "metadata": {},
   "source": [
    "So at a given point in time how many people are leaving the susceptible compartment and entering the Infected compartment?\n",
    "Well that's simply the the number of susceptible $S$ times the number of infected $I$ multipled with some disease-specific constant $\\beta$.\n",
    "\n",
    "And what's the growth in the number of infected? Easy! It's just the number of people coming in from the susceptible compartment $\\beta SI$ minus all the people leaving for the \"Recovered\" compartment $\\gamma I$, where gamma is some constant that describs how fast people recover.\n",
    "\n",
    "And the rate at which people enter the recovered state? If you understood the above you can explain this to yourself.\n",
    "\n",
    "**That's it!**. That's how all compartmental models work!"
   ]
  },
  {
   "cell_type": "markdown",
   "metadata": {},
   "source": [
    "> **Ex. 11.1.1**: But as I wrote above there are many different types of compartmental models. Write down the rate equations for the SIS model:\n",
    ">\n",
    ">![img](https://upload.wikimedia.org/wikipedia/commons/c/cb/SIS_compartment_model.svg)\n",
    ">\n",
    "> Follow the reasoning in the example for the SIR model above. Answer the following:\n",
    "* how many equations you need if there are two compartments.\n",
    "* What specifically does each equation describe?\n",
    "* What do $\\beta$ and $\\gamma$ intuitively describe? What can you say about a disease with a really big $\\gamma$? Or a really small $\\gamma$? How about big or small $\\beta$?"
   ]
  },
  {
   "cell_type": "markdown",
   "metadata": {},
   "source": [
    "**Answer:** Since there are only two compartments, and since nobody dies, we only need two equations.\n",
    "\n",
    "\n",
    "$$\\frac{dS}{dt} = -\\beta SI + \\gamma I$$\n",
    "\n",
    "$$\\frac{dI}{dt} = \\beta SI - \\gamma I$$\n",
    "\n",
    "The first equation describes the rate of how many that susceptible to the disease at any given time. It is the ones that are not infectious. Since people become susceptible once they have \"recovered\" we need to include the recovered in the first equation.\n",
    "The secound equation describes the rate of how many are infectious at any given monent. It is the people whom has gotten infected minus the ones that have recovered.\n",
    "The infectious rate, $\\beta$ describes the probability of an infected person passing on the disease, which both reflects the number of contacts the person has and the how contagious the disease is. The recovery rate, $\\gamma$ describes how fast people recover from the disease\n",
    "\n",
    "What will happens depends not on how big or how small gamma or beta is, but rather how big they are compared to each other.\n",
    "If $\\gamma$ > $\\beta$ then people will recover faster than they get infected, which leads to the disease eventually dying out.\n",
    "If $\\gamma$ < $\\beta$ then the fraction of infected will reach a constant level, predicted by the ratio between $\\gamma$ and $\\beta$. This is called an endemic state."
   ]
  },
  {
   "cell_type": "markdown",
   "metadata": {},
   "source": [
    "> **Ex. 11.1.2** (optional): If you really understood the above, you should have no trouble writing down the equations for a SIRS\n",
    "model. Go ahead and try. Hint: You will need to introduce a new constant that describes the rate at which people move from R to S."
   ]
  },
  {
   "cell_type": "markdown",
   "metadata": {},
   "source": [
    "**Answer:**\n",
    "\n",
    "\n",
    "$$\\frac{dS}{dt} = -\\beta SI + \\epsilon R$$\n",
    "\n",
    "$$\\frac{dI}{dt} = \\beta SI - \\gamma I$$\n",
    "\n",
    "$$\\frac{dR}{dt} =  \\gamma I - \\epsilon R$$"
   ]
  },
  {
   "cell_type": "markdown",
   "metadata": {},
   "source": [
    "> **Ex. 11.1.3**: Professor of physics and mathematic and all around cool guy, Dirk Brockmann,\n",
    "makes interactive articles called *Explorables* that introduce ideas in Complexity science. Read/play with\n",
    "[his explorable](http://www.complexity-explorables.org/explorables/neighbors/) on targeted vaccination to mitigate epidemic spreading in the real world and answer the\n",
    "following questions:\n",
    "> 1. In the BA network, roughly what percentage of the population do you have to vaccinate with **strategy A** to only get around 10\n",
    "infected individuals? What about **startegy B** and **strategy C**?\n",
    "> 2. **strategy A** and **strategy C** are both entirely random, but one is much more effective than the other. Explain\n",
    "why. What clever idea is **strategy C** employing?\n",
    "> 3. Why is this effect larger in the BA network than in the ER network?"
   ]
  },
  {
   "cell_type": "markdown",
   "metadata": {},
   "source": [
    "**Answer**:\n",
    "\n",
    "Since the simulation is random, the result differs everytime it is run. I run it five times and see if the average is around 10 I decide that it is close enough. Since 5 times is a very small sample, the percentage I find is not the true value.\n",
    "\n",
    "\n",
    "1. In the BA network, with strategy A we would need to vaccine around 75% to get around 10 infected individual. With strategy B it is around 15 % and with stategy C it is around 50 %.\n",
    "2. The reason that strategy C is more effective than strategy A is because of the friendsship paradox. Your friends are more successful and have more friends than you do (and thereby more connections). In more formal terms, the mean degree of a neighbour node is higher than the average node. So by first choosing random and then randomly choosing one of their connections, we (on average) gets nodes with higher degrees.\n",
    "3. The BA network has a greater variation in node degree. This means that in the BA network the difference is bigger between the randomely chosen nodes mean degree and the mean degree of the neighbor nodes than in the ER network. We gain more by moving to a random neighbor in the BA network than in the ER network."
   ]
  },
  {
   "cell_type": "markdown",
   "metadata": {},
   "source": [
    "> **Ex. 11.1.4**: Choose one of these two explorables ([1](http://www.complexity-explorables.org/explorables/herd/) or [2](http://www.complexity-explorables.org/explorables/epidemonic/)) read/play with and understand it, and explain in your own words what phenomenon it communicates."
   ]
  },
  {
   "cell_type": "markdown",
   "metadata": {},
   "source": [
    "**Answer:** I have chosen the Explorable #2, which is a simulation of the SIRS Model (Susceptible-Infectious-Recovered-Susceptible Model).\n",
    "\n",
    "This model is good for modelling disease where you have a immunity for a while after being infectious. This could model the common cold or influenza, since these diseases mutate constantly meaning that immunity wane after a while.\n",
    "\n",
    "In this model there is no death, hence nobody leaves the model and the population is therefore constant. The recovered becomes susceptible again. The SIRS model can be seen as a special case of the SI-model, where the infectious that recover goes to the \"recover bin\" before returning to the \"susceptible bin\". The SIRS model has two different outcomes:\n",
    "- Endemic state\n",
    "- Disease-free state\n",
    "\n",
    "The outcome (and speed) of the model depends on the relationsship between the parameters of the mode. The parameters being: infection rate ($\\beta$), recovery rate ($\\gamma$), imunity waning rate ($\\epsilon$) and migration rate ($\\zeta$). \n",
    "\n",
    "\n",
    "A wierd example: The Long Summer Vacation: Sober-Drinking-Hungover-Sober model."
   ]
  },
  {
   "cell_type": "markdown",
   "metadata": {},
   "source": [
    "> **Ex. 11.1.5**: The simplest compartmental model is the *SI* model. Below I have implemented a simulation of such a model.\n",
    "You can see in line 5 that I initialize all nodes in the *S* compartment, but after running, all nodes are in the *I* compartment.\n",
    "Does this make sense to you?\n",
    "1. Comment the code abundantly, explaining what's happing at each step.\n",
    "2. Adapt the code and make a plot of the fraction of infected over time. You may have to restart it a couple of time to make sure patient 0 is someone connected to the rest of the population.\n",
    "3. Extend the code such after a variable number of timesteps `T_I` infected nodes become susceptible again. Set `T_I = 10` to begin with and plot the fraction of infected over time for 200 timesteps. Does the result make sense? Comment on what you see."
   ]
  },
  {
   "cell_type": "markdown",
   "metadata": {
    "ExecuteTime": {
     "end_time": "2020-04-24T11:40:56.524830Z",
     "start_time": "2020-04-24T11:40:56.521674Z"
    }
   },
   "source": [
    "**Answer to Q1:** Commenting the code"
   ]
  },
  {
   "cell_type": "code",
   "execution_count": 63,
   "metadata": {
    "ExecuteTime": {
     "end_time": "2020-04-24T11:40:34.820432Z",
     "start_time": "2020-04-24T11:40:34.787128Z"
    }
   },
   "outputs": [],
   "source": [
    "G = nx.connected_caveman_graph(10, 5) #Creates an undirected graph with 10 cliques with 5 members in each clique.\n",
    "# _ = nw.visualize(G) # Uncomment if you want to have a look at the network\n",
    "\n",
    "p_I = 0.1 # Set the probability of transmission\n",
    "n_iter = 200 #Number of iterations\n",
    "\n",
    "I = set() #The infectious nodes, initially nobody is in this node\n",
    "S = set(G.nodes()) #The susceptible nodes, initially everybody is susceptible\n",
    "\n",
    "patient0 = np.random.choice(list(S)) #Choosing a random node in the susceptible node as patient 0, in order to start the 'epedemic'\n",
    "\n",
    "#Moves patient 0 (which is now infectious) from the list of susceptibles, to the list of infectious.\n",
    "I.add(patient0)\n",
    "S.remove(patient0)\n",
    "\n",
    "#Models the evolution in the model.\n",
    "for t in range(n_iter): # The times that the simulation is run, this can be viewed as time. Initially run for 200 timeperiods.\n",
    "    #In each timeperiode n_iter[0,200] we take each infectious node in the list of infectious:\n",
    "    for infected_node in list(I):\n",
    "        #We set neighbors to be all the neighbors for the infected node (no matter whether they are infectious or susceptible)\n",
    "        neighbors = G.neighbors(infected_node)\n",
    "        #We find out how many nodes get infected in the timeperiod t.\n",
    "        #We take each neighbor of an infected node and draws a random number for it (random.random).\n",
    "        #If the random number is below the probability of transmission (p_I), then the neighbor gets infected\n",
    "        #And is added to the list of intected neighbors\n",
    "        infected_neighbors = set([n for n in neighbors if np.random.random() < p_I])\n",
    "        #Adding the infected_neigbors to the list of the infected\n",
    "        I |= infected_neighbors\n",
    "        #removing the infected_neigbors from the list of susceptible\n",
    "        S -= infected_neighbors\n",
    "        \n",
    "#Note that there is no recovery in the model, so eventually everybody gets infected"
   ]
  },
  {
   "cell_type": "markdown",
   "metadata": {},
   "source": [
    "**Answer to Q2:** Adapting the code and make a plot of the fraction of infected over time "
   ]
  },
  {
   "cell_type": "code",
   "execution_count": 64,
   "metadata": {},
   "outputs": [],
   "source": [
    "#Creating a new G\n",
    "del G\n",
    "G = nx.connected_caveman_graph(10, 5)\n",
    "\n",
    "#Modyfying the model to be able to create a plot of the infected rate over time.\n",
    "\n",
    "p_I = 0.1 # Set the probability of transmission\n",
    "n_iter = 200 #Number of iterations\n",
    "\n",
    "I = set() #The infectious nodes, initially nobody is in this node\n",
    "S = set(G.nodes()) #The susceptible nodes, initially everybody is susceptible\n",
    "\n",
    "patient0 = np.random.choice(list(S)) #Choosing a random node in the susceptible node as patient 0, in order to start the 'epedemic'\n",
    "\n",
    "#Moves patient 0 (which is now infectious) from the list of susceptibles, to the list of infectious.\n",
    "I.add(patient0)\n",
    "S.remove(patient0)\n",
    "\n",
    "frac_t=[]\n",
    "\n",
    "#Models the evolution in the model.\n",
    "for t in range(n_iter): \n",
    "    for infected_node in list(I):\n",
    "        neighbors = G.neighbors(infected_node)\n",
    "        infected_neighbors = set([n for n in neighbors if np.random.random() < p_I])\n",
    "        I |= infected_neighbors\n",
    "        S -= infected_neighbors\n",
    "    frac = len(I)/50\n",
    "    frac_t.append(frac)\n",
    "        \n",
    "        \n",
    "#Note that there is no recovery in the model, so eventually everybody gets infected."
   ]
  },
  {
   "cell_type": "code",
   "execution_count": 66,
   "metadata": {},
   "outputs": [
    {
     "data": {
      "text/plain": [
       "Text(0, 0.5, 'Infected fraction')"
      ]
     },
     "execution_count": 66,
     "metadata": {},
     "output_type": "execute_result"
    },
    {
     "data": {
      "image/png": "[encoded data removed]",
      "text/plain": [
       "<Figure size 432x288 with 1 Axes>"
      ]
     },
     "metadata": {
      "needs_background": "light"
     },
     "output_type": "display_data"
    }
   ],
   "source": [
    "plt.plot(frac_t)\n",
    "plt.title('Infection fraction for SI with no recovery')\n",
    "plt.xlabel('time')\n",
    "plt.ylabel('Infected fraction')"
   ]
  },
  {
   "cell_type": "markdown",
   "metadata": {},
   "source": [
    "**Answer to Q3:** Editing the code, such that some of the infected nodes becomes susceptible to infection again. In other word: They recover."
   ]
  },
  {
   "cell_type": "code",
   "execution_count": 391,
   "metadata": {},
   "outputs": [],
   "source": [
    "#Creating a new G\n",
    "del G\n",
    "G = nx.connected_caveman_graph(10, 5)\n",
    "\n",
    "#Modyfying the model to be able to create a plot of the infected rate over time.\n",
    "\n",
    "p_I = 0.1 # Set the probability of transmission\n",
    "n_iter = 1000 #Number of iterations\n",
    "T_I = 10 # After 10 timesteps the infected gets susceptible again\n",
    "\n",
    "I = set() #The infectious nodes, initially nobody is in this node\n",
    "S = set(G.nodes()) #The susceptible nodes, initially everybody is susceptible\n",
    "\n",
    "patient0 = np.random.choice(list(S)) #Choosing a random node in the susceptible node as patient 0, in order to start the 'epedemic'\n",
    "\n",
    "#Moves patient 0 (which is now infectious) from the list of susceptibles, to the list of infectious.\n",
    "I.add(patient0)\n",
    "S.remove(patient0)\n",
    "\n",
    "first = []\n",
    "time_of_inf = []\n",
    "pat0_t = [-1]\n",
    "pat0_n = [patient0]\n",
    "pat0 = list(zip(pat0_n, pat0_t))\n",
    "time_of_inf.extend(pat0)\n",
    "\n",
    "frac_t=[]\n",
    "\n",
    "\n",
    "#Models the evolution in the modsel.\n",
    "for t in range(n_iter):\n",
    "    #print('loop',t)\n",
    "    for infected_node in list(I):\n",
    "        neighbors = G.neighbors(infected_node)\n",
    "        infected_neighbors = set([n for n in neighbors if np.random.random() < p_I])\n",
    "        first_inf = list(infected_neighbors - I)\n",
    "        for first_inf in first_inf:\n",
    "            first_t = [t]\n",
    "            first_inf2 = [first_inf]\n",
    "            first = list(zip(first_inf2, first_t))\n",
    "            time_of_inf.extend(first)\n",
    "        I |= infected_neighbors\n",
    "        S -= infected_neighbors\n",
    "    #removing the recovered\n",
    "    for x in time_of_inf:\n",
    "        end_t = x[1]+T_I\n",
    "        if t==end_t:\n",
    "            new_sus=x[0]\n",
    "            I.remove(new_sus)\n",
    "            S.add(new_sus)\n",
    "    frac = len(I)/50\n",
    "    frac_t.append(frac)"
   ]
  },
  {
   "cell_type": "code",
   "execution_count": 392,
   "metadata": {},
   "outputs": [
    {
     "data": {
      "text/plain": [
       "Text(0, 0.5, 'Infected fraction')"
      ]
     },
     "execution_count": 392,
     "metadata": {},
     "output_type": "execute_result"
    },
    {
     "data": {
      "image/png": "[encoded data removed]",
      "text/plain": [
       "<Figure size 432x288 with 1 Axes>"
      ]
     },
     "metadata": {
      "needs_background": "light"
     },
     "output_type": "display_data"
    }
   ],
   "source": [
    "# I have made 1000 iterations instread of 200\n",
    "# What we see is that the model hits an endemic state, which seems to be a state where around 70 % of the population is infected.\n",
    "plt.plot(frac_t)\n",
    "plt.title('Infection fraction for SI with recovery')\n",
    "plt.xlabel('time')\n",
    "plt.ylabel('Infected fraction')"
   ]
  },
  {
   "cell_type": "markdown",
   "metadata": {},
   "source": [
    "> **Ex. 11.1.6**: Use what you have learned and implement an SIRS model.\n",
    "* Run it on the Facebook network from last week (so load that into a `networkx.Graph`).\n",
    "* Record the fraction of infected, susceptiple and recovered over time.\n",
    "* After the simulation has run, plot these quantities over time and comment on your results\n",
    "* Be proud of yourself for having solved a really interesting problem."
   ]
  },
  {
   "cell_type": "code",
   "execution_count": 469,
   "metadata": {},
   "outputs": [],
   "source": [
    "#Getting facebook data\n",
    "import pandas as pd\n",
    "\n",
    "data = pd.read_csv(\n",
    "    \"facebook-wall.txt.gz\",\n",
    "    delimiter=\"\\t\",\n",
    "    header=None,\n",
    "    names=['user1', 'user2', 'timestamp']\n",
    ")\n",
    "t0 = data.timestamp.max() - 86400 * 14  # Lower bound of time-slice (here: 25 days before last wall post)\n",
    "t1 = data.timestamp.max()              # Upper bound of time-slice\n",
    "\n",
    "# Subset of the pandas dataframe\n",
    "data_t = data.loc[data.timestamp.between(t0, t1)]\n",
    "\n",
    "# Count the number of times each link occurs and store that in a new 'weight' column\n",
    "data_t = data_t.groupby(['user1', 'user2']).size().reset_index(name='weight')\n",
    "\n",
    "# Create a `nx.Graph` from this dataframe\n",
    "G = nx.from_pandas_edgelist(data_t, 'user1', 'user2', 'weight', create_using=nx.Graph)"
   ]
  },
  {
   "cell_type": "code",
   "execution_count": 470,
   "metadata": {},
   "outputs": [],
   "source": [
    "#Modyfying the model to be able to create a plot of the infected rate over time.\n",
    "\n",
    "p_I = 0.1 # Set the probability of transmission\n",
    "n_iter = 200 #Number of iterations\n",
    "T_I = 10 # After 10 timesteps the infected nodes move to the recoved bin\n",
    "T_R = 20 # After 20 timesteps, the immunity wane and the node becomes susceptible again\n",
    "\n",
    "R = set() # The recovered nodes, initially nobody is in this node\n",
    "I = set() #The infectious nodes, initially nobody is in this node\n",
    "S = set(G.nodes()) #The susceptible nodes, initially everybody is susceptible\n",
    "pop = len(S)\n",
    "\n",
    "patient0 = np.random.choice(list(S)) #Choosing a random node in the susceptible node as patient 0, in order to start the 'epedemic'\n",
    "\n",
    "#Moves patient 0 (which is now infectious) from the list of susceptibles, to the list of infectious.\n",
    "I.add(patient0)\n",
    "S.remove(patient0)\n",
    "\n",
    "first = []\n",
    "time_of_inf = []\n",
    "pat0_t = [-1]\n",
    "pat0_n = [patient0]\n",
    "pat0 = list(zip(pat0_n, pat0_t))\n",
    "time_of_inf.extend(pat0)\n",
    "\n",
    "\n",
    "frac_S_t=[]\n",
    "frac_I_t=[]\n",
    "frac_R_t=[]\n",
    "\n",
    "\n",
    "#Models the evolution in the modsel.\n",
    "for t in range(n_iter):\n",
    "    #print('loop',t)\n",
    "    for infected_node in list(I):\n",
    "        neighbors = G.neighbors(infected_node)\n",
    "        infected_neighbors = set([n for n in neighbors if np.random.random() < p_I])\n",
    "        first_inf = list(infected_neighbors - I)\n",
    "        for first_inf in first_inf:\n",
    "            first_t = [t]\n",
    "            first_inf2 = [first_inf]\n",
    "            first = list(zip(first_inf2, first_t))\n",
    "            time_of_inf.extend(first)\n",
    "        I |= infected_neighbors\n",
    "        S -= infected_neighbors\n",
    "    #removing the recovered\n",
    "    for x in time_of_inf:\n",
    "        end_I = x[1]+T_I\n",
    "        end_R = x[1]+T_R\n",
    "        if t==end_I:\n",
    "            new_rec=x[0]\n",
    "            I.remove(new_rec)\n",
    "            R.add(new_rec)\n",
    "        if t==end_R:\n",
    "            new_sus=x[0]\n",
    "            R.remove(new_sus)\n",
    "            S.add(new_sus)\n",
    "    frac_S = len(S)/pop\n",
    "    frac_S_t.append(frac_S)\n",
    "    frac_I = len(I)/pop\n",
    "    frac_I_t.append(frac_I)\n",
    "    frac_R = len(R)/pop\n",
    "    frac_R_t.append(frac_R)"
   ]
  },
  {
   "cell_type": "code",
   "execution_count": 471,
   "metadata": {},
   "outputs": [
    {
     "data": {
      "text/plain": [
       "Text(0.5, 1.0, 'Fraction of Recovered')"
      ]
     },
     "execution_count": 471,
     "metadata": {},
     "output_type": "execute_result"
    },
    {
     "data": {
      "image/png": "[encoded data removed]",
      "text/plain": [
       "<Figure size 864x1080 with 3 Axes>"
      ]
     },
     "metadata": {
      "needs_background": "light"
     },
     "output_type": "display_data"
    }
   ],
   "source": [
    "# Three subplots sharing both x/y axes\n",
    "\n",
    "f, (ax1, ax2, ax3) = plt.subplots(3,1, sharey=True,figsize=(12,15))\n",
    "ax1.plot(frac_S_t)\n",
    "ax1.set_title('Fraction of susceptible')\n",
    "ax2.plot(frac_I_t)\n",
    "ax2.set_title('Fraction of Infectious')\n",
    "ax3.plot(frac_R_t)\n",
    "ax3.set_title('Fraction of Recovered')\n"
   ]
  },
  {
   "cell_type": "code",
   "execution_count": null,
   "metadata": {},
   "outputs": [],
   "source": []
  },
  {
   "cell_type": "markdown",
   "metadata": {},
   "source": [
    "### Further learning"
   ]
  },
  {
   "cell_type": "markdown",
   "metadata": {},
   "source": [
    "Since the above exercises teaches you how to write down epidemic models (as systems of differential equations)\n",
    "and subsequently teaches you how to simulate a spreading process on a network to obtain data on infected/susceptible/recovered\n",
    "over time, you would think it natural that I also taught you how to fit these epidemic models to such data.\n",
    "This, however, is going a bit too far as this is not a course in computational epidemiology. But if you want to\n",
    "figure out how to do it, you literally just need to Google search for \"fit SIR model\"."
   ]
  },
  {
   "cell_type": "markdown",
   "metadata": {},
   "source": [
    "And finally, a note on how these models are used in the real world. The state-of-the-art in epidemiological modeling is something called \"meta popultion models\". They are essentially systems of compartmental models. One component in such a model may be a country, and it has its own little SI, SIR or SIRS model. Components are then coupled because there are people moving between them. The paper *The Hidden Geometry of Complex,\n",
    "Network-Driven Contagion Phenomena* by Dirk Brockmann and Dirk Helbing published in Science in 2013 ([link here](https://www.dropbox.com/s/hxprfyr51fwh907/brockmann13.pdf?dl=0)) sets up such a model for the world using airline traffic as a proxy for people flow between countries. It is a must read if you\n",
    "are curious about how the pros predict things like when a disease will arrive in a certain place or where a disease originated. I strongly recommend reading it and understanding the figures, it is a stroke of genius."
   ]
  },
  {
   "cell_type": "code",
   "execution_count": null,
   "metadata": {},
   "outputs": [],
   "source": []
  }
 ],
 "metadata": {
  "kernelspec": {
   "display_name": "Python 3",
   "language": "python",
   "name": "python3"
  },
  "language_info": {
   "codemirror_mode": {
    "name": "ipython",
    "version": 3
   },
   "file_extension": ".py",
   "mimetype": "text/x-python",
   "name": "python",
   "nbconvert_exporter": "python",
   "pygments_lexer": "ipython3",
   "version": "3.7.6"
  },
  "nav_menu": {},
  "toc": {
   "base_numbering": 1,
   "nav_menu": {},
   "number_sections": false,
   "sideBar": true,
   "skip_h1_title": false,
   "title_cell": "Table of Contents",
   "title_sidebar": "Contents",
   "toc_cell": false,
   "toc_position": {},
   "toc_section_display": "block",
   "toc_window_display": true
  },
  "varInspector": {
   "cols": {
    "lenName": 16,
    "lenType": 16,
    "lenVar": 40
   },
   "kernels_config": {
    "python": {
     "delete_cmd_postfix": "",
     "delete_cmd_prefix": "del ",
     "library": "var_list.py",
     "varRefreshCmd": "print(var_dic_list())"
    },
    "r": {
     "delete_cmd_postfix": ") ",
     "delete_cmd_prefix": "rm(",
     "library": "var_list.r",
     "varRefreshCmd": "cat(var_dic_list()) "
    }
   },
   "types_to_exclude": [
    "module",
    "function",
    "builtin_function_or_method",
    "instance",
    "_Feature"
   ],
   "window_display": false
  }
 },
 "nbformat": 4,
 "nbformat_minor": 2
}
