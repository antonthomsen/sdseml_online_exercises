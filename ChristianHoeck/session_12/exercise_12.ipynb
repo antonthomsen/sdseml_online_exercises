{
 "cells": [
  {
   "cell_type": "markdown",
   "metadata": {},
   "source": [
    "# Exercise Set 12: Peer effects \n",
    "\n",
    "\n",
    "In this Exercise Set 12 we will investigate peer effects data. "
   ]
  },
  {
   "cell_type": "markdown",
   "metadata": {},
   "source": [
    "## 12.1: roommate peer effects\n",
    "\n",
    "\n",
    "<br>\n",
    "<br>\n",
    "\n",
    "We use a simlated dataset which will give results that provide conclusions similar to Sacerdote (2000). \n",
    "\n",
    "### Data structuring \n",
    "\n",
    "Our data set does not contain a network but has an implicit one associated. We assume there is an edge between all room mates. \n",
    "\n",
    "> **Ex. 12.1.1:** Create a column called `person_other` with identity of the other person in room.\n",
    ">> *Hint:* You can get the unique people in the room by using `df.groupby('room').person.unique()`."
   ]
  },
  {
   "cell_type": "code",
   "execution_count": 1,
   "metadata": {},
   "outputs": [],
   "source": [
    "import numpy as np\n",
    "import pandas as pd"
   ]
  },
  {
   "cell_type": "code",
   "execution_count": 10,
   "metadata": {},
   "outputs": [],
   "source": [
    "df_raw = pd.read_csv('peer_effects_room.csv')"
   ]
  },
  {
   "cell_type": "markdown",
   "metadata": {},
   "source": [
    "This code also adds the gpa at once"
   ]
  },
  {
   "cell_type": "code",
   "execution_count": 15,
   "metadata": {},
   "outputs": [],
   "source": [
    "df = df_raw.merge(df_raw, on='room', suffixes=('','_other'))\n",
    "df = df[df['person']!=df['person_other']]"
   ]
  },
  {
   "cell_type": "code",
   "execution_count": 18,
   "metadata": {},
   "outputs": [
    {
     "data": {
      "text/html": [
       "<div>\n",
       "<style scoped>\n",
       "    .dataframe tbody tr th:only-of-type {\n",
       "        vertical-align: middle;\n",
       "    }\n",
       "\n",
       "    .dataframe tbody tr th {\n",
       "        vertical-align: top;\n",
       "    }\n",
       "\n",
       "    .dataframe thead th {\n",
       "        text-align: right;\n",
       "    }\n",
       "</style>\n",
       "<table border=\"1\" class=\"dataframe\">\n",
       "  <thead>\n",
       "    <tr style=\"text-align: right;\">\n",
       "      <th></th>\n",
       "      <th>person</th>\n",
       "      <th>room</th>\n",
       "      <th>high_school_GPA</th>\n",
       "      <th>college_GPA</th>\n",
       "      <th>person_other</th>\n",
       "      <th>high_school_GPA_other</th>\n",
       "      <th>college_GPA_other</th>\n",
       "    </tr>\n",
       "  </thead>\n",
       "  <tbody>\n",
       "    <tr>\n",
       "      <th>1</th>\n",
       "      <td>0</td>\n",
       "      <td>351</td>\n",
       "      <td>-1.715472</td>\n",
       "      <td>-1.285307</td>\n",
       "      <td>1645</td>\n",
       "      <td>-0.818594</td>\n",
       "      <td>-0.434847</td>\n",
       "    </tr>\n",
       "    <tr>\n",
       "      <th>2</th>\n",
       "      <td>1645</td>\n",
       "      <td>351</td>\n",
       "      <td>-0.818594</td>\n",
       "      <td>-0.434847</td>\n",
       "      <td>0</td>\n",
       "      <td>-1.715472</td>\n",
       "      <td>-1.285307</td>\n",
       "    </tr>\n",
       "    <tr>\n",
       "      <th>5</th>\n",
       "      <td>1</td>\n",
       "      <td>738</td>\n",
       "      <td>-0.530190</td>\n",
       "      <td>-0.031833</td>\n",
       "      <td>1039</td>\n",
       "      <td>-0.493444</td>\n",
       "      <td>0.299729</td>\n",
       "    </tr>\n",
       "    <tr>\n",
       "      <th>6</th>\n",
       "      <td>1039</td>\n",
       "      <td>738</td>\n",
       "      <td>-0.493444</td>\n",
       "      <td>0.299729</td>\n",
       "      <td>1</td>\n",
       "      <td>-0.530190</td>\n",
       "      <td>-0.031833</td>\n",
       "    </tr>\n",
       "    <tr>\n",
       "      <th>9</th>\n",
       "      <td>2</td>\n",
       "      <td>247</td>\n",
       "      <td>-0.589543</td>\n",
       "      <td>-0.203230</td>\n",
       "      <td>944</td>\n",
       "      <td>1.281112</td>\n",
       "      <td>-0.479543</td>\n",
       "    </tr>\n",
       "    <tr>\n",
       "      <th>...</th>\n",
       "      <td>...</td>\n",
       "      <td>...</td>\n",
       "      <td>...</td>\n",
       "      <td>...</td>\n",
       "      <td>...</td>\n",
       "      <td>...</td>\n",
       "      <td>...</td>\n",
       "    </tr>\n",
       "    <tr>\n",
       "      <th>3990</th>\n",
       "      <td>1951</td>\n",
       "      <td>54</td>\n",
       "      <td>2.111587</td>\n",
       "      <td>-0.610765</td>\n",
       "      <td>1860</td>\n",
       "      <td>1.993014</td>\n",
       "      <td>1.870441</td>\n",
       "    </tr>\n",
       "    <tr>\n",
       "      <th>3993</th>\n",
       "      <td>1884</td>\n",
       "      <td>178</td>\n",
       "      <td>-1.261528</td>\n",
       "      <td>-2.280256</td>\n",
       "      <td>1916</td>\n",
       "      <td>-1.706630</td>\n",
       "      <td>-3.209575</td>\n",
       "    </tr>\n",
       "    <tr>\n",
       "      <th>3994</th>\n",
       "      <td>1916</td>\n",
       "      <td>178</td>\n",
       "      <td>-1.706630</td>\n",
       "      <td>-3.209575</td>\n",
       "      <td>1884</td>\n",
       "      <td>-1.261528</td>\n",
       "      <td>-2.280256</td>\n",
       "    </tr>\n",
       "    <tr>\n",
       "      <th>3997</th>\n",
       "      <td>1922</td>\n",
       "      <td>730</td>\n",
       "      <td>1.642223</td>\n",
       "      <td>4.076931</td>\n",
       "      <td>1946</td>\n",
       "      <td>-0.121075</td>\n",
       "      <td>0.114143</td>\n",
       "    </tr>\n",
       "    <tr>\n",
       "      <th>3998</th>\n",
       "      <td>1946</td>\n",
       "      <td>730</td>\n",
       "      <td>-0.121075</td>\n",
       "      <td>0.114143</td>\n",
       "      <td>1922</td>\n",
       "      <td>1.642223</td>\n",
       "      <td>4.076931</td>\n",
       "    </tr>\n",
       "  </tbody>\n",
       "</table>\n",
       "<p>2000 rows × 7 columns</p>\n",
       "</div>"
      ],
      "text/plain": [
       "      person  room  high_school_GPA  college_GPA  person_other  \\\n",
       "1          0   351        -1.715472    -1.285307          1645   \n",
       "2       1645   351        -0.818594    -0.434847             0   \n",
       "5          1   738        -0.530190    -0.031833          1039   \n",
       "6       1039   738        -0.493444     0.299729             1   \n",
       "9          2   247        -0.589543    -0.203230           944   \n",
       "...      ...   ...              ...          ...           ...   \n",
       "3990    1951    54         2.111587    -0.610765          1860   \n",
       "3993    1884   178        -1.261528    -2.280256          1916   \n",
       "3994    1916   178        -1.706630    -3.209575          1884   \n",
       "3997    1922   730         1.642223     4.076931          1946   \n",
       "3998    1946   730        -0.121075     0.114143          1922   \n",
       "\n",
       "      high_school_GPA_other  college_GPA_other  \n",
       "1                 -0.818594          -0.434847  \n",
       "2                 -1.715472          -1.285307  \n",
       "5                 -0.493444           0.299729  \n",
       "6                 -0.530190          -0.031833  \n",
       "9                  1.281112          -0.479543  \n",
       "...                     ...                ...  \n",
       "3990               1.993014           1.870441  \n",
       "3993              -1.706630          -3.209575  \n",
       "3994              -1.261528          -2.280256  \n",
       "3997              -0.121075           0.114143  \n",
       "3998               1.642223           4.076931  \n",
       "\n",
       "[2000 rows x 7 columns]"
      ]
     },
     "execution_count": 18,
     "metadata": {},
     "output_type": "execute_result"
    }
   ],
   "source": [
    "df"
   ]
  },
  {
   "cell_type": "markdown",
   "metadata": {},
   "source": [
    "<br>\n",
    "\n",
    "> **Ex. 12.1.2:** Add information on the roommate GPA in high school and college.\n",
    ">> *Hint:* This can be done merging on `person_other`."
   ]
  },
  {
   "cell_type": "markdown",
   "metadata": {},
   "source": [
    "See answer above "
   ]
  },
  {
   "cell_type": "markdown",
   "metadata": {},
   "source": [
    "<br>\n",
    "<br>\n",
    "\n",
    "### Data exploration and randomization\n",
    "\n",
    "We now have our final dataset and can begin investigating how the raw data looks. \n",
    "\n",
    "> **Ex. 12.1.3:** plot own GPA in high school vs college in a scatter plot."
   ]
  },
  {
   "cell_type": "code",
   "execution_count": 17,
   "metadata": {},
   "outputs": [],
   "source": [
    "import matplotlib.pyplot as plt"
   ]
  },
  {
   "cell_type": "code",
   "execution_count": 20,
   "metadata": {},
   "outputs": [
    {
     "data": {
      "text/plain": [
       "<matplotlib.collections.PathCollection at 0x1e7b3bc0b50>"
      ]
     },
     "execution_count": 20,
     "metadata": {},
     "output_type": "execute_result"
    },
    {
     "data": {
      "image/png": "[encoded data removed]",
      "text/plain": [
       "<Figure size 432x288 with 1 Axes>"
      ]
     },
     "metadata": {
      "needs_background": "light"
     },
     "output_type": "display_data"
    }
   ],
   "source": [
    "plt.scatter(df['high_school_GPA'],df['college_GPA'])"
   ]
  },
  {
   "cell_type": "markdown",
   "metadata": {},
   "source": [
    "<br>\n",
    "We want to check there is random assignment of roommates. \n",
    "\n",
    "> **Ex. 12.1.4:** Plot high school GPA vs roommate's high school GPA. Comment on the output. Run a regresion of high school GPA on roommate's high school GPA to formally check random assignment.\n",
    ">\n",
    ">> *Hint*: To run regressions in python, you can use the `statsmodels` package. Look up it's documentation and use the `.formula` api to estimate your model. To see a summary of a fitted model you can call `.summary()` on the object. \n",
    ">\n",
    ">> *Hint:* Under random assignment we would expect there to be no relation between the high school GPA's of roommates. Why is this? "
   ]
  },
  {
   "cell_type": "code",
   "execution_count": 21,
   "metadata": {},
   "outputs": [
    {
     "data": {
      "text/plain": [
       "<matplotlib.collections.PathCollection at 0x1e7b6efaa30>"
      ]
     },
     "execution_count": 21,
     "metadata": {},
     "output_type": "execute_result"
    },
    {
     "data": {
      "image/png": "[encoded data removed]",
      "text/plain": [
       "<Figure size 432x288 with 1 Axes>"
      ]
     },
     "metadata": {
      "needs_background": "light"
     },
     "output_type": "display_data"
    }
   ],
   "source": [
    "plt.scatter(df['high_school_GPA'],df['high_school_GPA_other'])"
   ]
  },
  {
   "cell_type": "markdown",
   "metadata": {},
   "source": [
    "There does not seem to be any clear relationship between high school gpas of roommates."
   ]
  },
  {
   "cell_type": "code",
   "execution_count": 22,
   "metadata": {},
   "outputs": [
    {
     "name": "stdout",
     "output_type": "stream",
     "text": [
      "                            OLS Regression Results                            \n",
      "==============================================================================\n",
      "Dep. Variable:        high_school_GPA   R-squared:                       0.000\n",
      "Model:                            OLS   Adj. R-squared:                 -0.000\n",
      "Method:                 Least Squares   F-statistic:                   0.07263\n",
      "Date:                Wed, 20 May 2020   Prob (F-statistic):              0.788\n",
      "Time:                        19:08:09   Log-Likelihood:                -2883.6\n",
      "No. Observations:                2000   AIC:                             5771.\n",
      "Df Residuals:                    1998   BIC:                             5782.\n",
      "Df Model:                           1                                         \n",
      "Covariance Type:            nonrobust                                         \n",
      "=========================================================================================\n",
      "                            coef    std err          t      P>|t|      [0.025      0.975]\n",
      "-----------------------------------------------------------------------------------------\n",
      "Intercept                -0.0284      0.023     -1.241      0.215      -0.073       0.016\n",
      "high_school_GPA_other    -0.0060      0.022     -0.269      0.788      -0.050       0.038\n",
      "==============================================================================\n",
      "Omnibus:                        0.231   Durbin-Watson:                   1.982\n",
      "Prob(Omnibus):                  0.891   Jarque-Bera (JB):                0.288\n",
      "Skew:                           0.015   Prob(JB):                        0.866\n",
      "Kurtosis:                       2.949   Cond. No.                         1.04\n",
      "==============================================================================\n",
      "\n",
      "Warnings:\n",
      "[1] Standard Errors assume that the covariance matrix of the errors is correctly specified.\n"
     ]
    }
   ],
   "source": [
    "import statsmodels.formula.api as smf\n",
    "\n",
    "results = smf.ols('high_school_GPA ~ high_school_GPA_other', data=df).fit()\n",
    "\n",
    "# Inspect the results\n",
    "print(results.summary())"
   ]
  },
  {
   "cell_type": "markdown",
   "metadata": {},
   "source": [
    "Again we see no significant relationship between high school gpas of roommate pairs. It seems as though radomization has worked."
   ]
  },
  {
   "cell_type": "markdown",
   "metadata": {},
   "source": [
    "<br>\n",
    "<br>\n",
    "\n",
    "## Roommate effect\n",
    "\n",
    "Having checked the data we move on to analyzing peer effects. We begin with analyzing **exogenous** peer effects. I.e. peer effects that are related to the ex ante characteristics of the roommate.\n",
    "\n",
    "> **Ex. 12.1.5:** Plot own GPA in college vs. roommate GPA in high school. Comment on the output. Test whether there is an impact using a regresion of college school GPA on high school GPA for the person itself and its roommate."
   ]
  },
  {
   "cell_type": "code",
   "execution_count": 24,
   "metadata": {},
   "outputs": [
    {
     "data": {
      "text/plain": [
       "<matplotlib.collections.PathCollection at 0x1e7b851d880>"
      ]
     },
     "execution_count": 24,
     "metadata": {},
     "output_type": "execute_result"
    },
    {
     "data": {
      "image/png": "[encoded data removed]",
      "text/plain": [
       "<Figure size 432x288 with 1 Axes>"
      ]
     },
     "metadata": {
      "needs_background": "light"
     },
     "output_type": "display_data"
    }
   ],
   "source": [
    "plt.scatter(df['college_GPA'],df['high_school_GPA_other'])"
   ]
  },
  {
   "cell_type": "code",
   "execution_count": 26,
   "metadata": {},
   "outputs": [
    {
     "name": "stdout",
     "output_type": "stream",
     "text": [
      "                            OLS Regression Results                            \n",
      "==============================================================================\n",
      "Dep. Variable:            college_GPA   R-squared:                       0.402\n",
      "Model:                            OLS   Adj. R-squared:                  0.401\n",
      "Method:                 Least Squares   F-statistic:                     671.3\n",
      "Date:                Wed, 20 May 2020   Prob (F-statistic):          1.03e-223\n",
      "Time:                        19:12:47   Log-Likelihood:                -2586.0\n",
      "No. Observations:                2000   AIC:                             5178.\n",
      "Df Residuals:                    1997   BIC:                             5195.\n",
      "Df Model:                           2                                         \n",
      "Covariance Type:            nonrobust                                         \n",
      "=========================================================================================\n",
      "                            coef    std err          t      P>|t|      [0.025      0.975]\n",
      "-----------------------------------------------------------------------------------------\n",
      "Intercept                -0.0226      0.020     -1.147      0.252      -0.061       0.016\n",
      "high_school_GPA           0.7059      0.019     36.606      0.000       0.668       0.744\n",
      "high_school_GPA_other     0.0356      0.019      1.847      0.065      -0.002       0.073\n",
      "==============================================================================\n",
      "Omnibus:                       77.587   Durbin-Watson:                   1.940\n",
      "Prob(Omnibus):                  0.000   Jarque-Bera (JB):              213.025\n",
      "Skew:                          -0.117   Prob(JB):                     5.52e-47\n",
      "Kurtosis:                       4.582   Cond. No.                         1.05\n",
      "==============================================================================\n",
      "\n",
      "Warnings:\n",
      "[1] Standard Errors assume that the covariance matrix of the errors is correctly specified.\n"
     ]
    }
   ],
   "source": [
    "results = smf.ols('college_GPA ~ high_school_GPA + high_school_GPA_other', data=df).fit()\n",
    "\n",
    "# Inspect the results\n",
    "print(results.summary())"
   ]
  },
  {
   "cell_type": "markdown",
   "metadata": {},
   "source": [
    "We find a significant effect of ones own gpa, and a borderline significant effect of the roommates gpa"
   ]
  },
  {
   "cell_type": "markdown",
   "metadata": {},
   "source": [
    "We now move on to analyze **endogenous** peer effects.\n",
    "\n",
    "> **Ex. 12.1.6:** Test whether there is an association between own college GPA and roommates. Do this by running a regresion of college school GPA on high school GPA for the person itself and its roommate. Comment on the output."
   ]
  },
  {
   "cell_type": "markdown",
   "metadata": {},
   "source": [
    "The requested regression seems to be the same as before?"
   ]
  },
  {
   "cell_type": "markdown",
   "metadata": {},
   "source": [
    "<br>\n",
    "<br>\n",
    "\n",
    "# 12.2 Peer effects in Danish classrooms\n",
    "\n",
    "Read the [report by Kraka on peer effects in Danish schools](http://kraka.dk/sites/default/files/public/baggrundsnotat_klassekammerateffekter_0.pdf) from 2019. If you do not speak Danish talk to your group about the content.\n",
    "> **Ex. 12.2.1:** Explain the identification strategy in words."
   ]
  },
  {
   "cell_type": "markdown",
   "metadata": {},
   "source": [
    "The paper uses the variation in the share of resourceful children within each school over time. The claim that this circurmvent the selection problem of parents selecting into school with more resourceful children."
   ]
  },
  {
   "cell_type": "markdown",
   "metadata": {},
   "source": [
    "> **Ex. 12.2.2:** Are there any shortcomings of the identification strategy? What does the seminal paper [Hoxby (2000)](https://www.nber.org/papers/w78612.pdf) test for?"
   ]
  },
  {
   "cell_type": "markdown",
   "metadata": {},
   "source": [
    "If the variation from year to year is not random, the estimated effects would be biased. "
   ]
  },
  {
   "cell_type": "markdown",
   "metadata": {},
   "source": [
    "> **Ex. 12.2.3:** Try to come up with identification strategies for identifying peer effects in the context of Danish class rooms."
   ]
  },
  {
   "cell_type": "markdown",
   "metadata": {},
   "source": [
    "Randomly assign students to classes within schools. "
   ]
  }
 ],
 "metadata": {
  "kernelspec": {
   "display_name": "Python [conda env:work]",
   "language": "python",
   "name": "conda-env-work-py"
  },
  "language_info": {
   "codemirror_mode": {
    "name": "ipython",
    "version": 3
   },
   "file_extension": ".py",
   "mimetype": "text/x-python",
   "name": "python",
   "nbconvert_exporter": "python",
   "pygments_lexer": "ipython3",
   "version": "3.8.2"
  }
 },
 "nbformat": 4,
 "nbformat_minor": 4
}
