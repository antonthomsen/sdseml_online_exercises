{
 "cells": [
  {
   "cell_type": "markdown",
   "metadata": {},
   "source": [
    "# Exercise Set 12: Peer effects \n",
    "\n",
    "\n",
    "In this Exercise Set 12 we will investigate peer effects data. "
   ]
  },
  {
   "cell_type": "markdown",
   "metadata": {},
   "source": [
    "## 12.1: roommate peer effects\n",
    "\n",
    "\n",
    "<br>\n",
    "<br>\n",
    "\n",
    "We use a simlated dataset which will give results that provide conclusions similar to Sacerdote (2000). \n",
    "\n",
    "### Data structuring \n",
    "\n",
    "Our data set does not contain a network but has an implicit one associated. We assume there is an edge between all room mates. \n",
    "\n",
    "> **Ex. 12.1.1:** Create a column called `person_other` with identity of the other person in room.\n",
    ">> *Hint:* You can get the unique people in the room by using `df.groupby('room').person.unique()`."
   ]
  },
  {
   "cell_type": "code",
   "execution_count": 2,
   "metadata": {},
   "outputs": [
    {
     "name": "stdout",
     "output_type": "stream",
     "text": [
      "Showing dimension of the dataframe: (2000, 4)\n"
     ]
    },
    {
     "data": {
      "text/html": [
       "<div>\n",
       "<style scoped>\n",
       "    .dataframe tbody tr th:only-of-type {\n",
       "        vertical-align: middle;\n",
       "    }\n",
       "\n",
       "    .dataframe tbody tr th {\n",
       "        vertical-align: top;\n",
       "    }\n",
       "\n",
       "    .dataframe thead th {\n",
       "        text-align: right;\n",
       "    }\n",
       "</style>\n",
       "<table border=\"1\" class=\"dataframe\">\n",
       "  <thead>\n",
       "    <tr style=\"text-align: right;\">\n",
       "      <th></th>\n",
       "      <th>person</th>\n",
       "      <th>room</th>\n",
       "      <th>high_school_GPA</th>\n",
       "      <th>college_GPA</th>\n",
       "    </tr>\n",
       "  </thead>\n",
       "  <tbody>\n",
       "    <tr>\n",
       "      <th>0</th>\n",
       "      <td>0</td>\n",
       "      <td>351</td>\n",
       "      <td>-1.715472</td>\n",
       "      <td>-1.285307</td>\n",
       "    </tr>\n",
       "    <tr>\n",
       "      <th>1</th>\n",
       "      <td>1</td>\n",
       "      <td>738</td>\n",
       "      <td>-0.530190</td>\n",
       "      <td>-0.031833</td>\n",
       "    </tr>\n",
       "    <tr>\n",
       "      <th>2</th>\n",
       "      <td>2</td>\n",
       "      <td>247</td>\n",
       "      <td>-0.589543</td>\n",
       "      <td>-0.203230</td>\n",
       "    </tr>\n",
       "    <tr>\n",
       "      <th>3</th>\n",
       "      <td>3</td>\n",
       "      <td>751</td>\n",
       "      <td>-1.303115</td>\n",
       "      <td>0.982488</td>\n",
       "    </tr>\n",
       "    <tr>\n",
       "      <th>4</th>\n",
       "      <td>4</td>\n",
       "      <td>698</td>\n",
       "      <td>0.156678</td>\n",
       "      <td>-0.371632</td>\n",
       "    </tr>\n",
       "  </tbody>\n",
       "</table>\n",
       "</div>"
      ],
      "text/plain": [
       "   person  room  high_school_GPA  college_GPA\n",
       "0       0   351        -1.715472    -1.285307\n",
       "1       1   738        -0.530190    -0.031833\n",
       "2       2   247        -0.589543    -0.203230\n",
       "3       3   751        -1.303115     0.982488\n",
       "4       4   698         0.156678    -0.371632"
      ]
     },
     "execution_count": 2,
     "metadata": {},
     "output_type": "execute_result"
    }
   ],
   "source": [
    "# Load data\n",
    "import pandas as pd\n",
    "\n",
    "data = pd.read_csv(\"peer_effects_room.csv\")\n",
    "print('Showing dimension of the dataframe:',data.shape)\n",
    "\n",
    "# Visualizing the dataframe\n",
    "data.head()"
   ]
  },
  {
   "cell_type": "code",
   "execution_count": 3,
   "metadata": {},
   "outputs": [
    {
     "data": {
      "text/html": [
       "<div>\n",
       "<style scoped>\n",
       "    .dataframe tbody tr th:only-of-type {\n",
       "        vertical-align: middle;\n",
       "    }\n",
       "\n",
       "    .dataframe tbody tr th {\n",
       "        vertical-align: top;\n",
       "    }\n",
       "\n",
       "    .dataframe thead th {\n",
       "        text-align: right;\n",
       "    }\n",
       "</style>\n",
       "<table border=\"1\" class=\"dataframe\">\n",
       "  <thead>\n",
       "    <tr style=\"text-align: right;\">\n",
       "      <th></th>\n",
       "      <th>person</th>\n",
       "      <th>room</th>\n",
       "      <th>high_school_GPA</th>\n",
       "      <th>college_GPA</th>\n",
       "      <th>person_other</th>\n",
       "    </tr>\n",
       "  </thead>\n",
       "  <tbody>\n",
       "    <tr>\n",
       "      <th>0</th>\n",
       "      <td>0</td>\n",
       "      <td>351</td>\n",
       "      <td>-1.715472</td>\n",
       "      <td>-1.285307</td>\n",
       "      <td>1645</td>\n",
       "    </tr>\n",
       "    <tr>\n",
       "      <th>1</th>\n",
       "      <td>1</td>\n",
       "      <td>738</td>\n",
       "      <td>-0.530190</td>\n",
       "      <td>-0.031833</td>\n",
       "      <td>1039</td>\n",
       "    </tr>\n",
       "    <tr>\n",
       "      <th>2</th>\n",
       "      <td>2</td>\n",
       "      <td>247</td>\n",
       "      <td>-0.589543</td>\n",
       "      <td>-0.203230</td>\n",
       "      <td>944</td>\n",
       "    </tr>\n",
       "    <tr>\n",
       "      <th>3</th>\n",
       "      <td>3</td>\n",
       "      <td>751</td>\n",
       "      <td>-1.303115</td>\n",
       "      <td>0.982488</td>\n",
       "      <td>1099</td>\n",
       "    </tr>\n",
       "    <tr>\n",
       "      <th>4</th>\n",
       "      <td>4</td>\n",
       "      <td>698</td>\n",
       "      <td>0.156678</td>\n",
       "      <td>-0.371632</td>\n",
       "      <td>1708</td>\n",
       "    </tr>\n",
       "  </tbody>\n",
       "</table>\n",
       "</div>"
      ],
      "text/plain": [
       "   person  room  high_school_GPA  college_GPA  person_other\n",
       "0       0   351        -1.715472    -1.285307          1645\n",
       "1       1   738        -0.530190    -0.031833          1039\n",
       "2       2   247        -0.589543    -0.203230           944\n",
       "3       3   751        -1.303115     0.982488          1099\n",
       "4       4   698         0.156678    -0.371632          1708"
      ]
     },
     "execution_count": 3,
     "metadata": {},
     "output_type": "execute_result"
    }
   ],
   "source": [
    "# Creating dataframe with persons in rooms (1000 rooms with 2 in each)\n",
    "unique = pd.DataFrame(data.groupby('room').person.unique())\n",
    "unique[['1','2']] = pd.DataFrame(unique.person.tolist(), index= unique.index)\n",
    "unique = unique.drop(columns='person')\n",
    "\n",
    "# Setting index to person to match index of the data dataframe. No double dounts so we need to split up into two data frames\n",
    "unique1 = unique.set_index('1')\n",
    "unique1 = unique1.sort_index(ascending=True)\n",
    "unique2 = unique.set_index('2')\n",
    "unique2 = unique2.sort_index(ascending=True)\n",
    "\n",
    "# merge data in the two data frames\n",
    "data1 = data.merge(unique1, left_index=True, right_index=True)\n",
    "data1 = data1.rename(columns={'2': 'person_other'})\n",
    "\n",
    "data2 = data.merge(unique2, left_index=True, right_index=True)\n",
    "data2 = data2.rename(columns={'1': 'person_other'})\n",
    "\n",
    "# Visualizing the dataframe\n",
    "df_full = pd.concat([data1, data2], axis=0, ignore_index=True)\n",
    "df_full.head()"
   ]
  },
  {
   "cell_type": "markdown",
   "metadata": {},
   "source": [
    "<br>\n",
    "\n",
    "> **Ex. 12.1.2:** Add information on the roommate GPA in high school and college.\n",
    ">> *Hint:* This can be done merging on `person_other`."
   ]
  },
  {
   "cell_type": "code",
   "execution_count": 4,
   "metadata": {},
   "outputs": [
    {
     "data": {
      "text/html": [
       "<div>\n",
       "<style scoped>\n",
       "    .dataframe tbody tr th:only-of-type {\n",
       "        vertical-align: middle;\n",
       "    }\n",
       "\n",
       "    .dataframe tbody tr th {\n",
       "        vertical-align: top;\n",
       "    }\n",
       "\n",
       "    .dataframe thead th {\n",
       "        text-align: right;\n",
       "    }\n",
       "</style>\n",
       "<table border=\"1\" class=\"dataframe\">\n",
       "  <thead>\n",
       "    <tr style=\"text-align: right;\">\n",
       "      <th></th>\n",
       "      <th>person</th>\n",
       "      <th>room</th>\n",
       "      <th>high_school_GPA</th>\n",
       "      <th>college_GPA</th>\n",
       "      <th>person_other</th>\n",
       "      <th>high_school_GPA_roommate</th>\n",
       "      <th>college_GPA_roommate</th>\n",
       "    </tr>\n",
       "  </thead>\n",
       "  <tbody>\n",
       "    <tr>\n",
       "      <th>0</th>\n",
       "      <td>0</td>\n",
       "      <td>351</td>\n",
       "      <td>-1.715472</td>\n",
       "      <td>-1.285307</td>\n",
       "      <td>1645</td>\n",
       "      <td>-0.818594</td>\n",
       "      <td>-0.434847</td>\n",
       "    </tr>\n",
       "    <tr>\n",
       "      <th>1</th>\n",
       "      <td>1</td>\n",
       "      <td>738</td>\n",
       "      <td>-0.530190</td>\n",
       "      <td>-0.031833</td>\n",
       "      <td>1039</td>\n",
       "      <td>-0.493444</td>\n",
       "      <td>0.299729</td>\n",
       "    </tr>\n",
       "    <tr>\n",
       "      <th>2</th>\n",
       "      <td>2</td>\n",
       "      <td>247</td>\n",
       "      <td>-0.589543</td>\n",
       "      <td>-0.203230</td>\n",
       "      <td>944</td>\n",
       "      <td>1.281112</td>\n",
       "      <td>-0.479543</td>\n",
       "    </tr>\n",
       "    <tr>\n",
       "      <th>3</th>\n",
       "      <td>3</td>\n",
       "      <td>751</td>\n",
       "      <td>-1.303115</td>\n",
       "      <td>0.982488</td>\n",
       "      <td>1099</td>\n",
       "      <td>-1.812137</td>\n",
       "      <td>-2.267394</td>\n",
       "    </tr>\n",
       "    <tr>\n",
       "      <th>4</th>\n",
       "      <td>4</td>\n",
       "      <td>698</td>\n",
       "      <td>0.156678</td>\n",
       "      <td>-0.371632</td>\n",
       "      <td>1708</td>\n",
       "      <td>-0.327219</td>\n",
       "      <td>0.670683</td>\n",
       "    </tr>\n",
       "  </tbody>\n",
       "</table>\n",
       "</div>"
      ],
      "text/plain": [
       "   person  room  high_school_GPA  college_GPA  person_other  \\\n",
       "0       0   351        -1.715472    -1.285307          1645   \n",
       "1       1   738        -0.530190    -0.031833          1039   \n",
       "2       2   247        -0.589543    -0.203230           944   \n",
       "3       3   751        -1.303115     0.982488          1099   \n",
       "4       4   698         0.156678    -0.371632          1708   \n",
       "\n",
       "   high_school_GPA_roommate  college_GPA_roommate  \n",
       "0                 -0.818594             -0.434847  \n",
       "1                 -0.493444              0.299729  \n",
       "2                  1.281112             -0.479543  \n",
       "3                 -1.812137             -2.267394  \n",
       "4                 -0.327219              0.670683  "
      ]
     },
     "execution_count": 4,
     "metadata": {},
     "output_type": "execute_result"
    }
   ],
   "source": [
    "# Creating dataframe with person and high school pga\n",
    "gpa = df_full[['person','high_school_GPA', 'college_GPA']] #\n",
    "gpa = gpa.rename(columns={'person': 'person_other'})  # rename person to person_other such that we can apply the column as key in merge\n",
    "gpa = gpa.rename(columns={'high_school_GPA': 'high_school_GPA_roommate'}) # renaming such that we avoid the suffix of _x and _y\n",
    "gpa = gpa.rename(columns={'college_GPA': 'college_GPA_roommate'}) \n",
    "\n",
    "# adding the column of roommate high school gpa with pd.merge \n",
    "df_full = pd.merge(df_full,gpa[['person_other','high_school_GPA_roommate','college_GPA_roommate']],on='person_other', how='left')\n",
    "df_full.head()\n"
   ]
  },
  {
   "cell_type": "markdown",
   "metadata": {},
   "source": [
    "<br>\n",
    "<br>\n",
    "\n",
    "### Data exploration and randomization\n",
    "\n",
    "We now have our final dataset and can begin investigating how the raw data looks. \n",
    "\n",
    "> **Ex. 12.1.3:** plot own GPA in high school vs college in a scatter plot."
   ]
  },
  {
   "cell_type": "code",
   "execution_count": 6,
   "metadata": {},
   "outputs": [
    {
     "data": {
      "image/png": "[encoded data removed]",
      "text/plain": [
       "<Figure size 432x288 with 1 Axes>"
      ]
     },
     "metadata": {},
     "output_type": "display_data"
    }
   ],
   "source": [
    "import matplotlib.pyplot as plt\n",
    "import matplotlib.style\n",
    "plt.style.use('ggplot')\n",
    "\n",
    "# Defining the series\n",
    "high_school_gpa = df_full['high_school_GPA']\n",
    "college_gpa     = df_full['college_GPA']\n",
    "\n",
    "# Plotting\n",
    "plt.scatter(high_school_gpa, college_gpa)\n",
    "plt.title('GPA in high school vs GPA in college')\n",
    "plt.xlabel('High School GPA')\n",
    "plt.ylabel('College GPA')\n",
    "plt.show()\n",
    "\n",
    "# Scatter plot show us a linear relationship as expected - indicates high correlation on performance in high school vs college"
   ]
  },
  {
   "cell_type": "markdown",
   "metadata": {},
   "source": [
    "<br>\n",
    "We want to check there is random assignment of roommates. \n",
    "\n",
    "> **Ex. 12.1.4:** Plot high school GPA vs roommate's high school GPA. Comment on the output. Run a regresion of high school GPA on roommate's high school GPA to formally check random assignment.\n",
    ">\n",
    ">> *Hint*: To run regressions in python, you can use the `statsmodels` package. Look up it's documentation and use the `.formula` api to estimate your model. To see a summary of a fitted model you can call `.summary()` on the object. \n",
    ">\n",
    ">> *Hint:* Under random assignment we would expect there to be no relation between the high school GPA's of roommates. Why is this? "
   ]
  },
  {
   "cell_type": "code",
   "execution_count": 23,
   "metadata": {},
   "outputs": [
    {
     "data": {
      "image/png": "[encoded data removed]",
      "text/plain": [
       "<Figure size 432x288 with 1 Axes>"
      ]
     },
     "metadata": {},
     "output_type": "display_data"
    }
   ],
   "source": [
    "# Plotting high school GPA vs roommate's high school GPA\n",
    "\n",
    "own = df_full['high_school_GPA']\n",
    "roommate = df_full['high_school_GPA_roommate']\n",
    "\n",
    "plt.scatter(roommate,own)\n",
    "plt.title('Own high school GPA vs roommate high school GPA')\n",
    "plt.xlabel('Roommate high school GPA')\n",
    "plt.ylabel('Own high school GPA')\n",
    "plt.show()\n",
    "\n",
    "# We see a clear random assignment - no obvious correlation\n",
    "# This is positive for the further analysis as we can interpret this as a true random group without self-selection (correlation)"
   ]
  },
  {
   "cell_type": "code",
   "execution_count": 19,
   "metadata": {},
   "outputs": [
    {
     "name": "stdout",
     "output_type": "stream",
     "text": [
      "                            OLS Regression Results                            \n",
      "==============================================================================\n",
      "Dep. Variable:                    own   R-squared:                       0.000\n",
      "Model:                            OLS   Adj. R-squared:                 -0.000\n",
      "Method:                 Least Squares   F-statistic:                   0.07263\n",
      "Date:                Wed, 20 May 2020   Prob (F-statistic):              0.788\n",
      "Time:                        15:37:03   Log-Likelihood:                -2883.6\n",
      "No. Observations:                2000   AIC:                             5771.\n",
      "Df Residuals:                    1998   BIC:                             5782.\n",
      "Df Model:                           1                                         \n",
      "Covariance Type:            nonrobust                                         \n",
      "==============================================================================\n",
      "                 coef    std err          t      P>|t|      [0.025      0.975]\n",
      "------------------------------------------------------------------------------\n",
      "Intercept     -0.0284      0.023     -1.241      0.215      -0.073       0.016\n",
      "roommate      -0.0060      0.022     -0.269      0.788      -0.050       0.038\n",
      "==============================================================================\n",
      "Omnibus:                        0.231   Durbin-Watson:                   1.904\n",
      "Prob(Omnibus):                  0.891   Jarque-Bera (JB):                0.288\n",
      "Skew:                           0.015   Prob(JB):                        0.866\n",
      "Kurtosis:                       2.949   Cond. No.                         1.04\n",
      "==============================================================================\n",
      "\n",
      "Warnings:\n",
      "[1] Standard Errors assume that the covariance matrix of the errors is correctly specified.\n"
     ]
    }
   ],
   "source": [
    "# We run a regresion of high school GPA on roommate's high school GPA to formally check random assignment\n",
    "\n",
    "import statsmodels.api as sm\n",
    "import statsmodels.formula.api as smf\n",
    "import numpy as np\n",
    "import pandas as pd\n",
    "\n",
    "df = pd.concat([pd.DataFrame(own), pd.DataFrame(roommate)], axis=1, sort=False)\n",
    "\n",
    "# Run the model\n",
    "mod = smf.ols(formula='own ~ roommate', data=df)\n",
    "res = mod.fit()\n",
    "print(res.summary())\n",
    "\n",
    "# we notice that the roommate coefficient is almost zero and the t-statistics indicate that we cannot reject the null of \n",
    "# it being zero -> This is in favor of our hypothesis random assignment (no correlation)\n",
    "# This is the case, since if the coefficient on roommate gpa was significantly different from zero (and postive), then \n",
    "# this would indicate \"correlation\" which would harm the inditification and/or omitted variable bias when testing for \n",
    "# peer effects. As adressed in the lecture video, then with correlation present, then we cannot answer the\n",
    "# following regarding frienships (with people that are similar) \n",
    "# -> Are we similar because we are friends or are we friends because we are similar\n",
    "# (where the first being incidating a peer effect and the latter the \"correlation\" problem)"
   ]
  },
  {
   "cell_type": "markdown",
   "metadata": {},
   "source": [
    "<br>\n",
    "<br>\n",
    "\n",
    "## Roommate effect\n",
    "\n",
    "Having checked the data we move on to analyzing peer effects. We begin with analyzing **exogenous** peer effects. I.e. peer effects that are related to the ex ante characteristics of the roommate.\n",
    "\n",
    "> **Ex. 12.1.5:** Plot own GPA in college vs. roommate GPA in high school. Comment on the output. Test whether there is an impact using a regresion of college school GPA on high school GPA for the person itself and its roommate."
   ]
  },
  {
   "cell_type": "code",
   "execution_count": 22,
   "metadata": {},
   "outputs": [
    {
     "data": {
      "image/png": "[encoded data removed]",
      "text/plain": [
       "<Figure size 432x288 with 1 Axes>"
      ]
     },
     "metadata": {},
     "output_type": "display_data"
    }
   ],
   "source": [
    "# Plotting to visualize potential exogenous peer effecets in own gpa in college cs roommate gpa in high school\n",
    "# (thus, plotting own behavior vs peer (ex ante) characteristics)\n",
    "\n",
    "own_college = df_full['college_GPA']\n",
    "roommate_high_school = df_full['high_school_GPA_roommate']\n",
    "\n",
    "plt.scatter(roommate_high_school,own_college)\n",
    "plt.title('Own college GPA vs roommate high school GPA')\n",
    "plt.xlabel('Roommate high school GPA')\n",
    "plt.ylabel('Own college GPA')\n",
    "plt.show()"
   ]
  },
  {
   "cell_type": "code",
   "execution_count": 24,
   "metadata": {},
   "outputs": [
    {
     "name": "stdout",
     "output_type": "stream",
     "text": [
      "                            OLS Regression Results                            \n",
      "==============================================================================\n",
      "Dep. Variable:            own_college   R-squared:                       0.001\n",
      "Model:                            OLS   Adj. R-squared:                  0.000\n",
      "Method:                 Least Squares   F-statistic:                     1.584\n",
      "Date:                Wed, 20 May 2020   Prob (F-statistic):              0.208\n",
      "Time:                        16:09:15   Log-Likelihood:                -3099.5\n",
      "No. Observations:                2000   AIC:                             6203.\n",
      "Df Residuals:                    1998   BIC:                             6214.\n",
      "Df Model:                           1                                         \n",
      "Covariance Type:            nonrobust                                         \n",
      "========================================================================================\n",
      "                           coef    std err          t      P>|t|      [0.025      0.975]\n",
      "----------------------------------------------------------------------------------------\n",
      "Intercept               -0.0427      0.026     -1.674      0.094      -0.093       0.007\n",
      "roommate_high_school     0.0314      0.025      1.259      0.208      -0.018       0.080\n",
      "==============================================================================\n",
      "Omnibus:                      120.285   Durbin-Watson:                   1.917\n",
      "Prob(Omnibus):                  0.000   Jarque-Bera (JB):              484.476\n",
      "Skew:                          -0.100   Prob(JB):                    6.27e-106\n",
      "Kurtosis:                       5.403   Cond. No.                         1.04\n",
      "==============================================================================\n",
      "\n",
      "Warnings:\n",
      "[1] Standard Errors assume that the covariance matrix of the errors is correctly specified.\n"
     ]
    }
   ],
   "source": [
    "# Running the regression of own behavir on exogenous peer effects (high school gpa)\n",
    "\n",
    "# We run a regresion of high school GPA on roommate's high school GPA to formally check random assignment\n",
    "\n",
    "import statsmodels.api as sm\n",
    "import statsmodels.formula.api as smf\n",
    "import numpy as np\n",
    "import pandas as pd\n",
    "\n",
    "df = pd.concat([pd.DataFrame(own_college), pd.DataFrame(roommate_high_school)], axis=1, sort=False)\n",
    "\n",
    "# Run the model\n",
    "mod = smf.ols(formula='own_college ~ roommate_high_school', data=df)\n",
    "res = mod.fit()\n",
    "print(res.summary())\n",
    "\n",
    "\n",
    "# We do not see any particular effect -> no significant peer effect"
   ]
  },
  {
   "cell_type": "markdown",
   "metadata": {},
   "source": [
    "We now move on to analyze **endogenous** peer effects.\n",
    "\n",
    "> **Ex. 12.1.6:** Test whether there is an association between own college GPA and roommates. Do this by running a regresion of college school GPA on high school GPA for the person itself and its roommate. Comment on the output."
   ]
  },
  {
   "cell_type": "code",
   "execution_count": 27,
   "metadata": {},
   "outputs": [
    {
     "name": "stdout",
     "output_type": "stream",
     "text": [
      "                            OLS Regression Results                            \n",
      "==============================================================================\n",
      "Dep. Variable:            own_college   R-squared:                       0.402\n",
      "Model:                            OLS   Adj. R-squared:                  0.401\n",
      "Method:                 Least Squares   F-statistic:                     671.3\n",
      "Date:                Wed, 20 May 2020   Prob (F-statistic):          1.03e-223\n",
      "Time:                        18:38:56   Log-Likelihood:                -2586.0\n",
      "No. Observations:                2000   AIC:                             5178.\n",
      "Df Residuals:                    1997   BIC:                             5195.\n",
      "Df Model:                           2                                         \n",
      "Covariance Type:            nonrobust                                         \n",
      "========================================================================================\n",
      "                           coef    std err          t      P>|t|      [0.025      0.975]\n",
      "----------------------------------------------------------------------------------------\n",
      "Intercept               -0.0226      0.020     -1.147      0.252      -0.061       0.016\n",
      "roommate_high_school     0.0356      0.019      1.847      0.065      -0.002       0.073\n",
      "own_high_school          0.7059      0.019     36.606      0.000       0.668       0.744\n",
      "==============================================================================\n",
      "Omnibus:                       77.587   Durbin-Watson:                   1.973\n",
      "Prob(Omnibus):                  0.000   Jarque-Bera (JB):              213.025\n",
      "Skew:                          -0.117   Prob(JB):                     5.52e-47\n",
      "Kurtosis:                       4.582   Cond. No.                         1.05\n",
      "==============================================================================\n",
      "\n",
      "Warnings:\n",
      "[1] Standard Errors assume that the covariance matrix of the errors is correctly specified.\n"
     ]
    }
   ],
   "source": [
    "# We now analyse for endogenous peer effects (thus, we include an extra varible compared to the regression in 12.1.5)\n",
    "import statsmodels.api as sm\n",
    "import statsmodels.formula.api as smf\n",
    "import numpy as np\n",
    "import pandas as pd\n",
    "\n",
    "\n",
    "own_college = df_full['college_GPA']\n",
    "roommate_high_school = df_full['high_school_GPA_roommate']\n",
    "own_high_school = df_full['high_school_GPA']\n",
    "\n",
    "\n",
    "df = pd.concat([pd.DataFrame(own_college), pd.DataFrame(roommate_high_school), pd.DataFrame(own_high_school)], axis=1, sort=False)\n",
    "\n",
    "# Run the model\n",
    "mod = smf.ols(formula='own_college ~ roommate_high_school + own_high_school', data=df)\n",
    "res = mod.fit()\n",
    "print(res.summary())\n",
    "\n",
    "# We observe a borderline significant exogenous peer effect (+0.0356) and a very clear postive endogenous peer effect (+0.7059)"
   ]
  },
  {
   "cell_type": "markdown",
   "metadata": {},
   "source": [
    "<br>\n",
    "<br>\n",
    "\n",
    "# 12.2 Peer effects in Danish classrooms\n",
    "\n",
    "Read the [report by Kraka on peer effects in Danish schools](http://kraka.dk/sites/default/files/public/baggrundsnotat_klassekammerateffekter_0.pdf) from 2019. If you do not speak Danish talk to your group about the content.\n",
    "> **Ex. 12.2.1:** Explain the identification strategy in words."
   ]
  },
  {
   "cell_type": "markdown",
   "metadata": {},
   "source": [
    "The report by Deloitte / Kraka \"Hvad betyder klassekammeraterne for det enkelte barns fremtid\" follows the estimation procedures presented in Hoxby (2000), Lavy and Schlosser (2011) and Andersen (2015).\n",
    "\n",
    "It is stated that the main identification problem in the estimation process in the selection proble. The issue of pontetially high ability students living in neighborhoods with other \"high ability\" families such that high ability students in the same classes etc. \n",
    "\n",
    "To overcome this potential issue, then estimation process introduces natural variation in the composition of classes and espcially in schools as they introduce time-varying variables. And instead of focusing on the single class, they consider schools over time. \n",
    "\n",
    "Furthermore, they apply \\bar(X)_{ist} as a average of explainatory variables based on the \"leave one out means\" -> this is an inditification strategy reflected in the reflection problem -> Theory states that the inclusion mean leads to non-identification where exclusion means is identifiable."
   ]
  },
  {
   "cell_type": "markdown",
   "metadata": {},
   "source": [
    "> **Ex. 12.2.2:** Are there any shortcomings of the identification strategy? What does the seminal paper [Hoxby (2000)](https://www.nber.org/papers/w78612.pdf) test for?"
   ]
  },
  {
   "cell_type": "markdown",
   "metadata": {},
   "source": [
    "The report follows the same approach as Hoxby (2000), where natural variation is introduced by time-varying estimation based on schools and not on class rooms. The approach introduces noise in the estimation and extra uncertainty of the estimates are considered. However, the consistency of the estiatamtes are still intact and the estimates can be applied on the class room level as well. Further, to compare with Hoxby (2000) paper, then dummy variables for the school finxed effects and year dummies are introduced to account for \"overall ability\" of years and schools. An example of this could be if a higher fraction of low-ability students in one year or school caused the \"high ability\" homes to take out their children of the public schools for the purpose of sending them to private schools. "
   ]
  },
  {
   "cell_type": "markdown",
   "metadata": {},
   "source": [
    "> **Ex. 12.2.3:** Try to come up with identification strategies for identifying peer effects in the context of Danish class rooms."
   ]
  },
  {
   "cell_type": "markdown",
   "metadata": {},
   "source": [
    "A potential identification strategy could be based on non-linear effects where a study could follow the precedure presented in \"Ability Peer Effects in University: Evidence from a Randomized Experiment\" (Booij, Leuven, Oosterbeek (2017)). Instead of using study groups on a university level, one could form class-room composition in Danish high schools based on the GPA of the public/private elementary schools.\n",
    "\n",
    "However, there are clear ethical dilemmas in this strategy. "
   ]
  }
 ],
 "metadata": {
  "kernelspec": {
   "display_name": "Python 3",
   "language": "python",
   "name": "python3"
  },
  "language_info": {
   "codemirror_mode": {
    "name": "ipython",
    "version": 3
   },
   "file_extension": ".py",
   "mimetype": "text/x-python",
   "name": "python",
   "nbconvert_exporter": "python",
   "pygments_lexer": "ipython3",
   "version": "3.7.3"
  }
 },
 "nbformat": 4,
 "nbformat_minor": 4
}
