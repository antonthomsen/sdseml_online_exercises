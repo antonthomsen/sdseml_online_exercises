{
 "cells": [
  {
   "cell_type": "code",
   "execution_count": 1,
   "metadata": {},
   "outputs": [],
   "source": [
    "import numpy as np\n",
    "import pandas as pd"
   ]
  },
  {
   "cell_type": "code",
   "execution_count": 2,
   "metadata": {},
   "outputs": [],
   "source": [
    "data= pd.read_csv('peer_effects_room.csv')"
   ]
  },
  {
   "cell_type": "code",
   "execution_count": 3,
   "metadata": {},
   "outputs": [
    {
     "data": {
      "text/html": [
       "<div>\n",
       "<style scoped>\n",
       "    .dataframe tbody tr th:only-of-type {\n",
       "        vertical-align: middle;\n",
       "    }\n",
       "\n",
       "    .dataframe tbody tr th {\n",
       "        vertical-align: top;\n",
       "    }\n",
       "\n",
       "    .dataframe thead th {\n",
       "        text-align: right;\n",
       "    }\n",
       "</style>\n",
       "<table border=\"1\" class=\"dataframe\">\n",
       "  <thead>\n",
       "    <tr style=\"text-align: right;\">\n",
       "      <th></th>\n",
       "      <th>person</th>\n",
       "      <th>room</th>\n",
       "      <th>high_school_GPA</th>\n",
       "      <th>college_GPA</th>\n",
       "      <th>person_other</th>\n",
       "    </tr>\n",
       "  </thead>\n",
       "  <tbody>\n",
       "    <tr>\n",
       "      <td>1757</td>\n",
       "      <td>1757</td>\n",
       "      <td>0</td>\n",
       "      <td>-0.181905</td>\n",
       "      <td>0.566177</td>\n",
       "      <td>1603</td>\n",
       "    </tr>\n",
       "    <tr>\n",
       "      <td>1603</td>\n",
       "      <td>1603</td>\n",
       "      <td>0</td>\n",
       "      <td>-0.622770</td>\n",
       "      <td>0.540078</td>\n",
       "      <td>1757</td>\n",
       "    </tr>\n",
       "    <tr>\n",
       "      <td>1649</td>\n",
       "      <td>1649</td>\n",
       "      <td>1</td>\n",
       "      <td>0.378918</td>\n",
       "      <td>0.033256</td>\n",
       "      <td>466</td>\n",
       "    </tr>\n",
       "    <tr>\n",
       "      <td>466</td>\n",
       "      <td>466</td>\n",
       "      <td>1</td>\n",
       "      <td>-2.248266</td>\n",
       "      <td>-3.596904</td>\n",
       "      <td>1649</td>\n",
       "    </tr>\n",
       "    <tr>\n",
       "      <td>1929</td>\n",
       "      <td>1929</td>\n",
       "      <td>2</td>\n",
       "      <td>-0.095399</td>\n",
       "      <td>-0.052611</td>\n",
       "      <td>816</td>\n",
       "    </tr>\n",
       "    <tr>\n",
       "      <td>816</td>\n",
       "      <td>816</td>\n",
       "      <td>2</td>\n",
       "      <td>-0.798128</td>\n",
       "      <td>-1.811919</td>\n",
       "      <td>1929</td>\n",
       "    </tr>\n",
       "    <tr>\n",
       "      <td>1719</td>\n",
       "      <td>1719</td>\n",
       "      <td>3</td>\n",
       "      <td>1.885767</td>\n",
       "      <td>-1.104111</td>\n",
       "      <td>481</td>\n",
       "    </tr>\n",
       "    <tr>\n",
       "      <td>481</td>\n",
       "      <td>481</td>\n",
       "      <td>3</td>\n",
       "      <td>-1.094094</td>\n",
       "      <td>-2.096950</td>\n",
       "      <td>1719</td>\n",
       "    </tr>\n",
       "    <tr>\n",
       "      <td>1108</td>\n",
       "      <td>1108</td>\n",
       "      <td>4</td>\n",
       "      <td>0.977881</td>\n",
       "      <td>0.880004</td>\n",
       "      <td>1887</td>\n",
       "    </tr>\n",
       "    <tr>\n",
       "      <td>1887</td>\n",
       "      <td>1887</td>\n",
       "      <td>4</td>\n",
       "      <td>-2.513904</td>\n",
       "      <td>0.225987</td>\n",
       "      <td>1108</td>\n",
       "    </tr>\n",
       "  </tbody>\n",
       "</table>\n",
       "</div>"
      ],
      "text/plain": [
       "      person  room  high_school_GPA  college_GPA  person_other\n",
       "1757    1757     0        -0.181905     0.566177          1603\n",
       "1603    1603     0        -0.622770     0.540078          1757\n",
       "1649    1649     1         0.378918     0.033256           466\n",
       "466      466     1        -2.248266    -3.596904          1649\n",
       "1929    1929     2        -0.095399    -0.052611           816\n",
       "816      816     2        -0.798128    -1.811919          1929\n",
       "1719    1719     3         1.885767    -1.104111           481\n",
       "481      481     3        -1.094094    -2.096950          1719\n",
       "1108    1108     4         0.977881     0.880004          1887\n",
       "1887    1887     4        -2.513904     0.225987          1108"
      ]
     },
     "execution_count": 3,
     "metadata": {},
     "output_type": "execute_result"
    }
   ],
   "source": [
    "data['person_other'] = 'placeholde' # placeholder values for 'person_other'-column\n",
    "room_people = data.groupby('room').person.unique() # idx = room, values = array of people in the room\n",
    "\n",
    "for rooms, persons_in_room in room_people.iteritems(): # Loop through rooms and persons_in_rooms\n",
    "    for idx_and_id in data[data.room == rooms].index: # Loop over persons in the room (their idx's are the same as their id's)\n",
    "        data.loc[idx_and_id, 'person_other'] = [x for x in persons_in_room if x != idx_and_id][0] # Only keep the roommate\n",
    "\n",
    "#Check if correctly grouped\n",
    "data.sort_values('room').head(10)"
   ]
  },
  {
   "cell_type": "code",
   "execution_count": 4,
   "metadata": {},
   "outputs": [
    {
     "data": {
      "text/html": [
       "<div>\n",
       "<style scoped>\n",
       "    .dataframe tbody tr th:only-of-type {\n",
       "        vertical-align: middle;\n",
       "    }\n",
       "\n",
       "    .dataframe tbody tr th {\n",
       "        vertical-align: top;\n",
       "    }\n",
       "\n",
       "    .dataframe thead th {\n",
       "        text-align: right;\n",
       "    }\n",
       "</style>\n",
       "<table border=\"1\" class=\"dataframe\">\n",
       "  <thead>\n",
       "    <tr style=\"text-align: right;\">\n",
       "      <th></th>\n",
       "      <th>person</th>\n",
       "      <th>room</th>\n",
       "      <th>high_school_GPA</th>\n",
       "      <th>college_GPA</th>\n",
       "      <th>person_other</th>\n",
       "      <th>high_school_GPA_other</th>\n",
       "      <th>college_GPA_other</th>\n",
       "    </tr>\n",
       "  </thead>\n",
       "  <tbody>\n",
       "    <tr>\n",
       "      <td>1757</td>\n",
       "      <td>1757</td>\n",
       "      <td>0</td>\n",
       "      <td>-0.181905</td>\n",
       "      <td>0.566177</td>\n",
       "      <td>1603</td>\n",
       "      <td>-0.622770</td>\n",
       "      <td>0.540078</td>\n",
       "    </tr>\n",
       "    <tr>\n",
       "      <td>1603</td>\n",
       "      <td>1603</td>\n",
       "      <td>0</td>\n",
       "      <td>-0.622770</td>\n",
       "      <td>0.540078</td>\n",
       "      <td>1757</td>\n",
       "      <td>-0.181905</td>\n",
       "      <td>0.566177</td>\n",
       "    </tr>\n",
       "    <tr>\n",
       "      <td>1649</td>\n",
       "      <td>1649</td>\n",
       "      <td>1</td>\n",
       "      <td>0.378918</td>\n",
       "      <td>0.033256</td>\n",
       "      <td>466</td>\n",
       "      <td>-2.248266</td>\n",
       "      <td>-3.596904</td>\n",
       "    </tr>\n",
       "    <tr>\n",
       "      <td>466</td>\n",
       "      <td>466</td>\n",
       "      <td>1</td>\n",
       "      <td>-2.248266</td>\n",
       "      <td>-3.596904</td>\n",
       "      <td>1649</td>\n",
       "      <td>0.378918</td>\n",
       "      <td>0.033256</td>\n",
       "    </tr>\n",
       "  </tbody>\n",
       "</table>\n",
       "</div>"
      ],
      "text/plain": [
       "      person  room  high_school_GPA  college_GPA  person_other  \\\n",
       "1757    1757     0        -0.181905     0.566177          1603   \n",
       "1603    1603     0        -0.622770     0.540078          1757   \n",
       "1649    1649     1         0.378918     0.033256           466   \n",
       "466      466     1        -2.248266    -3.596904          1649   \n",
       "\n",
       "      high_school_GPA_other  college_GPA_other  \n",
       "1757              -0.622770           0.540078  \n",
       "1603              -0.181905           0.566177  \n",
       "1649              -2.248266          -3.596904  \n",
       "466                0.378918           0.033256  "
      ]
     },
     "execution_count": 4,
     "metadata": {},
     "output_type": "execute_result"
    }
   ],
   "source": [
    "\n",
    "#Extract and rename\n",
    "for_merge = data[['high_school_GPA', 'college_GPA', 'person']]\\\n",
    "                .rename(columns = {'high_school_GPA': 'high_school_GPA_other',\n",
    "                                  'college_GPA':'college_GPA_other',\n",
    "                                  'person':'person_other'})\n",
    "\n",
    "#merge\n",
    "data = pd.merge(data, for_merge, on = 'person_other', validate = '1:1')\n",
    "\n",
    "#print to validate\n",
    "data.sort_values('room').head(4)"
   ]
  },
  {
   "cell_type": "code",
   "execution_count": 5,
   "metadata": {},
   "outputs": [],
   "source": [
    "import matplotlib.pyplot as plt\n",
    "import statsmodels.api as sm"
   ]
  },
  {
   "cell_type": "code",
   "execution_count": 6,
   "metadata": {},
   "outputs": [
    {
     "data": {
      "text/plain": [
       "Text(0.5, 1.0, 'Correlation between GPA in High School and the GPA in College')"
      ]
     },
     "execution_count": 6,
     "metadata": {},
     "output_type": "execute_result"
    },
    {
     "data": {
      "image/png": "[encoded data removed]",
      "text/plain": [
       "<Figure size 432x288 with 1 Axes>"
      ]
     },
     "metadata": {
      "needs_background": "light"
     },
     "output_type": "display_data"
    }
   ],
   "source": [
    "\n",
    "\n",
    "\n",
    "fix,ax = plt.subplots()\n",
    "plt.scatter(x=data.high_school_GPA,y=data.college_GPA)\n",
    "ax.set_xlabel('High School GPA')\n",
    "ax.set_ylabel('College GPA')\n",
    "ax.set_title('Correlation between GPA in High School and the GPA in College')\n"
   ]
  },
  {
   "cell_type": "markdown",
   "metadata": {},
   "source": [
    "We see that there seems to be a positive correlation between GPA in high school and GPA in college, this makes sense to me, as there would be alot of the same factors involved in the two. It is not strictly positive off course, as there are people improwing from high school to college and vice versa."
   ]
  },
  {
   "cell_type": "code",
   "execution_count": 7,
   "metadata": {},
   "outputs": [
    {
     "data": {
      "text/html": [
       "<table class=\"simpletable\">\n",
       "<caption>OLS Regression Results</caption>\n",
       "<tr>\n",
       "  <th>Dep. Variable:</th>    <td>high_school_GPA_other</td> <th>  R-squared (uncentered):</th>      <td>   0.000</td>\n",
       "</tr>\n",
       "<tr>\n",
       "  <th>Model:</th>                     <td>OLS</td>          <th>  Adj. R-squared (uncentered):</th> <td>  -0.000</td>\n",
       "</tr>\n",
       "<tr>\n",
       "  <th>Method:</th>               <td>Least Squares</td>     <th>  F-statistic:       </th>          <td> 0.05536</td>\n",
       "</tr>\n",
       "<tr>\n",
       "  <th>Date:</th>               <td>Fri, 22 May 2020</td>    <th>  Prob (F-statistic):</th>           <td> 0.814</td> \n",
       "</tr>\n",
       "<tr>\n",
       "  <th>Time:</th>                   <td>13:40:43</td>        <th>  Log-Likelihood:    </th>          <td> -2884.4</td>\n",
       "</tr>\n",
       "<tr>\n",
       "  <th>No. Observations:</th>        <td>  2000</td>         <th>  AIC:               </th>          <td>   5771.</td>\n",
       "</tr>\n",
       "<tr>\n",
       "  <th>Df Residuals:</th>            <td>  1999</td>         <th>  BIC:               </th>          <td>   5776.</td>\n",
       "</tr>\n",
       "<tr>\n",
       "  <th>Df Model:</th>                <td>     1</td>         <th>                     </th>              <td> </td>   \n",
       "</tr>\n",
       "<tr>\n",
       "  <th>Covariance Type:</th>        <td>nonrobust</td>       <th>                     </th>              <td> </td>   \n",
       "</tr>\n",
       "</table>\n",
       "<table class=\"simpletable\">\n",
       "<tr>\n",
       "         <td></td>            <th>coef</th>     <th>std err</th>      <th>t</th>      <th>P>|t|</th>  <th>[0.025</th>    <th>0.975]</th>  \n",
       "</tr>\n",
       "<tr>\n",
       "  <th>high_school_GPA</th> <td>   -0.0053</td> <td>    0.022</td> <td>   -0.235</td> <td> 0.814</td> <td>   -0.049</td> <td>    0.039</td>\n",
       "</tr>\n",
       "</table>\n",
       "<table class=\"simpletable\">\n",
       "<tr>\n",
       "  <th>Omnibus:</th>       <td> 0.233</td> <th>  Durbin-Watson:     </th> <td>   1.977</td>\n",
       "</tr>\n",
       "<tr>\n",
       "  <th>Prob(Omnibus):</th> <td> 0.890</td> <th>  Jarque-Bera (JB):  </th> <td>   0.290</td>\n",
       "</tr>\n",
       "<tr>\n",
       "  <th>Skew:</th>          <td> 0.015</td> <th>  Prob(JB):          </th> <td>   0.865</td>\n",
       "</tr>\n",
       "<tr>\n",
       "  <th>Kurtosis:</th>      <td> 2.949</td> <th>  Cond. No.          </th> <td>    1.00</td>\n",
       "</tr>\n",
       "</table><br/><br/>Warnings:<br/>[1] Standard Errors assume that the covariance matrix of the errors is correctly specified."
      ],
      "text/plain": [
       "<class 'statsmodels.iolib.summary.Summary'>\n",
       "\"\"\"\n",
       "                                  OLS Regression Results                                  \n",
       "==========================================================================================\n",
       "Dep. Variable:     high_school_GPA_other   R-squared (uncentered):                   0.000\n",
       "Model:                               OLS   Adj. R-squared (uncentered):             -0.000\n",
       "Method:                    Least Squares   F-statistic:                            0.05536\n",
       "Date:                   Fri, 22 May 2020   Prob (F-statistic):                       0.814\n",
       "Time:                           13:40:43   Log-Likelihood:                         -2884.4\n",
       "No. Observations:                   2000   AIC:                                      5771.\n",
       "Df Residuals:                       1999   BIC:                                      5776.\n",
       "Df Model:                              1                                                  \n",
       "Covariance Type:               nonrobust                                                  \n",
       "===================================================================================\n",
       "                      coef    std err          t      P>|t|      [0.025      0.975]\n",
       "-----------------------------------------------------------------------------------\n",
       "high_school_GPA    -0.0053      0.022     -0.235      0.814      -0.049       0.039\n",
       "==============================================================================\n",
       "Omnibus:                        0.233   Durbin-Watson:                   1.977\n",
       "Prob(Omnibus):                  0.890   Jarque-Bera (JB):                0.290\n",
       "Skew:                           0.015   Prob(JB):                        0.865\n",
       "Kurtosis:                       2.949   Cond. No.                         1.00\n",
       "==============================================================================\n",
       "\n",
       "Warnings:\n",
       "[1] Standard Errors assume that the covariance matrix of the errors is correctly specified.\n",
       "\"\"\""
      ]
     },
     "execution_count": 7,
     "metadata": {},
     "output_type": "execute_result"
    },
    {
     "data": {
      "image/png": "[encoded data removed]",
      "text/plain": [
       "<Figure size 432x288 with 1 Axes>"
      ]
     },
     "metadata": {
      "needs_background": "light"
     },
     "output_type": "display_data"
    }
   ],
   "source": [
    "\n",
    "fix,ax = plt.subplots()\n",
    "X = data.high_school_GPA\n",
    "Y = data.high_school_GPA_other\n",
    "plt.scatter(x=X,y=Y)\n",
    "ax.set_xlabel('High School GPA')\n",
    "ax.set_ylabel('High School GPA For the Roommate')\n",
    "ax.set_title('Correlation between High School GPA and High School GPA For Roommate')\n",
    "\n",
    "## Run OLS regression\n",
    "model   = sm.OLS(Y,X)\n",
    "results = model.fit()\n",
    "results.summary()"
   ]
  },
  {
   "cell_type": "markdown",
   "metadata": {},
   "source": [
    "In the scatter plot for the correlation between the GPA of one person, and his roommate looks quite random. We see that most of the correlations are around 0, and that for both positive and negative correlations there are about equal differences, because even when allocated randomly then peple of the same type of GPA can be put together as roommates. This is also seen in the regression above, where you see that the coefficient of the result is not statistically significant, so it cant be ruled out that the correlation is different from zero.\n",
    "This gives credit to the idea that the assignment of roommates are done independently on GPA scores from high school"
   ]
  },
  {
   "cell_type": "code",
   "execution_count": null,
   "metadata": {},
   "outputs": [],
   "source": []
  },
  {
   "cell_type": "code",
   "execution_count": null,
   "metadata": {},
   "outputs": [],
   "source": []
  },
  {
   "cell_type": "code",
   "execution_count": null,
   "metadata": {},
   "outputs": [],
   "source": []
  },
  {
   "cell_type": "code",
   "execution_count": 8,
   "metadata": {},
   "outputs": [
    {
     "data": {
      "text/html": [
       "<table class=\"simpletable\">\n",
       "<caption>OLS Regression Results</caption>\n",
       "<tr>\n",
       "  <th>Dep. Variable:</th>       <td>college_GPA</td>   <th>  R-squared (uncentered):</th>      <td>   0.403</td> \n",
       "</tr>\n",
       "<tr>\n",
       "  <th>Model:</th>                   <td>OLS</td>       <th>  Adj. R-squared (uncentered):</th> <td>   0.402</td> \n",
       "</tr>\n",
       "<tr>\n",
       "  <th>Method:</th>             <td>Least Squares</td>  <th>  F-statistic:       </th>          <td>   673.0</td> \n",
       "</tr>\n",
       "<tr>\n",
       "  <th>Date:</th>             <td>Fri, 22 May 2020</td> <th>  Prob (F-statistic):</th>          <td>3.58e-224</td>\n",
       "</tr>\n",
       "<tr>\n",
       "  <th>Time:</th>                 <td>13:40:44</td>     <th>  Log-Likelihood:    </th>          <td> -2586.7</td> \n",
       "</tr>\n",
       "<tr>\n",
       "  <th>No. Observations:</th>      <td>  2000</td>      <th>  AIC:               </th>          <td>   5177.</td> \n",
       "</tr>\n",
       "<tr>\n",
       "  <th>Df Residuals:</th>          <td>  1998</td>      <th>  BIC:               </th>          <td>   5189.</td> \n",
       "</tr>\n",
       "<tr>\n",
       "  <th>Df Model:</th>              <td>     2</td>      <th>                     </th>              <td> </td>    \n",
       "</tr>\n",
       "<tr>\n",
       "  <th>Covariance Type:</th>      <td>nonrobust</td>    <th>                     </th>              <td> </td>    \n",
       "</tr>\n",
       "</table>\n",
       "<table class=\"simpletable\">\n",
       "<tr>\n",
       "            <td></td>               <th>coef</th>     <th>std err</th>      <th>t</th>      <th>P>|t|</th>  <th>[0.025</th>    <th>0.975]</th>  \n",
       "</tr>\n",
       "<tr>\n",
       "  <th>high_school_GPA</th>       <td>    0.7065</td> <td>    0.019</td> <td>   36.649</td> <td> 0.000</td> <td>    0.669</td> <td>    0.744</td>\n",
       "</tr>\n",
       "<tr>\n",
       "  <th>high_school_GPA_other</th> <td>    0.0362</td> <td>    0.019</td> <td>    1.880</td> <td> 0.060</td> <td>   -0.002</td> <td>    0.074</td>\n",
       "</tr>\n",
       "</table>\n",
       "<table class=\"simpletable\">\n",
       "<tr>\n",
       "  <th>Omnibus:</th>       <td>77.511</td> <th>  Durbin-Watson:     </th> <td>   1.950</td>\n",
       "</tr>\n",
       "<tr>\n",
       "  <th>Prob(Omnibus):</th> <td> 0.000</td> <th>  Jarque-Bera (JB):  </th> <td> 212.691</td>\n",
       "</tr>\n",
       "<tr>\n",
       "  <th>Skew:</th>          <td>-0.117</td> <th>  Prob(JB):          </th> <td>6.53e-47</td>\n",
       "</tr>\n",
       "<tr>\n",
       "  <th>Kurtosis:</th>      <td> 4.580</td> <th>  Cond. No.          </th> <td>    1.01</td>\n",
       "</tr>\n",
       "</table><br/><br/>Warnings:<br/>[1] Standard Errors assume that the covariance matrix of the errors is correctly specified."
      ],
      "text/plain": [
       "<class 'statsmodels.iolib.summary.Summary'>\n",
       "\"\"\"\n",
       "                                 OLS Regression Results                                \n",
       "=======================================================================================\n",
       "Dep. Variable:            college_GPA   R-squared (uncentered):                   0.403\n",
       "Model:                            OLS   Adj. R-squared (uncentered):              0.402\n",
       "Method:                 Least Squares   F-statistic:                              673.0\n",
       "Date:                Fri, 22 May 2020   Prob (F-statistic):                   3.58e-224\n",
       "Time:                        13:40:44   Log-Likelihood:                         -2586.7\n",
       "No. Observations:                2000   AIC:                                      5177.\n",
       "Df Residuals:                    1998   BIC:                                      5189.\n",
       "Df Model:                           2                                                  \n",
       "Covariance Type:            nonrobust                                                  \n",
       "=========================================================================================\n",
       "                            coef    std err          t      P>|t|      [0.025      0.975]\n",
       "-----------------------------------------------------------------------------------------\n",
       "high_school_GPA           0.7065      0.019     36.649      0.000       0.669       0.744\n",
       "high_school_GPA_other     0.0362      0.019      1.880      0.060      -0.002       0.074\n",
       "==============================================================================\n",
       "Omnibus:                       77.511   Durbin-Watson:                   1.950\n",
       "Prob(Omnibus):                  0.000   Jarque-Bera (JB):              212.691\n",
       "Skew:                          -0.117   Prob(JB):                     6.53e-47\n",
       "Kurtosis:                       4.580   Cond. No.                         1.01\n",
       "==============================================================================\n",
       "\n",
       "Warnings:\n",
       "[1] Standard Errors assume that the covariance matrix of the errors is correctly specified.\n",
       "\"\"\""
      ]
     },
     "execution_count": 8,
     "metadata": {},
     "output_type": "execute_result"
    },
    {
     "data": {
      "image/png": "[encoded data removed]",
      "text/plain": [
       "<Figure size 432x288 with 1 Axes>"
      ]
     },
     "metadata": {
      "needs_background": "light"
     },
     "output_type": "display_data"
    }
   ],
   "source": [
    "fix,ax = plt.subplots()\n",
    "Y = data.college_GPA\n",
    "X = data.high_school_GPA_other\n",
    "\n",
    "plt.scatter(x=X,y=Y)\n",
    "ax.set_ylabel('Own College GPA')\n",
    "ax.set_xlabel('Roommate High School GPA')\n",
    "ax.set_title('Correlation between own College and roommate High School GPA')\n",
    "\n",
    "## Run OLS regression\n",
    "Y_reg   = data['college_GPA']\n",
    "X_reg   = data[['high_school_GPA','high_school_GPA_other']]\n",
    "model   = sm.OLS(Y_reg,X_reg)\n",
    "results = model.fit()\n",
    "results.summary()"
   ]
  },
  {
   "cell_type": "markdown",
   "metadata": {},
   "source": [
    "This regression shows that a persons own college GPA is highly dependent on ones high school GPA, this makes quite good sense, as you would expect both to be a measurement of peoples work ethic and ability, so should be correlated.\n",
    "It also shows a weak positive correlation to your roommates high school GPA, so if it was worse than yours, then it will lower your college GPA and vice versa. This also makes somewhat sense since their college GPA will be affected by their high school GPA, so a college roommate with a high GPA from highscool will probably also get a high GPA in college, and this reflects a bit onto the roommate apparently.\n",
    "It is just borderline insignificant."
   ]
  },
  {
   "cell_type": "code",
   "execution_count": null,
   "metadata": {},
   "outputs": [],
   "source": []
  },
  {
   "cell_type": "code",
   "execution_count": 9,
   "metadata": {},
   "outputs": [
    {
     "data": {
      "text/html": [
       "<table class=\"simpletable\">\n",
       "<caption>OLS Regression Results</caption>\n",
       "<tr>\n",
       "  <th>Dep. Variable:</th>       <td>college_GPA</td>   <th>  R-squared (uncentered):</th>      <td>   0.406</td> \n",
       "</tr>\n",
       "<tr>\n",
       "  <th>Model:</th>                   <td>OLS</td>       <th>  Adj. R-squared (uncentered):</th> <td>   0.405</td> \n",
       "</tr>\n",
       "<tr>\n",
       "  <th>Method:</th>             <td>Least Squares</td>  <th>  F-statistic:       </th>          <td>   454.9</td> \n",
       "</tr>\n",
       "<tr>\n",
       "  <th>Date:</th>             <td>Fri, 22 May 2020</td> <th>  Prob (F-statistic):</th>          <td>3.23e-225</td>\n",
       "</tr>\n",
       "<tr>\n",
       "  <th>Time:</th>                 <td>13:40:44</td>     <th>  Log-Likelihood:    </th>          <td> -2580.9</td> \n",
       "</tr>\n",
       "<tr>\n",
       "  <th>No. Observations:</th>      <td>  2000</td>      <th>  AIC:               </th>          <td>   5168.</td> \n",
       "</tr>\n",
       "<tr>\n",
       "  <th>Df Residuals:</th>          <td>  1997</td>      <th>  BIC:               </th>          <td>   5185.</td> \n",
       "</tr>\n",
       "<tr>\n",
       "  <th>Df Model:</th>              <td>     3</td>      <th>                     </th>              <td> </td>    \n",
       "</tr>\n",
       "<tr>\n",
       "  <th>Covariance Type:</th>      <td>nonrobust</td>    <th>                     </th>              <td> </td>    \n",
       "</tr>\n",
       "</table>\n",
       "<table class=\"simpletable\">\n",
       "<tr>\n",
       "            <td></td>               <th>coef</th>     <th>std err</th>      <th>t</th>      <th>P>|t|</th>  <th>[0.025</th>    <th>0.975]</th>  \n",
       "</tr>\n",
       "<tr>\n",
       "  <th>high_school_GPA</th>       <td>    0.7038</td> <td>    0.019</td> <td>   36.571</td> <td> 0.000</td> <td>    0.666</td> <td>    0.741</td>\n",
       "</tr>\n",
       "<tr>\n",
       "  <th>high_school_GPA_other</th> <td>   -0.0175</td> <td>    0.025</td> <td>   -0.703</td> <td> 0.482</td> <td>   -0.066</td> <td>    0.031</td>\n",
       "</tr>\n",
       "<tr>\n",
       "  <th>college_GPA_other</th>     <td>    0.0760</td> <td>    0.022</td> <td>    3.407</td> <td> 0.001</td> <td>    0.032</td> <td>    0.120</td>\n",
       "</tr>\n",
       "</table>\n",
       "<table class=\"simpletable\">\n",
       "<tr>\n",
       "  <th>Omnibus:</th>       <td>79.391</td> <th>  Durbin-Watson:     </th> <td>   1.954</td>\n",
       "</tr>\n",
       "<tr>\n",
       "  <th>Prob(Omnibus):</th> <td> 0.000</td> <th>  Jarque-Bera (JB):  </th> <td> 221.549</td>\n",
       "</tr>\n",
       "<tr>\n",
       "  <th>Skew:</th>          <td>-0.117</td> <th>  Prob(JB):          </th> <td>7.79e-49</td>\n",
       "</tr>\n",
       "<tr>\n",
       "  <th>Kurtosis:</th>      <td> 4.614</td> <th>  Cond. No.          </th> <td>    2.13</td>\n",
       "</tr>\n",
       "</table><br/><br/>Warnings:<br/>[1] Standard Errors assume that the covariance matrix of the errors is correctly specified."
      ],
      "text/plain": [
       "<class 'statsmodels.iolib.summary.Summary'>\n",
       "\"\"\"\n",
       "                                 OLS Regression Results                                \n",
       "=======================================================================================\n",
       "Dep. Variable:            college_GPA   R-squared (uncentered):                   0.406\n",
       "Model:                            OLS   Adj. R-squared (uncentered):              0.405\n",
       "Method:                 Least Squares   F-statistic:                              454.9\n",
       "Date:                Fri, 22 May 2020   Prob (F-statistic):                   3.23e-225\n",
       "Time:                        13:40:44   Log-Likelihood:                         -2580.9\n",
       "No. Observations:                2000   AIC:                                      5168.\n",
       "Df Residuals:                    1997   BIC:                                      5185.\n",
       "Df Model:                           3                                                  \n",
       "Covariance Type:            nonrobust                                                  \n",
       "=========================================================================================\n",
       "                            coef    std err          t      P>|t|      [0.025      0.975]\n",
       "-----------------------------------------------------------------------------------------\n",
       "high_school_GPA           0.7038      0.019     36.571      0.000       0.666       0.741\n",
       "high_school_GPA_other    -0.0175      0.025     -0.703      0.482      -0.066       0.031\n",
       "college_GPA_other         0.0760      0.022      3.407      0.001       0.032       0.120\n",
       "==============================================================================\n",
       "Omnibus:                       79.391   Durbin-Watson:                   1.954\n",
       "Prob(Omnibus):                  0.000   Jarque-Bera (JB):              221.549\n",
       "Skew:                          -0.117   Prob(JB):                     7.79e-49\n",
       "Kurtosis:                       4.614   Cond. No.                         2.13\n",
       "==============================================================================\n",
       "\n",
       "Warnings:\n",
       "[1] Standard Errors assume that the covariance matrix of the errors is correctly specified.\n",
       "\"\"\""
      ]
     },
     "execution_count": 9,
     "metadata": {},
     "output_type": "execute_result"
    }
   ],
   "source": [
    "## Run OLS regression\n",
    "Y_reg   = data['college_GPA']\n",
    "X_reg   = data[['high_school_GPA','high_school_GPA_other','college_GPA_other']]\n",
    "model   = sm.OLS(Y_reg,X_reg)\n",
    "results = model.fit()\n",
    "results.summary()"
   ]
  },
  {
   "cell_type": "markdown",
   "metadata": {},
   "source": [
    "The third and final regression deals with endogenous effects. In this regression i still find that a persons own high school GPA is the biggest correlation to ones College GPA, and this result is very statistically significant.\n",
    "I also find that your roommates college GPA has a positive correlation with your own college GPA, and this is statistically significant.\n",
    "\n",
    "Your roommates high school GPA however is non significant, and also of a very low magnitude anyway.\n",
    "This shows that it wasnt how well your roommate did in high school that translated into your performance in college, it was how well your roommate did in college that mattered.\n",
    "\n",
    "This shows that there was some problems in the second regression as the roommates high school GPA was given some influence it didnt actually have, so there was an endogenous effect to care about.\n",
    "\n",
    "This makes sense when you think about it, if someone did well in highschool but changes completely with their new college life, and their grades go down, then the actions that gets reflected onto you are probably of a negative character, for your grades that is.\n"
   ]
  },
  {
   "cell_type": "code",
   "execution_count": null,
   "metadata": {},
   "outputs": [],
   "source": []
  },
  {
   "cell_type": "markdown",
   "metadata": {},
   "source": [
    "Ex. 12.2.1: Explain the identification strategy in words."
   ]
  },
  {
   "cell_type": "markdown",
   "metadata": {},
   "source": [
    "The authors of the KRAKA report tries to use the variation between classes/years to study the effect of differing backgrounds. They dont use difference between different schools, but instead tries to use the difference of the same school from year to year as they hope the composition of the same school would stay reasonably the same. They dont differ between specific classes in a school as there are many personal reasons to why pupils gets put into certain classes(prior friendships etc)\n"
   ]
  },
  {
   "cell_type": "markdown",
   "metadata": {},
   "source": [
    "Ex. 12.2.2: Are there any shortcomings of the identification strategy? What does the seminal paper Hoxby (2000) test for?"
   ]
  },
  {
   "cell_type": "markdown",
   "metadata": {},
   "source": [
    "I think there are several shortcomings of the identification strategy, there are many reasons that could distort the estimates. The premiss is that by doing the exercise on a yearly basis within the same then you only get differences in the children. But many other things could have changed, the syllabus, the teacher qualification, any improvements made to increase learning or many similar things. It could also be that parents with higher standards will relocate away from schools that does poorer, and this then becomes a spiral, where more and more ressource strong parents will move away and therefore the school will perform poorer.\n",
    "\n",
    "Hoxby tries to control for both gender and racial composition of each cohort/class, and this is important as she finds that a higher ratio of girls in a class will improve everyones performance in said class. So this is also problematic in the other paper, as they do not control for gender, as far as i am aware."
   ]
  },
  {
   "cell_type": "markdown",
   "metadata": {},
   "source": [
    "Ex. 12.2.3: Try to come up with identification strategies for identifying peer effects in the context of Danish class rooms."
   ]
  },
  {
   "cell_type": "markdown",
   "metadata": {},
   "source": [
    "To try and see how the peer effect is in danish school district you could try to redo the school districts, such that schools would get an entirely new set of neighbourhoods in their school district. This would make a natural experiment where you would be able to look at the difference before and after the redone school district. A problem with this method could be that people would know what would happen and would move in anticipation of the new districts.\n",
    "\n",
    "Another idea would be to post siblings from different families into the same cohort, such that you get multiple data points for a single familiy in a setting where there might be some of the same parents in two different classes. It would be very hard to perform, and would also come with alot of problems, maybe there would even be some spill over from the experience the parents allready had from prior children. So while not very plausible to do, it would be exciting too see.\n"
   ]
  }
 ],
 "metadata": {
  "kernelspec": {
   "display_name": "Python 3",
   "language": "python",
   "name": "python3"
  },
  "language_info": {
   "codemirror_mode": {
    "name": "ipython",
    "version": 3
   },
   "file_extension": ".py",
   "mimetype": "text/x-python",
   "name": "python",
   "nbconvert_exporter": "python",
   "pygments_lexer": "ipython3",
   "version": "3.7.4"
  }
 },
 "nbformat": 4,
 "nbformat_minor": 2
}
