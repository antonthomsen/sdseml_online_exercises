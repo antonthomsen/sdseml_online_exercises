{
 "cells": [
  {
   "cell_type": "code",
   "execution_count": 1,
   "metadata": {},
   "outputs": [],
   "source": [
    "import networkx as nx\n",
    "import numpy as np\n",
    "import pandas as pd\n",
    "import matplotlib.pyplot as plt \n",
    "url_base = 'http://www.sociopatterns.org/wp-content/uploads/2015/'\n",
    "\n",
    "# edgelist\n",
    "url_el = url_base + '07/High-School_data_2013.csv.gz'\n",
    "col_names_el = ['timestamp', 'u1', 'u2', 'class1', 'class2']\n",
    "el = pd.read_csv(url_el, header=None, names=col_names_el, delimiter=' ')\n",
    "\n",
    "# individual characteristics\n",
    "url_ind = url_base + '09/metadata_2013.txt'\n",
    "col_names_ind = ['u', 'class', 'gender']\n",
    "ind = pd.read_csv(url_ind, header=None, names=col_names_ind, delimiter='\\t')\\\n",
    "            .set_index('u')\n",
    "\n",
    "# remove observation with missing gender\n",
    "has_gender = ind[ind.gender!='Unknown'].index\n",
    "\n",
    "# DataFrames\n",
    "ind = ind.loc[has_gender].copy()\n",
    "el = el[el.u1.isin(has_gender) &  el.u2.isin(has_gender)].copy()"
   ]
  },
  {
   "cell_type": "markdown",
   "metadata": {},
   "source": [
    "Ex. 13.1.1: Describe the edgelist columns content. Parse the timestamp. What is the resolution of meetings? Use the parsed timestamp to count the meetings by hour in local time."
   ]
  },
  {
   "cell_type": "markdown",
   "metadata": {},
   "source": [
    "There are a total of five different variables in the EL dataframe. There is the timestamp, which is measured in unix seconds. \n",
    "\n",
    "Then there are an identifier for two different people,u1 and u2. and the class that each of thoose two pupils have. \n",
    "\n",
    "Each row in this dataset is supposed to show a meeeting between two pupils as they have the same class, this is why there is an supposed edge between the two pupils.\n",
    "    "
   ]
  },
  {
   "cell_type": "code",
   "execution_count": 2,
   "metadata": {},
   "outputs": [
    {
     "data": {
      "text/html": [
       "<div>\n",
       "<style scoped>\n",
       "    .dataframe tbody tr th:only-of-type {\n",
       "        vertical-align: middle;\n",
       "    }\n",
       "\n",
       "    .dataframe tbody tr th {\n",
       "        vertical-align: top;\n",
       "    }\n",
       "\n",
       "    .dataframe thead th {\n",
       "        text-align: right;\n",
       "    }\n",
       "</style>\n",
       "<table border=\"1\" class=\"dataframe\">\n",
       "  <thead>\n",
       "    <tr style=\"text-align: right;\">\n",
       "      <th></th>\n",
       "      <th>timestamp</th>\n",
       "      <th>u1</th>\n",
       "      <th>u2</th>\n",
       "      <th>class1</th>\n",
       "      <th>class2</th>\n",
       "    </tr>\n",
       "  </thead>\n",
       "  <tbody>\n",
       "    <tr>\n",
       "      <td>0</td>\n",
       "      <td>1385982020</td>\n",
       "      <td>454</td>\n",
       "      <td>640</td>\n",
       "      <td>MP</td>\n",
       "      <td>MP</td>\n",
       "    </tr>\n",
       "    <tr>\n",
       "      <td>1</td>\n",
       "      <td>1385982020</td>\n",
       "      <td>1</td>\n",
       "      <td>939</td>\n",
       "      <td>2BIO3</td>\n",
       "      <td>2BIO3</td>\n",
       "    </tr>\n",
       "    <tr>\n",
       "      <td>2</td>\n",
       "      <td>1385982020</td>\n",
       "      <td>185</td>\n",
       "      <td>258</td>\n",
       "      <td>PC*</td>\n",
       "      <td>PC*</td>\n",
       "    </tr>\n",
       "    <tr>\n",
       "      <td>3</td>\n",
       "      <td>1385982020</td>\n",
       "      <td>55</td>\n",
       "      <td>170</td>\n",
       "      <td>2BIO3</td>\n",
       "      <td>2BIO3</td>\n",
       "    </tr>\n",
       "    <tr>\n",
       "      <td>4</td>\n",
       "      <td>1385982020</td>\n",
       "      <td>9</td>\n",
       "      <td>453</td>\n",
       "      <td>PC</td>\n",
       "      <td>PC</td>\n",
       "    </tr>\n",
       "    <tr>\n",
       "      <td>...</td>\n",
       "      <td>...</td>\n",
       "      <td>...</td>\n",
       "      <td>...</td>\n",
       "      <td>...</td>\n",
       "      <td>...</td>\n",
       "    </tr>\n",
       "    <tr>\n",
       "      <td>188503</td>\n",
       "      <td>1386345560</td>\n",
       "      <td>120</td>\n",
       "      <td>285</td>\n",
       "      <td>PC</td>\n",
       "      <td>PC</td>\n",
       "    </tr>\n",
       "    <tr>\n",
       "      <td>188504</td>\n",
       "      <td>1386345580</td>\n",
       "      <td>61</td>\n",
       "      <td>160</td>\n",
       "      <td>2BIO2</td>\n",
       "      <td>2BIO2</td>\n",
       "    </tr>\n",
       "    <tr>\n",
       "      <td>188505</td>\n",
       "      <td>1386345580</td>\n",
       "      <td>272</td>\n",
       "      <td>939</td>\n",
       "      <td>2BIO3</td>\n",
       "      <td>2BIO3</td>\n",
       "    </tr>\n",
       "    <tr>\n",
       "      <td>188506</td>\n",
       "      <td>1386345580</td>\n",
       "      <td>311</td>\n",
       "      <td>496</td>\n",
       "      <td>PC</td>\n",
       "      <td>PC</td>\n",
       "    </tr>\n",
       "    <tr>\n",
       "      <td>188507</td>\n",
       "      <td>1386345580</td>\n",
       "      <td>120</td>\n",
       "      <td>285</td>\n",
       "      <td>PC</td>\n",
       "      <td>PC</td>\n",
       "    </tr>\n",
       "  </tbody>\n",
       "</table>\n",
       "<p>181649 rows × 5 columns</p>\n",
       "</div>"
      ],
      "text/plain": [
       "         timestamp   u1   u2 class1 class2\n",
       "0       1385982020  454  640     MP     MP\n",
       "1       1385982020    1  939  2BIO3  2BIO3\n",
       "2       1385982020  185  258    PC*    PC*\n",
       "3       1385982020   55  170  2BIO3  2BIO3\n",
       "4       1385982020    9  453     PC     PC\n",
       "...            ...  ...  ...    ...    ...\n",
       "188503  1386345560  120  285     PC     PC\n",
       "188504  1386345580   61  160  2BIO2  2BIO2\n",
       "188505  1386345580  272  939  2BIO3  2BIO3\n",
       "188506  1386345580  311  496     PC     PC\n",
       "188507  1386345580  120  285     PC     PC\n",
       "\n",
       "[181649 rows x 5 columns]"
      ]
     },
     "execution_count": 2,
     "metadata": {},
     "output_type": "execute_result"
    }
   ],
   "source": [
    "el"
   ]
  },
  {
   "cell_type": "markdown",
   "metadata": {},
   "source": [
    "Then we turn it into datetime, and count the meetings during specific hours."
   ]
  },
  {
   "cell_type": "code",
   "execution_count": 3,
   "metadata": {},
   "outputs": [
    {
     "data": {
      "text/plain": [
       "timestamp\n",
       "2013-12-02 11:00:00    5556\n",
       "2013-12-02 12:00:00    4259\n",
       "2013-12-02 13:00:00    6617\n",
       "2013-12-02 14:00:00    5715\n",
       "2013-12-02 15:00:00    5972\n",
       "                       ... \n",
       "2013-12-06 11:00:00    4106\n",
       "2013-12-06 12:00:00    3247\n",
       "2013-12-06 13:00:00    1785\n",
       "2013-12-06 14:00:00    2026\n",
       "2013-12-06 15:00:00    1352\n",
       "Freq: H, Length: 101, dtype: int64"
      ]
     },
     "execution_count": 3,
     "metadata": {},
     "output_type": "execute_result"
    }
   ],
   "source": [
    "\n",
    "#converting timestamp into datatime\n",
    "el['timestamp'] = pd.to_datetime(el['timestamp'], unit = 's')\n",
    "\n",
    "\n",
    "# grouping, and counting for every hour\n",
    "meetings = el.groupby(pd.Grouper(key = 'timestamp', freq = 'h')).size()\n",
    "meetings\n"
   ]
  },
  {
   "cell_type": "markdown",
   "metadata": {},
   "source": [
    "Ex. 13.1.2: Count the number of meetings for each edge and save this as a DataFrame called el_agg. Filter out edges with less than 5 minutes of meetings. Attach the gender and class of both nodes."
   ]
  },
  {
   "cell_type": "code",
   "execution_count": 4,
   "metadata": {},
   "outputs": [
    {
     "data": {
      "text/html": [
       "<div>\n",
       "<style scoped>\n",
       "    .dataframe tbody tr th:only-of-type {\n",
       "        vertical-align: middle;\n",
       "    }\n",
       "\n",
       "    .dataframe tbody tr th {\n",
       "        vertical-align: top;\n",
       "    }\n",
       "\n",
       "    .dataframe thead th {\n",
       "        text-align: right;\n",
       "    }\n",
       "</style>\n",
       "<table border=\"1\" class=\"dataframe\">\n",
       "  <thead>\n",
       "    <tr style=\"text-align: right;\">\n",
       "      <th></th>\n",
       "      <th>u1</th>\n",
       "      <th>u2</th>\n",
       "      <th>meetings</th>\n",
       "      <th>u1_class</th>\n",
       "      <th>u1_gender</th>\n",
       "      <th>u2_class</th>\n",
       "      <th>u2_gender</th>\n",
       "    </tr>\n",
       "  </thead>\n",
       "  <tbody>\n",
       "    <tr>\n",
       "      <td>0</td>\n",
       "      <td>1</td>\n",
       "      <td>55</td>\n",
       "      <td>2</td>\n",
       "      <td>2BIO3</td>\n",
       "      <td>M</td>\n",
       "      <td>2BIO3</td>\n",
       "      <td>F</td>\n",
       "    </tr>\n",
       "    <tr>\n",
       "      <td>1</td>\n",
       "      <td>1</td>\n",
       "      <td>55</td>\n",
       "      <td>6</td>\n",
       "      <td>2BIO3</td>\n",
       "      <td>M</td>\n",
       "      <td>2BIO3</td>\n",
       "      <td>F</td>\n",
       "    </tr>\n",
       "    <tr>\n",
       "      <td>2</td>\n",
       "      <td>1</td>\n",
       "      <td>63</td>\n",
       "      <td>1</td>\n",
       "      <td>2BIO3</td>\n",
       "      <td>M</td>\n",
       "      <td>2BIO3</td>\n",
       "      <td>F</td>\n",
       "    </tr>\n",
       "    <tr>\n",
       "      <td>3</td>\n",
       "      <td>1</td>\n",
       "      <td>63</td>\n",
       "      <td>1</td>\n",
       "      <td>2BIO3</td>\n",
       "      <td>M</td>\n",
       "      <td>2BIO3</td>\n",
       "      <td>F</td>\n",
       "    </tr>\n",
       "    <tr>\n",
       "      <td>4</td>\n",
       "      <td>3</td>\n",
       "      <td>63</td>\n",
       "      <td>2</td>\n",
       "      <td>2BIO2</td>\n",
       "      <td>M</td>\n",
       "      <td>2BIO3</td>\n",
       "      <td>F</td>\n",
       "    </tr>\n",
       "    <tr>\n",
       "      <td>5</td>\n",
       "      <td>27</td>\n",
       "      <td>63</td>\n",
       "      <td>19</td>\n",
       "      <td>2BIO2</td>\n",
       "      <td>M</td>\n",
       "      <td>2BIO3</td>\n",
       "      <td>F</td>\n",
       "    </tr>\n",
       "    <tr>\n",
       "      <td>6</td>\n",
       "      <td>39</td>\n",
       "      <td>63</td>\n",
       "      <td>1</td>\n",
       "      <td>2BIO3</td>\n",
       "      <td>F</td>\n",
       "      <td>2BIO3</td>\n",
       "      <td>F</td>\n",
       "    </tr>\n",
       "    <tr>\n",
       "      <td>7</td>\n",
       "      <td>45</td>\n",
       "      <td>63</td>\n",
       "      <td>1</td>\n",
       "      <td>PC</td>\n",
       "      <td>F</td>\n",
       "      <td>2BIO3</td>\n",
       "      <td>F</td>\n",
       "    </tr>\n",
       "    <tr>\n",
       "      <td>8</td>\n",
       "      <td>46</td>\n",
       "      <td>63</td>\n",
       "      <td>1</td>\n",
       "      <td>2BIO2</td>\n",
       "      <td>F</td>\n",
       "      <td>2BIO3</td>\n",
       "      <td>F</td>\n",
       "    </tr>\n",
       "    <tr>\n",
       "      <td>9</td>\n",
       "      <td>61</td>\n",
       "      <td>63</td>\n",
       "      <td>1</td>\n",
       "      <td>2BIO2</td>\n",
       "      <td>F</td>\n",
       "      <td>2BIO3</td>\n",
       "      <td>F</td>\n",
       "    </tr>\n",
       "  </tbody>\n",
       "</table>\n",
       "</div>"
      ],
      "text/plain": [
       "   u1  u2  meetings u1_class u1_gender u2_class u2_gender\n",
       "0   1  55         2    2BIO3         M    2BIO3         F\n",
       "1   1  55         6    2BIO3         M    2BIO3         F\n",
       "2   1  63         1    2BIO3         M    2BIO3         F\n",
       "3   1  63         1    2BIO3         M    2BIO3         F\n",
       "4   3  63         2    2BIO2         M    2BIO3         F\n",
       "5  27  63        19    2BIO2         M    2BIO3         F\n",
       "6  39  63         1    2BIO3         F    2BIO3         F\n",
       "7  45  63         1       PC         F    2BIO3         F\n",
       "8  46  63         1    2BIO2         F    2BIO3         F\n",
       "9  61  63         1    2BIO2         F    2BIO3         F"
      ]
     },
     "execution_count": 4,
     "metadata": {},
     "output_type": "execute_result"
    }
   ],
   "source": [
    "\n",
    "el_agg = el.groupby([el.timestamp.dt.minute >5,el.u1,el.u2]).size().reset_index(name=\"meetings\").drop([\"timestamp\"],axis=1)\n",
    "el_agg = el_agg.merge(ind, right_index=True,left_on=[\"u1\"]).rename(columns={\"class\":\"u1_class\",\"gender\":\"u1_gender\"})\n",
    "el_agg = el_agg.merge(ind, right_index=True,left_on=[\"u2\"]).rename(columns={\"class\":\"u2_class\",\"gender\":\"u2_gender\"}).reset_index().drop([\"index\"],axis=1)\n",
    "el_agg.head(10)\n"
   ]
  },
  {
   "cell_type": "markdown",
   "metadata": {},
   "source": [
    "Ex. 13.1.3: Answer question in the function fraction_triangles below. Explain how fraction_triangles is related to computing the clustering coefficient (using nx.average_clustering)."
   ]
  },
  {
   "cell_type": "code",
   "execution_count": 5,
   "metadata": {},
   "outputs": [
    {
     "name": "stderr",
     "output_type": "stream",
     "text": [
      "C:\\Users\\sakzo\\Anaconda3\\lib\\site-packages\\networkx\\drawing\\nx_pylab.py:579: MatplotlibDeprecationWarning: \n",
      "The iterable function was deprecated in Matplotlib 3.1 and will be removed in 3.3. Use np.iterable instead.\n",
      "  if not cb.iterable(width):\n"
     ]
    },
    {
     "ename": "NameError",
     "evalue": "name 'binom' is not defined",
     "output_type": "error",
     "traceback": [
      "\u001b[1;31m---------------------------------------------------------------------------\u001b[0m",
      "\u001b[1;31mNameError\u001b[0m                                 Traceback (most recent call last)",
      "\u001b[1;32m<ipython-input-5-7c9f8ce6699d>\u001b[0m in \u001b[0;36m<module>\u001b[1;34m\u001b[0m\n\u001b[0;32m     19\u001b[0m \u001b[0ma_t\u001b[0m \u001b[1;33m=\u001b[0m \u001b[0mnth\u001b[0m\u001b[1;33m(\u001b[0m\u001b[0mA\u001b[0m\u001b[1;33m,\u001b[0m\u001b[1;36m3\u001b[0m\u001b[1;33m)\u001b[0m\u001b[1;33m.\u001b[0m\u001b[0mdiagonal\u001b[0m\u001b[1;33m(\u001b[0m\u001b[1;33m)\u001b[0m\u001b[1;33m.\u001b[0m\u001b[0msum\u001b[0m\u001b[1;33m(\u001b[0m\u001b[1;33m)\u001b[0m\u001b[1;33m/\u001b[0m\u001b[1;36m6\u001b[0m\u001b[1;33m\u001b[0m\u001b[1;33m\u001b[0m\u001b[0m\n\u001b[0;32m     20\u001b[0m \u001b[0mn\u001b[0m \u001b[1;33m=\u001b[0m \u001b[0mlen\u001b[0m\u001b[1;33m(\u001b[0m\u001b[0mA\u001b[0m\u001b[1;33m[\u001b[0m\u001b[1;33m:\u001b[0m\u001b[1;33m,\u001b[0m\u001b[1;36m0\u001b[0m\u001b[1;33m]\u001b[0m\u001b[1;33m)\u001b[0m\u001b[1;33m\u001b[0m\u001b[1;33m\u001b[0m\u001b[0m\n\u001b[1;32m---> 21\u001b[1;33m \u001b[0mp_t\u001b[0m \u001b[1;33m=\u001b[0m \u001b[0mbinom\u001b[0m\u001b[1;33m(\u001b[0m\u001b[0mn\u001b[0m\u001b[1;33m,\u001b[0m \u001b[1;36m3\u001b[0m\u001b[1;33m)\u001b[0m\u001b[1;33m\u001b[0m\u001b[1;33m\u001b[0m\u001b[0m\n\u001b[0m",
      "\u001b[1;31mNameError\u001b[0m: name 'binom' is not defined"
     ]
    },
    {
     "data": {
      "image/png": "[encoded data removed]",
      "text/plain": [
       "<Figure size 432x288 with 1 Axes>"
      ]
     },
     "metadata": {},
     "output_type": "display_data"
    }
   ],
   "source": [
    "import networkx as nx \n",
    "\n",
    "A  = np.array(\n",
    "    [[0, 1, 1, 0],\n",
    "     [1, 0, 1, 0],\n",
    "     [1, 1, 0, 1],\n",
    "     [0, 0, 1, 0]]\n",
    ")\n",
    "\n",
    "G = nx.from_numpy_array(A)\n",
    "nx.draw(G,with_labels=True)\n",
    "\n",
    "def nth(A, n):\n",
    "    A_ = A.copy()    \n",
    "    for _ in range(1,n):\n",
    "        A = A.dot(A_)\n",
    "    return A\n",
    "\n",
    "a_t = nth(A,3).diagonal().sum()/6\n",
    "n = len(A[:,0])\n",
    "p_t = binom(n, 3)"
   ]
  },
  {
   "cell_type": "code",
   "execution_count": 6,
   "metadata": {},
   "outputs": [],
   "source": [
    "def make_net(el_, nodes):\n",
    "    '''\n",
    "    Convert edgelist to networkx graph which is \n",
    "    binary and undirected.\n",
    "    \n",
    "    Parameters\n",
    "    ----------\n",
    "    el_ : DataFrame\n",
    "        Table containing an edgelist with columns \n",
    "        `u1` and `u2` which are the nodes in the edge.\n",
    "        \n",
    "    nodes : array-like\n",
    "        1d array containing the node identities.\n",
    "    '''    \n",
    "    \n",
    "    nx_input = el_, 'u1', 'u2','meetings', nx.Graph()\n",
    "    g = nx.from_pandas_edgelist(*nx_input)\n",
    "    g.add_nodes_from(nodes)\n",
    "    return g"
   ]
  },
  {
   "cell_type": "code",
   "execution_count": 7,
   "metadata": {},
   "outputs": [],
   "source": [
    "from scipy.special import binom\n",
    "\n",
    "def fraction_triangles(el_, nodes):\n",
    "    '''\n",
    "    Compute fraction of actual triangles out \n",
    "    of the potential triangles.\n",
    "    \n",
    "    Parameters\n",
    "    ----------\n",
    "    el_ : DataFrame\n",
    "        Table containing an edgelist with columns \n",
    "        `u1` and `u2` which are the nodes in the edge.\n",
    "        \n",
    "    nodes : array-like\n",
    "        1d array containing the node identities.\n",
    "    '''\n",
    "    \n",
    "    g = make_net(el_, nodes)\n",
    "    \n",
    "    #Q.1: what is `A`?: \n",
    "    #Q.2: what does `A**3` do?\n",
    "    #Q.3: what is diagonal of A_t?\n",
    "    # i.e. triangles, which include the person. these are called cycles\n",
    "    # because they start and end at the same person\n",
    "    \n",
    "    # count actual triangles    \n",
    "    A = nx.to_scipy_sparse_matrix(g)\n",
    "    A_t = A**3\n",
    "    a_t = A_t.diagonal().sum()/6\n",
    "    \n",
    "    #Q.4: what does `binom(n,3)` compute?\n",
    "    \n",
    "    # count potential triangles\n",
    "    n = len(g.nodes())\n",
    "    p_t = binom(n, 3)\n",
    "        \n",
    "    return a_t/p_t"
   ]
  },
  {
   "cell_type": "markdown",
   "metadata": {},
   "source": [
    "Question 1.\n",
    "the adjacency matrix which is symmetric and binary.\n",
    "Each row in the matrix symbolize a node, and each digit symbolise if there is an edge or not between the node and another node.\n"
   ]
  },
  {
   "cell_type": "markdown",
   "metadata": {},
   "source": [
    "Question 2.\n",
    " compute the number of paths between two nodes\n",
    "\n"
   ]
  },
  {
   "cell_type": "markdown",
   "metadata": {},
   "source": [
    "question 3 .\n",
    " the number of actual paths of length 3, \n",
    "\n"
   ]
  },
  {
   "cell_type": "markdown",
   "metadata": {},
   "source": [
    "question 4 .\n",
    " the number of triangles including the person\n"
   ]
  },
  {
   "cell_type": "markdown",
   "metadata": {},
   "source": [
    "Ex. 13.1.4: Apply the function fraction_triangles to el_agg and print the triangle fraction in the network. Next remove all edges that go between classes. Compute triangle fraction within each class and store it. Compute the mean within class triangles and bootstrap the standard error of the mean. Comment on the output."
   ]
  },
  {
   "cell_type": "code",
   "execution_count": 8,
   "metadata": {},
   "outputs": [],
   "source": [
    "from sklearn.utils import resample"
   ]
  },
  {
   "cell_type": "code",
   "execution_count": null,
   "metadata": {},
   "outputs": [],
   "source": []
  },
  {
   "cell_type": "code",
   "execution_count": 9,
   "metadata": {},
   "outputs": [],
   "source": [
    "import progressbar"
   ]
  },
  {
   "cell_type": "code",
   "execution_count": 10,
   "metadata": {},
   "outputs": [],
   "source": [
    "\n",
    "def nodes(df):\n",
    "    \"\"\"\n",
    "    compute a list containing node identities \n",
    "    \n",
    "    Args:\n",
    "    df (DataFrame): Table containing an edgelist with columns `u1` and `u2` which are the nodes in the edge.\n",
    "    \n",
    "    Returns:\n",
    "    nodes_ (list): list of unique node identities sorted in ascending order.\n",
    "    \n",
    "    \"\"\"\n",
    "    \n",
    "    nodes_ = sorted(df.u1.unique().tolist()+df.u2.unique().tolist())\n",
    "    return nodes_\n",
    "\n",
    "def mean_class_triangles(df):\n",
    "    \"\"\"\n",
    "    compute the triangle fraction within each class and returns the mean.\n",
    "    \n",
    "    Args:\n",
    "    df (DataFrame): Table containing an edgelist with columns `u1` and `u2` which are the nodes in the edge.\n",
    "    \n",
    "    Returns:\n",
    "    np.mean(frac_triang_class) (float): mean within class triangles\n",
    "    \n",
    "    \"\"\"\n",
    "    #initialize storage\n",
    "    frac_triang_class = np.empty(len(df.u1_class)) \n",
    "    \n",
    "    for i,c in enumerate(df.u1_class):\n",
    "        # removing edges that go between classes\n",
    "        sample_class = el_agg.loc[(el_agg[\"u1_class\"]==c) & (el_agg[\"u1_class\"]==el_agg[\"u2_class\"])]\n",
    "        class_nodes = nodes(sample_class) #computing class nodes \n",
    "        frac_triang_class[i] = fraction_triangles(sample_class,class_nodes)\n",
    "    return np.mean(frac_triang_class)\n",
    "\n",
    "def bootstrap(df,n_iter,bootstraps):\n",
    "    \"\"\"\n",
    "    compute the bootstrapped std. error of the mean\n",
    "    \n",
    "    Args:\n",
    "    df (DataFrame): Table containing an edgelist with columns `u1` and `u2` which are the nodes in the edge.\n",
    "    n_iter (int): Number of iterations\n",
    "    bootstraps (int): number of samples \n",
    "    \n",
    "    Returns:\n",
    "    np.std(mean) (float): The bootstrapped std. error of the mean\n",
    "    \"\"\"\n",
    "    #initializing storage\n",
    "    mean = np.empty(n_iter)\n",
    "    \n",
    "    for i,_ in enumerate(progressbar.progressbar(range(n_iter))):\n",
    "        sample_df = resample(df,n_samples=bootstraps,stratify=df) #resampling DataFrame. Data is stratified.\n",
    "        mean[i] = mean_class_triangles(sample_df)\n",
    "    return np.std(mean)"
   ]
  },
  {
   "cell_type": "code",
   "execution_count": 11,
   "metadata": {},
   "outputs": [
    {
     "name": "stdout",
     "output_type": "stream",
     "text": [
      "The fraction of triangles in the full network is: 0.005962397231915774\n"
     ]
    }
   ],
   "source": [
    "# full network\n",
    "\n",
    "nodes_full = nodes(el_agg)\n",
    "frac_triang_full = fraction_triangles(el_agg,nodes_full)\n",
    "print(f'The fraction of triangles in the full network is: {frac_triang_full}')\n"
   ]
  },
  {
   "cell_type": "markdown",
   "metadata": {},
   "source": [
    "We see here that the mean of the full network is 0.00596 which is then compared with the in class mean below."
   ]
  },
  {
   "cell_type": "code",
   "execution_count": 12,
   "metadata": {},
   "outputs": [
    {
     "name": "stdout",
     "output_type": "stream",
     "text": [
      "The mean fraction of triangles within classes is: 0.39643753319148023\n"
     ]
    }
   ],
   "source": [
    "# within class network\n",
    "\n",
    "frac_triang_class = mean_class_triangles(el_agg)\n",
    "print(f'The mean fraction of triangles within classes is: {frac_triang_class}')"
   ]
  },
  {
   "cell_type": "markdown",
   "metadata": {},
   "source": [
    "The in class mean is at 0.3964 which is quite alot higher than the mean of the full network. This makes perfect sense as we would intuitively think that people woul have more and longer meetings with people from their own class than on average with everyone else."
   ]
  },
  {
   "cell_type": "code",
   "execution_count": 13,
   "metadata": {},
   "outputs": [
    {
     "name": "stderr",
     "output_type": "stream",
     "text": [
      "100% (1000 of 1000) |####################| Elapsed Time: 0:06:03 Time:  0:06:03\n"
     ]
    },
    {
     "name": "stdout",
     "output_type": "stream",
     "text": [
      "The bootstrapped std. error of the mean is: 0.0168366352\n"
     ]
    }
   ],
   "source": [
    "#bootstrapping\n",
    "\n",
    "n_iter = 1000\n",
    "bootstraps = 20\n",
    "\n",
    "bootstrap_std = bootstrap(el_agg,n_iter,bootstraps)\n",
    "print(f'The bootstrapped std. error of the mean is: {bootstrap_std:.10f}')"
   ]
  },
  {
   "cell_type": "markdown",
   "metadata": {},
   "source": [
    "We get a std error of the mean of 0.0164 which is not that high compared to the mean of 0.3964"
   ]
  },
  {
   "cell_type": "markdown",
   "metadata": {},
   "source": [
    "Ex. 13.1.5: Compute the inbreeding homophily for each class. Use the class measures to compute the mean. Use a bootstrap to compute whether there is inbreeding homophily."
   ]
  },
  {
   "cell_type": "code",
   "execution_count": 14,
   "metadata": {},
   "outputs": [],
   "source": [
    "\n",
    "def hom_index(df):\n",
    "    df[\"gender_sorting\"] = df.u1_gender==df.u2_gender\n",
    "    df[\"gender_sorting\"] = df[\"gender_sorting\"].astype(int)\n",
    "    H = np.sum(df.gender_sorting==1)/np.shape(df)[0]\n",
    "    return H\n",
    "\n",
    "def baseline_hom(df):\n",
    "    k = ind.gender.value_counts()\n",
    "    same_gender_edges = (k[0]*(k[0]-1)+k[1]*(k[1]-1))/2\n",
    "    total_edges = ((k[0]+k[1])*((k[0]+k[1])-1))/2\n",
    "    B = same_gender_edges / total_edges\n",
    "    return B\n",
    "\n",
    "def inbreeding_hom(df):\n",
    "    H = hom_index(df)\n",
    "    B = baseline_hom(df)\n",
    "    IH = (H-B)/(1-B)\n",
    "    return IH"
   ]
  },
  {
   "cell_type": "code",
   "execution_count": 15,
   "metadata": {},
   "outputs": [],
   "source": [
    "import warnings\n",
    "warnings.filterwarnings('ignore')\n"
   ]
  },
  {
   "cell_type": "code",
   "execution_count": 16,
   "metadata": {},
   "outputs": [],
   "source": [
    "def mean_class_hom(df):\n",
    "    class_inbreed = np.empty(len(df.u1_class))\n",
    "\n",
    "    for i,c in enumerate(df.u1_class):\n",
    "        # removing edges that go between classes\n",
    "        sample_class = el_agg.loc[(el_agg[\"u1_class\"]==c) & (el_agg[\"u1_class\"]==el_agg[\"u2_class\"])]\n",
    "        class_inbreed[i] = inbreeding_hom(sample_class)\n",
    "    return np.mean(class_inbreed)\n",
    "\n",
    "def bootstrap_hom(df,n_iter,bootstraps):\n",
    "    mean_hom = np.empty(n_iter)\n",
    "    \n",
    "    for i,_ in enumerate(progressbar.progressbar(range(n_iter))):\n",
    "        sample_df = resample(df,n_samples=bootstraps) #resampling DataFrame. Data is stratified.\n",
    "        mean_hom[i] = mean_class_hom(sample_df)>=0\n",
    "    return np.std(mean_hom)"
   ]
  },
  {
   "cell_type": "code",
   "execution_count": 17,
   "metadata": {},
   "outputs": [
    {
     "name": "stdout",
     "output_type": "stream",
     "text": [
      "The mean of inbreeding homophily within classes is: 0.22220007609769651\n"
     ]
    }
   ],
   "source": [
    "# inbreeding homophily in class\n",
    "mean_hom = mean_class_hom(el_agg)\n",
    "print(f'The mean of inbreeding homophily within classes is: {mean_hom}')\n"
   ]
  },
  {
   "cell_type": "code",
   "execution_count": 18,
   "metadata": {},
   "outputs": [
    {
     "name": "stderr",
     "output_type": "stream",
     "text": [
      "100% (1000 of 1000) |####################| Elapsed Time: 0:01:41 Time:  0:01:41\n"
     ]
    },
    {
     "name": "stdout",
     "output_type": "stream",
     "text": [
      "The bootstrapped std. error of the mean is: 0.0\n"
     ]
    }
   ],
   "source": [
    "#Bootstrapping\n",
    "n_iter = 1000\n",
    "bootstraps = 20\n",
    "\n",
    "hom_bootstrap_std = bootstrap_hom(el_agg,n_iter,bootstraps)\n",
    "print(f'The bootstrapped std. error of the mean is: {hom_bootstrap_std}')"
   ]
  }
 ],
 "metadata": {
  "kernelspec": {
   "display_name": "Python 3",
   "language": "python",
   "name": "python3"
  },
  "language_info": {
   "codemirror_mode": {
    "name": "ipython",
    "version": 3
   },
   "file_extension": ".py",
   "mimetype": "text/x-python",
   "name": "python",
   "nbconvert_exporter": "python",
   "pygments_lexer": "ipython3",
   "version": "3.7.4"
  }
 },
 "nbformat": 4,
 "nbformat_minor": 2
}
