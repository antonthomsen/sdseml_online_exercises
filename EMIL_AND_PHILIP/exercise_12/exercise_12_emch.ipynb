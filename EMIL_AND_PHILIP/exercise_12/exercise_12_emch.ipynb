{
 "cells": [
  {
   "cell_type": "markdown",
   "metadata": {},
   "source": [
    "# Exercise Set 12: Peer effects \n",
    "\n",
    "\n",
    "In this Exercise Set 12 we will investigate peer effects data. "
   ]
  },
  {
   "cell_type": "markdown",
   "metadata": {},
   "source": [
    "## 12.1: roommate peer effects\n",
    "\n",
    "\n",
    "<br>\n",
    "<br>\n",
    "\n",
    "We use a simlated dataset which will give results that provide conclusions similar to Sacerdote (2000). \n",
    "\n",
    "### Data structuring \n",
    "\n",
    "Our data set does not contain a network but has an implicit one associated. We assume there is an edge between all room mates. \n",
    "\n",
    "> **Ex. 12.1.1:** Create a column called `person_other` with identity of the other person in room.\n",
    ">> *Hint:* You can get the unique people in the room by using `df.groupby('room').person.unique()`."
   ]
  },
  {
   "cell_type": "code",
   "execution_count": 117,
   "metadata": {},
   "outputs": [],
   "source": [
    "import pandas as pd\n",
    "import numpy as np\n",
    "import matplotlib.pyplot as plt\n",
    "import statsmodels.api as sm"
   ]
  },
  {
   "cell_type": "code",
   "execution_count": 99,
   "metadata": {},
   "outputs": [
    {
     "data": {
      "text/html": [
       "<div>\n",
       "<style scoped>\n",
       "    .dataframe tbody tr th:only-of-type {\n",
       "        vertical-align: middle;\n",
       "    }\n",
       "\n",
       "    .dataframe tbody tr th {\n",
       "        vertical-align: top;\n",
       "    }\n",
       "\n",
       "    .dataframe thead th {\n",
       "        text-align: right;\n",
       "    }\n",
       "</style>\n",
       "<table border=\"1\" class=\"dataframe\">\n",
       "  <thead>\n",
       "    <tr style=\"text-align: right;\">\n",
       "      <th></th>\n",
       "      <th>room</th>\n",
       "      <th>person</th>\n",
       "      <th>person_other</th>\n",
       "      <th>high_school_GPA</th>\n",
       "      <th>college_GPA</th>\n",
       "    </tr>\n",
       "  </thead>\n",
       "  <tbody>\n",
       "    <tr>\n",
       "      <th>0</th>\n",
       "      <td>0</td>\n",
       "      <td>1757</td>\n",
       "      <td>1603</td>\n",
       "      <td>-0.181905</td>\n",
       "      <td>0.566177</td>\n",
       "    </tr>\n",
       "    <tr>\n",
       "      <th>1</th>\n",
       "      <td>0</td>\n",
       "      <td>1603</td>\n",
       "      <td>1757</td>\n",
       "      <td>-0.622770</td>\n",
       "      <td>0.540078</td>\n",
       "    </tr>\n",
       "    <tr>\n",
       "      <th>2</th>\n",
       "      <td>1</td>\n",
       "      <td>1649</td>\n",
       "      <td>466</td>\n",
       "      <td>0.378918</td>\n",
       "      <td>0.033256</td>\n",
       "    </tr>\n",
       "    <tr>\n",
       "      <th>3</th>\n",
       "      <td>1</td>\n",
       "      <td>466</td>\n",
       "      <td>1649</td>\n",
       "      <td>-2.248266</td>\n",
       "      <td>-3.596904</td>\n",
       "    </tr>\n",
       "    <tr>\n",
       "      <th>4</th>\n",
       "      <td>2</td>\n",
       "      <td>1929</td>\n",
       "      <td>816</td>\n",
       "      <td>-0.095399</td>\n",
       "      <td>-0.052611</td>\n",
       "    </tr>\n",
       "  </tbody>\n",
       "</table>\n",
       "</div>"
      ],
      "text/plain": [
       "   room  person  person_other  high_school_GPA  college_GPA\n",
       "0     0    1757          1603        -0.181905     0.566177\n",
       "1     0    1603          1757        -0.622770     0.540078\n",
       "2     1    1649           466         0.378918     0.033256\n",
       "3     1     466          1649        -2.248266    -3.596904\n",
       "4     2    1929           816        -0.095399    -0.052611"
      ]
     },
     "execution_count": 99,
     "metadata": {},
     "output_type": "execute_result"
    }
   ],
   "source": [
    "df_room_mates = pd.read_csv('peer_effects_room.csv')\\\n",
    ".assign(person_one = lambda df:df.groupby('room')['person'].transform(lambda df_g:df_g.unique()[0]))\\\n",
    ".assign(person_two = lambda df:df.groupby('room')['person'].transform(lambda df_g:df_g.unique()[1]))\\\n",
    ".assign(person_other = lambda df:df.person_one)\n",
    "\n",
    "df_room_mates.loc[df_room_mates.person==df_room_mates.person_one,'person_other'] = df_room_mates.loc[df_room_mates.person==df_room_mates.person_one,'person_two']\n",
    "\n",
    "df_room_mates = df_room_mates\\\n",
    ".loc[:,['room','person','person_other','high_school_GPA','college_GPA']]\\\n",
    ".sort_values(by='room')\\\n",
    ".reset_index(drop=True)\n",
    "\n",
    "df_room_mates.head(4)"
   ]
  },
  {
   "cell_type": "markdown",
   "metadata": {},
   "source": [
    "<br>\n",
    "\n",
    "> **Ex. 12.1.2:** Add information on the roommate GPA in high school and college.\n",
    ">> *Hint:* This can be done merging on `person_other`."
   ]
  },
  {
   "cell_type": "code",
   "execution_count": 100,
   "metadata": {},
   "outputs": [
    {
     "data": {
      "text/html": [
       "<div>\n",
       "<style scoped>\n",
       "    .dataframe tbody tr th:only-of-type {\n",
       "        vertical-align: middle;\n",
       "    }\n",
       "\n",
       "    .dataframe tbody tr th {\n",
       "        vertical-align: top;\n",
       "    }\n",
       "\n",
       "    .dataframe thead th {\n",
       "        text-align: right;\n",
       "    }\n",
       "</style>\n",
       "<table border=\"1\" class=\"dataframe\">\n",
       "  <thead>\n",
       "    <tr style=\"text-align: right;\">\n",
       "      <th></th>\n",
       "      <th>room</th>\n",
       "      <th>person</th>\n",
       "      <th>person_other</th>\n",
       "      <th>high_school_GPA</th>\n",
       "      <th>college_GPA</th>\n",
       "      <th>high_school_GPA_other</th>\n",
       "      <th>college_GPA_other</th>\n",
       "    </tr>\n",
       "  </thead>\n",
       "  <tbody>\n",
       "    <tr>\n",
       "      <th>0</th>\n",
       "      <td>0</td>\n",
       "      <td>1757</td>\n",
       "      <td>1603</td>\n",
       "      <td>-0.181905</td>\n",
       "      <td>0.566177</td>\n",
       "      <td>-0.622770</td>\n",
       "      <td>0.540078</td>\n",
       "    </tr>\n",
       "    <tr>\n",
       "      <th>1</th>\n",
       "      <td>0</td>\n",
       "      <td>1603</td>\n",
       "      <td>1757</td>\n",
       "      <td>-0.622770</td>\n",
       "      <td>0.540078</td>\n",
       "      <td>-0.181905</td>\n",
       "      <td>0.566177</td>\n",
       "    </tr>\n",
       "    <tr>\n",
       "      <th>2</th>\n",
       "      <td>1</td>\n",
       "      <td>1649</td>\n",
       "      <td>466</td>\n",
       "      <td>0.378918</td>\n",
       "      <td>0.033256</td>\n",
       "      <td>-2.248266</td>\n",
       "      <td>-3.596904</td>\n",
       "    </tr>\n",
       "    <tr>\n",
       "      <th>3</th>\n",
       "      <td>1</td>\n",
       "      <td>466</td>\n",
       "      <td>1649</td>\n",
       "      <td>-2.248266</td>\n",
       "      <td>-3.596904</td>\n",
       "      <td>0.378918</td>\n",
       "      <td>0.033256</td>\n",
       "    </tr>\n",
       "    <tr>\n",
       "      <th>4</th>\n",
       "      <td>2</td>\n",
       "      <td>1929</td>\n",
       "      <td>816</td>\n",
       "      <td>-0.095399</td>\n",
       "      <td>-0.052611</td>\n",
       "      <td>-0.798128</td>\n",
       "      <td>-1.811919</td>\n",
       "    </tr>\n",
       "  </tbody>\n",
       "</table>\n",
       "</div>"
      ],
      "text/plain": [
       "   room  person  person_other  high_school_GPA  college_GPA  \\\n",
       "0     0    1757          1603        -0.181905     0.566177   \n",
       "1     0    1603          1757        -0.622770     0.540078   \n",
       "2     1    1649           466         0.378918     0.033256   \n",
       "3     1     466          1649        -2.248266    -3.596904   \n",
       "4     2    1929           816        -0.095399    -0.052611   \n",
       "\n",
       "   high_school_GPA_other  college_GPA_other  \n",
       "0              -0.622770           0.540078  \n",
       "1              -0.181905           0.566177  \n",
       "2              -2.248266          -3.596904  \n",
       "3               0.378918           0.033256  \n",
       "4              -0.798128          -1.811919  "
      ]
     },
     "execution_count": 100,
     "metadata": {},
     "output_type": "execute_result"
    }
   ],
   "source": [
    "df_tmp         = df_room_mates[['person','high_school_GPA','college_GPA']]\n",
    "df_tmp.columns = df_tmp.columns + '_other'\n",
    "df_room_mates  = df_room_mates.merge(df_tmp, on = 'person_other', how = 'left')\n",
    "df_room_mates.head(4)"
   ]
  },
  {
   "cell_type": "markdown",
   "metadata": {},
   "source": [
    "<br>\n",
    "<br>\n",
    "\n",
    "### Data exploration and randomization\n",
    "\n",
    "We now have our final dataset and can begin investigating how the raw data looks. \n",
    "\n",
    "> **Ex. 12.1.3:** plot own GPA in high school vs college in a scatter plot."
   ]
  },
  {
   "cell_type": "code",
   "execution_count": 110,
   "metadata": {},
   "outputs": [
    {
     "data": {
      "text/plain": [
       "Text(0.5, 1.0, 'Correlation between own High School and College GPA')"
      ]
     },
     "execution_count": 110,
     "metadata": {},
     "output_type": "execute_result"
    },
    {
     "data": {
      "image/png": "[encoded data removed]",
      "text/plain": [
       "<Figure size 432x288 with 1 Axes>"
      ]
     },
     "metadata": {
      "needs_background": "light"
     },
     "output_type": "display_data"
    }
   ],
   "source": [
    "fix,ax = plt.subplots()\n",
    "plt.scatter(x=df_room_mates.high_school_GPA,y=df_room_mates.college_GPA)\n",
    "ax.set_xlabel('High School GPA')\n",
    "ax.set_ylabel('College GPA')\n",
    "ax.set_title('Correlation between own High School and College GPA')"
   ]
  },
  {
   "cell_type": "markdown",
   "metadata": {},
   "source": [
    "<br>\n",
    "We want to check there is random assignment of roommates. \n",
    "\n",
    "> **Ex. 12.1.4:** Plot high school GPA vs roommate's high school GPA. Comment on the output. Run a regresion of high school GPA on roommate's high school GPA to formally check random assignment.\n",
    ">\n",
    ">> *Hint*: To run regressions in python, you can use the `statsmodels` package. Look up it's documentation and use the `.formula` api to estimate your model. To see a summary of a fitted model you can call `.summary()` on the object. \n",
    ">\n",
    ">> *Hint:* Under random assignment we would expect there to be no relation between the high school GPA's of roommates. Why is this? "
   ]
  },
  {
   "cell_type": "code",
   "execution_count": 120,
   "metadata": {},
   "outputs": [
    {
     "data": {
      "text/html": [
       "<table class=\"simpletable\">\n",
       "<caption>OLS Regression Results</caption>\n",
       "<tr>\n",
       "  <th>Dep. Variable:</th>    <td>high_school_GPA_other</td> <th>  R-squared (uncentered):</th>      <td>   0.000</td>\n",
       "</tr>\n",
       "<tr>\n",
       "  <th>Model:</th>                     <td>OLS</td>          <th>  Adj. R-squared (uncentered):</th> <td>  -0.000</td>\n",
       "</tr>\n",
       "<tr>\n",
       "  <th>Method:</th>               <td>Least Squares</td>     <th>  F-statistic:       </th>          <td> 0.05536</td>\n",
       "</tr>\n",
       "<tr>\n",
       "  <th>Date:</th>               <td>Fri, 15 May 2020</td>    <th>  Prob (F-statistic):</th>           <td> 0.814</td> \n",
       "</tr>\n",
       "<tr>\n",
       "  <th>Time:</th>                   <td>16:45:49</td>        <th>  Log-Likelihood:    </th>          <td> -2884.4</td>\n",
       "</tr>\n",
       "<tr>\n",
       "  <th>No. Observations:</th>        <td>  2000</td>         <th>  AIC:               </th>          <td>   5771.</td>\n",
       "</tr>\n",
       "<tr>\n",
       "  <th>Df Residuals:</th>            <td>  1999</td>         <th>  BIC:               </th>          <td>   5776.</td>\n",
       "</tr>\n",
       "<tr>\n",
       "  <th>Df Model:</th>                <td>     1</td>         <th>                     </th>              <td> </td>   \n",
       "</tr>\n",
       "<tr>\n",
       "  <th>Covariance Type:</th>        <td>nonrobust</td>       <th>                     </th>              <td> </td>   \n",
       "</tr>\n",
       "</table>\n",
       "<table class=\"simpletable\">\n",
       "<tr>\n",
       "         <td></td>            <th>coef</th>     <th>std err</th>      <th>t</th>      <th>P>|t|</th>  <th>[0.025</th>    <th>0.975]</th>  \n",
       "</tr>\n",
       "<tr>\n",
       "  <th>high_school_GPA</th> <td>   -0.0053</td> <td>    0.022</td> <td>   -0.235</td> <td> 0.814</td> <td>   -0.049</td> <td>    0.039</td>\n",
       "</tr>\n",
       "</table>\n",
       "<table class=\"simpletable\">\n",
       "<tr>\n",
       "  <th>Omnibus:</th>       <td> 0.233</td> <th>  Durbin-Watson:     </th> <td>   1.994</td>\n",
       "</tr>\n",
       "<tr>\n",
       "  <th>Prob(Omnibus):</th> <td> 0.890</td> <th>  Jarque-Bera (JB):  </th> <td>   0.290</td>\n",
       "</tr>\n",
       "<tr>\n",
       "  <th>Skew:</th>          <td> 0.015</td> <th>  Prob(JB):          </th> <td>   0.865</td>\n",
       "</tr>\n",
       "<tr>\n",
       "  <th>Kurtosis:</th>      <td> 2.949</td> <th>  Cond. No.          </th> <td>    1.00</td>\n",
       "</tr>\n",
       "</table><br/><br/>Warnings:<br/>[1] Standard Errors assume that the covariance matrix of the errors is correctly specified."
      ],
      "text/plain": [
       "<class 'statsmodels.iolib.summary.Summary'>\n",
       "\"\"\"\n",
       "                                  OLS Regression Results                                  \n",
       "==========================================================================================\n",
       "Dep. Variable:     high_school_GPA_other   R-squared (uncentered):                   0.000\n",
       "Model:                               OLS   Adj. R-squared (uncentered):             -0.000\n",
       "Method:                    Least Squares   F-statistic:                            0.05536\n",
       "Date:                   Fri, 15 May 2020   Prob (F-statistic):                       0.814\n",
       "Time:                           16:45:49   Log-Likelihood:                         -2884.4\n",
       "No. Observations:                   2000   AIC:                                      5771.\n",
       "Df Residuals:                       1999   BIC:                                      5776.\n",
       "Df Model:                              1                                                  \n",
       "Covariance Type:               nonrobust                                                  \n",
       "===================================================================================\n",
       "                      coef    std err          t      P>|t|      [0.025      0.975]\n",
       "-----------------------------------------------------------------------------------\n",
       "high_school_GPA    -0.0053      0.022     -0.235      0.814      -0.049       0.039\n",
       "==============================================================================\n",
       "Omnibus:                        0.233   Durbin-Watson:                   1.994\n",
       "Prob(Omnibus):                  0.890   Jarque-Bera (JB):                0.290\n",
       "Skew:                           0.015   Prob(JB):                        0.865\n",
       "Kurtosis:                       2.949   Cond. No.                         1.00\n",
       "==============================================================================\n",
       "\n",
       "Warnings:\n",
       "[1] Standard Errors assume that the covariance matrix of the errors is correctly specified.\n",
       "\"\"\""
      ]
     },
     "execution_count": 120,
     "metadata": {},
     "output_type": "execute_result"
    },
    {
     "data": {
      "image/png": "[encoded data removed]",
      "text/plain": [
       "<Figure size 432x288 with 1 Axes>"
      ]
     },
     "metadata": {
      "needs_background": "light"
     },
     "output_type": "display_data"
    }
   ],
   "source": [
    "fix,ax = plt.subplots()\n",
    "X = df_room_mates.high_school_GPA\n",
    "Y = df_room_mates.high_school_GPA_other\n",
    "plt.scatter(x=X,y=Y)\n",
    "ax.set_xlabel('Own High School GPA')\n",
    "ax.set_ylabel('Roommate High School GPA')\n",
    "ax.set_title('Correlation between own High School and roommate High School GPA')\n",
    "\n",
    "## Run OLS regression\n",
    "model   = sm.OLS(Y,X)\n",
    "results = model.fit()\n",
    "results.summary()"
   ]
  },
  {
   "cell_type": "markdown",
   "metadata": {},
   "source": [
    "### Answer to ex 12.1.4\n",
    "\n",
    "*The plot looks very much what we would expect if X and Y are indeed independent of each other. That is, we do not see any clear positive or negative correlation between the two. The coefficient result from the linear regression support this, as the coefficient is insignificant. If the assignment of students to college rooms are indeed random, we should not see any systematic correlation between students pre-college academic performance. Thus, the results from this exercise supports the fact that the roommates are indeed put together randomly (or at least randomly in the view of their pre-college academic performance).*"
   ]
  },
  {
   "cell_type": "markdown",
   "metadata": {},
   "source": [
    "<br>\n",
    "<br>\n",
    "\n",
    "## Roommate effect\n",
    "\n",
    "Having checked the data we move on to analyzing peer effects. We begin with analyzing **exogenous** peer effects. I.e. peer effects that are related to the ex ante characteristics of the roommate.\n",
    "\n",
    "> **Ex. 12.1.5:** Plot own GPA in college vs. roommate GPA in high school. Comment on the output. Test whether there is an impact using a regresion of college school GPA on high school GPA for the person itself and its roommate."
   ]
  },
  {
   "cell_type": "code",
   "execution_count": 123,
   "metadata": {},
   "outputs": [
    {
     "data": {
      "text/html": [
       "<table class=\"simpletable\">\n",
       "<caption>OLS Regression Results</caption>\n",
       "<tr>\n",
       "  <th>Dep. Variable:</th>       <td>college_GPA</td>   <th>  R-squared (uncentered):</th>      <td>   0.403</td> \n",
       "</tr>\n",
       "<tr>\n",
       "  <th>Model:</th>                   <td>OLS</td>       <th>  Adj. R-squared (uncentered):</th> <td>   0.402</td> \n",
       "</tr>\n",
       "<tr>\n",
       "  <th>Method:</th>             <td>Least Squares</td>  <th>  F-statistic:       </th>          <td>   673.0</td> \n",
       "</tr>\n",
       "<tr>\n",
       "  <th>Date:</th>             <td>Fri, 15 May 2020</td> <th>  Prob (F-statistic):</th>          <td>3.58e-224</td>\n",
       "</tr>\n",
       "<tr>\n",
       "  <th>Time:</th>                 <td>16:54:15</td>     <th>  Log-Likelihood:    </th>          <td> -2586.7</td> \n",
       "</tr>\n",
       "<tr>\n",
       "  <th>No. Observations:</th>      <td>  2000</td>      <th>  AIC:               </th>          <td>   5177.</td> \n",
       "</tr>\n",
       "<tr>\n",
       "  <th>Df Residuals:</th>          <td>  1998</td>      <th>  BIC:               </th>          <td>   5189.</td> \n",
       "</tr>\n",
       "<tr>\n",
       "  <th>Df Model:</th>              <td>     2</td>      <th>                     </th>              <td> </td>    \n",
       "</tr>\n",
       "<tr>\n",
       "  <th>Covariance Type:</th>      <td>nonrobust</td>    <th>                     </th>              <td> </td>    \n",
       "</tr>\n",
       "</table>\n",
       "<table class=\"simpletable\">\n",
       "<tr>\n",
       "            <td></td>               <th>coef</th>     <th>std err</th>      <th>t</th>      <th>P>|t|</th>  <th>[0.025</th>    <th>0.975]</th>  \n",
       "</tr>\n",
       "<tr>\n",
       "  <th>high_school_GPA</th>       <td>    0.7065</td> <td>    0.019</td> <td>   36.649</td> <td> 0.000</td> <td>    0.669</td> <td>    0.744</td>\n",
       "</tr>\n",
       "<tr>\n",
       "  <th>high_school_GPA_other</th> <td>    0.0362</td> <td>    0.019</td> <td>    1.880</td> <td> 0.060</td> <td>   -0.002</td> <td>    0.074</td>\n",
       "</tr>\n",
       "</table>\n",
       "<table class=\"simpletable\">\n",
       "<tr>\n",
       "  <th>Omnibus:</th>       <td>77.511</td> <th>  Durbin-Watson:     </th> <td>   1.933</td>\n",
       "</tr>\n",
       "<tr>\n",
       "  <th>Prob(Omnibus):</th> <td> 0.000</td> <th>  Jarque-Bera (JB):  </th> <td> 212.691</td>\n",
       "</tr>\n",
       "<tr>\n",
       "  <th>Skew:</th>          <td>-0.117</td> <th>  Prob(JB):          </th> <td>6.53e-47</td>\n",
       "</tr>\n",
       "<tr>\n",
       "  <th>Kurtosis:</th>      <td> 4.580</td> <th>  Cond. No.          </th> <td>    1.01</td>\n",
       "</tr>\n",
       "</table><br/><br/>Warnings:<br/>[1] Standard Errors assume that the covariance matrix of the errors is correctly specified."
      ],
      "text/plain": [
       "<class 'statsmodels.iolib.summary.Summary'>\n",
       "\"\"\"\n",
       "                                 OLS Regression Results                                \n",
       "=======================================================================================\n",
       "Dep. Variable:            college_GPA   R-squared (uncentered):                   0.403\n",
       "Model:                            OLS   Adj. R-squared (uncentered):              0.402\n",
       "Method:                 Least Squares   F-statistic:                              673.0\n",
       "Date:                Fri, 15 May 2020   Prob (F-statistic):                   3.58e-224\n",
       "Time:                        16:54:15   Log-Likelihood:                         -2586.7\n",
       "No. Observations:                2000   AIC:                                      5177.\n",
       "Df Residuals:                    1998   BIC:                                      5189.\n",
       "Df Model:                           2                                                  \n",
       "Covariance Type:            nonrobust                                                  \n",
       "=========================================================================================\n",
       "                            coef    std err          t      P>|t|      [0.025      0.975]\n",
       "-----------------------------------------------------------------------------------------\n",
       "high_school_GPA           0.7065      0.019     36.649      0.000       0.669       0.744\n",
       "high_school_GPA_other     0.0362      0.019      1.880      0.060      -0.002       0.074\n",
       "==============================================================================\n",
       "Omnibus:                       77.511   Durbin-Watson:                   1.933\n",
       "Prob(Omnibus):                  0.000   Jarque-Bera (JB):              212.691\n",
       "Skew:                          -0.117   Prob(JB):                     6.53e-47\n",
       "Kurtosis:                       4.580   Cond. No.                         1.01\n",
       "==============================================================================\n",
       "\n",
       "Warnings:\n",
       "[1] Standard Errors assume that the covariance matrix of the errors is correctly specified.\n",
       "\"\"\""
      ]
     },
     "execution_count": 123,
     "metadata": {},
     "output_type": "execute_result"
    },
    {
     "data": {
      "image/png": "[encoded data removed]",
      "text/plain": [
       "<Figure size 432x288 with 1 Axes>"
      ]
     },
     "metadata": {
      "needs_background": "light"
     },
     "output_type": "display_data"
    }
   ],
   "source": [
    "fix,ax = plt.subplots()\n",
    "Y = df_room_mates.college_GPA\n",
    "X = df_room_mates.high_school_GPA_other\n",
    "\n",
    "plt.scatter(x=X,y=Y)\n",
    "ax.set_ylabel('Own College GPA')\n",
    "ax.set_xlabel('Roommate High School GPA')\n",
    "ax.set_title('Correlation between own College and roommate High School GPA')\n",
    "\n",
    "## Run OLS regression\n",
    "Y_reg   = df_room_mates['college_GPA']\n",
    "X_reg   = df_room_mates[['high_school_GPA','high_school_GPA_other']]\n",
    "model   = sm.OLS(Y_reg,X_reg)\n",
    "results = model.fit()\n",
    "results.summary()"
   ]
  },
  {
   "cell_type": "markdown",
   "metadata": {},
   "source": [
    "### Answer to ex 12.1.5\n",
    "\n",
    "*The regression results show that own High School GPA is significantly positively correlated with own College GPA. The roommates' high school GPA has an estimated positive correlation, but is insignificant.*"
   ]
  },
  {
   "cell_type": "markdown",
   "metadata": {},
   "source": [
    "We now move on to analyze **endogenous** peer effects.\n",
    "\n",
    "> **Ex. 12.1.6:** Test whether there is an association between own college GPA and roommates. Do this by running a regresion of college school GPA on high school GPA for the person itself and its roommate. Comment on the output."
   ]
  },
  {
   "cell_type": "code",
   "execution_count": 124,
   "metadata": {},
   "outputs": [
    {
     "data": {
      "text/html": [
       "<table class=\"simpletable\">\n",
       "<caption>OLS Regression Results</caption>\n",
       "<tr>\n",
       "  <th>Dep. Variable:</th>       <td>college_GPA</td>   <th>  R-squared (uncentered):</th>      <td>   0.406</td> \n",
       "</tr>\n",
       "<tr>\n",
       "  <th>Model:</th>                   <td>OLS</td>       <th>  Adj. R-squared (uncentered):</th> <td>   0.405</td> \n",
       "</tr>\n",
       "<tr>\n",
       "  <th>Method:</th>             <td>Least Squares</td>  <th>  F-statistic:       </th>          <td>   454.9</td> \n",
       "</tr>\n",
       "<tr>\n",
       "  <th>Date:</th>             <td>Fri, 15 May 2020</td> <th>  Prob (F-statistic):</th>          <td>3.23e-225</td>\n",
       "</tr>\n",
       "<tr>\n",
       "  <th>Time:</th>                 <td>16:56:55</td>     <th>  Log-Likelihood:    </th>          <td> -2580.9</td> \n",
       "</tr>\n",
       "<tr>\n",
       "  <th>No. Observations:</th>      <td>  2000</td>      <th>  AIC:               </th>          <td>   5168.</td> \n",
       "</tr>\n",
       "<tr>\n",
       "  <th>Df Residuals:</th>          <td>  1997</td>      <th>  BIC:               </th>          <td>   5185.</td> \n",
       "</tr>\n",
       "<tr>\n",
       "  <th>Df Model:</th>              <td>     3</td>      <th>                     </th>              <td> </td>    \n",
       "</tr>\n",
       "<tr>\n",
       "  <th>Covariance Type:</th>      <td>nonrobust</td>    <th>                     </th>              <td> </td>    \n",
       "</tr>\n",
       "</table>\n",
       "<table class=\"simpletable\">\n",
       "<tr>\n",
       "            <td></td>               <th>coef</th>     <th>std err</th>      <th>t</th>      <th>P>|t|</th>  <th>[0.025</th>    <th>0.975]</th>  \n",
       "</tr>\n",
       "<tr>\n",
       "  <th>high_school_GPA</th>       <td>    0.7038</td> <td>    0.019</td> <td>   36.571</td> <td> 0.000</td> <td>    0.666</td> <td>    0.741</td>\n",
       "</tr>\n",
       "<tr>\n",
       "  <th>high_school_GPA_other</th> <td>   -0.0175</td> <td>    0.025</td> <td>   -0.703</td> <td> 0.482</td> <td>   -0.066</td> <td>    0.031</td>\n",
       "</tr>\n",
       "<tr>\n",
       "  <th>college_GPA_other</th>     <td>    0.0760</td> <td>    0.022</td> <td>    3.407</td> <td> 0.001</td> <td>    0.032</td> <td>    0.120</td>\n",
       "</tr>\n",
       "</table>\n",
       "<table class=\"simpletable\">\n",
       "<tr>\n",
       "  <th>Omnibus:</th>       <td>79.391</td> <th>  Durbin-Watson:     </th> <td>   2.086</td>\n",
       "</tr>\n",
       "<tr>\n",
       "  <th>Prob(Omnibus):</th> <td> 0.000</td> <th>  Jarque-Bera (JB):  </th> <td> 221.549</td>\n",
       "</tr>\n",
       "<tr>\n",
       "  <th>Skew:</th>          <td>-0.117</td> <th>  Prob(JB):          </th> <td>7.79e-49</td>\n",
       "</tr>\n",
       "<tr>\n",
       "  <th>Kurtosis:</th>      <td> 4.614</td> <th>  Cond. No.          </th> <td>    2.13</td>\n",
       "</tr>\n",
       "</table><br/><br/>Warnings:<br/>[1] Standard Errors assume that the covariance matrix of the errors is correctly specified."
      ],
      "text/plain": [
       "<class 'statsmodels.iolib.summary.Summary'>\n",
       "\"\"\"\n",
       "                                 OLS Regression Results                                \n",
       "=======================================================================================\n",
       "Dep. Variable:            college_GPA   R-squared (uncentered):                   0.406\n",
       "Model:                            OLS   Adj. R-squared (uncentered):              0.405\n",
       "Method:                 Least Squares   F-statistic:                              454.9\n",
       "Date:                Fri, 15 May 2020   Prob (F-statistic):                   3.23e-225\n",
       "Time:                        16:56:55   Log-Likelihood:                         -2580.9\n",
       "No. Observations:                2000   AIC:                                      5168.\n",
       "Df Residuals:                    1997   BIC:                                      5185.\n",
       "Df Model:                           3                                                  \n",
       "Covariance Type:            nonrobust                                                  \n",
       "=========================================================================================\n",
       "                            coef    std err          t      P>|t|      [0.025      0.975]\n",
       "-----------------------------------------------------------------------------------------\n",
       "high_school_GPA           0.7038      0.019     36.571      0.000       0.666       0.741\n",
       "high_school_GPA_other    -0.0175      0.025     -0.703      0.482      -0.066       0.031\n",
       "college_GPA_other         0.0760      0.022      3.407      0.001       0.032       0.120\n",
       "==============================================================================\n",
       "Omnibus:                       79.391   Durbin-Watson:                   2.086\n",
       "Prob(Omnibus):                  0.000   Jarque-Bera (JB):              221.549\n",
       "Skew:                          -0.117   Prob(JB):                     7.79e-49\n",
       "Kurtosis:                       4.614   Cond. No.                         2.13\n",
       "==============================================================================\n",
       "\n",
       "Warnings:\n",
       "[1] Standard Errors assume that the covariance matrix of the errors is correctly specified.\n",
       "\"\"\""
      ]
     },
     "execution_count": 124,
     "metadata": {},
     "output_type": "execute_result"
    }
   ],
   "source": [
    "## Run OLS regression\n",
    "Y_reg   = df_room_mates['college_GPA']\n",
    "X_reg   = df_room_mates[['high_school_GPA','high_school_GPA_other','college_GPA_other']]\n",
    "model   = sm.OLS(Y_reg,X_reg)\n",
    "results = model.fit()\n",
    "results.summary()"
   ]
  },
  {
   "cell_type": "markdown",
   "metadata": {},
   "source": [
    "### Answer to ex 12.1.6\n",
    "\n",
    "*The regression results support the hypothesis of endogenous effects. We can see that own college GPA and roommates college GPA is significantly positively correlated. That is, if a student does well in college, so does his roomate (or visa versa). Interestingly, the coefficient on roommate's high school GPA becomes even more insignificant compared to our previous regression. This suggests, that the potential positive exogenous effect was infact driven by an endogenous effect. That is, the previous regression had an omitted variable issue that upward biased the coefficient estimate of the exogenous effect.*"
   ]
  },
  {
   "cell_type": "markdown",
   "metadata": {},
   "source": [
    "<br>\n",
    "<br>\n",
    "\n",
    "# 12.2 Peer effects in Danish classrooms\n",
    "\n",
    "Read the [report by Kraka on peer effects in Danish schools](http://kraka.dk/sites/default/files/public/baggrundsnotat_klassekammerateffekter_0.pdf) from 2019. If you do not speak Danish talk to your group about the content.\n",
    "> **Ex. 12.2.1:** Explain the identification strategy in words."
   ]
  },
  {
   "cell_type": "markdown",
   "metadata": {},
   "source": [
    "*The authors argue that they cannot avoid selection into schools by only comparing the within-school changes of mean-group-characteristics to labor outcome 20 years later. That is, they do not compare the between-school differences. Their identification strategy requires that the sorting effect between schools are constant over time. Also, they choose to consider cohorts instead of classes, as they expect to be too much sorting between classes within a cohort at a school.*"
   ]
  },
  {
   "cell_type": "markdown",
   "metadata": {},
   "source": [
    "> **Ex. 12.2.2:** Are there any shortcomings of the identification strategy? What does the seminal paper [Hoxby (2000)](https://www.nber.org/papers/w78612.pdf) test for?"
   ]
  },
  {
   "cell_type": "markdown",
   "metadata": {},
   "source": [
    "*Lets take a step back and consider the three social effects mentioned during the lecture. The Kraka authors only consider exogenous/contextual effects in their linear-means-model. Hence, their results could be a spurious results driven by endogenous or correlated effects. Personally, I do not buy their identification premise that sorting does not occur between same-school-different-year cohorts. It's my experience that parents do re-allocate their children if a cohort at a specific school is worse than what it normally is. I would not be surprised if the parents with lots of ressources were the first to re-allocate their children in such cases. If this is the case, the remaining children would be those who are relatively less-well. These children could be less succesful in their working career for many other reasons - for example that their parents had less ressources. The link to Hoxby is broken.*"
   ]
  },
  {
   "cell_type": "markdown",
   "metadata": {},
   "source": [
    "> **Ex. 12.2.3:** Try to come up with identification strategies for identifying peer effects in the context of Danish class rooms."
   ]
  },
  {
   "cell_type": "markdown",
   "metadata": {},
   "source": [
    "*One may consider quasi-random experiments from re-drawings of the school district borders. Obviously one would have to control for the facters which determine where the school district border is located.*"
   ]
  }
 ],
 "metadata": {
  "kernelspec": {
   "display_name": "Python 3",
   "language": "python",
   "name": "python3"
  },
  "language_info": {
   "codemirror_mode": {
    "name": "ipython",
    "version": 3
   },
   "file_extension": ".py",
   "mimetype": "text/x-python",
   "name": "python",
   "nbconvert_exporter": "python",
   "pygments_lexer": "ipython3",
   "version": "3.6.9"
  }
 },
 "nbformat": 4,
 "nbformat_minor": 4
}
