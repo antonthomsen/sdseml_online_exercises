{
 "cells": [
  {
   "cell_type": "markdown",
   "metadata": {},
   "source": [
    "# Week 11: Networks 3 (epidemiology)\n"
   ]
  },
  {
   "cell_type": "markdown",
   "metadata": {
    "ExecuteTime": {
     "end_time": "2017-08-23T15:30:03.634114Z",
     "start_time": "2017-08-23T15:30:03.629294Z"
    }
   },
   "source": [
    "While researchers have been modeling the spread of diseases and information for many years, the COVID-19 pandemic playing out right now puts a new emphasis on the importance of being able to model (and thus predict) how diseases propagate through populations. So how do you most effectively model the spread of a disease? There are many^ ways, and all of them (at least the useful ones) involves networks. In this notebook you will get your hands on a couple different modeling approaches. Specifically:\n",
    "\n",
    "* Spreading processes on static networks\n",
    "* Spreading processes on temporal networks\n",
    "* Metapopulation models"
   ]
  },
  {
   "cell_type": "markdown",
   "metadata": {},
   "source": [
    "**Questions**: Outside of class, use [issue on GitHub](https://github.com/abjer/tsds/issues) for asking questions."
   ]
  },
  {
   "cell_type": "markdown",
   "metadata": {},
   "source": [
    "## Imports"
   ]
  },
  {
   "cell_type": "code",
   "execution_count": 1,
   "metadata": {
    "ExecuteTime": {
     "end_time": "2020-04-24T11:47:07.339115Z",
     "start_time": "2020-04-24T11:47:06.861645Z"
    }
   },
   "outputs": [],
   "source": [
    "%matplotlib inline\n",
    "import matplotlib.pylab as plt\n",
    "import networkx as nx\n",
    "import netwulf as nw"
   ]
  },
  {
   "cell_type": "markdown",
   "metadata": {},
   "source": [
    "## Exercises"
   ]
  },
  {
   "cell_type": "markdown",
   "metadata": {},
   "source": [
    "In a *contact network* nodes are people and links represent interactions that can happen between people. You can use such a network as a *substrate* for simulating the spreading of \"something\". Spreading of what? That's up to you. It can be a disease, a behavior, a piece of information, anything you can imagine people may pass along. There's a whole subfield of Network Science which deals with this, but the fundamental idea is actually quite simple:\n",
    "\n",
    "> Nodes that are connected can transmit this \"something\" with a probability. Each timestep of the simulation is an opportunity for the \"something\" to spread.\n",
    "\n",
    "You can then make this more nuanced by adding extra criteria for transmission. For disease modeling these can e.g. be that nodes can only be infected after multiple exposures or if multiple neighbors are infected, that they can be cured and become resistant/susceptible with some probability, that they may die and exit the simulation creating a void in the network, that becoming infected makes them change their links, that godzilla walks in and eats everyone—the possibilities are endless and you decide which rules exist in the simulation universe."
   ]
  },
  {
   "cell_type": "markdown",
   "metadata": {},
   "source": [
    "Generally speaking, there are four major classes of so-called \"compartmental models\" in network epidemiology:\n",
    "* *Susceptible-Infected (SI)*: Nodes are susceptible at start, and once they are infected they never recover. This models spreading of unforgetable information, or diseases that people get and pass on, and never recover from (like HIV, herpes, etc.).\n",
    "* *Susceptible-Infected-Susceptible (SIS)*: Nodes are susceptible, then get infected and stay infected for some time, then get susceptible again, an the cycle continues. This could model things like the flu which comes and goes and you get and recover from over and over again.\n",
    "* *Susceptible-Infected-Resistant (SIR)*: Nodes become infected and after some time they gain resistance so that they can niether become infected nor spread disease/information further. Once they are resistant they are essentially \"removed\" from the network, so this type of model works for diseases where people recover and gain resistance as well as ones that kill people, as niether type of person can transmit (measles, chickenpox but also rabies, Creutzfeldt–Jakob disease, etc.).\n",
    "* *Susceptible-Infected-Resistant-Susceptible (SIRS)*: Probably self-explanatory if you understood the above."
   ]
  },
  {
   "cell_type": "markdown",
   "metadata": {},
   "source": [
    "The idea that drives the \"compartmenal\" modeling approach is that within a population you can assign each\n",
    "individual to a compartment based on their \"state\" (infected, susceptible, etc.). When you start the simulation,\n",
    "individuals then flow between compartments with specific flow rates.\n",
    "\n",
    "![img](https://upload.wikimedia.org/wikipedia/commons/9/93/SIR_Flow_Diagram.svg)\n",
    "\n",
    "This then allows us to describe the flow of individuals between compartments (and thus the spreading of the disease)\n",
    "using differential equations. For example in the simple SIR model shown above, the dynamics can be described with\n",
    "three differential equations (one for each compartment). They each tell us how fast the population in the corresponding\n",
    "compartment it changing:\n",
    "\n",
    "$$\\frac{dS}{dt} = -\\beta SI$$\n",
    "\n",
    "$$\\frac{dI}{dt} = \\beta SI - \\gamma I$$\n",
    "\n",
    "$$\\frac{dR}{dt} = \\gamma I$$"
   ]
  },
  {
   "cell_type": "markdown",
   "metadata": {},
   "source": [
    "So at a given point in time how many people are leaving the susceptible compartment and entering the Infected compartment?\n",
    "Well that's simply the the number of susceptible $S$ times the number of infected $I$ multipled with some disease-specific constant $\\beta$.\n",
    "\n",
    "And what's the growth in the number of infected? Easy! It's just the number of people coming in from the susceptible compartment $\\beta SI$ minus all the people leaving for the \"Recovered\" compartment $\\gamma I$, where gamma is some constant that describs how fast people recover.\n",
    "\n",
    "And the rate at which people enter the recovered state? If you understood the above you can explain this to yourself.\n",
    "\n",
    "**That's it!**. That's how all compartmental models work!"
   ]
  },
  {
   "cell_type": "markdown",
   "metadata": {},
   "source": [
    "> **Ex. 11.1.1**: But as I wrote above there are many different types of compartmental models. Write down the rate equations for the SIS model:\n",
    ">\n",
    ">![img](https://upload.wikimedia.org/wikipedia/commons/c/cb/SIS_compartment_model.svg)\n",
    ">\n",
    "> Follow the reasoning in the example for the SIR model above. Answer the following:\n",
    "* how many equations you need if there are two compartments.\n",
    "* What specifically does each equation describe?\n",
    "* What do $\\beta$ and $\\gamma$ intuitively describe? What can you say about a disease with a really big $\\gamma$? Or a really small $\\gamma$? How about big or small $\\beta$?"
   ]
  },
  {
   "cell_type": "markdown",
   "metadata": {},
   "source": [
    "* We need two equations, one for each compartment. \n",
    "* The first equation would be $\\frac{dS}{dt} = -\\beta SI + \\gamma I$ and describes the change in susceptible. It has two components: the first part states how many susceptible becomes infected, with $\\beta$ being the probability of each infected spreading the disease to each susceptible. The second part is how many of the infected becomes healthy, with $\\gamma$ denoting the probability of an infected becoming healthy again. The second equation would be $\\frac{dI}{dt}= \\beta SI - \\gamma I$. It has the same two components of the former equation, just with the opposite sign. \n",
    "* As described above, the parameter $\\beta$ describes the probability of the infected spreading the disease to the susceptible – it can be seen as the transmission rate. On the contrary, the parameter $\\gamma$ describes the probability that an infected person returns to the susceptible state – i.e. the recovery rate. "
   ]
  },
  {
   "cell_type": "markdown",
   "metadata": {},
   "source": [
    "> **Ex. 11.1.2** (optional): If you really understood the above, you should have no trouble writing down the equations for a SIRS\n",
    "model. Go ahead and try. Hint: You will need to introduce a new constant that describes the rate at which people move from R to S."
   ]
  },
  {
   "cell_type": "markdown",
   "metadata": {},
   "source": [
    "For the SIRS model the equations would be the following\n",
    "\\begin{equation}\n",
    "\\frac{dS}{dt}= -\\beta SI + \\theta R\n",
    "\\end{equation}\n",
    "\n",
    "\\begin{equation}\n",
    "\\frac{dI}{dt}= \\beta SI - \\gamma I\n",
    "\\end{equation}\n",
    "\n",
    "\\begin{equation}\n",
    "\\frac{dR}{dt}= -\\gamma I + \\theta R\n",
    "\\end{equation}"
   ]
  },
  {
   "cell_type": "markdown",
   "metadata": {},
   "source": [
    "> **Ex. 11.1.3**: Professor of physics and mathematic and all around cool guy, Dirk Brockmann,\n",
    "makes interactive articles called *Explorables* that introduce ideas in Complexity science. Read/play with\n",
    "[his explorable](http://www.complexity-explorables.org/explorables/neighbors/) on targeted vaccination to mitigate epidemic spreading in the real world and answer the\n",
    "following questions:\n",
    "> 1. In the BA network, roughly what percentage of the population do you have to vaccinate with **strategy A** to only get around 10\n",
    "infected individuals? What about **startegy B** and **strategy C**?\n",
    "> 2. **strategy A** and **strategy C** are both entirely random, but one is much more effective than the other. Explain\n",
    "why. What clever idea is **strategy C** employing?\n",
    "> 3. Why is this effect larger in the BA network than in the ER network?"
   ]
  },
  {
   "cell_type": "markdown",
   "metadata": {},
   "source": [
    "1. Percentages required vaccinated in order to only get around 10 infected individuals\n",
    "    - Strategy A: around 73%\n",
    "    - Strategy B: around 18%\n",
    "    - Strategy C: around 51%\n",
    "2. Strategy C utilizes the friendship paradox, i.e. your friends have more friends than you. When picking nodes in A, probability of picking one is 1/N no matter the degree. When we instead oick random neighbours in C, the probability of being picked now depends on the node degree. Therefore, persons of a higher degree are more likely to receive a vaccine.\n",
    "3. In the BA network, the variation in node degrees is stronger."
   ]
  },
  {
   "cell_type": "markdown",
   "metadata": {},
   "source": [
    "> **Ex. 11.1.4**: Choose one of these two explorables ([1](http://www.complexity-explorables.org/explorables/herd/) or [2](http://www.complexity-explorables.org/explorables/epidemonic/)) read/play with and understand it, and explain in your own words what phenomenon it communicates."
   ]
  },
  {
   "cell_type": "markdown",
   "metadata": {},
   "source": [
    "The second explorable illustrates a SIRS model. It visualizes the spread a virus depending on the factors transmission rate, recovery rate, waning immunity rate and migration rate. Varying shows how a virus can spread relative to the parameters. For instance, the migration rate is paramount in reducing the spread of a virus between populations, with the others parameters held equal."
   ]
  },
  {
   "cell_type": "markdown",
   "metadata": {},
   "source": [
    "> **Ex. 11.1.5**: The simplest compartmental model is the *SI* model. Below I have implemented a simulation of such a model.\n",
    "You can see in line 5 that I initialize all nodes in the *S* compartment, but after running, all nodes are in the *I* compartment.\n",
    "Does this make sense to you?\n",
    "1. Comment the code abundantly, explaining what's happing at each step.\n",
    "2. Adapt the code and make a plot of the fraction of infected over time. You may have to restart it a couple of time to make sure patient 0 is someone connected to the rest of the population.\n",
    "3. Extend the code such after a variable number of timesteps `T_I` infected nodes become susceptible again. Set `T_I = 10` to begin with and plot the fraction of infected over time for 200 timesteps. Does the result make sense? Comment on what you see."
   ]
  },
  {
   "cell_type": "code",
   "execution_count": 31,
   "metadata": {},
   "outputs": [],
   "source": [
    "import numpy as np\n",
    "import matplotlib.pyplot as plt\n",
    "import pandas as pd"
   ]
  },
  {
   "cell_type": "code",
   "execution_count": 8,
   "metadata": {
    "ExecuteTime": {
     "end_time": "2020-04-24T11:40:56.524830Z",
     "start_time": "2020-04-24T11:40:56.521674Z"
    }
   },
   "outputs": [],
   "source": [
    "G = nx.connected_caveman_graph(10, 5)\n",
    "# _ = nw.visualize(G) # Uncomment if you want to have a look at the network"
   ]
  },
  {
   "cell_type": "code",
   "execution_count": 21,
   "metadata": {
    "ExecuteTime": {
     "end_time": "2020-04-24T11:40:34.820432Z",
     "start_time": "2020-04-24T11:40:34.787128Z"
    }
   },
   "outputs": [
    {
     "data": {
      "text/plain": [
       "<function matplotlib.pyplot.show(*args, **kw)>"
      ]
     },
     "execution_count": 21,
     "metadata": {},
     "output_type": "execute_result"
    },
    {
     "data": {
      "image/png": "[encoded data removed]",
      "text/plain": [
       "<Figure size 432x288 with 1 Axes>"
      ]
     },
     "metadata": {
      "needs_background": "light"
     },
     "output_type": "display_data"
    }
   ],
   "source": [
    "# Probability of being infected if your neighbor is infected\n",
    "p_I = 0.1 \n",
    "# Number of timesteps\n",
    "n_iter = 200 \n",
    "\n",
    "# Initializing network with all individuals as susceptibe\n",
    "I = set()\n",
    "S = set(G.nodes())\n",
    "\n",
    "# Sets patient zero randomly from list of susceptibles\n",
    "patient0 = np.random.choice(list(S))\n",
    "\n",
    "# Adds patient zero to list of infected and remove from list of susceptibles\n",
    "I.add(patient0)\n",
    "S.remove(patient0)\n",
    "\n",
    "I_dict = {}\n",
    "S_dict = {}\n",
    "for t in range(n_iter):\n",
    "    for infected_node in list(I):\n",
    "        # Finds neighbors of infected nodes\n",
    "        neighbors = G.neighbors(infected_node)\n",
    "        # Infects neighbors with probability p_I\n",
    "        infected_neighbors = set([n for n in neighbors if np.random.random() < p_I])\n",
    "        I |= infected_neighbors\n",
    "        S -= infected_neighbors\n",
    "    I_dict[t] = len(I)\n",
    "    S_dict[t] = len(S)\n",
    "    \n",
    "# We plot the fractions\n",
    "I_list = np.divide(np.array(list(I_dict.values())), len(G.nodes()))\n",
    "S_list = np.divide(np.array(list(S_dict.values())), len(G.nodes()))\n",
    "\n",
    "plt.plot(list(I_dict.keys()), I_list, color='blue')\n",
    "plt.show"
   ]
  },
  {
   "cell_type": "code",
   "execution_count": 29,
   "metadata": {},
   "outputs": [
    {
     "data": {
      "text/plain": [
       "<function matplotlib.pyplot.show(*args, **kw)>"
      ]
     },
     "execution_count": 29,
     "metadata": {},
     "output_type": "execute_result"
    },
    {
     "data": {
      "image/png": "[encoded data removed]",
      "text/plain": [
       "<Figure size 432x288 with 1 Axes>"
      ]
     },
     "metadata": {
      "needs_background": "light"
     },
     "output_type": "display_data"
    }
   ],
   "source": [
    "# We now adjust the code such that after T_I = 10, infected individuals start to recover again.\n",
    "\n",
    "# Probability of being infected if your neighbor is infected\n",
    "p_I = 0.1 \n",
    "# Number of timesteps\n",
    "n_iter = 200 \n",
    "# Sets reset timestep\n",
    "T_I = 10\n",
    "\n",
    "# Initializing network with all individuals as susceptibe\n",
    "I = set()\n",
    "S = set(G.nodes())\n",
    "\n",
    "# Sets patient zero randomly from list of susceptibles\n",
    "patient0 = np.random.choice(list(S))\n",
    "\n",
    "# Adds patient zero to list of infected and remove from list of susceptibles\n",
    "I.add(patient0)\n",
    "S.remove(patient0)\n",
    "\n",
    "\n",
    "ratio_ls = []\n",
    "\n",
    "I_dict = {}\n",
    "S_dict = {}\n",
    "for t in range(n_iter):\n",
    "    for infected_node in list(I):\n",
    "        # Finds neighbors of infected nodes\n",
    "        neighbors = G.neighbors(infected_node)\n",
    "        # Infects neighbors with probability p_I\n",
    "        infected_neighbors = set([n for n in neighbors if np.random.random() < p_I])\n",
    "        I |= infected_neighbors\n",
    "        S -= infected_neighbors\n",
    "    I_dict[t] = len(I)\n",
    "    S_dict[t] = len(S)\n",
    "    \n",
    "    if t in np.linspace(0, 200, int(200/T_I), endpoint = False):\n",
    "        I = set()\n",
    "        S = set(G.nodes())\n",
    "        patient0 = np.random.choice(list(S))\n",
    "        I.add(patient0)\n",
    "        S.remove(patient0)\n",
    "    \n",
    "# We plot the fractions\n",
    "I_list = np.divide(np.array(list(I_dict.values())), len(G.nodes()))\n",
    "S_list = np.divide(np.array(list(S_dict.values())), len(G.nodes()))\n",
    "\n",
    "plt.plot(list(I_dict.keys()), I_list, color='blue')\n",
    "plt.show"
   ]
  },
  {
   "cell_type": "markdown",
   "metadata": {},
   "source": [
    "We see that the fraction of infected individuals varies around a mean defined by the number of new infected individuals and individuals who recovers, which makes sense. "
   ]
  },
  {
   "cell_type": "markdown",
   "metadata": {},
   "source": [
    "> **Ex. 11.1.6**: Use what you have learned and implement an SIRS model.\n",
    "* Run it on the Facebook network from last week (so load that into a `networkx.Graph`).\n",
    "* Record the fraction of infected, susceptiple and recovered over time.\n",
    "* After the simulation has run, plot these quantities over time and comment on your results\n",
    "* Be proud of yourself for having solved a really interesting problem."
   ]
  },
  {
   "cell_type": "code",
   "execution_count": 40,
   "metadata": {},
   "outputs": [],
   "source": [
    "import random"
   ]
  },
  {
   "cell_type": "code",
   "execution_count": 77,
   "metadata": {},
   "outputs": [],
   "source": [
    "data = pd.read_csv(\n",
    "    \"facebook-wall.txt\",\n",
    "    delimiter=\"\\t\",\n",
    "    header=None,\n",
    "    names=['user1', 'user2', 'timestamp']\n",
    ")\n",
    "\n",
    "t0 = data.timestamp.max() - 86400 * 7  # Lower bound of time-slice (here: 7 days before last wall post)\n",
    "t1 = data.timestamp.max()              # Upper bound of time-slice\n",
    "\n",
    "# Subset of the pandas dataframe\n",
    "data_t = data.loc[data.timestamp.between(t0, t1)]\n",
    "\n",
    "# Count the number of times each link occurs and store that in a new 'weight' column\n",
    "data_t = data_t.groupby(['user1', 'user2']).size().reset_index(name='weight')\n",
    "\n",
    "# Create a `nx.DiGraph` from this dataframe\n",
    "G = nx.from_pandas_edgelist(data_t, 'user1', 'user2', 'weight', create_using=nx.DiGraph)"
   ]
  },
  {
   "cell_type": "code",
   "execution_count": 79,
   "metadata": {},
   "outputs": [
    {
     "data": {
      "text/plain": [
       "<matplotlib.legend.Legend at 0xa24d75908>"
      ]
     },
     "execution_count": 79,
     "metadata": {},
     "output_type": "execute_result"
    },
    {
     "data": {
      "image/png": "[encoded data removed]",
      "text/plain": [
       "<Figure size 432x288 with 1 Axes>"
      ]
     },
     "metadata": {
      "needs_background": "light"
     },
     "output_type": "display_data"
    }
   ],
   "source": [
    "# Implementing the SIRS model on the Facebook network\n",
    "\n",
    "# Probability of going from immune to becoming susceptible\n",
    "p_S = 0.01\n",
    "# Probability of going from susceptible to becoming infected\n",
    "p_I = 0.5\n",
    "# Probability of going from infected to being recovered\n",
    "p_R = 0.02\n",
    "# Number of iterations\n",
    "n_iter = 200\n",
    "\n",
    "S = set(G.nodes())\n",
    "I = set()\n",
    "R = set()\n",
    "\n",
    "# Sets patient zero randomly from list of susceptibles\n",
    "patient0 = np.random.choice(list(S))\n",
    "\n",
    "# Adds patient zero to list of infected and remove from list of susceptibles\n",
    "I.add(patient0)\n",
    "S.remove(patient0)\n",
    "# I |= patient0\n",
    "# S -= patient0\n",
    "\n",
    "frac_S = []\n",
    "frac_I = []\n",
    "frac_R = []\n",
    "\n",
    "for t in range(n_iter):\n",
    "    for infected_node in list(I):\n",
    "        # Finds neighbors of infected nodes\n",
    "        neighbors = G.neighbors(infected_node)\n",
    "        # Infects neighbors with probability p_I\n",
    "        infected_neighbors = set([n for n in neighbors if np.random.random() < p_I])\n",
    "        recovered = set([n for n in I if np.random.random() < p_R])\n",
    "        new_susceptible = set([n for n in R if np.random.random() < p_S])\n",
    "        \n",
    "        I |= infected_neighbors\n",
    "        I -= recovered\n",
    "        R |= recovered\n",
    "        R -= new_susceptible\n",
    "        S -= infected_neighbors\n",
    "        S |= new_susceptible\n",
    "        \n",
    "        frac_S.append(len(S)/(len(S) + len(I) + len(R)))\n",
    "        frac_I.append(len(I)/(len(S) + len(I) + len(R)))\n",
    "        frac_R.append(len(R)/(len(S) + len(I) + len(R)))\n",
    "\n",
    "\n",
    "plt.plot(frac_S, label='S', color='blue')\n",
    "plt.plot(frac_I, label='I', color='red')\n",
    "plt.plot(frac_R, label='R', color='green')\n",
    "plt.legend()\n",
    "\n",
    "# I'm having trouble finding the error – I know it should not look like the figure below. \n",
    "# It seems like patient zero is not infected to begin with. Can you point me in the right direction?"
   ]
  },
  {
   "cell_type": "markdown",
   "metadata": {},
   "source": [
    "### Further learning"
   ]
  },
  {
   "cell_type": "markdown",
   "metadata": {},
   "source": [
    "Since the above exercises teaches you how to write down epidemic models (as systems of differential equations)\n",
    "and subsequently teaches you how to simulate a spreading process on a network to obtain data on infected/susceptible/recovered\n",
    "over time, you would think it natural that I also taught you how to fit these epidemic models to such data.\n",
    "This, however, is going a bit too far as this is not a course in computational epidemiology. But if you want to\n",
    "figure out how to do it, you literally just need to Google search for \"fit SIR model\"."
   ]
  },
  {
   "cell_type": "markdown",
   "metadata": {},
   "source": [
    "And finally, a note on how these models are used in the real world. The state-of-the-art in epidemiological modeling is something called \"meta popultion models\". They are essentially systems of compartmental models. One component in such a model may be a country, and it has its own little SI, SIR or SIRS model. Components are then coupled because there are people moving between them. The paper *The Hidden Geometry of Complex,\n",
    "Network-Driven Contagion Phenomena* by Dirk Brockmann and Dirk Helbing published in Science in 2013 ([link here](https://www.dropbox.com/s/hxprfyr51fwh907/brockmann13.pdf?dl=0)) sets up such a model for the world using airline traffic as a proxy for people flow between countries. It is a must read if you\n",
    "are curious about how the pros predict things like when a disease will arrive in a certain place or where a disease originated. I strongly recommend reading it and understanding the figures, it is a stroke of genius."
   ]
  },
  {
   "cell_type": "code",
   "execution_count": null,
   "metadata": {},
   "outputs": [],
   "source": []
  }
 ],
 "metadata": {
  "kernelspec": {
   "display_name": "Python 3",
   "language": "python",
   "name": "python3"
  },
  "language_info": {
   "codemirror_mode": {
    "name": "ipython",
    "version": 3
   },
   "file_extension": ".py",
   "mimetype": "text/x-python",
   "name": "python",
   "nbconvert_exporter": "python",
   "pygments_lexer": "ipython3",
   "version": "3.7.3"
  },
  "nav_menu": {},
  "toc": {
   "base_numbering": 1,
   "nav_menu": {},
   "number_sections": false,
   "sideBar": true,
   "skip_h1_title": false,
   "title_cell": "Table of Contents",
   "title_sidebar": "Contents",
   "toc_cell": false,
   "toc_position": {},
   "toc_section_display": "block",
   "toc_window_display": true
  },
  "varInspector": {
   "cols": {
    "lenName": 16,
    "lenType": 16,
    "lenVar": 40
   },
   "kernels_config": {
    "python": {
     "delete_cmd_postfix": "",
     "delete_cmd_prefix": "del ",
     "library": "var_list.py",
     "varRefreshCmd": "print(var_dic_list())"
    },
    "r": {
     "delete_cmd_postfix": ") ",
     "delete_cmd_prefix": "rm(",
     "library": "var_list.r",
     "varRefreshCmd": "cat(var_dic_list()) "
    }
   },
   "types_to_exclude": [
    "module",
    "function",
    "builtin_function_or_method",
    "instance",
    "_Feature"
   ],
   "window_display": false
  }
 },
 "nbformat": 4,
 "nbformat_minor": 2
}
