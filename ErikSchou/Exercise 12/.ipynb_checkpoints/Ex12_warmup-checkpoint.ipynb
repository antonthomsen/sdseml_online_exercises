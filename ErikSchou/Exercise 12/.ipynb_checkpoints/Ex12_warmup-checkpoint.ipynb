{
 "cells": [
  {
   "cell_type": "code",
   "execution_count": 1,
   "metadata": {},
   "outputs": [],
   "source": [
    "from scipy.stats import uniform\n",
    "import matplotlib.pyplot as plt\n",
    "from numpy import random\n",
    "import numpy as np\n",
    "from scipy.optimize import minimize_scalar"
   ]
  },
  {
   "cell_type": "code",
   "execution_count": 2,
   "metadata": {},
   "outputs": [],
   "source": [
    "# Q1:\n",
    "\n",
    "def simulate(n):\n",
    "    x0 = random.uniform(0, 2/n)\n",
    "    y0 = random.uniform(0, 2/n)\n",
    "    x, y = [x0], [y0]\n",
    "    for i in range(n-1):\n",
    "        x0 = x0 + random.uniform(0, 2/n)\n",
    "        y0 = y0 + random.uniform(0, 2/n)\n",
    "        x.append(x0 if x0 < 1 else 1)\n",
    "        y.append(y0 if y0 < 1 else 1)\n",
    "    return x,y"
   ]
  },
  {
   "cell_type": "code",
   "execution_count": 3,
   "metadata": {},
   "outputs": [
    {
     "name": "stdout",
     "output_type": "stream",
     "text": [
      "[0.3532304860170964, 0.5955605870067793, 0.6530225642278875, 1, 1] [0.3434013790079416, 0.47392782075823947, 0.7881639575451237, 0.8437864016834903, 0.9650650823905068]\n"
     ]
    }
   ],
   "source": [
    "x,y = simulate(n=5)\n",
    "print(x,y)"
   ]
  },
  {
   "cell_type": "code",
   "execution_count": 4,
   "metadata": {},
   "outputs": [
    {
     "name": "stdout",
     "output_type": "stream",
     "text": [
      "[0.3532304860170964, 0.5955605870067793, 0.6530225642278875, 1, 1]\n"
     ]
    }
   ],
   "source": [
    "print(x)"
   ]
  },
  {
   "cell_type": "markdown",
   "metadata": {},
   "source": [
    "I'm not entirely sure what is meant by \"clipping any $z_k>1$ to the bounding box\". Does it simply mean that these should be included as 1? This is what I've tried to write the function as. "
   ]
  },
  {
   "cell_type": "code",
   "execution_count": 5,
   "metadata": {},
   "outputs": [],
   "source": [
    "# Q2:\n",
    "def minimize(x,y):\n",
    "    x = np.array(x)\n",
    "    y = np.array(y)\n",
    "    def s(x0):\n",
    "        x0 = np.sum(y[x<x0])+np.sum((1-y)[x>x0])\n",
    "        return x0\n",
    "    mini = minimize_scalar(s, method='bounded', bounds=(0,1))\n",
    "    xk_star = x[x>=mini.x][0]\n",
    "    yk_star = y[x>=mini.x][0]\n",
    "    return xk_star,yk_star"
   ]
  },
  {
   "cell_type": "code",
   "execution_count": 6,
   "metadata": {
    "scrolled": true
   },
   "outputs": [
    {
     "data": {
      "text/plain": [
       "(0.6530225642278875, 0.7881639575451237)"
      ]
     },
     "execution_count": 6,
     "metadata": {},
     "output_type": "execute_result"
    }
   ],
   "source": [
    "minimize(x,y)"
   ]
  },
  {
   "cell_type": "code",
   "execution_count": 7,
   "metadata": {},
   "outputs": [],
   "source": [
    "# Q3: \n",
    "n_list = np.arange(10,1000,10)\n",
    "y_star_list = []\n",
    "for n in n_list:\n",
    "    x,y = simulate(n=n)\n",
    "    xk_star,yk_star = minimize(x,y)\n",
    "    y_star_list.append(yk_star)"
   ]
  },
  {
   "cell_type": "code",
   "execution_count": 8,
   "metadata": {
    "scrolled": true
   },
   "outputs": [
    {
     "data": {
      "image/png": "[encoded data removed]",
      "text/plain": [
       "<Figure size 432x288 with 1 Axes>"
      ]
     },
     "metadata": {
      "needs_background": "light"
     },
     "output_type": "display_data"
    }
   ],
   "source": [
    "fig, ax = plt.subplots()\n",
    "ax.plot(n_list, y_star_list)\n",
    "plt.xlabel(\"n\")\n",
    "plt.ylabel(\"Value of y*\")\n",
    "plt.show()"
   ]
  },
  {
   "cell_type": "markdown",
   "metadata": {},
   "source": [
    "It seems to be converging towards 0.5, which is the midpoint of the interval in which y is defined. "
   ]
  }
 ],
 "metadata": {
  "kernelspec": {
   "display_name": "Python 3",
   "language": "python",
   "name": "python3"
  },
  "language_info": {
   "codemirror_mode": {
    "name": "ipython",
    "version": 3
   },
   "file_extension": ".py",
   "mimetype": "text/x-python",
   "name": "python",
   "nbconvert_exporter": "python",
   "pygments_lexer": "ipython3",
   "version": "3.7.3"
  }
 },
 "nbformat": 4,
 "nbformat_minor": 2
}
