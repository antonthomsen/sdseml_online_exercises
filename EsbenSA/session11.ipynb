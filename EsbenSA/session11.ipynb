{
 "cells": [
  {
   "cell_type": "code",
   "execution_count": 4,
   "metadata": {},
   "outputs": [],
   "source": [
    "%matplotlib inline\n",
    "import matplotlib.pylab as plt\n",
    "import networkx as nx\n",
    "import netwulf as nw\n",
    "import numpy as np\n"
   ]
  },
  {
   "cell_type": "code",
   "execution_count": null,
   "metadata": {},
   "outputs": [],
   "source": [
    "# Ex. 11.1.1: But as I wrote above there are many different types of compartmental models. Write down the rate equations \n",
    "# for the SIS model:\n",
    "\n",
    "# How many equations you need if there are two compartments?\n",
    "# What specifically does each equation describe?\n",
    "# What do beta and gamma intuitively describe? What can you say about a disease with a really big gamma? Or a \n",
    "# really small gamma? How about big or small beta?\n",
    "\n",
    "# We need an equation for the evolution of the number of individuals in each compartments. Note that in this SIS model  \n",
    "# individuals can transit from susceptible to infectious and from infectious to susceptible. Hence, we need two equations.\n",
    "\n",
    "# The rate which susceptible individuals becomes infected is given by beta*S*I and the rate which infected individuals\n",
    "# becomes susceptible is given by gamma*I. Hence, the evolution in the number of infected individuals is given by:\n",
    "\n",
    "#                                  dI/dt = beta*S*I - gamma*I\n",
    "\n",
    "# and the evolution of the number of susceptible individuals is given by\n",
    "\n",
    "#                                  dS/dt = gamma*I - beta*S*I\n",
    "\n",
    "# Hence, for beta*S/gamma>(<)1 the number of infected individuals increases (decreases).\n",
    "\n",
    "# beta measures rapidly the diseas spread whereas gamma measures how fast individuals return from the infected compartment \n",
    "# to the susceptible compartment. Hence, for a big beta the diseas spreads rapidly whereas a big gamma implies that \n",
    "# individuals return from the infected compartment rapidly.\n"
   ]
  },
  {
   "cell_type": "code",
   "execution_count": null,
   "metadata": {},
   "outputs": [],
   "source": [
    "# Ex. 11.1.2 (optional): If you really understood the above, you should have no trouble writing down the equations for \n",
    "# a SIRS model. Go ahead and try. Hint: You will need to introduce a new constant that describes the rate at which people \n",
    "# move from R to S.\n",
    "\n",
    "# In the SIRS model we have three compartmens (Susceptable, Infected and Recovered). Individals can only transit to the \n",
    "# infected compartment from the susceptable compartment and can only transit to the recovered compartment from the infected\n",
    "# compartment. Finally, individuals can only return to the susceptible compartment from the recovered compartment.\n",
    "\n",
    "# The evolution in the number of infected individuals is again given by:\n",
    "\n",
    "#                                  dI/dt = beta*S*I - gamma*I\n",
    "\n",
    "# whereas the evolution of the number of recovered individuals is given by\n",
    "\n",
    "#                                  dR/dt = gamma*I - kappa*R\n",
    "\n",
    "# where the kappa parameter describes how fast individuals stops being immune to the diseas and return to the susceptible\n",
    "# compartment. Finally, the evolution of the number of susceptible individuals is given by\n",
    "\n",
    "#                                  dS/dt = kappa*R - beta*S*I"
   ]
  },
  {
   "cell_type": "code",
   "execution_count": null,
   "metadata": {},
   "outputs": [],
   "source": [
    "# Ex. 11.1.3: Professor of physics and mathematic and all around cool guy, Dirk Brockmann, makes interactive articles \n",
    "# called Explorables that introduce ideas in Complexity science. Read/play with his explorable on targeted vaccination \n",
    "# to mitigate epidemic spreading in the real world and answer the following questions:\n",
    "\n",
    "# 1. In the BA network, roughly what percentage of the population do you have to vaccinate with strategy A to only get \n",
    "# around 10 infected individuals? What about startegy B and strategy C?\n",
    "# 2. Strategy A and strategy C are both entirely random, but one is much more effective than the other. Explain why. What \n",
    "# clever idea is strategy C employing?\n",
    "# 3. Why is this effect larger in the BA network than in the ER network?\n",
    "\n",
    "# When I apply strategy A, I find that I need to vaccinate about 80% of the population in order to have the largest component \n",
    "# of 10 individuals. For strategy B I only need to vaccinate 15-20% of the population. Finally, for strategy C I need to \n",
    "# vaccinate about 50% of the population. Hence, we would prefer strategy B, but since we often does not know the links of\n",
    "# the entire network this strategy is seldom available. In practice we are therefor stucked with strategy A or C. \n",
    "\n",
    "# By applying strategy C we vaccine more connected individuals than by applying strategy A. Hence, we need to vaccine fewer\n",
    "# individuals to stop the diseas. The reasons for the relative effectiveness of strategy C is closely related to the so\n",
    "# called \"friendship paradox\" that essentially states that you are less likely to be friends with someone who has very few\n",
    "# friends. The implication of the \"friendship paradox\" is that is that on average a node's neighbors' degree is larger than \n",
    "# the node's own degree and this is why strategy C implies that we vaccine more connected individuals compared to strategy A.\n",
    "\n",
    "# The effect of applying strategy C is bigger for a BA network compared to an ER network. This is because \"the BA network has \n",
    "# a much stronger variation in node degree compared to the ER network. Therefore the effects explained above should be \n",
    "# stronger in the BA network\".\n"
   ]
  },
  {
   "cell_type": "code",
   "execution_count": null,
   "metadata": {},
   "outputs": [],
   "source": [
    "# Ex. 11.1.4: Choose one of these two explorables (1 or 2) read/play with and understand it, and explain in your own words \n",
    "# what phenomenon it communicates.\n",
    "\n",
    "# Explorables 2 describes how a diseas spread in a SIRS model with 4 partly isolated subpopulations. Hence, we set up a system\n",
    "# of equations that describes the evolution of susceptible, infected and recovered individuals for each population. \n",
    "\n",
    "# The evolution in the number of infected individuals in subpopulation group 1 is given by:\n",
    "\n",
    "#                                  dI_1/dt = beta*S_1*I_1 - gamma*I_1 + theta*(I_2+I_3+I_4) - theta*I_1\n",
    "\n",
    "# where the theta parameter describes the immigration rate. The evolution of the number of recovered individuals in population\n",
    "# 1 is given by\n",
    "\n",
    "#                                  dR_1/dt = gamma*I_1 - kappa*R_1 + theta*(R_2+R_3+R_4) - theta*R_1\n",
    "\n",
    "# Finally, the evolution of the number of susceptible individuals in population 1 is given by\n",
    " \n",
    "#                                  dS_1/dt = kappa*R_1 - beta*S_1*I_1 + theta*(S_2+S_3+S_4) - theta*S_1\n",
    "\n",
    "# The evolution of the components of the three remaining subpopulations are similar to the equations stated above. Note that\n",
    "# I have assumed that none of the parameters differs across subpopulations and that individuals immigrate with the same\n",
    "# probability across components. Futher I have ignored traveling time.\n",
    "\n",
    "# This model facilitates that the diseas can rapidly expand if an infected individual immigrates to a subpopulation that does\n",
    "# not have been exposed to the diseas in recent time, and hence very few individuals are immune to the diseas."
   ]
  },
  {
   "cell_type": "code",
   "execution_count": null,
   "metadata": {},
   "outputs": [],
   "source": [
    "# Ex. 11.1.5: The simplest compartmental model is the SI model. Below I have implemented a simulation of such a model. \n",
    "# You can see in line 5 that I initialize all nodes in the S compartment, but after running, all nodes are in the I \n",
    "# compartment. Does this make sense to you?\n",
    "\n"
   ]
  },
  {
   "cell_type": "code",
   "execution_count": 22,
   "metadata": {},
   "outputs": [],
   "source": [
    "# Create a undirectednetwork of ten caves each with five nodes. Each of these five notes are linked to each other. \n",
    "# Each cave is linked to two other caves through two different nodes inside the particular cave. \n",
    "G = nx.connected_caveman_graph(10, 5) \n",
    "#_ = nw.visualize(G) # Uncomment if you want to have a look at the network\n",
    "\n",
    "p_I = 0.1 # probability that a neigbor to an infected node gets infected in each time period.\n",
    "n_iter = 200  # number of time periods.\n",
    "\n",
    "I = set() # set containing the infected nodes. Empty at the beginning.\n",
    "S = set(G.nodes()) # set containing the susceptible nodes. Containes all nodes at the beginning.\n",
    "\n",
    "N = len(S) # number of nodes\n",
    "\n",
    "# Initialize epidemic by randomely choosing patient zero from the set containing all the susceptible nodes.\n",
    "patient0 = np.random.choice(list(S)) \n",
    "\n",
    "I.add(patient0) # Adds the randomely selected patient zero to the set containing the infected nodes\n",
    "S.remove(patient0) # Removes the randomely selected patient zero to the set containing the susceptible nodes\n",
    "\n",
    "counter = np.zeros(n_iter)\n",
    "\n",
    "for t in range(n_iter): # loop over timer periods\n",
    "    counter[t] = len(I)\n",
    "    for infected_node in list(I): # loop over infected nodes at the beginning of time period t.\n",
    "        neighbors = G.neighbors(infected_node) # finds the neighbors the a given infected node\n",
    "        # for each neighbor randomely draw a number from the uniform distribution. \n",
    "        # If this number is less than p_I add this node to the set containing the \n",
    "        # infected neighbors.\n",
    "        infected_neighbors = set([n for n in neighbors if np.random.random() < p_I]) \n",
    "        I |= infected_neighbors # Add the set of infected_neighbors to the set containing all infected nodes.\n",
    "        S -= infected_neighbors # Remove the set of infected_neighbors to the set containing all infected nodes.\n",
    "    \n",
    "    #print(\"time: \",t,\", infected nodes:\",len(I),\", susceptible nodes:\",len(S))\n",
    "    \n",
    "fraction = counter/N # fraction of population infected across time"
   ]
  },
  {
   "cell_type": "code",
   "execution_count": 23,
   "metadata": {},
   "outputs": [
    {
     "data": {
      "image/png": "[encoded data removed]",
      "text/plain": [
       "<Figure size 432x288 with 1 Axes>"
      ]
     },
     "metadata": {
      "needs_background": "light"
     },
     "output_type": "display_data"
    }
   ],
   "source": [
    "import matplotlib.pyplot as plt\n",
    "plt.plot(fraction)\n",
    "plt.ylabel('fraction of population infected')\n",
    "plt.xlabel('time')\n",
    "plt.show()\n",
    "\n",
    "# After looping over all the infected nodes at time t the set I now contains all the nodes that are infected at \n",
    "# time t+1. Note that since infected nodes cannot be cured, the number of infected nodes can only increase. Hence, \n",
    "# for t going to infinity all nodes will eventually get infected."
   ]
  },
  {
   "cell_type": "code",
   "execution_count": 29,
   "metadata": {},
   "outputs": [],
   "source": [
    "# Create a undirectednetwork of ten caves each with five nodes. Each of these \n",
    "# five notes are linked to each other. Each cave is linked to two other caves\n",
    "# through two different nodes inside the particular cave. \n",
    "G = nx.connected_caveman_graph(10, 5) \n",
    "#_ = nw.visualize(G) # Uncomment if you want to have a look at the network\n",
    "\n",
    "p_I = 0.1 # probability that a neigbor to an infected node gets infected in each time period.\n",
    "n_iter = 200  # number of time periods.\n",
    "T_I = 10\n",
    "\n",
    "I = set() # set containing the infected nodes. Empty at the beginning.\n",
    "S = set(G.nodes()) # set containing the susceptible nodes. Containes all nodes at the beginning.\n",
    "\n",
    "patient0 = np.random.choice(list(S)) # Initialize epidemic by randomely choosing patient zero from the set containing all the susceptible nodes.\n",
    "\n",
    "I.add(patient0) # Adds the randomely selected patient zero to the set containing the infected nodes\n",
    "S.remove(patient0) # Removes the randomely selected patient zero to the set containing the susceptible nodes\n",
    "\n",
    "counter = np.zeros(n_iter)\n",
    "\n",
    "T = np.zeros(n_iter) # remaining time periods for the diseas for each node( if zero then the node is susceptible)\n",
    "T[patient0] = T_I\n",
    "\n",
    "for t in range(n_iter): # loop over timer periods\n",
    "    counter[t] = len(I)\n",
    "    C = np.zeros(n_iter)\n",
    "    for infected_node in list(I):\n",
    "        T[infected_node] = T[infected_node] - 1\n",
    "        \n",
    "        if T[infected_node]==0:\n",
    "            S.add(infected_node) # Adds the randomely selected patient zero to the set containing the infected nodes\n",
    "            I.remove(infected_node) # Removes the randomely selected patient zero to the set containing the susceptible nodes\n",
    "            C[infected_node] = 1\n",
    "\n",
    "    for infected_node in list(I): # loop over infected nodes at the beginning of time period t.\n",
    "        neighbors = G.neighbors(infected_node) # finds the neighbors the a given infected node\n",
    "        # for each neighbor randomely draw a number from the uniform distribution. \n",
    "        # If this number is less than p_I add this node to the set containing the \n",
    "        # infected neighbors.\n",
    "        infected_neighbors = set([n for n in neighbors if np.random.random() < p_I]) \n",
    "        I |= infected_neighbors # Add the set of infected_neighbors to the set containing all infected nodes.\n",
    "        S -= infected_neighbors # Remove the set of infected_neighbors to the set containing all infected nodes.\n",
    "        \n",
    "        for inf_neigh in list(infected_neighbors):\n",
    "            T[inf_neigh] = T_I\n",
    "    \n",
    "    #print(\"time: \",t,\", infected nodes:\",len(I),\", susceptible nodes:\",len(S), \", cured nodes:\", np.sum(C))\n",
    "    \n",
    "fraction2 = counter/N # fraction of population infected across time    "
   ]
  },
  {
   "cell_type": "code",
   "execution_count": 30,
   "metadata": {},
   "outputs": [
    {
     "data": {
      "image/png": "[encoded data removed]",
      "text/plain": [
       "<Figure size 432x288 with 1 Axes>"
      ]
     },
     "metadata": {
      "needs_background": "light"
     },
     "output_type": "display_data"
    }
   ],
   "source": [
    "import matplotlib.pyplot as plt\n",
    "plt.plot(fraction2)\n",
    "plt.ylabel('fraction of population infected')\n",
    "plt.xlabel('time')\n",
    "plt.show()\n",
    "\n",
    "# Note that this implementation implies that nodes can get reinfected while they are infected. This implies that node's\n",
    "# infection time is prolonged. Hence, the number of infected individuals can now decrease."
   ]
  },
  {
   "cell_type": "code",
   "execution_count": 35,
   "metadata": {},
   "outputs": [
    {
     "ename": "AttributeError",
     "evalue": "'Graph' object has no attribute 'head'",
     "output_type": "error",
     "traceback": [
      "\u001b[1;31m---------------------------------------------------------------------------\u001b[0m",
      "\u001b[1;31mAttributeError\u001b[0m                            Traceback (most recent call last)",
      "\u001b[1;32m<ipython-input-35-52655cfae5d8>\u001b[0m in \u001b[0;36m<module>\u001b[1;34m\u001b[0m\n\u001b[0;32m     36\u001b[0m \u001b[1;31m# Note that this is major change of the original data and changes the interpretation of the network.\u001b[0m\u001b[1;33m\u001b[0m\u001b[1;33m\u001b[0m\u001b[1;33m\u001b[0m\u001b[0m\n\u001b[0;32m     37\u001b[0m \u001b[1;33m\u001b[0m\u001b[0m\n\u001b[1;32m---> 38\u001b[1;33m \u001b[0mG\u001b[0m\u001b[1;33m.\u001b[0m\u001b[0mhead\u001b[0m\u001b[1;33m(\u001b[0m\u001b[1;33m)\u001b[0m\u001b[1;33m\u001b[0m\u001b[1;33m\u001b[0m\u001b[0m\n\u001b[0m",
      "\u001b[1;31mAttributeError\u001b[0m: 'Graph' object has no attribute 'head'"
     ]
    }
   ],
   "source": [
    "#Ex. 11.1.6: Use what you have learned and implement an SIRS model.\n",
    "\n",
    "# - Run it on the Facebook network from last week (so load that into a networkx.Graph).\n",
    "# - Record the fraction of infected, susceptiple and recovered over time.\n",
    "# - After the simulation has run, plot these quantities over time and comment on your results\n",
    "# - Be proud of yourself for having solved a really interesting problem.\n",
    "\n",
    "import pandas as pd\n",
    "\n",
    "data = pd.read_csv(\n",
    "    'facebook-wall.txt.gz', \n",
    "    compression='gzip',\n",
    "    delimiter=\"\\t\",\n",
    "    header=None,\n",
    "    names=['user1', 'user2', 'timestamp'], \n",
    "    sep=' ', quotechar='\"', error_bad_lines=False)\n",
    "\n",
    "def SliceDiGraph(data,t0,t1):\n",
    "    # Subset of the pandas dataframe\n",
    "    data_t = data.loc[data.timestamp.between(t0, t1)]\n",
    "\n",
    "    # Count the number of times each link occurs and store that in a new 'weight' column\n",
    "    data_t = data_t.groupby(['user1', 'user2']).size().reset_index(name='weight')\n",
    "\n",
    "    # Create a `nx.DiGraph` from this dataframe\n",
    "    G_t = nx.from_pandas_edgelist(data_t, 'user1', 'user2', 'weight', create_using=nx.DiGraph)\n",
    "    return G_t\n",
    "\n",
    "t0 = data.timestamp.min() # Lower bound of time-slice (here: 365 days before last wall post)\n",
    "t1 = data.timestamp.max() # Lower bound of time-slice\n",
    "\n",
    "G0 = SliceDiGraph(data,t0,t1)\n",
    "\n",
    "# double_edge_swap can only handle undirected network. Hence, I transform network from directed network to undirected network:\n",
    "G = G0.to_undirected() \n",
    "# Note that this is major change of the original data and changes the interpretation of the network.\n"
   ]
  }
 ],
 "metadata": {
  "kernelspec": {
   "display_name": "Python 3",
   "language": "python",
   "name": "python3"
  },
  "language_info": {
   "codemirror_mode": {
    "name": "ipython",
    "version": 3
   },
   "file_extension": ".py",
   "mimetype": "text/x-python",
   "name": "python",
   "nbconvert_exporter": "python",
   "pygments_lexer": "ipython3",
   "version": "3.7.4"
  }
 },
 "nbformat": 4,
 "nbformat_minor": 2
}
