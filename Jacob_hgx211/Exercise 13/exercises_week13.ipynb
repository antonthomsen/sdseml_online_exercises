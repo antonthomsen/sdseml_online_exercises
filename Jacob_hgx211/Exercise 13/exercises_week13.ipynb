{
 "cells": [
  {
   "cell_type": "markdown",
   "metadata": {},
   "source": [
    "# Exercise Set 13: Network formation\n",
    "\n",
    "\n",
    "In this Exercise Set 13 we will investigate network formation among high school pupils. \n",
    "\n",
    "## Part 1: Network formation\n",
    "\n",
    "\n",
    "Load the data using the script below. Read a bit about the dataset [here](http://www.sociopatterns.org/datasets/high-school-contact-and-friendship-networks/) to get an understanding of what is in each variable. \n",
    "\n",
    "The script gives you two dataframes to work with: \n",
    " > `el`, which is an edge-list \n",
    " >\n",
    " > `ind` which contains individual characteristics"
   ]
  },
  {
   "cell_type": "code",
   "execution_count": 1,
   "metadata": {},
   "outputs": [],
   "source": [
    "import networkx as nx\n",
    "import numpy as np\n",
    "import pandas as pd\n",
    "\n",
    "url_base = 'http://www.sociopatterns.org/wp-content/uploads/2015/'\n",
    "\n",
    "# edgelist\n",
    "url_el = url_base + '07/High-School_data_2013.csv.gz'\n",
    "col_names_el = ['timestamp', 'u1', 'u2', 'class1', 'class2']\n",
    "el = pd.read_csv(url_el, header=None, names=col_names_el, delimiter=' ')\n",
    "\n",
    "# individual characteristics\n",
    "url_ind = url_base + '09/metadata_2013.txt'\n",
    "col_names_ind = ['u', 'class', 'gender']\n",
    "ind = pd.read_csv(url_ind, header=None, names=col_names_ind, delimiter='\\t')\\\n",
    "            .set_index('u')\n",
    "\n",
    "# remove observation with missing gender\n",
    "has_gender = ind[ind.gender!='Unknown'].index\n",
    "\n",
    "# DataFrames\n",
    "ind = ind.loc[has_gender].copy()\n",
    "el = el[el.u1.isin(has_gender) &  el.u2.isin(has_gender)].copy()"
   ]
  },
  {
   "cell_type": "markdown",
   "metadata": {},
   "source": [
    "> **Ex. 13.1.1**: Describe the edgelist columns content. Parse the timestamp. What is the resolution of meetings? Use the parsed timestamp to count the meetings by hour in local time."
   ]
  },
  {
   "cell_type": "markdown",
   "metadata": {},
   "source": [
    "**Answer:** The `el` dataframe contains rows representing meetings (links in the network) between two people (nodes in the network). The dataframe has 5 columns:\n",
    "- `timestamp`: A timestamp for the time of the link.\n",
    "- `u1`: The identifier for the first person (node).\n",
    "- `u2`: The identifier for the second person (node).\n",
    "- `class1`: The class of the first person.\n",
    "- `class2`: The class of the second person.\n",
    "\n",
    "The resolution is 20 seconds, meaning that the two people were in contact within a 20-second interval."
   ]
  },
  {
   "cell_type": "code",
   "execution_count": 2,
   "metadata": {},
   "outputs": [
    {
     "data": {
      "text/plain": [
       "hour\n",
       "7     19628\n",
       "8     21227\n",
       "9     27457\n",
       "10    18390\n",
       "11    21398\n",
       "12    19293\n",
       "13    20363\n",
       "14    17541\n",
       "15    16352\n",
       "Name: timestamp, dtype: int64"
      ]
     },
     "execution_count": 2,
     "metadata": {},
     "output_type": "execute_result"
    }
   ],
   "source": [
    "# Convert unix timestamp to datetime\n",
    "el['timestamp'] = pd.to_datetime(el['timestamp'], unit='s', origin='unix')\n",
    "\n",
    "# Create new column containing hour\n",
    "el['hour'] = el['timestamp'].dt.hour\n",
    "\n",
    "# Count meetings by hour\n",
    "el.groupby('hour')['timestamp'].count()"
   ]
  },
  {
   "cell_type": "code",
   "execution_count": 3,
   "metadata": {},
   "outputs": [
    {
     "data": {
      "text/plain": [
       "day-hour\n",
       "02-11    5556\n",
       "02-12    4259\n",
       "02-13    6617\n",
       "02-14    5715\n",
       "02-15    5972\n",
       "03-07    6048\n",
       "03-08    5286\n",
       "03-09    7104\n",
       "03-10    5096\n",
       "03-11    4675\n",
       "03-12    4193\n",
       "03-13    5172\n",
       "03-14    3772\n",
       "03-15    4316\n",
       "04-07    5100\n",
       "04-08    6218\n",
       "04-09    7309\n",
       "04-10    4013\n",
       "04-11    3998\n",
       "04-12    4555\n",
       "04-13    3109\n",
       "04-14    2567\n",
       "04-15    2117\n",
       "05-07    4603\n",
       "05-08    4851\n",
       "05-09    6146\n",
       "05-10    4230\n",
       "05-11    3063\n",
       "05-12    3039\n",
       "05-13    3680\n",
       "05-14    3461\n",
       "05-15    2595\n",
       "06-07    3877\n",
       "06-08    4872\n",
       "06-09    6898\n",
       "06-10    5051\n",
       "06-11    4106\n",
       "06-12    3247\n",
       "06-13    1785\n",
       "06-14    2026\n",
       "06-15    1352\n",
       "Name: timestamp, dtype: int64"
      ]
     },
     "execution_count": 3,
     "metadata": {},
     "output_type": "execute_result"
    }
   ],
   "source": [
    "# Alternatively: Count meetings by day and hour\n",
    "el['day-hour'] = el['timestamp'].dt.strftime('%d-%H')\n",
    "el.groupby('day-hour')['timestamp'].count()"
   ]
  },
  {
   "cell_type": "markdown",
   "metadata": {},
   "source": [
    "> **Ex. 13.1.2**: Count the number of meetings for each edge and save this as a DataFrame called `el_agg`. Filter out edges with less than 5 minutes of meetings. Attach the gender and class of both nodes."
   ]
  },
  {
   "cell_type": "code",
   "execution_count": 4,
   "metadata": {},
   "outputs": [],
   "source": [
    "# Create column with person 1 and 2\n",
    "el['u1-u2'] = el['u1'].astype(str) + '-' + el['u2'].astype(str)\n",
    "\n",
    "# Count the number of meetings for each edge\n",
    "us_count = el.groupby('u1-u2').count()['timestamp']\n",
    "\n",
    "# Make dataframe with each edge and the number of meetings for each edge\n",
    "u1s = [i.split('-')[0] for i in us_count.index]\n",
    "u2s = [i.split('-')[1] for i in us_count.index]\n",
    "el_agg = pd.DataFrame(list(zip(u1s, u2s, us_count)), columns = ['u1','u2','meet_count'])\n",
    "\n",
    "# Filter out edges with less than 5 minutes of meeting (meet count < 15, since resolution is 20 seconds (15/3))\n",
    "el_agg = el_agg[el_agg['meet_count'] >= 15]\n",
    "\n",
    "# Get class and gender for each person\n",
    "def get_class(u):\n",
    "    return ind.loc[int(u)]['class']\n",
    "\n",
    "def get_gender(u):\n",
    "    return ind.loc[int(u)]['gender']\n",
    "\n",
    "el_agg['u1_class'] = el_agg['u1'].apply(get_class)\n",
    "el_agg['u2_class'] = el_agg['u2'].apply(get_class)\n",
    "el_agg['u1_gender'] = el_agg['u1'].apply(get_gender)\n",
    "el_agg['u2_gender'] = el_agg['u2'].apply(get_gender)"
   ]
  },
  {
   "cell_type": "markdown",
   "metadata": {},
   "source": [
    "> **Ex. 13.1.3**: Answer question in the function `fraction_triangles` below. Explain how `fraction_triangles` is related to  computing the clustering coefficient (using `nx.average_clustering`).\n",
    ">\n",
    ">> *Hint:* The following code does the same thing as `fraction_triangles`, but at a scale where you can understand what's going on. If you have a hard time understanding the code in the function you can try to play around with this simpler example\n",
    ">>\n",
    ">> ```python\n",
    ">> import networkx as nx \n",
    ">>\n",
    ">> A  = np.array(\n",
    ">>     [[0, 1, 1, 0],\n",
    ">>      [1, 0, 1, 0],\n",
    ">>      [1, 1, 0, 1],\n",
    ">>      [0, 0, 1, 0]]\n",
    ">> )\n",
    ">>\n",
    ">> G = nx.from_numpy_array(A)\n",
    ">> nx.draw(G,with_labels=True)\n",
    ">>\n",
    ">> def nth(A, n):\n",
    ">>     A_ = A.copy()    \n",
    ">>     for _ in range(1,n):\n",
    ">>         A = A.dot(A_)\n",
    ">>     return A\n",
    ">>\n",
    ">> a_t = nth(A,3).diagonal().sum()/6\n",
    ">> n = len(A[:,0])\n",
    ">> p_t = binom(n, 3)\n",
    ">> ```\n"
   ]
  },
  {
   "cell_type": "code",
   "execution_count": 5,
   "metadata": {},
   "outputs": [],
   "source": [
    "def make_net(el_, nodes):\n",
    "    '''\n",
    "    Convert edgelist to networkx graph which is \n",
    "    binary and undirected.\n",
    "    \n",
    "    Parameters\n",
    "    ----------\n",
    "    el_ : DataFrame\n",
    "        Table containing an edgelist with columns \n",
    "        `u1` and `u2` which are the nodes in the edge.\n",
    "        \n",
    "    nodes : array-like\n",
    "        1d array containing the node identities.\n",
    "    '''    \n",
    "    \n",
    "    nx_input = el_, 'u1', 'u2', 'meet_count', nx.Graph()\n",
    "    g = nx.from_pandas_edgelist(*nx_input)\n",
    "    g.add_nodes_from(nodes)\n",
    "    return g"
   ]
  },
  {
   "cell_type": "code",
   "execution_count": 6,
   "metadata": {},
   "outputs": [],
   "source": [
    "from scipy.special import binom\n",
    "\n",
    "def fraction_triangles(el_, nodes):\n",
    "    '''\n",
    "    Compute fraction of actual triangles out \n",
    "    of the potential triangles.\n",
    "    \n",
    "    Parameters\n",
    "    ----------\n",
    "    el_ : DataFrame\n",
    "        Table containing an edgelist with columns \n",
    "        `u1` and `u2` which are the nodes in the edge.\n",
    "        \n",
    "    nodes : array-like\n",
    "        1d array containing the node identities.\n",
    "    '''\n",
    "    \n",
    "    g = make_net(el_, nodes)\n",
    "    \n",
    "    #Q.1: what is `A`?: The adjacency matrix which is symmetric and binary\n",
    "    #Q.2: what does `A**3` do? Compute the number of paths between two nodes\n",
    "    #Q.3: what is diagonal of A_t? The number of actual paths of length 3, \n",
    "    # i.e. triangles, which include the person. these are called cycles\n",
    "    # because they start and end at the same person\n",
    "    \n",
    "    # count actual triangles    \n",
    "    A = nx.to_scipy_sparse_matrix(g)\n",
    "    A_t = A**3\n",
    "    a_t = A_t.diagonal().sum()/6\n",
    "    \n",
    "    #Q.4: what does `binom(n,3)` compute? The number of triangles including the person\n",
    "    \n",
    "    # count potential triangles\n",
    "    n = len(g.nodes())\n",
    "    p_t = binom(n, 3)\n",
    "        \n",
    "    return a_t/p_t"
   ]
  },
  {
   "cell_type": "markdown",
   "metadata": {},
   "source": [
    "**ANSWER:** `fraction_triangles` computes the number of triangles in the network as a fraction of the total possible triangles in the network. `nx.average_clustering` computes the average local clustering coefficient over each node. The local clustering coefficient of a node is the number of triangles that the node participates in divided by the maximum possible number of triangles it could have participated in. Note that `fraction_triangles` and `nx.average_clustering` are *not* the same, though they both measure the degree of clustering in the network using triangles."
   ]
  },
  {
   "cell_type": "markdown",
   "metadata": {},
   "source": [
    "> **Ex. 13.1.4**: Apply the function `fraction_triangles` to `el_agg` and print the triangle fraction in the network. Next remove all edges that go between classes. Compute triangle fraction within each class and store it. Compute the mean within class triangles and bootstrap the standard error of the mean. Comment on the output.\n",
    ">\n",
    ">> *Hint:* To bootstrap an estimate draw $k>>0$ samples with replacement from the data. Compute the estimate on each of these samples and average them in the end to get the bootstrapped estimate. "
   ]
  },
  {
   "cell_type": "code",
   "execution_count": 7,
   "metadata": {},
   "outputs": [
    {
     "name": "stdout",
     "output_type": "stream",
     "text": [
      "Triangle fraction: 0.0003\n"
     ]
    }
   ],
   "source": [
    "# Print triangle fraction\n",
    "us = list(set(el_agg['u1']).union(set(el_agg['u2'])))\n",
    "trifrac = fraction_triangles(el_agg, us)\n",
    "print('Triangle fraction: {}'.format(round(trifrac,4)))\n",
    "\n",
    "# Get only the meeting where both students are in the same class\n",
    "el_agg_c = el_agg[el_agg['u1_class']==el_agg['u2_class']]\n",
    "classes = list(set(el_agg['u1_class']).union(set(el_agg['u2_class'])))"
   ]
  },
  {
   "cell_type": "code",
   "execution_count": 8,
   "metadata": {},
   "outputs": [],
   "source": [
    "# Calculate triangle fraction for each class and store in dictionary\n",
    "def get_class_triangles(el_agg_c):\n",
    "    class_triangles = dict()\n",
    "    for _class in classes:\n",
    "        df = el_agg_c[el_agg_c['u1_class'] == _class]\n",
    "        us_df = list(set(df['u1']).union(set(df['u2'])))\n",
    "        trifrac = fraction_triangles(df, us_df)\n",
    "        class_triangles[_class] = trifrac\n",
    "    return class_triangles\n",
    "class_triangles = get_class_triangles(el_agg_c)"
   ]
  },
  {
   "cell_type": "code",
   "execution_count": 9,
   "metadata": {},
   "outputs": [
    {
     "name": "stdout",
     "output_type": "stream",
     "text": [
      "Triangle fraction for 2BIO3: 0.035 ± 0.002\n",
      "Triangle fraction for PSI*: 0.011 ± 0.001\n",
      "Triangle fraction for 2BIO2: 0.034 ± 0.001\n",
      "Triangle fraction for MP*2: 0.028 ± 0.002\n",
      "Triangle fraction for PC*: 0.02 ± 0.002\n",
      "Triangle fraction for MP*1: 0.016 ± 0.002\n",
      "Triangle fraction for 2BIO1: 0.013 ± 0.001\n",
      "Triangle fraction for PC: 0.023 ± 0.001\n",
      "Triangle fraction for MP: 0.03 ± 0.002\n"
     ]
    }
   ],
   "source": [
    "# Bootstrap class triangles k times\n",
    "k = 10\n",
    "bs_dict = dict()\n",
    "for _class in classes:\n",
    "    bs_dict[_class] = []\n",
    "for i in range(k):\n",
    "    bs_triangles = get_class_triangles(el_agg_c.sample(n=len(el_agg_c),replace=True))\n",
    "    for _class in classes:\n",
    "        bs_dict[_class].append(bs_triangles[_class])\n",
    "        \n",
    "# Store standard errors\n",
    "class_ses = dict()\n",
    "for _class in classes:\n",
    "    class_ses[_class] = np.std(bs_dict[_class])\n",
    "    \n",
    "# Print triangle fractions (in percent) and bootstraped standard errors\n",
    "for _class in classes:\n",
    "    print('Triangle fraction for {}: {} ± {}'.format(_class, round(class_triangles[_class],3),\n",
    "                                                    round(class_ses[_class],3)))\n",
    "\n",
    "# COMMENT: There appears to be a significant difference in the triangle fractions across classes. For instance,\n",
    "#          2BIO3 has significantly more triangles than PSI*."
   ]
  },
  {
   "cell_type": "markdown",
   "metadata": {},
   "source": [
    "Recall from class that we can define the following measures of homophily. We define **homophily index** inspired by [Currarini et al. (2009)](https://doi.org/10.2139/ssrn.1021650):\n",
    "- share of edges that are same type: $H = \\frac{s}{s+d}$\n",
    "- possible range [0,1]\n",
    "\n",
    "\n",
    "We define **baseline homophily** as: \n",
    "- We count fraction of potential edges in population of nodes which are same type:\n",
    "\n",
    "\\begin{equation}B=\\frac{\\sum_t\\#potential(n_t)}{\\#potential(n)}, \\qquad \\#potential(k)=\\frac{k\\cdot(k-1)}{2}\\end{equation}\n",
    "\n",
    "- Interpretation: Expected homophily from random link formation.     \n",
    "\n",
    "We define **inbreeding homophily** as:      \n",
    "\n",
    "\\begin{equation}IH=\\frac{H-B}{1-B}\\end{equation}\n",
    "\n",
    "\n",
    "> **Ex. 13.1.5**: Compute the inbreeding homophily for each class. Use the class measures to compute the mean. Use a bootstrap to compute whether there is inbreeding homophily."
   ]
  },
  {
   "cell_type": "code",
   "execution_count": 10,
   "metadata": {},
   "outputs": [
    {
     "name": "stdout",
     "output_type": "stream",
     "text": [
      "0.243\n"
     ]
    }
   ],
   "source": [
    "# Calculate inbreeding homophily index for each class\n",
    "def calc_inho(el_agg_c): \n",
    "    class_hopi = []\n",
    "    for _class in classes:\n",
    "        # Calculate homophily index\n",
    "        df = el_agg_c[el_agg_c['u1_class'] == _class]\n",
    "        n_total = df['meet_count'].sum()\n",
    "        n_same_gender = df[df['u1_gender']==df['u2_gender']]['meet_count'].sum()\n",
    "        hopi = n_same_gender/n_total\n",
    "        \n",
    "        # Calculate males and females in network for use in computing baseline homophily\n",
    "        us_c = list(set(df['u1']).union(set(df['u2'])))\n",
    "        ms, fs = 0, 0\n",
    "        for u in us_c:\n",
    "            if ind.loc[int(u)]['gender'] == 'F':\n",
    "                fs = fs + 1\n",
    "            else:\n",
    "                ms = ms + 1\n",
    "        \n",
    "        # Calculate baseline homophily\n",
    "        upper = ms*(ms-1)/2 + fs*(fs-1)/2\n",
    "        lower = (ms+fs)*(ms+fs-1)/2\n",
    "        ba_hopi = upper/lower\n",
    "\n",
    "        # Store inbreeding homophily for classes\n",
    "        class_hopi.append((hopi-ba_hopi)/(1-ba_hopi))\n",
    "    return np.mean(class_hopi)\n",
    "    \n",
    "# Print mean class inbreeding homophily\n",
    "inho = calc_inho(el_agg_c)\n",
    "print(round(inho,3))"
   ]
  },
  {
   "cell_type": "code",
   "execution_count": 11,
   "metadata": {},
   "outputs": [
    {
     "name": "stdout",
     "output_type": "stream",
     "text": [
      "The average inbreeding homophily is: 0.243 ± 0.06\n"
     ]
    }
   ],
   "source": [
    "# Bootstrap calculation of fraction of triangles k times\n",
    "k = 100\n",
    "inhos = [calc_inho(el_agg_c.sample(n=len(el_agg_c),replace=True)) for i in range(k)]\n",
    "se = np.std(inhos)\n",
    "print('The average inbreeding homophily is: {} ± {}'.format(round(inho,3),round(se,3)))\n",
    "\n",
    "# CONCLUSION: There is inbreeding homophily, meaning that people of the same gender tend to form links more often\n",
    "#             than if link formation were random."
   ]
  },
  {
   "cell_type": "markdown",
   "metadata": {},
   "source": [
    "> **Ex. 13.1.6** (BONUS): Describe what an unsupported edge is. Construct a test of whether there is a preference for forming  triangles within same gender than across.\n",
    ">\n",
    ">> *Hint:*  You can find inspiration in the approach of [Chandrasekhar, Jackson (2018)](https://web.stanford.edu/~arungc/CJ_sugm.pdf) pp. 31-35. They construct an almost identical test for triangle formation across castes in Indian villages."
   ]
  },
  {
   "cell_type": "code",
   "execution_count": 12,
   "metadata": {},
   "outputs": [],
   "source": [
    "# [Answer to ex. 13.1.6 here]"
   ]
  }
 ],
 "metadata": {
  "kernelspec": {
   "display_name": "Python 3",
   "language": "python",
   "name": "python3"
  },
  "language_info": {
   "codemirror_mode": {
    "name": "ipython",
    "version": 3
   },
   "file_extension": ".py",
   "mimetype": "text/x-python",
   "name": "python",
   "nbconvert_exporter": "python",
   "pygments_lexer": "ipython3",
   "version": "3.7.4"
  }
 },
 "nbformat": 4,
 "nbformat_minor": 2
}
