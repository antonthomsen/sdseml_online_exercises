{
 "cells": [
  {
   "cell_type": "markdown",
   "metadata": {},
   "source": [
    "# Exercise Set 12: Peer effects \n",
    "\n",
    "\n",
    "In this Exercise Set 12 we will investigate peer effects data. "
   ]
  },
  {
   "cell_type": "code",
   "execution_count": 1,
   "metadata": {},
   "outputs": [],
   "source": [
    "import pandas as pd\n",
    "import numpy as np\n",
    "\n",
    "import matplotlib.pyplot as plt\n",
    "\n",
    "import statsmodels.api as sm"
   ]
  },
  {
   "cell_type": "markdown",
   "metadata": {},
   "source": [
    "## 12.1: roommate peer effects\n",
    "\n",
    "\n",
    "<br>\n",
    "<br>\n",
    "\n",
    "We use a simlated dataset which will give results that provide conclusions similar to Sacerdote (2000). \n",
    "\n",
    "### Data structuring \n",
    "\n",
    "Our data set does not contain a network but has an implicit one associated. We assume there is an edge between all room mates. \n",
    "\n",
    "> **Ex. 12.1.1:** Create a column called `person_other` with identity of the other person in room.\n",
    ">> *Hint:* You can get the unique people in the room by using `df.groupby('room').person.unique()`."
   ]
  },
  {
   "cell_type": "code",
   "execution_count": 2,
   "metadata": {},
   "outputs": [
    {
     "data": {
      "text/html": [
       "<div>\n",
       "<style scoped>\n",
       "    .dataframe tbody tr th:only-of-type {\n",
       "        vertical-align: middle;\n",
       "    }\n",
       "\n",
       "    .dataframe tbody tr th {\n",
       "        vertical-align: top;\n",
       "    }\n",
       "\n",
       "    .dataframe thead th {\n",
       "        text-align: right;\n",
       "    }\n",
       "</style>\n",
       "<table border=\"1\" class=\"dataframe\">\n",
       "  <thead>\n",
       "    <tr style=\"text-align: right;\">\n",
       "      <th></th>\n",
       "      <th>person</th>\n",
       "      <th>room</th>\n",
       "      <th>high_school_GPA</th>\n",
       "      <th>college_GPA</th>\n",
       "    </tr>\n",
       "  </thead>\n",
       "  <tbody>\n",
       "    <tr>\n",
       "      <th>0</th>\n",
       "      <td>0</td>\n",
       "      <td>351</td>\n",
       "      <td>-1.715472</td>\n",
       "      <td>-1.285307</td>\n",
       "    </tr>\n",
       "    <tr>\n",
       "      <th>1</th>\n",
       "      <td>1</td>\n",
       "      <td>738</td>\n",
       "      <td>-0.530190</td>\n",
       "      <td>-0.031833</td>\n",
       "    </tr>\n",
       "    <tr>\n",
       "      <th>2</th>\n",
       "      <td>2</td>\n",
       "      <td>247</td>\n",
       "      <td>-0.589543</td>\n",
       "      <td>-0.203230</td>\n",
       "    </tr>\n",
       "    <tr>\n",
       "      <th>3</th>\n",
       "      <td>3</td>\n",
       "      <td>751</td>\n",
       "      <td>-1.303115</td>\n",
       "      <td>0.982488</td>\n",
       "    </tr>\n",
       "    <tr>\n",
       "      <th>4</th>\n",
       "      <td>4</td>\n",
       "      <td>698</td>\n",
       "      <td>0.156678</td>\n",
       "      <td>-0.371632</td>\n",
       "    </tr>\n",
       "  </tbody>\n",
       "</table>\n",
       "</div>"
      ],
      "text/plain": [
       "   person  room  high_school_GPA  college_GPA\n",
       "0       0   351        -1.715472    -1.285307\n",
       "1       1   738        -0.530190    -0.031833\n",
       "2       2   247        -0.589543    -0.203230\n",
       "3       3   751        -1.303115     0.982488\n",
       "4       4   698         0.156678    -0.371632"
      ]
     },
     "execution_count": 2,
     "metadata": {},
     "output_type": "execute_result"
    }
   ],
   "source": [
    "data = pd.read_csv ('peer_effects_room.csv')\n",
    "    \n",
    "data.head()  "
   ]
  },
  {
   "cell_type": "raw",
   "metadata": {},
   "source": [
    "# tried to to it this way, but didn't know how to do the next step. \n",
    "\n",
    "data['roommates']= data.room.map(data.groupby(['room'])['person'].unique())\n",
    "\n",
    "print(data.info())\n",
    "data.person_other[0][1]"
   ]
  },
  {
   "cell_type": "code",
   "execution_count": 17,
   "metadata": {},
   "outputs": [
    {
     "name": "stdout",
     "output_type": "stream",
     "text": [
      "      person  room  high_school_GPA  college_GPA  person_other\n",
      "3870    1757     0        -0.181905     0.566177          1603\n",
      "3871    1757     0        -0.181905     0.566177          1757\n",
      "3868    1603     0        -0.622770     0.540078          1603\n",
      "3869    1603     0        -0.622770     0.540078          1757\n",
      "1640     466     1        -2.248266    -3.596904           466\n",
      "...      ...   ...              ...          ...           ...\n",
      "552      146   998         0.482787     0.702133           146\n",
      "2260     692   999        -0.058092    -0.211056           692\n",
      "2262    1810   999        -0.669004     0.755504           692\n",
      "2263    1810   999        -0.669004     0.755504          1810\n",
      "2261     692   999        -0.058092    -0.211056          1810\n",
      "\n",
      "[4000 rows x 5 columns]\n",
      "      person  room  high_school_GPA  college_GPA  person_other\n",
      "3869    1603     0        -0.622770     0.540078          1757\n",
      "3870    1757     0        -0.181905     0.566177          1603\n",
      "1642    1649     1         0.378918     0.033256           466\n",
      "1641     466     1        -2.248266    -3.596904          1649\n",
      "2573     816     2        -0.798128    -1.811919          1929\n",
      "...      ...   ...              ...          ...           ...\n",
      "3626    1855   997         0.564039     1.602367          1420\n",
      "554     1740   998         0.197968    -0.178606           146\n",
      "553      146   998         0.482787     0.702133          1740\n",
      "2262    1810   999        -0.669004     0.755504           692\n",
      "2261     692   999        -0.058092    -0.211056          1810\n",
      "\n",
      "[2000 rows x 5 columns]\n"
     ]
    }
   ],
   "source": [
    "# writup code:\n",
    "# really clever way to solve this problem \n",
    "df_double = data.merge(data[['person','room']], \n",
    "                    on = 'room',\n",
    "                    suffixes = ('', '_other')\n",
    "                    )\n",
    "print(df_double.sort_values(['room']))\n",
    "\n",
    "df = df_double[df_double['person'] != df_double['person_other']] # keep only the rows in which the person is unequal the other person\n",
    "print(df.sort_values(['room']))"
   ]
  },
  {
   "cell_type": "markdown",
   "metadata": {},
   "source": [
    "<br>\n",
    "\n",
    "> **Ex. 12.1.2:** Add information on the roommate GPA in high school and college.\n",
    ">> *Hint:* This can be done merging on `person_other`."
   ]
  },
  {
   "cell_type": "code",
   "execution_count": 4,
   "metadata": {},
   "outputs": [
    {
     "data": {
      "text/html": [
       "<div>\n",
       "<style scoped>\n",
       "    .dataframe tbody tr th:only-of-type {\n",
       "        vertical-align: middle;\n",
       "    }\n",
       "\n",
       "    .dataframe tbody tr th {\n",
       "        vertical-align: top;\n",
       "    }\n",
       "\n",
       "    .dataframe thead th {\n",
       "        text-align: right;\n",
       "    }\n",
       "</style>\n",
       "<table border=\"1\" class=\"dataframe\">\n",
       "  <thead>\n",
       "    <tr style=\"text-align: right;\">\n",
       "      <th></th>\n",
       "      <th>person_other</th>\n",
       "      <th>high_school_GPA_other</th>\n",
       "      <th>college_GPA_other</th>\n",
       "    </tr>\n",
       "  </thead>\n",
       "  <tbody>\n",
       "    <tr>\n",
       "      <th>0</th>\n",
       "      <td>0</td>\n",
       "      <td>-1.715472</td>\n",
       "      <td>-1.285307</td>\n",
       "    </tr>\n",
       "    <tr>\n",
       "      <th>1</th>\n",
       "      <td>1</td>\n",
       "      <td>-0.530190</td>\n",
       "      <td>-0.031833</td>\n",
       "    </tr>\n",
       "    <tr>\n",
       "      <th>2</th>\n",
       "      <td>2</td>\n",
       "      <td>-0.589543</td>\n",
       "      <td>-0.203230</td>\n",
       "    </tr>\n",
       "    <tr>\n",
       "      <th>3</th>\n",
       "      <td>3</td>\n",
       "      <td>-1.303115</td>\n",
       "      <td>0.982488</td>\n",
       "    </tr>\n",
       "    <tr>\n",
       "      <th>4</th>\n",
       "      <td>4</td>\n",
       "      <td>0.156678</td>\n",
       "      <td>-0.371632</td>\n",
       "    </tr>\n",
       "  </tbody>\n",
       "</table>\n",
       "</div>"
      ],
      "text/plain": [
       "   person_other  high_school_GPA_other  college_GPA_other\n",
       "0             0              -1.715472          -1.285307\n",
       "1             1              -0.530190          -0.031833\n",
       "2             2              -0.589543          -0.203230\n",
       "3             3              -1.303115           0.982488\n",
       "4             4               0.156678          -0.371632"
      ]
     },
     "execution_count": 4,
     "metadata": {},
     "output_type": "execute_result"
    }
   ],
   "source": [
    "# [Answer to ex. 12.1.2 here]\n",
    "copy = data[['person', 'high_school_GPA', 'college_GPA']]\n",
    "copy= copy.rename(columns={'person':'person_other','high_school_GPA':'high_school_GPA_other','college_GPA':'college_GPA_other'})\n",
    "copy.head()"
   ]
  },
  {
   "cell_type": "code",
   "execution_count": 5,
   "metadata": {},
   "outputs": [
    {
     "data": {
      "text/html": [
       "<div>\n",
       "<style scoped>\n",
       "    .dataframe tbody tr th:only-of-type {\n",
       "        vertical-align: middle;\n",
       "    }\n",
       "\n",
       "    .dataframe tbody tr th {\n",
       "        vertical-align: top;\n",
       "    }\n",
       "\n",
       "    .dataframe thead th {\n",
       "        text-align: right;\n",
       "    }\n",
       "</style>\n",
       "<table border=\"1\" class=\"dataframe\">\n",
       "  <thead>\n",
       "    <tr style=\"text-align: right;\">\n",
       "      <th></th>\n",
       "      <th>person</th>\n",
       "      <th>room</th>\n",
       "      <th>high_school_GPA</th>\n",
       "      <th>college_GPA</th>\n",
       "      <th>person_other</th>\n",
       "      <th>high_school_GPA_other</th>\n",
       "      <th>college_GPA_other</th>\n",
       "    </tr>\n",
       "  </thead>\n",
       "  <tbody>\n",
       "    <tr>\n",
       "      <th>1934</th>\n",
       "      <td>1603</td>\n",
       "      <td>0</td>\n",
       "      <td>-0.622770</td>\n",
       "      <td>0.540078</td>\n",
       "      <td>1757</td>\n",
       "      <td>-0.181905</td>\n",
       "      <td>0.566177</td>\n",
       "    </tr>\n",
       "    <tr>\n",
       "      <th>1935</th>\n",
       "      <td>1757</td>\n",
       "      <td>0</td>\n",
       "      <td>-0.181905</td>\n",
       "      <td>0.566177</td>\n",
       "      <td>1603</td>\n",
       "      <td>-0.622770</td>\n",
       "      <td>0.540078</td>\n",
       "    </tr>\n",
       "    <tr>\n",
       "      <th>821</th>\n",
       "      <td>1649</td>\n",
       "      <td>1</td>\n",
       "      <td>0.378918</td>\n",
       "      <td>0.033256</td>\n",
       "      <td>466</td>\n",
       "      <td>-2.248266</td>\n",
       "      <td>-3.596904</td>\n",
       "    </tr>\n",
       "    <tr>\n",
       "      <th>820</th>\n",
       "      <td>466</td>\n",
       "      <td>1</td>\n",
       "      <td>-2.248266</td>\n",
       "      <td>-3.596904</td>\n",
       "      <td>1649</td>\n",
       "      <td>0.378918</td>\n",
       "      <td>0.033256</td>\n",
       "    </tr>\n",
       "    <tr>\n",
       "      <th>1286</th>\n",
       "      <td>816</td>\n",
       "      <td>2</td>\n",
       "      <td>-0.798128</td>\n",
       "      <td>-1.811919</td>\n",
       "      <td>1929</td>\n",
       "      <td>-0.095399</td>\n",
       "      <td>-0.052611</td>\n",
       "    </tr>\n",
       "    <tr>\n",
       "      <th>...</th>\n",
       "      <td>...</td>\n",
       "      <td>...</td>\n",
       "      <td>...</td>\n",
       "      <td>...</td>\n",
       "      <td>...</td>\n",
       "      <td>...</td>\n",
       "      <td>...</td>\n",
       "    </tr>\n",
       "    <tr>\n",
       "      <th>1813</th>\n",
       "      <td>1855</td>\n",
       "      <td>997</td>\n",
       "      <td>0.564039</td>\n",
       "      <td>1.602367</td>\n",
       "      <td>1420</td>\n",
       "      <td>-1.154951</td>\n",
       "      <td>0.628081</td>\n",
       "    </tr>\n",
       "    <tr>\n",
       "      <th>277</th>\n",
       "      <td>1740</td>\n",
       "      <td>998</td>\n",
       "      <td>0.197968</td>\n",
       "      <td>-0.178606</td>\n",
       "      <td>146</td>\n",
       "      <td>0.482787</td>\n",
       "      <td>0.702133</td>\n",
       "    </tr>\n",
       "    <tr>\n",
       "      <th>276</th>\n",
       "      <td>146</td>\n",
       "      <td>998</td>\n",
       "      <td>0.482787</td>\n",
       "      <td>0.702133</td>\n",
       "      <td>1740</td>\n",
       "      <td>0.197968</td>\n",
       "      <td>-0.178606</td>\n",
       "    </tr>\n",
       "    <tr>\n",
       "      <th>1131</th>\n",
       "      <td>1810</td>\n",
       "      <td>999</td>\n",
       "      <td>-0.669004</td>\n",
       "      <td>0.755504</td>\n",
       "      <td>692</td>\n",
       "      <td>-0.058092</td>\n",
       "      <td>-0.211056</td>\n",
       "    </tr>\n",
       "    <tr>\n",
       "      <th>1130</th>\n",
       "      <td>692</td>\n",
       "      <td>999</td>\n",
       "      <td>-0.058092</td>\n",
       "      <td>-0.211056</td>\n",
       "      <td>1810</td>\n",
       "      <td>-0.669004</td>\n",
       "      <td>0.755504</td>\n",
       "    </tr>\n",
       "  </tbody>\n",
       "</table>\n",
       "<p>2000 rows × 7 columns</p>\n",
       "</div>"
      ],
      "text/plain": [
       "      person  room  high_school_GPA  college_GPA  person_other  \\\n",
       "1934    1603     0        -0.622770     0.540078          1757   \n",
       "1935    1757     0        -0.181905     0.566177          1603   \n",
       "821     1649     1         0.378918     0.033256           466   \n",
       "820      466     1        -2.248266    -3.596904          1649   \n",
       "1286     816     2        -0.798128    -1.811919          1929   \n",
       "...      ...   ...              ...          ...           ...   \n",
       "1813    1855   997         0.564039     1.602367          1420   \n",
       "277     1740   998         0.197968    -0.178606           146   \n",
       "276      146   998         0.482787     0.702133          1740   \n",
       "1131    1810   999        -0.669004     0.755504           692   \n",
       "1130     692   999        -0.058092    -0.211056          1810   \n",
       "\n",
       "      high_school_GPA_other  college_GPA_other  \n",
       "1934              -0.181905           0.566177  \n",
       "1935              -0.622770           0.540078  \n",
       "821               -2.248266          -3.596904  \n",
       "820                0.378918           0.033256  \n",
       "1286              -0.095399          -0.052611  \n",
       "...                     ...                ...  \n",
       "1813              -1.154951           0.628081  \n",
       "277                0.482787           0.702133  \n",
       "276                0.197968          -0.178606  \n",
       "1131              -0.058092          -0.211056  \n",
       "1130              -0.669004           0.755504  \n",
       "\n",
       "[2000 rows x 7 columns]"
      ]
     },
     "execution_count": 5,
     "metadata": {},
     "output_type": "execute_result"
    }
   ],
   "source": [
    "df = df.merge(copy, on='person_other')\n",
    "df.sort_values(['room'])"
   ]
  },
  {
   "cell_type": "raw",
   "metadata": {},
   "source": [
    "# write-up\n",
    "df = df_single.merge(df_single,\n",
    "                    left_on = 'person_other',\n",
    "                    right_on = 'person',\n",
    "                    suffixes = ('', '_other')\n",
    "                    )"
   ]
  },
  {
   "cell_type": "markdown",
   "metadata": {},
   "source": [
    "<br>\n",
    "<br>\n",
    "\n",
    "### Data exploration and randomization\n",
    "\n",
    "We now have our final dataset and can begin investigating how the raw data looks. \n",
    "\n",
    "> **Ex. 12.1.3:** plot own GPA in high school vs college in a scatter plot."
   ]
  },
  {
   "cell_type": "code",
   "execution_count": 6,
   "metadata": {},
   "outputs": [
    {
     "data": {
      "text/plain": [
       "Text(0.5, 0, 'College GPA')"
      ]
     },
     "execution_count": 6,
     "metadata": {},
     "output_type": "execute_result"
    },
    {
     "data": {
      "image/png": "[encoded data removed]",
      "text/plain": [
       "<Figure size 864x864 with 1 Axes>"
      ]
     },
     "metadata": {
      "needs_background": "light"
     },
     "output_type": "display_data"
    }
   ],
   "source": [
    "# [Answer to ex. 12.1.3 here]\n",
    "fig, ax = plt.subplots(figsize=[12,12])\n",
    "plt.scatter(data['college_GPA'],data['high_school_GPA'])\n",
    "plt.ylabel('High school GPA')\n",
    "plt.xlabel('College GPA')\n",
    "\n",
    "# did not have much time: gonna think more properly about figures. But thanks for the input in the writup"
   ]
  },
  {
   "cell_type": "markdown",
   "metadata": {},
   "source": [
    "<br>\n",
    "We want to check there is random assignment of roommates. \n",
    "\n",
    "> **Ex. 12.1.4:** Plot high school GPA vs roommate's high school GPA. Comment on the output. Run a regresion of high school GPA on roommate's high school GPA to formally check random assignment.\n",
    ">\n",
    ">> *Hint*: To run regressions in python, you can use the `statsmodels` package. Look up it's documentation and use the `.formula` api to estimate your model. To see a summary of a fitted model you can call `.summary()` on the object. \n",
    ">\n",
    ">> *Hint:* Under random assignment we would expect there to be no relation between the high school GPA's of roommates. Why is this? "
   ]
  },
  {
   "cell_type": "code",
   "execution_count": 7,
   "metadata": {},
   "outputs": [
    {
     "data": {
      "text/plain": [
       "Text(0.5, 0, 'Roommate High school GPA')"
      ]
     },
     "execution_count": 7,
     "metadata": {},
     "output_type": "execute_result"
    },
    {
     "data": {
      "image/png": "[encoded data removed]",
      "text/plain": [
       "<Figure size 864x864 with 1 Axes>"
      ]
     },
     "metadata": {
      "needs_background": "light"
     },
     "output_type": "display_data"
    }
   ],
   "source": [
    "# [Answer to ex. 12.1.4 here]\n",
    "fig, ax = plt.subplots(figsize=[12,12])\n",
    "plt.scatter(df['high_school_GPA'],df['high_school_GPA_other'])\n",
    "plt.ylabel('High school GPA')\n",
    "plt.xlabel('Roommate High school GPA')"
   ]
  },
  {
   "cell_type": "code",
   "execution_count": 11,
   "metadata": {},
   "outputs": [
    {
     "data": {
      "text/html": [
       "<table class=\"simpletable\">\n",
       "<caption>OLS Regression Results</caption>\n",
       "<tr>\n",
       "  <th>Dep. Variable:</th>     <td>high_school_GPA</td> <th>  R-squared:         </th> <td>   0.000</td>\n",
       "</tr>\n",
       "<tr>\n",
       "  <th>Model:</th>                   <td>OLS</td>       <th>  Adj. R-squared:    </th> <td>  -0.000</td>\n",
       "</tr>\n",
       "<tr>\n",
       "  <th>Method:</th>             <td>Least Squares</td>  <th>  F-statistic:       </th> <td> 0.07263</td>\n",
       "</tr>\n",
       "<tr>\n",
       "  <th>Date:</th>             <td>Wed, 20 May 2020</td> <th>  Prob (F-statistic):</th>  <td> 0.788</td> \n",
       "</tr>\n",
       "<tr>\n",
       "  <th>Time:</th>                 <td>16:32:54</td>     <th>  Log-Likelihood:    </th> <td> -2883.6</td>\n",
       "</tr>\n",
       "<tr>\n",
       "  <th>No. Observations:</th>      <td>  2000</td>      <th>  AIC:               </th> <td>   5771.</td>\n",
       "</tr>\n",
       "<tr>\n",
       "  <th>Df Residuals:</th>          <td>  1998</td>      <th>  BIC:               </th> <td>   5782.</td>\n",
       "</tr>\n",
       "<tr>\n",
       "  <th>Df Model:</th>              <td>     1</td>      <th>                     </th>     <td> </td>   \n",
       "</tr>\n",
       "<tr>\n",
       "  <th>Covariance Type:</th>      <td>nonrobust</td>    <th>                     </th>     <td> </td>   \n",
       "</tr>\n",
       "</table>\n",
       "<table class=\"simpletable\">\n",
       "<tr>\n",
       "            <td></td>               <th>coef</th>     <th>std err</th>      <th>t</th>      <th>P>|t|</th>  <th>[0.025</th>    <th>0.975]</th>  \n",
       "</tr>\n",
       "<tr>\n",
       "  <th>const</th>                 <td>   -0.0284</td> <td>    0.023</td> <td>   -1.241</td> <td> 0.215</td> <td>   -0.073</td> <td>    0.016</td>\n",
       "</tr>\n",
       "<tr>\n",
       "  <th>high_school_GPA_other</th> <td>   -0.0060</td> <td>    0.022</td> <td>   -0.269</td> <td> 0.788</td> <td>   -0.050</td> <td>    0.038</td>\n",
       "</tr>\n",
       "</table>\n",
       "<table class=\"simpletable\">\n",
       "<tr>\n",
       "  <th>Omnibus:</th>       <td> 0.231</td> <th>  Durbin-Watson:     </th> <td>   1.982</td>\n",
       "</tr>\n",
       "<tr>\n",
       "  <th>Prob(Omnibus):</th> <td> 0.891</td> <th>  Jarque-Bera (JB):  </th> <td>   0.288</td>\n",
       "</tr>\n",
       "<tr>\n",
       "  <th>Skew:</th>          <td> 0.015</td> <th>  Prob(JB):          </th> <td>   0.866</td>\n",
       "</tr>\n",
       "<tr>\n",
       "  <th>Kurtosis:</th>      <td> 2.949</td> <th>  Cond. No.          </th> <td>    1.04</td>\n",
       "</tr>\n",
       "</table><br/><br/>Warnings:<br/>[1] Standard Errors assume that the covariance matrix of the errors is correctly specified."
      ],
      "text/plain": [
       "<class 'statsmodels.iolib.summary.Summary'>\n",
       "\"\"\"\n",
       "                            OLS Regression Results                            \n",
       "==============================================================================\n",
       "Dep. Variable:        high_school_GPA   R-squared:                       0.000\n",
       "Model:                            OLS   Adj. R-squared:                 -0.000\n",
       "Method:                 Least Squares   F-statistic:                   0.07263\n",
       "Date:                Wed, 20 May 2020   Prob (F-statistic):              0.788\n",
       "Time:                        16:32:54   Log-Likelihood:                -2883.6\n",
       "No. Observations:                2000   AIC:                             5771.\n",
       "Df Residuals:                    1998   BIC:                             5782.\n",
       "Df Model:                           1                                         \n",
       "Covariance Type:            nonrobust                                         \n",
       "=========================================================================================\n",
       "                            coef    std err          t      P>|t|      [0.025      0.975]\n",
       "-----------------------------------------------------------------------------------------\n",
       "const                    -0.0284      0.023     -1.241      0.215      -0.073       0.016\n",
       "high_school_GPA_other    -0.0060      0.022     -0.269      0.788      -0.050       0.038\n",
       "==============================================================================\n",
       "Omnibus:                        0.231   Durbin-Watson:                   1.982\n",
       "Prob(Omnibus):                  0.891   Jarque-Bera (JB):                0.288\n",
       "Skew:                           0.015   Prob(JB):                        0.866\n",
       "Kurtosis:                       2.949   Cond. No.                         1.04\n",
       "==============================================================================\n",
       "\n",
       "Warnings:\n",
       "[1] Standard Errors assume that the covariance matrix of the errors is correctly specified.\n",
       "\"\"\""
      ]
     },
     "execution_count": 11,
     "metadata": {},
     "output_type": "execute_result"
    }
   ],
   "source": [
    "Y = df['high_school_GPA']\n",
    "X = df['high_school_GPA_other']\n",
    "X = sm.add_constant(X)\n",
    "\n",
    "model = sm.OLS(Y,X)\n",
    "results = model.fit()\n",
    "results.summary()"
   ]
  },
  {
   "cell_type": "code",
   "execution_count": 10,
   "metadata": {},
   "outputs": [
    {
     "data": {
      "text/html": [
       "<table class=\"simpletable\">\n",
       "<caption>OLS Regression Results</caption>\n",
       "<tr>\n",
       "  <th>Dep. Variable:</th>     <td>high_school_GPA</td> <th>  R-squared:         </th> <td>   0.000</td>\n",
       "</tr>\n",
       "<tr>\n",
       "  <th>Model:</th>                   <td>OLS</td>       <th>  Adj. R-squared:    </th> <td>  -0.000</td>\n",
       "</tr>\n",
       "<tr>\n",
       "  <th>Method:</th>             <td>Least Squares</td>  <th>  F-statistic:       </th> <td> 0.07263</td>\n",
       "</tr>\n",
       "<tr>\n",
       "  <th>Date:</th>             <td>Wed, 20 May 2020</td> <th>  Prob (F-statistic):</th>  <td> 0.788</td> \n",
       "</tr>\n",
       "<tr>\n",
       "  <th>Time:</th>                 <td>16:32:12</td>     <th>  Log-Likelihood:    </th> <td> -2883.6</td>\n",
       "</tr>\n",
       "<tr>\n",
       "  <th>No. Observations:</th>      <td>  2000</td>      <th>  AIC:               </th> <td>   5771.</td>\n",
       "</tr>\n",
       "<tr>\n",
       "  <th>Df Residuals:</th>          <td>  1998</td>      <th>  BIC:               </th> <td>   5782.</td>\n",
       "</tr>\n",
       "<tr>\n",
       "  <th>Df Model:</th>              <td>     1</td>      <th>                     </th>     <td> </td>   \n",
       "</tr>\n",
       "<tr>\n",
       "  <th>Covariance Type:</th>      <td>nonrobust</td>    <th>                     </th>     <td> </td>   \n",
       "</tr>\n",
       "</table>\n",
       "<table class=\"simpletable\">\n",
       "<tr>\n",
       "            <td></td>               <th>coef</th>     <th>std err</th>      <th>t</th>      <th>P>|t|</th>  <th>[0.025</th>    <th>0.975]</th>  \n",
       "</tr>\n",
       "<tr>\n",
       "  <th>Intercept</th>             <td>   -0.0284</td> <td>    0.023</td> <td>   -1.241</td> <td> 0.215</td> <td>   -0.073</td> <td>    0.016</td>\n",
       "</tr>\n",
       "<tr>\n",
       "  <th>high_school_GPA_other</th> <td>   -0.0060</td> <td>    0.022</td> <td>   -0.269</td> <td> 0.788</td> <td>   -0.050</td> <td>    0.038</td>\n",
       "</tr>\n",
       "</table>\n",
       "<table class=\"simpletable\">\n",
       "<tr>\n",
       "  <th>Omnibus:</th>       <td> 0.231</td> <th>  Durbin-Watson:     </th> <td>   1.982</td>\n",
       "</tr>\n",
       "<tr>\n",
       "  <th>Prob(Omnibus):</th> <td> 0.891</td> <th>  Jarque-Bera (JB):  </th> <td>   0.288</td>\n",
       "</tr>\n",
       "<tr>\n",
       "  <th>Skew:</th>          <td> 0.015</td> <th>  Prob(JB):          </th> <td>   0.866</td>\n",
       "</tr>\n",
       "<tr>\n",
       "  <th>Kurtosis:</th>      <td> 2.949</td> <th>  Cond. No.          </th> <td>    1.04</td>\n",
       "</tr>\n",
       "</table><br/><br/>Warnings:<br/>[1] Standard Errors assume that the covariance matrix of the errors is correctly specified."
      ],
      "text/plain": [
       "<class 'statsmodels.iolib.summary.Summary'>\n",
       "\"\"\"\n",
       "                            OLS Regression Results                            \n",
       "==============================================================================\n",
       "Dep. Variable:        high_school_GPA   R-squared:                       0.000\n",
       "Model:                            OLS   Adj. R-squared:                 -0.000\n",
       "Method:                 Least Squares   F-statistic:                   0.07263\n",
       "Date:                Wed, 20 May 2020   Prob (F-statistic):              0.788\n",
       "Time:                        16:32:12   Log-Likelihood:                -2883.6\n",
       "No. Observations:                2000   AIC:                             5771.\n",
       "Df Residuals:                    1998   BIC:                             5782.\n",
       "Df Model:                           1                                         \n",
       "Covariance Type:            nonrobust                                         \n",
       "=========================================================================================\n",
       "                            coef    std err          t      P>|t|      [0.025      0.975]\n",
       "-----------------------------------------------------------------------------------------\n",
       "Intercept                -0.0284      0.023     -1.241      0.215      -0.073       0.016\n",
       "high_school_GPA_other    -0.0060      0.022     -0.269      0.788      -0.050       0.038\n",
       "==============================================================================\n",
       "Omnibus:                        0.231   Durbin-Watson:                   1.982\n",
       "Prob(Omnibus):                  0.891   Jarque-Bera (JB):                0.288\n",
       "Skew:                           0.015   Prob(JB):                        0.866\n",
       "Kurtosis:                       2.949   Cond. No.                         1.04\n",
       "==============================================================================\n",
       "\n",
       "Warnings:\n",
       "[1] Standard Errors assume that the covariance matrix of the errors is correctly specified.\n",
       "\"\"\""
      ]
     },
     "execution_count": 10,
     "metadata": {},
     "output_type": "execute_result"
    }
   ],
   "source": [
    "results = sm.formula.ols('high_school_GPA ~ high_school_GPA_other', data=df).fit()\n",
    "results.summary()"
   ]
  },
  {
   "cell_type": "markdown",
   "metadata": {},
   "source": [
    "<br>\n",
    "<br>\n",
    "\n",
    "## Roommate effect\n",
    "\n",
    "Having checked the data we move on to analyzing peer effects. We begin with analyzing **exogenous** peer effects. I.e. peer effects that are related to the ex ante characteristics of the roommate.\n",
    "\n",
    "> **Ex. 12.1.5:** Plot own GPA in college vs. roommate GPA in high school. Comment on the output. Test whether there is an impact using a regresion of college school GPA on high school GPA for the person itself and its roommate."
   ]
  },
  {
   "cell_type": "code",
   "execution_count": 12,
   "metadata": {},
   "outputs": [
    {
     "data": {
      "text/plain": [
       "Text(0.5, 0, 'Roommate High school GPA')"
      ]
     },
     "execution_count": 12,
     "metadata": {},
     "output_type": "execute_result"
    },
    {
     "data": {
      "image/png": "[encoded data removed]",
      "text/plain": [
       "<Figure size 864x864 with 1 Axes>"
      ]
     },
     "metadata": {
      "needs_background": "light"
     },
     "output_type": "display_data"
    }
   ],
   "source": [
    "# [Answer to ex. 12.1.5 here]\n",
    "fig, ax = plt.subplots(figsize=[12,12])\n",
    "plt.scatter(df['college_GPA'],df['high_school_GPA_other'])\n",
    "plt.ylabel('College GPA')\n",
    "plt.xlabel('Roommate High school GPA')"
   ]
  },
  {
   "cell_type": "markdown",
   "metadata": {},
   "source": [
    "We now move on to analyze **endogenous** peer effects.\n",
    "\n",
    "> **Ex. 12.1.6:** Test whether there is an association between own college GPA and roommates. Do this by running a regresion of college school GPA on high school GPA for the person itself and its roommate. Comment on the output."
   ]
  },
  {
   "cell_type": "code",
   "execution_count": 16,
   "metadata": {},
   "outputs": [
    {
     "data": {
      "text/html": [
       "<table class=\"simpletable\">\n",
       "<caption>OLS Regression Results</caption>\n",
       "<tr>\n",
       "  <th>Dep. Variable:</th>       <td>college_GPA</td>   <th>  R-squared:         </th> <td>   0.405</td> \n",
       "</tr>\n",
       "<tr>\n",
       "  <th>Model:</th>                   <td>OLS</td>       <th>  Adj. R-squared:    </th> <td>   0.405</td> \n",
       "</tr>\n",
       "<tr>\n",
       "  <th>Method:</th>             <td>Least Squares</td>  <th>  F-statistic:       </th> <td>   680.4</td> \n",
       "</tr>\n",
       "<tr>\n",
       "  <th>Date:</th>             <td>Wed, 20 May 2020</td> <th>  Prob (F-statistic):</th> <td>4.46e-226</td>\n",
       "</tr>\n",
       "<tr>\n",
       "  <th>Time:</th>                 <td>16:34:54</td>     <th>  Log-Likelihood:    </th> <td> -2580.6</td> \n",
       "</tr>\n",
       "<tr>\n",
       "  <th>No. Observations:</th>      <td>  2000</td>      <th>  AIC:               </th> <td>   5167.</td> \n",
       "</tr>\n",
       "<tr>\n",
       "  <th>Df Residuals:</th>          <td>  1997</td>      <th>  BIC:               </th> <td>   5184.</td> \n",
       "</tr>\n",
       "<tr>\n",
       "  <th>Df Model:</th>              <td>     2</td>      <th>                     </th>     <td> </td>    \n",
       "</tr>\n",
       "<tr>\n",
       "  <th>Covariance Type:</th>      <td>nonrobust</td>    <th>                     </th>     <td> </td>    \n",
       "</tr>\n",
       "</table>\n",
       "<table class=\"simpletable\">\n",
       "<tr>\n",
       "          <td></td>             <th>coef</th>     <th>std err</th>      <th>t</th>      <th>P>|t|</th>  <th>[0.025</th>    <th>0.975]</th>  \n",
       "</tr>\n",
       "<tr>\n",
       "  <th>const</th>             <td>   -0.0209</td> <td>    0.020</td> <td>   -1.059</td> <td> 0.290</td> <td>   -0.059</td> <td>    0.018</td>\n",
       "</tr>\n",
       "<tr>\n",
       "  <th>high_school_GPA</th>   <td>    0.7036</td> <td>    0.019</td> <td>   36.574</td> <td> 0.000</td> <td>    0.666</td> <td>    0.741</td>\n",
       "</tr>\n",
       "<tr>\n",
       "  <th>college_GPA_other</th> <td>    0.0654</td> <td>    0.017</td> <td>    3.788</td> <td> 0.000</td> <td>    0.032</td> <td>    0.099</td>\n",
       "</tr>\n",
       "</table>\n",
       "<table class=\"simpletable\">\n",
       "<tr>\n",
       "  <th>Omnibus:</th>       <td>78.932</td> <th>  Durbin-Watson:     </th> <td>   2.073</td>\n",
       "</tr>\n",
       "<tr>\n",
       "  <th>Prob(Omnibus):</th> <td> 0.000</td> <th>  Jarque-Bera (JB):  </th> <td> 219.446</td>\n",
       "</tr>\n",
       "<tr>\n",
       "  <th>Skew:</th>          <td>-0.117</td> <th>  Prob(JB):          </th> <td>2.23e-48</td>\n",
       "</tr>\n",
       "<tr>\n",
       "  <th>Kurtosis:</th>      <td> 4.606</td> <th>  Cond. No.          </th> <td>    1.15</td>\n",
       "</tr>\n",
       "</table><br/><br/>Warnings:<br/>[1] Standard Errors assume that the covariance matrix of the errors is correctly specified."
      ],
      "text/plain": [
       "<class 'statsmodels.iolib.summary.Summary'>\n",
       "\"\"\"\n",
       "                            OLS Regression Results                            \n",
       "==============================================================================\n",
       "Dep. Variable:            college_GPA   R-squared:                       0.405\n",
       "Model:                            OLS   Adj. R-squared:                  0.405\n",
       "Method:                 Least Squares   F-statistic:                     680.4\n",
       "Date:                Wed, 20 May 2020   Prob (F-statistic):          4.46e-226\n",
       "Time:                        16:34:54   Log-Likelihood:                -2580.6\n",
       "No. Observations:                2000   AIC:                             5167.\n",
       "Df Residuals:                    1997   BIC:                             5184.\n",
       "Df Model:                           2                                         \n",
       "Covariance Type:            nonrobust                                         \n",
       "=====================================================================================\n",
       "                        coef    std err          t      P>|t|      [0.025      0.975]\n",
       "-------------------------------------------------------------------------------------\n",
       "const                -0.0209      0.020     -1.059      0.290      -0.059       0.018\n",
       "high_school_GPA       0.7036      0.019     36.574      0.000       0.666       0.741\n",
       "college_GPA_other     0.0654      0.017      3.788      0.000       0.032       0.099\n",
       "==============================================================================\n",
       "Omnibus:                       78.932   Durbin-Watson:                   2.073\n",
       "Prob(Omnibus):                  0.000   Jarque-Bera (JB):              219.446\n",
       "Skew:                          -0.117   Prob(JB):                     2.23e-48\n",
       "Kurtosis:                       4.606   Cond. No.                         1.15\n",
       "==============================================================================\n",
       "\n",
       "Warnings:\n",
       "[1] Standard Errors assume that the covariance matrix of the errors is correctly specified.\n",
       "\"\"\""
      ]
     },
     "execution_count": 16,
     "metadata": {},
     "output_type": "execute_result"
    }
   ],
   "source": [
    "# [Answer to ex. 12.1.6 here]\n",
    "Y = df['college_GPA']\n",
    "X = df[['high_school_GPA', 'college_GPA_other']]\n",
    "X = sm.add_constant(X)\n",
    "\n",
    "model = sm.OLS(Y,X)\n",
    "results = model.fit()\n",
    "results.summary()"
   ]
  },
  {
   "cell_type": "code",
   "execution_count": 14,
   "metadata": {},
   "outputs": [
    {
     "data": {
      "text/html": [
       "<table class=\"simpletable\">\n",
       "<caption>OLS Regression Results</caption>\n",
       "<tr>\n",
       "  <th>Dep. Variable:</th>       <td>college_GPA</td>   <th>  R-squared:         </th> <td>   0.405</td> \n",
       "</tr>\n",
       "<tr>\n",
       "  <th>Model:</th>                   <td>OLS</td>       <th>  Adj. R-squared:    </th> <td>   0.405</td> \n",
       "</tr>\n",
       "<tr>\n",
       "  <th>Method:</th>             <td>Least Squares</td>  <th>  F-statistic:       </th> <td>   680.4</td> \n",
       "</tr>\n",
       "<tr>\n",
       "  <th>Date:</th>             <td>Wed, 20 May 2020</td> <th>  Prob (F-statistic):</th> <td>4.46e-226</td>\n",
       "</tr>\n",
       "<tr>\n",
       "  <th>Time:</th>                 <td>16:33:22</td>     <th>  Log-Likelihood:    </th> <td> -2580.6</td> \n",
       "</tr>\n",
       "<tr>\n",
       "  <th>No. Observations:</th>      <td>  2000</td>      <th>  AIC:               </th> <td>   5167.</td> \n",
       "</tr>\n",
       "<tr>\n",
       "  <th>Df Residuals:</th>          <td>  1997</td>      <th>  BIC:               </th> <td>   5184.</td> \n",
       "</tr>\n",
       "<tr>\n",
       "  <th>Df Model:</th>              <td>     2</td>      <th>                     </th>     <td> </td>    \n",
       "</tr>\n",
       "<tr>\n",
       "  <th>Covariance Type:</th>      <td>nonrobust</td>    <th>                     </th>     <td> </td>    \n",
       "</tr>\n",
       "</table>\n",
       "<table class=\"simpletable\">\n",
       "<tr>\n",
       "          <td></td>             <th>coef</th>     <th>std err</th>      <th>t</th>      <th>P>|t|</th>  <th>[0.025</th>    <th>0.975]</th>  \n",
       "</tr>\n",
       "<tr>\n",
       "  <th>Intercept</th>         <td>   -0.0209</td> <td>    0.020</td> <td>   -1.059</td> <td> 0.290</td> <td>   -0.059</td> <td>    0.018</td>\n",
       "</tr>\n",
       "<tr>\n",
       "  <th>high_school_GPA</th>   <td>    0.7036</td> <td>    0.019</td> <td>   36.574</td> <td> 0.000</td> <td>    0.666</td> <td>    0.741</td>\n",
       "</tr>\n",
       "<tr>\n",
       "  <th>college_GPA_other</th> <td>    0.0654</td> <td>    0.017</td> <td>    3.788</td> <td> 0.000</td> <td>    0.032</td> <td>    0.099</td>\n",
       "</tr>\n",
       "</table>\n",
       "<table class=\"simpletable\">\n",
       "<tr>\n",
       "  <th>Omnibus:</th>       <td>78.932</td> <th>  Durbin-Watson:     </th> <td>   2.073</td>\n",
       "</tr>\n",
       "<tr>\n",
       "  <th>Prob(Omnibus):</th> <td> 0.000</td> <th>  Jarque-Bera (JB):  </th> <td> 219.446</td>\n",
       "</tr>\n",
       "<tr>\n",
       "  <th>Skew:</th>          <td>-0.117</td> <th>  Prob(JB):          </th> <td>2.23e-48</td>\n",
       "</tr>\n",
       "<tr>\n",
       "  <th>Kurtosis:</th>      <td> 4.606</td> <th>  Cond. No.          </th> <td>    1.15</td>\n",
       "</tr>\n",
       "</table><br/><br/>Warnings:<br/>[1] Standard Errors assume that the covariance matrix of the errors is correctly specified."
      ],
      "text/plain": [
       "<class 'statsmodels.iolib.summary.Summary'>\n",
       "\"\"\"\n",
       "                            OLS Regression Results                            \n",
       "==============================================================================\n",
       "Dep. Variable:            college_GPA   R-squared:                       0.405\n",
       "Model:                            OLS   Adj. R-squared:                  0.405\n",
       "Method:                 Least Squares   F-statistic:                     680.4\n",
       "Date:                Wed, 20 May 2020   Prob (F-statistic):          4.46e-226\n",
       "Time:                        16:33:22   Log-Likelihood:                -2580.6\n",
       "No. Observations:                2000   AIC:                             5167.\n",
       "Df Residuals:                    1997   BIC:                             5184.\n",
       "Df Model:                           2                                         \n",
       "Covariance Type:            nonrobust                                         \n",
       "=====================================================================================\n",
       "                        coef    std err          t      P>|t|      [0.025      0.975]\n",
       "-------------------------------------------------------------------------------------\n",
       "Intercept            -0.0209      0.020     -1.059      0.290      -0.059       0.018\n",
       "high_school_GPA       0.7036      0.019     36.574      0.000       0.666       0.741\n",
       "college_GPA_other     0.0654      0.017      3.788      0.000       0.032       0.099\n",
       "==============================================================================\n",
       "Omnibus:                       78.932   Durbin-Watson:                   2.073\n",
       "Prob(Omnibus):                  0.000   Jarque-Bera (JB):              219.446\n",
       "Skew:                          -0.117   Prob(JB):                     2.23e-48\n",
       "Kurtosis:                       4.606   Cond. No.                         1.15\n",
       "==============================================================================\n",
       "\n",
       "Warnings:\n",
       "[1] Standard Errors assume that the covariance matrix of the errors is correctly specified.\n",
       "\"\"\""
      ]
     },
     "execution_count": 14,
     "metadata": {},
     "output_type": "execute_result"
    }
   ],
   "source": [
    "results = sm.formula.ols('college_GPA ~ high_school_GPA + college_GPA_other', data=df).fit()\n",
    "results.summary()"
   ]
  },
  {
   "cell_type": "markdown",
   "metadata": {},
   "source": [
    "<br>\n",
    "<br>\n",
    "\n",
    "# 12.2 Peer effects in Danish classrooms\n",
    "\n",
    "Read the [report by Kraka on peer effects in Danish schools](http://kraka.dk/sites/default/files/public/baggrundsnotat_klassekammerateffekter_0.pdf) from 2019. If you do not speak Danish talk to your group about the content.\n",
    "> **Ex. 12.2.1:** Explain the identification strategy in words."
   ]
  },
  {
   "cell_type": "markdown",
   "metadata": {},
   "source": [
    "> **Ex. 12.2.2:** Are there any shortcomings of the identification strategy? What does the seminal paper [Hoxby (2000)](https://www.nber.org/papers/w78612.pdf) test for?"
   ]
  },
  {
   "cell_type": "markdown",
   "metadata": {},
   "source": [
    "> **Ex. 12.2.3:** Try to come up with identification strategies for identifying peer effects in the context of Danish class rooms."
   ]
  }
 ],
 "metadata": {
  "kernelspec": {
   "display_name": "Python 3",
   "language": "python",
   "name": "python3"
  },
  "language_info": {
   "codemirror_mode": {
    "name": "ipython",
    "version": 3
   },
   "file_extension": ".py",
   "mimetype": "text/x-python",
   "name": "python",
   "nbconvert_exporter": "python",
   "pygments_lexer": "ipython3",
   "version": "3.7.3"
  }
 },
 "nbformat": 4,
 "nbformat_minor": 2
}
