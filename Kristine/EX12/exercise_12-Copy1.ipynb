{
 "cells": [
  {
   "cell_type": "markdown",
   "metadata": {},
   "source": [
    "# Exercise Set 12: Peer effects \n",
    "\n",
    "\n",
    "In this Exercise Set 12 we will investigate peer effects data. "
   ]
  },
  {
   "cell_type": "markdown",
   "metadata": {},
   "source": [
    "## 12.1: roommate peer effects\n",
    "\n",
    "\n",
    "<br>\n",
    "<br>\n",
    "\n",
    "We use a simlated dataset which will give results that provide conclusions similar to Sacerdote (2000). \n",
    "\n",
    "### Data structuring \n",
    "\n",
    "Our data set does not contain a network but has an implicit one associated. We assume there is an edge between all room mates. \n",
    "\n",
    "> **Ex. 12.1.1:** Create a column called `person_other` with identity of the other person in room.\n",
    ">> *Hint:* You can get the unique people in the room by using `df.groupby('room').person.unique()`."
   ]
  },
  {
   "cell_type": "code",
   "execution_count": 23,
   "metadata": {},
   "outputs": [
    {
     "data": {
      "text/html": [
       "<div>\n",
       "<style scoped>\n",
       "    .dataframe tbody tr th:only-of-type {\n",
       "        vertical-align: middle;\n",
       "    }\n",
       "\n",
       "    .dataframe tbody tr th {\n",
       "        vertical-align: top;\n",
       "    }\n",
       "\n",
       "    .dataframe thead th {\n",
       "        text-align: right;\n",
       "    }\n",
       "</style>\n",
       "<table border=\"1\" class=\"dataframe\">\n",
       "  <thead>\n",
       "    <tr style=\"text-align: right;\">\n",
       "      <th></th>\n",
       "      <th>person</th>\n",
       "      <th>room</th>\n",
       "      <th>high_school_GPA</th>\n",
       "      <th>college_GPA</th>\n",
       "    </tr>\n",
       "  </thead>\n",
       "  <tbody>\n",
       "    <tr>\n",
       "      <th>0</th>\n",
       "      <td>0</td>\n",
       "      <td>351</td>\n",
       "      <td>-1.715472</td>\n",
       "      <td>-1.285307</td>\n",
       "    </tr>\n",
       "    <tr>\n",
       "      <th>1</th>\n",
       "      <td>1</td>\n",
       "      <td>738</td>\n",
       "      <td>-0.530190</td>\n",
       "      <td>-0.031833</td>\n",
       "    </tr>\n",
       "    <tr>\n",
       "      <th>2</th>\n",
       "      <td>2</td>\n",
       "      <td>247</td>\n",
       "      <td>-0.589543</td>\n",
       "      <td>-0.203230</td>\n",
       "    </tr>\n",
       "    <tr>\n",
       "      <th>3</th>\n",
       "      <td>3</td>\n",
       "      <td>751</td>\n",
       "      <td>-1.303115</td>\n",
       "      <td>0.982488</td>\n",
       "    </tr>\n",
       "    <tr>\n",
       "      <th>4</th>\n",
       "      <td>4</td>\n",
       "      <td>698</td>\n",
       "      <td>0.156678</td>\n",
       "      <td>-0.371632</td>\n",
       "    </tr>\n",
       "  </tbody>\n",
       "</table>\n",
       "</div>"
      ],
      "text/plain": [
       "   person  room  high_school_GPA  college_GPA\n",
       "0       0   351        -1.715472    -1.285307\n",
       "1       1   738        -0.530190    -0.031833\n",
       "2       2   247        -0.589543    -0.203230\n",
       "3       3   751        -1.303115     0.982488\n",
       "4       4   698         0.156678    -0.371632"
      ]
     },
     "execution_count": 23,
     "metadata": {},
     "output_type": "execute_result"
    }
   ],
   "source": [
    "# [Answer to ex. 12.1.1 here]\n",
    "import pandas as pd\n",
    "\n",
    "data = pd.read_csv(\"peer_effects_room-Copy1.csv\")\n",
    "\n",
    "data.head()\n"
   ]
  },
  {
   "cell_type": "code",
   "execution_count": 20,
   "metadata": {},
   "outputs": [
    {
     "data": {
      "text/plain": [
       "room\n",
       "0    [1603, 1757]\n",
       "1     [466, 1649]\n",
       "2     [816, 1929]\n",
       "3     [481, 1719]\n",
       "4    [1108, 1887]\n",
       "Name: person, dtype: object"
      ]
     },
     "execution_count": 20,
     "metadata": {},
     "output_type": "execute_result"
    }
   ],
   "source": [
    "f = df.groupby('room').person.unique()\n",
    "f.head()"
   ]
  },
  {
   "cell_type": "code",
   "execution_count": 24,
   "metadata": {},
   "outputs": [
    {
     "data": {
      "text/html": [
       "<div>\n",
       "<style scoped>\n",
       "    .dataframe tbody tr th:only-of-type {\n",
       "        vertical-align: middle;\n",
       "    }\n",
       "\n",
       "    .dataframe tbody tr th {\n",
       "        vertical-align: top;\n",
       "    }\n",
       "\n",
       "    .dataframe thead th {\n",
       "        text-align: right;\n",
       "    }\n",
       "</style>\n",
       "<table border=\"1\" class=\"dataframe\">\n",
       "  <thead>\n",
       "    <tr style=\"text-align: right;\">\n",
       "      <th></th>\n",
       "      <th>person_x</th>\n",
       "      <th>room</th>\n",
       "      <th>high_school_GPA</th>\n",
       "      <th>college_GPA</th>\n",
       "      <th>person_y</th>\n",
       "    </tr>\n",
       "  </thead>\n",
       "  <tbody>\n",
       "    <tr>\n",
       "      <th>1</th>\n",
       "      <td>0</td>\n",
       "      <td>351</td>\n",
       "      <td>-1.715472</td>\n",
       "      <td>-1.285307</td>\n",
       "      <td>1645</td>\n",
       "    </tr>\n",
       "    <tr>\n",
       "      <th>2</th>\n",
       "      <td>1645</td>\n",
       "      <td>351</td>\n",
       "      <td>-0.818594</td>\n",
       "      <td>-0.434847</td>\n",
       "      <td>0</td>\n",
       "    </tr>\n",
       "    <tr>\n",
       "      <th>5</th>\n",
       "      <td>1</td>\n",
       "      <td>738</td>\n",
       "      <td>-0.530190</td>\n",
       "      <td>-0.031833</td>\n",
       "      <td>1039</td>\n",
       "    </tr>\n",
       "    <tr>\n",
       "      <th>6</th>\n",
       "      <td>1039</td>\n",
       "      <td>738</td>\n",
       "      <td>-0.493444</td>\n",
       "      <td>0.299729</td>\n",
       "      <td>1</td>\n",
       "    </tr>\n",
       "    <tr>\n",
       "      <th>9</th>\n",
       "      <td>2</td>\n",
       "      <td>247</td>\n",
       "      <td>-0.589543</td>\n",
       "      <td>-0.203230</td>\n",
       "      <td>944</td>\n",
       "    </tr>\n",
       "  </tbody>\n",
       "</table>\n",
       "</div>"
      ],
      "text/plain": [
       "   person_x  room  high_school_GPA  college_GPA  person_y\n",
       "1         0   351        -1.715472    -1.285307      1645\n",
       "2      1645   351        -0.818594    -0.434847         0\n",
       "5         1   738        -0.530190    -0.031833      1039\n",
       "6      1039   738        -0.493444     0.299729         1\n",
       "9         2   247        -0.589543    -0.203230       944"
      ]
     },
     "execution_count": 24,
     "metadata": {},
     "output_type": "execute_result"
    }
   ],
   "source": [
    "df = data.merge(data[['person','room']], on = 'room',)\n",
    "df = df[df['person_x'] != df['person_y']] \n",
    "df.head()"
   ]
  },
  {
   "cell_type": "markdown",
   "metadata": {},
   "source": [
    "<br>\n",
    "\n",
    "> **Ex. 12.1.2:** Add information on the roommate GPA in high school and college.\n",
    ">> *Hint:* This can be done merging on `person_other`."
   ]
  },
  {
   "cell_type": "code",
   "execution_count": 25,
   "metadata": {},
   "outputs": [
    {
     "data": {
      "text/html": [
       "<div>\n",
       "<style scoped>\n",
       "    .dataframe tbody tr th:only-of-type {\n",
       "        vertical-align: middle;\n",
       "    }\n",
       "\n",
       "    .dataframe tbody tr th {\n",
       "        vertical-align: top;\n",
       "    }\n",
       "\n",
       "    .dataframe thead th {\n",
       "        text-align: right;\n",
       "    }\n",
       "</style>\n",
       "<table border=\"1\" class=\"dataframe\">\n",
       "  <thead>\n",
       "    <tr style=\"text-align: right;\">\n",
       "      <th></th>\n",
       "      <th>person_x</th>\n",
       "      <th>room</th>\n",
       "      <th>high_school_GPA</th>\n",
       "      <th>college_GPA</th>\n",
       "      <th>person_y</th>\n",
       "      <th>high_school_GPA_y</th>\n",
       "      <th>college_GPA_y</th>\n",
       "    </tr>\n",
       "  </thead>\n",
       "  <tbody>\n",
       "    <tr>\n",
       "      <th>0</th>\n",
       "      <td>0</td>\n",
       "      <td>351</td>\n",
       "      <td>-1.715472</td>\n",
       "      <td>-1.285307</td>\n",
       "      <td>1645</td>\n",
       "      <td>-0.818594</td>\n",
       "      <td>-0.434847</td>\n",
       "    </tr>\n",
       "    <tr>\n",
       "      <th>1</th>\n",
       "      <td>1645</td>\n",
       "      <td>351</td>\n",
       "      <td>-0.818594</td>\n",
       "      <td>-0.434847</td>\n",
       "      <td>0</td>\n",
       "      <td>-1.715472</td>\n",
       "      <td>-1.285307</td>\n",
       "    </tr>\n",
       "    <tr>\n",
       "      <th>2</th>\n",
       "      <td>1</td>\n",
       "      <td>738</td>\n",
       "      <td>-0.530190</td>\n",
       "      <td>-0.031833</td>\n",
       "      <td>1039</td>\n",
       "      <td>-0.493444</td>\n",
       "      <td>0.299729</td>\n",
       "    </tr>\n",
       "    <tr>\n",
       "      <th>3</th>\n",
       "      <td>1039</td>\n",
       "      <td>738</td>\n",
       "      <td>-0.493444</td>\n",
       "      <td>0.299729</td>\n",
       "      <td>1</td>\n",
       "      <td>-0.530190</td>\n",
       "      <td>-0.031833</td>\n",
       "    </tr>\n",
       "    <tr>\n",
       "      <th>4</th>\n",
       "      <td>2</td>\n",
       "      <td>247</td>\n",
       "      <td>-0.589543</td>\n",
       "      <td>-0.203230</td>\n",
       "      <td>944</td>\n",
       "      <td>1.281112</td>\n",
       "      <td>-0.479543</td>\n",
       "    </tr>\n",
       "  </tbody>\n",
       "</table>\n",
       "</div>"
      ],
      "text/plain": [
       "   person_x  room  high_school_GPA  college_GPA  person_y  high_school_GPA_y  \\\n",
       "0         0   351        -1.715472    -1.285307      1645          -0.818594   \n",
       "1      1645   351        -0.818594    -0.434847         0          -1.715472   \n",
       "2         1   738        -0.530190    -0.031833      1039          -0.493444   \n",
       "3      1039   738        -0.493444     0.299729         1          -0.530190   \n",
       "4         2   247        -0.589543    -0.203230       944           1.281112   \n",
       "\n",
       "   college_GPA_y  \n",
       "0      -0.434847  \n",
       "1      -1.285307  \n",
       "2       0.299729  \n",
       "3      -0.031833  \n",
       "4      -0.479543  "
      ]
     },
     "execution_count": 25,
     "metadata": {},
     "output_type": "execute_result"
    }
   ],
   "source": [
    "# [Answer to ex. 12.1.2 here]\n",
    "df_roommate = data[['person', 'high_school_GPA', 'college_GPA']].add_suffix('_y')\n",
    "df = df.merge(df_roommate, on ='person_y')\n",
    "df.head()"
   ]
  },
  {
   "cell_type": "markdown",
   "metadata": {},
   "source": [
    "<br>\n",
    "<br>\n",
    "\n",
    "### Data exploration and randomization\n",
    "\n",
    "We now have our final dataset and can begin investigating how the raw data looks. \n",
    "\n",
    "> **Ex. 12.1.3:** plot own GPA in high school vs college in a scatter plot."
   ]
  },
  {
   "cell_type": "code",
   "execution_count": 30,
   "metadata": {},
   "outputs": [
    {
     "data": {
      "image/png": "[encoded data removed]",
      "text/plain": [
       "<Figure size 432x288 with 1 Axes>"
      ]
     },
     "metadata": {
      "needs_background": "light"
     },
     "output_type": "display_data"
    }
   ],
   "source": [
    "# [Answer to ex. 12.1.3 here]\n",
    "import matplotlib.pylab as plt\n",
    "\n",
    "plt.scatter(df['college_GPA'], df['high_school_GPA'])\n",
    "plt.xlabel('College GPA', size = 16)\n",
    "plt.ylabel('High School GPA', size = 16)\n",
    "plt.show()"
   ]
  },
  {
   "cell_type": "markdown",
   "metadata": {},
   "source": [
    "<br>\n",
    "We want to check there is random assignment of roommates. \n",
    "\n",
    "> **Ex. 12.1.4:** Plot high school GPA vs roommate's high school GPA. Comment on the output. Run a regresion of high school GPA on roommate's high school GPA to formally check random assignment.\n",
    ">\n",
    ">> *Hint*: To run regressions in python, you can use the `statsmodels` package. Look up it's documentation and use the `.formula` api to estimate your model. To see a summary of a fitted model you can call `.summary()` on the object. \n",
    ">\n",
    ">> *Hint:* Under random assignment we would expect there to be no relation between the high school GPA's of roommates. Why is this? "
   ]
  },
  {
   "cell_type": "code",
   "execution_count": 27,
   "metadata": {},
   "outputs": [
    {
     "data": {
      "image/png": "[encoded data removed]",
      "text/plain": [
       "<Figure size 432x288 with 1 Axes>"
      ]
     },
     "metadata": {
      "needs_background": "light"
     },
     "output_type": "display_data"
    }
   ],
   "source": [
    "# [Answer to ex. 12.1.4 here]\n",
    "\n",
    "plt.scatter(df['high_school_GPA'], df['high_school_GPA_y'])\n",
    "plt.xlabel('High School GPA', size = 16)\n",
    "plt.ylabel('Roommates High School GPA', size = 16)\n",
    "plt.show()"
   ]
  },
  {
   "cell_type": "markdown",
   "metadata": {},
   "source": [
    "The distribution looks random - there is no visible trend in assigning per GPA. "
   ]
  },
  {
   "cell_type": "code",
   "execution_count": 33,
   "metadata": {},
   "outputs": [],
   "source": [
    "import numpy as np\n",
    "import statsmodels.api as sm\n",
    "import statsmodels.formula.api as smf\n",
    "import pandas.util.testing as tm\n"
   ]
  },
  {
   "cell_type": "code",
   "execution_count": 35,
   "metadata": {},
   "outputs": [
    {
     "name": "stdout",
     "output_type": "stream",
     "text": [
      "                            OLS Regression Results                            \n",
      "==============================================================================\n",
      "Dep. Variable:        high_school_GPA   R-squared:                       0.000\n",
      "Model:                            OLS   Adj. R-squared:                 -0.000\n",
      "Method:                 Least Squares   F-statistic:                   0.07263\n",
      "Date:                Fri, 22 May 2020   Prob (F-statistic):              0.788\n",
      "Time:                        20:43:35   Log-Likelihood:                -2883.6\n",
      "No. Observations:                2000   AIC:                             5771.\n",
      "Df Residuals:                    1998   BIC:                             5782.\n",
      "Df Model:                           1                                         \n",
      "Covariance Type:            nonrobust                                         \n",
      "=====================================================================================\n",
      "                        coef    std err          t      P>|t|      [0.025      0.975]\n",
      "-------------------------------------------------------------------------------------\n",
      "Intercept            -0.0284      0.023     -1.241      0.215      -0.073       0.016\n",
      "high_school_GPA_y    -0.0060      0.022     -0.269      0.788      -0.050       0.038\n",
      "==============================================================================\n",
      "Omnibus:                        0.231   Durbin-Watson:                   1.982\n",
      "Prob(Omnibus):                  0.891   Jarque-Bera (JB):                0.288\n",
      "Skew:                           0.015   Prob(JB):                        0.866\n",
      "Kurtosis:                       2.949   Cond. No.                         1.04\n",
      "==============================================================================\n",
      "\n",
      "Warnings:\n",
      "[1] Standard Errors assume that the covariance matrix of the errors is correctly specified.\n"
     ]
    }
   ],
   "source": [
    "reg = smf.ols(formula='high_school_GPA ~ high_school_GPA_y', data=df)\n",
    "results = reg.fit()\n",
    "print(results.summary())"
   ]
  },
  {
   "cell_type": "markdown",
   "metadata": {},
   "source": [
    "It is confirmed there is no effect"
   ]
  },
  {
   "cell_type": "markdown",
   "metadata": {},
   "source": [
    "<br>\n",
    "<br>\n",
    "\n",
    "## Roommate effect\n",
    "\n",
    "Having checked the data we move on to analyzing peer effects. We begin with analyzing **exogenous** peer effects. I.e. peer effects that are related to the ex ante characteristics of the roommate.\n",
    "\n",
    "> **Ex. 12.1.5:** Plot own GPA in college vs. roommate GPA in high school. Comment on the output. Test whether there is an impact using a regresion of college school GPA on high school GPA for the person itself and its roommate."
   ]
  },
  {
   "cell_type": "code",
   "execution_count": 36,
   "metadata": {},
   "outputs": [
    {
     "data": {
      "image/png": "[encoded data removed]",
      "text/plain": [
       "<Figure size 432x288 with 1 Axes>"
      ]
     },
     "metadata": {
      "needs_background": "light"
     },
     "output_type": "display_data"
    }
   ],
   "source": [
    "# [Answer to ex. 12.1.5 here]\n",
    "plt.scatter(df['college_GPA'], df['high_school_GPA_y'])\n",
    "plt.xlabel('College GPA', size = 16)\n",
    "plt.ylabel('Roommates High School GPA', size = 16)\n",
    "plt.show()"
   ]
  },
  {
   "cell_type": "markdown",
   "metadata": {},
   "source": [
    "There appears to be no effect"
   ]
  },
  {
   "cell_type": "code",
   "execution_count": 41,
   "metadata": {},
   "outputs": [
    {
     "name": "stdout",
     "output_type": "stream",
     "text": [
      "                            OLS Regression Results                            \n",
      "==============================================================================\n",
      "Dep. Variable:            college_GPA   R-squared:                       0.001\n",
      "Model:                            OLS   Adj. R-squared:                  0.000\n",
      "Method:                 Least Squares   F-statistic:                     1.584\n",
      "Date:                Fri, 22 May 2020   Prob (F-statistic):              0.208\n",
      "Time:                        21:00:50   Log-Likelihood:                -3099.5\n",
      "No. Observations:                2000   AIC:                             6203.\n",
      "Df Residuals:                    1998   BIC:                             6214.\n",
      "Df Model:                           1                                         \n",
      "Covariance Type:            nonrobust                                         \n",
      "=====================================================================================\n",
      "                        coef    std err          t      P>|t|      [0.025      0.975]\n",
      "-------------------------------------------------------------------------------------\n",
      "Intercept            -0.0427      0.026     -1.674      0.094      -0.093       0.007\n",
      "high_school_GPA_y     0.0314      0.025      1.259      0.208      -0.018       0.080\n",
      "==============================================================================\n",
      "Omnibus:                      120.285   Durbin-Watson:                   1.995\n",
      "Prob(Omnibus):                  0.000   Jarque-Bera (JB):              484.476\n",
      "Skew:                          -0.100   Prob(JB):                    6.27e-106\n",
      "Kurtosis:                       5.403   Cond. No.                         1.04\n",
      "==============================================================================\n",
      "\n",
      "Warnings:\n",
      "[1] Standard Errors assume that the covariance matrix of the errors is correctly specified.\n"
     ]
    }
   ],
   "source": [
    "reg = smf.ols(formula='college_GPA ~ high_school_GPA_y', data=df)\n",
    "results = reg.fit()\n",
    "print(results.summary())"
   ]
  },
  {
   "cell_type": "markdown",
   "metadata": {},
   "source": [
    "It is confirmed that there is no effect."
   ]
  },
  {
   "cell_type": "markdown",
   "metadata": {},
   "source": [
    "We now move on to analyze **endogenous** peer effects.\n",
    "\n",
    "> **Ex. 12.1.6:** Test whether there is an association between own college GPA and roommates. Do this by running a regresion of college school GPA on high school GPA for the person itself and its roommate. Comment on the output."
   ]
  },
  {
   "cell_type": "code",
   "execution_count": 40,
   "metadata": {},
   "outputs": [
    {
     "name": "stdout",
     "output_type": "stream",
     "text": [
      "                            OLS Regression Results                            \n",
      "==============================================================================\n",
      "Dep. Variable:            college_GPA   R-squared:                       0.405\n",
      "Model:                            OLS   Adj. R-squared:                  0.405\n",
      "Method:                 Least Squares   F-statistic:                     453.7\n",
      "Date:                Fri, 22 May 2020   Prob (F-statistic):          1.02e-224\n",
      "Time:                        21:00:34   Log-Likelihood:                -2580.3\n",
      "No. Observations:                2000   AIC:                             5169.\n",
      "Df Residuals:                    1996   BIC:                             5191.\n",
      "Df Model:                           3                                         \n",
      "Covariance Type:            nonrobust                                         \n",
      "=====================================================================================\n",
      "                        coef    std err          t      P>|t|      [0.025      0.975]\n",
      "-------------------------------------------------------------------------------------\n",
      "Intercept            -0.0209      0.020     -1.063      0.288      -0.060       0.018\n",
      "high_school_GPA       0.7032      0.019     36.530      0.000       0.665       0.741\n",
      "high_school_GPA_y    -0.0176      0.025     -0.708      0.479      -0.066       0.031\n",
      "college_GPA_y         0.0754      0.022      3.378      0.001       0.032       0.119\n",
      "==============================================================================\n",
      "Omnibus:                       79.457   Durbin-Watson:                   2.093\n",
      "Prob(Omnibus):                  0.000   Jarque-Bera (JB):              221.843\n",
      "Skew:                          -0.117   Prob(JB):                     6.72e-49\n",
      "Kurtosis:                       4.615   Cond. No.                         2.14\n",
      "==============================================================================\n",
      "\n",
      "Warnings:\n",
      "[1] Standard Errors assume that the covariance matrix of the errors is correctly specified.\n"
     ]
    }
   ],
   "source": [
    "reg = smf.ols(formula='college_GPA ~ high_school_GPA + high_school_GPA_y + college_GPA_y', data=df)\n",
    "results = reg.fit()\n",
    "print(results.summary())"
   ]
  },
  {
   "cell_type": "markdown",
   "metadata": {},
   "source": [
    "As expected, own High School GPA has an effect on own College GPA. Furthermore, roommates College GPA has a measureable significant effect on own college GPA. More than 10 times less than high school GPA, but still. "
   ]
  },
  {
   "cell_type": "markdown",
   "metadata": {},
   "source": [
    "<br>\n",
    "<br>\n",
    "\n",
    "# 12.2 Peer effects in Danish classrooms\n",
    "\n",
    "Read the [report by Kraka on peer effects in Danish schools](http://kraka.dk/sites/default/files/public/baggrundsnotat_klassekammerateffekter_0.pdf) from 2019. If you do not speak Danish talk to your group about the content.\n",
    "> **Ex. 12.2.1:** Explain the identification strategy in words."
   ]
  },
  {
   "cell_type": "markdown",
   "metadata": {},
   "source": [
    "The article how there is a selection bias, as kids with ressource strong parents, that often themselfs are end up strong students, often live in the same neighbourhoods and end up on the same schools. Opposite \"weak\" students end up on the same schools. The article deals with this by estimating effects based on the variation in the mix of students from different class-years.  "
   ]
  },
  {
   "cell_type": "markdown",
   "metadata": {},
   "source": [
    "> **Ex. 12.2.2:** Are there any shortcomings of the identification strategy? What does the seminal paper [Hoxby (2000)](https://www.nber.org/papers/w78612.pdf) test for?"
   ]
  },
  {
   "cell_type": "markdown",
   "metadata": {},
   "source": [
    "The identification strategy only fix a little bit of the problem as the variation between years is assumed to be small as most of the differences are connected to the neighborhood. \n",
    "I can not acess the paper in the link. In the Hoxby 200 paper i can find Hoxby tests for class size.\n"
   ]
  },
  {
   "cell_type": "markdown",
   "metadata": {},
   "source": [
    "> **Ex. 12.2.3:** Try to come up with identification strategies for identifying peer effects in the context of Danish class rooms."
   ]
  },
  {
   "cell_type": "markdown",
   "metadata": {},
   "source": [
    "It is hard to seperate peer-effects from effects caused by social class. The ideal solution would be to do a large-scale, long-term experiment, but since this is not possible it is all about least sucky second best. Maybe there are \"natural experiments\" where schools are closed down and students moved to new schools that could be interesting to look at. How they get on compared to the students from the same neighour hood that graduated from the same school before closeing. But again there can be 1000 other effects influencing and a new school does not nessicarily mean a new mix of social classes."
   ]
  },
  {
   "cell_type": "code",
   "execution_count": null,
   "metadata": {},
   "outputs": [],
   "source": []
  }
 ],
 "metadata": {
  "kernelspec": {
   "display_name": "Python 3",
   "language": "python",
   "name": "python3"
  },
  "language_info": {
   "codemirror_mode": {
    "name": "ipython",
    "version": 3
   },
   "file_extension": ".py",
   "mimetype": "text/x-python",
   "name": "python",
   "nbconvert_exporter": "python",
   "pygments_lexer": "ipython3",
   "version": "3.7.7"
  }
 },
 "nbformat": 4,
 "nbformat_minor": 2
}
