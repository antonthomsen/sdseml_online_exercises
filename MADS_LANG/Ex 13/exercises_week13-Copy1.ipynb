{
 "cells": [
  {
   "cell_type": "markdown",
   "metadata": {},
   "source": [
    "# Exercise Set 13: Network formation\n",
    "\n",
    "\n",
    "In this Exercise Set 13 we will investigate network formation among high school pupils. \n",
    "\n",
    "## Part 1: Network formation\n",
    "\n",
    "\n",
    "Load the data using the script below. Read a bit about the dataset [here](http://www.sociopatterns.org/datasets/high-school-contact-and-friendship-networks/) to get an understanding of what is in each variable. \n",
    "\n",
    "The script gives you two dataframes to work with: \n",
    " > `el`, which is an edge-list \n",
    " >\n",
    " > `ind` which contains individual characteristics"
   ]
  },
  {
   "cell_type": "code",
   "execution_count": 253,
   "metadata": {
    "ExecuteTime": {
     "end_time": "2020-05-25T13:30:55.754453Z",
     "start_time": "2020-05-25T13:30:55.749875Z"
    }
   },
   "outputs": [],
   "source": [
    "import warnings\n",
    "warnings.filterwarnings(\"ignore\")"
   ]
  },
  {
   "cell_type": "code",
   "execution_count": 103,
   "metadata": {
    "ExecuteTime": {
     "end_time": "2020-05-25T08:27:10.265945Z",
     "start_time": "2020-05-25T08:27:09.464717Z"
    }
   },
   "outputs": [],
   "source": [
    "import networkx as nx\n",
    "import numpy as np\n",
    "import pandas as pd\n",
    "\n",
    "url_base = 'http://www.sociopatterns.org/wp-content/uploads/2015/'\n",
    "\n",
    "# edgelist\n",
    "url_el = url_base + '07/High-School_data_2013.csv.gz'\n",
    "col_names_el = ['timestamp', 'u1', 'u2', 'class1', 'class2']\n",
    "el = pd.read_csv(url_el, header=None, names=col_names_el, delimiter=' ')\n",
    "\n",
    "# individual characteristics\n",
    "url_ind = url_base + '09/metadata_2013.txt'\n",
    "col_names_ind = ['u', 'class', 'gender']\n",
    "ind = pd.read_csv(url_ind, header=None, names=col_names_ind, delimiter='\\t')\\\n",
    "            .set_index('u')\n",
    "\n",
    "# remove observation with missing gender\n",
    "has_gender = ind[ind.gender!='Unknown'].index\n",
    "\n",
    "# DataFrames\n",
    "ind = ind.loc[has_gender].copy()\n",
    "el = el[el.u1.isin(has_gender) &  el.u2.isin(has_gender)].copy()"
   ]
  },
  {
   "cell_type": "markdown",
   "metadata": {},
   "source": [
    "> **Ex. 13.1.1**: Describe the edgelist columns content. Parse the timestamp. What is the resolution of meetings? Use the parsed timestamp to count the meetings by hour in local time."
   ]
  },
  {
   "cell_type": "markdown",
   "metadata": {},
   "source": [
    "The columns of the edgelist dataframe: \n",
    "\n",
    "`timestamp` is the time of the meeting. It is given in epoch time, which is seconds since a certain date. We can easily convert to datetime with pandas. \n",
    "\n",
    "`u1` and `u2` are the two id's of the persons meeting. \n",
    "\n",
    "`class1` and `class2` are simply their classes. "
   ]
  },
  {
   "cell_type": "code",
   "execution_count": 104,
   "metadata": {
    "ExecuteTime": {
     "end_time": "2020-05-25T08:27:12.574361Z",
     "start_time": "2020-05-25T08:27:12.533373Z"
    }
   },
   "outputs": [
    {
     "data": {
      "text/plain": [
       "timestamp\n",
       "2013-12-02 11:00    5556\n",
       "2013-12-02 12:00    4259\n",
       "2013-12-02 13:00    6617\n",
       "2013-12-02 14:00    5715\n",
       "2013-12-02 15:00    5972\n",
       "                    ... \n",
       "2013-12-06 11:00    4106\n",
       "2013-12-06 12:00    3247\n",
       "2013-12-06 13:00    1785\n",
       "2013-12-06 14:00    2026\n",
       "2013-12-06 15:00    1352\n",
       "Freq: H, Name: timestamp, Length: 101, dtype: int64"
      ]
     },
     "execution_count": 104,
     "metadata": {},
     "output_type": "execute_result"
    }
   ],
   "source": [
    "el['timestamp'] = pd.to_datetime(el['timestamp'],unit='s')\n",
    "el = el.set_index(el['timestamp'])\n",
    "el['timestamp'].resample('H', kind='period').count()"
   ]
  },
  {
   "cell_type": "markdown",
   "metadata": {},
   "source": [
    "> **Ex. 13.1.2**: Count the number of meetings for each edge and save this as a DataFrame called `el_agg`. Filter out edges with less than 5 minutes of meetings. Attach the gender and class of both nodes."
   ]
  },
  {
   "cell_type": "code",
   "execution_count": 117,
   "metadata": {
    "ExecuteTime": {
     "end_time": "2020-05-25T09:53:10.362464Z",
     "start_time": "2020-05-25T09:53:10.301373Z"
    }
   },
   "outputs": [
    {
     "name": "stdout",
     "output_type": "stream",
     "text": [
      "n = 5583\n"
     ]
    },
    {
     "data": {
      "text/html": [
       "<div>\n",
       "<style scoped>\n",
       "    .dataframe tbody tr th:only-of-type {\n",
       "        vertical-align: middle;\n",
       "    }\n",
       "\n",
       "    .dataframe tbody tr th {\n",
       "        vertical-align: top;\n",
       "    }\n",
       "\n",
       "    .dataframe thead th {\n",
       "        text-align: right;\n",
       "    }\n",
       "</style>\n",
       "<table border=\"1\" class=\"dataframe\">\n",
       "  <thead>\n",
       "    <tr style=\"text-align: right;\">\n",
       "      <th></th>\n",
       "      <th>u1</th>\n",
       "      <th>u2</th>\n",
       "      <th>meet_count</th>\n",
       "      <th>class1</th>\n",
       "      <th>gender1</th>\n",
       "      <th>class2</th>\n",
       "      <th>gender2</th>\n",
       "    </tr>\n",
       "  </thead>\n",
       "  <tbody>\n",
       "    <tr>\n",
       "      <td>0</td>\n",
       "      <td>1</td>\n",
       "      <td>55</td>\n",
       "      <td>8</td>\n",
       "      <td>2BIO3</td>\n",
       "      <td>M</td>\n",
       "      <td>2BIO3</td>\n",
       "      <td>F</td>\n",
       "    </tr>\n",
       "    <tr>\n",
       "      <td>1</td>\n",
       "      <td>1</td>\n",
       "      <td>63</td>\n",
       "      <td>2</td>\n",
       "      <td>2BIO3</td>\n",
       "      <td>M</td>\n",
       "      <td>2BIO3</td>\n",
       "      <td>F</td>\n",
       "    </tr>\n",
       "    <tr>\n",
       "      <td>2</td>\n",
       "      <td>3</td>\n",
       "      <td>63</td>\n",
       "      <td>2</td>\n",
       "      <td>2BIO2</td>\n",
       "      <td>M</td>\n",
       "      <td>2BIO3</td>\n",
       "      <td>F</td>\n",
       "    </tr>\n",
       "    <tr>\n",
       "      <td>3</td>\n",
       "      <td>27</td>\n",
       "      <td>63</td>\n",
       "      <td>19</td>\n",
       "      <td>2BIO2</td>\n",
       "      <td>M</td>\n",
       "      <td>2BIO3</td>\n",
       "      <td>F</td>\n",
       "    </tr>\n",
       "    <tr>\n",
       "      <td>4</td>\n",
       "      <td>39</td>\n",
       "      <td>63</td>\n",
       "      <td>1</td>\n",
       "      <td>2BIO3</td>\n",
       "      <td>F</td>\n",
       "      <td>2BIO3</td>\n",
       "      <td>F</td>\n",
       "    </tr>\n",
       "  </tbody>\n",
       "</table>\n",
       "</div>"
      ],
      "text/plain": [
       "   u1  u2  meet_count class1 gender1 class2 gender2\n",
       "0   1  55           8  2BIO3       M  2BIO3       F\n",
       "1   1  63           2  2BIO3       M  2BIO3       F\n",
       "2   3  63           2  2BIO2       M  2BIO3       F\n",
       "3  27  63          19  2BIO2       M  2BIO3       F\n",
       "4  39  63           1  2BIO3       F  2BIO3       F"
      ]
     },
     "execution_count": 117,
     "metadata": {},
     "output_type": "execute_result"
    }
   ],
   "source": [
    "el_agg = pd.DataFrame(el.groupby(['u1','u2']).size()).reset_index()\n",
    "el_agg = el_agg.merge(ind, left_on='u1', right_on='u').rename(columns={'class':'class1','gender':'gender1'})\n",
    "el_agg = el_agg.merge(ind, left_on='u2', right_on='u').rename(columns={'class':'class2','gender':'gender2'})\n",
    "el_agg = el_agg.rename(columns={0:'meet_count'})\n",
    "print('n =',el_agg.shape[0])\n",
    "el_agg.head()"
   ]
  },
  {
   "cell_type": "markdown",
   "metadata": {},
   "source": [
    "> **Ex. 13.1.3**: Answer question in the function `fraction_triangles` below. Explain how `fraction_triangles` is related to  computing the clustering coefficient (using `nx.average_clustering`).\n",
    ">\n",
    ">> *Hint:* The following code does the same thing as `fraction_triangles`, but at a scale where you can understand what's going on. If you have a hard time understanding the code in the function you can try to play around with this simpler example\n",
    ">>\n",
    ">> ```python\n",
    ">> import networkx as nx \n",
    ">>\n",
    ">> A  = np.array(\n",
    ">>     [[0, 1, 1, 0],\n",
    ">>      [1, 0, 1, 0],\n",
    ">>      [1, 1, 0, 1],\n",
    ">>      [0, 0, 1, 0]]\n",
    ">> )\n",
    ">>\n",
    ">> G = nx.from_numpy_array(A)\n",
    ">> nx.draw(G,with_labels=True)\n",
    ">>\n",
    ">> def nth(A, n):\n",
    ">>     A_ = A.copy()    \n",
    ">>     for _ in range(1,n):\n",
    ">>         A = A.dot(A_)\n",
    ">>     return A\n",
    ">>\n",
    ">> a_t = nth(A,3).diagonal().sum()/6\n",
    ">> n = len(A[:,0])\n",
    ">> p_t = binom(n, 3)\n",
    ">> ```\n"
   ]
  },
  {
   "cell_type": "code",
   "execution_count": 115,
   "metadata": {
    "ExecuteTime": {
     "end_time": "2020-05-25T09:47:54.243076Z",
     "start_time": "2020-05-25T09:47:54.226969Z"
    }
   },
   "outputs": [],
   "source": [
    "def make_net(el_, nodes):\n",
    "    '''\n",
    "    Convert edgelist to networkx graph which is \n",
    "    binary and undirected.\n",
    "    \n",
    "    Parameters\n",
    "    ----------\n",
    "    el_ : DataFrame\n",
    "        Table containing an edgelist with columns \n",
    "        `u1` and `u2` which are the nodes in the edge.\n",
    "        \n",
    "    nodes : array-like\n",
    "        1d array containing the node identities.\n",
    "    '''    \n",
    "    \n",
    "    nx_input = el_, 'u1', 'u2', 'meet_count', nx.Graph()\n",
    "    g = nx.from_pandas_edgelist(*nx_input)\n",
    "    g.add_nodes_from(nodes)\n",
    "    return g"
   ]
  },
  {
   "cell_type": "code",
   "execution_count": 116,
   "metadata": {
    "ExecuteTime": {
     "end_time": "2020-05-25T09:48:00.000656Z",
     "start_time": "2020-05-25T09:47:59.991331Z"
    }
   },
   "outputs": [],
   "source": [
    "from scipy.special import binom\n",
    "\n",
    "def fraction_triangles(el_, nodes):\n",
    "    '''\n",
    "    Compute fraction of actual triangles out \n",
    "    of the potential triangles.\n",
    "    \n",
    "    Parameters\n",
    "    ----------\n",
    "    el_ : DataFrame\n",
    "        Table containing an edgelist with columns \n",
    "        `u1` and `u2` which are the nodes in the edge.\n",
    "        \n",
    "    nodes : array-like\n",
    "        1d array containing the node identities.\n",
    "    '''\n",
    "    \n",
    "    g = make_net(el_, nodes)\n",
    "    \n",
    "    #Q.1: what is `A`?: the adjacency matrix which is symmetric and binary\n",
    "    #Q.2: what does `A**3` do? compute the number of paths between two nodes\n",
    "    #Q.3: what is diagonal of A_t? the number of actual paths of length 3, \n",
    "    # i.e. triangles, which include the person. these are called cycles\n",
    "    # because they start and end at the same person\n",
    "    \n",
    "    # count actual triangles    \n",
    "    A = nx.to_scipy_sparse_matrix(g)\n",
    "    A_t = A**3\n",
    "    a_t = A_t.diagonal().sum()/6\n",
    "    \n",
    "    #Q.4: what does `binom(n,3)` compute? the number of triangles including the person\n",
    "    \n",
    "    # count potential triangles\n",
    "    n = len(g.nodes())\n",
    "    p_t = binom(n, 3)\n",
    "        \n",
    "    return a_t/p_t"
   ]
  },
  {
   "cell_type": "markdown",
   "metadata": {},
   "source": [
    "***Answers:***\n",
    "\n",
    "The answers were already written... Here is what the function computes in my own words: \n",
    "\n",
    "*The function creates a network from the data. Then it computes the adjacency matrix `A`. Here the network is a simple and undirected networks, and thus the adjancency matrix consists of numbers `0` and `1`, and it is symmetric. The function then compute `A_t` which is the number of paths between nodes, and the diagonal in this new matrix is the number of paths with length 3. Then `p_t` is calculated by creating a binomally distributed probality of there being a triangle with the same number of nodes as the network. Thus we can finally return the fraction of actual triangels divided by the expected number of triangles.*\n",
    " "
   ]
  },
  {
   "cell_type": "markdown",
   "metadata": {},
   "source": [
    "> **Ex. 13.1.4**: Apply the function `fraction_triangles` to `el_agg` and print the triangle fraction in the network. Next remove all edges that go between classes. Compute triangle fraction within each class and store it. Compute the mean within class triangles and bootstrap the standard error of the mean. Comment on the output.\n",
    ">\n",
    ">> *Hint:* To bootstrap an estimate draw $k>>0$ samples with replacement from the data. Compute the estimate on each of these samples and average them in the end to get the bootstrapped estimate. "
   ]
  },
  {
   "cell_type": "code",
   "execution_count": 131,
   "metadata": {
    "ExecuteTime": {
     "end_time": "2020-05-25T11:05:14.615904Z",
     "start_time": "2020-05-25T11:05:14.557167Z"
    }
   },
   "outputs": [
    {
     "data": {
      "text/plain": [
       "0.005962397231915774"
      ]
     },
     "execution_count": 131,
     "metadata": {},
     "output_type": "execute_result"
    }
   ],
   "source": [
    "fraction_triangles(el_agg,el_agg['u1'])"
   ]
  },
  {
   "cell_type": "code",
   "execution_count": 136,
   "metadata": {
    "ExecuteTime": {
     "end_time": "2020-05-25T11:14:11.667729Z",
     "start_time": "2020-05-25T11:14:11.655259Z"
    }
   },
   "outputs": [
    {
     "name": "stdout",
     "output_type": "stream",
     "text": [
      "n without edges between classes = 3873\n"
     ]
    }
   ],
   "source": [
    "el_agg['same_class'] = el_agg['class1'].eq(el_agg['class2'])\n",
    "el_agg = el_agg.drop(el_agg[el_agg.same_class == False].index)\n",
    "print('n without edges between classes =',el_agg.shape[0])"
   ]
  },
  {
   "cell_type": "code",
   "execution_count": 197,
   "metadata": {
    "ExecuteTime": {
     "end_time": "2020-05-25T12:29:02.913061Z",
     "start_time": "2020-05-25T12:29:02.849778Z"
    }
   },
   "outputs": [
    {
     "data": {
      "text/html": [
       "<div>\n",
       "<style scoped>\n",
       "    .dataframe tbody tr th:only-of-type {\n",
       "        vertical-align: middle;\n",
       "    }\n",
       "\n",
       "    .dataframe tbody tr th {\n",
       "        vertical-align: top;\n",
       "    }\n",
       "\n",
       "    .dataframe thead th {\n",
       "        text-align: right;\n",
       "    }\n",
       "</style>\n",
       "<table border=\"1\" class=\"dataframe\">\n",
       "  <thead>\n",
       "    <tr style=\"text-align: right;\">\n",
       "      <th></th>\n",
       "      <th>fraction_triangles</th>\n",
       "    </tr>\n",
       "  </thead>\n",
       "  <tbody>\n",
       "    <tr>\n",
       "      <td>2BIO3</td>\n",
       "      <td>0.465385</td>\n",
       "    </tr>\n",
       "    <tr>\n",
       "      <td>MP</td>\n",
       "      <td>0.507115</td>\n",
       "    </tr>\n",
       "    <tr>\n",
       "      <td>MP*2</td>\n",
       "      <td>0.379445</td>\n",
       "    </tr>\n",
       "    <tr>\n",
       "      <td>2BIO2</td>\n",
       "      <td>0.401943</td>\n",
       "    </tr>\n",
       "    <tr>\n",
       "      <td>2BIO1</td>\n",
       "      <td>0.317647</td>\n",
       "    </tr>\n",
       "    <tr>\n",
       "      <td>PC*</td>\n",
       "      <td>0.422909</td>\n",
       "    </tr>\n",
       "    <tr>\n",
       "      <td>PSI*</td>\n",
       "      <td>0.274733</td>\n",
       "    </tr>\n",
       "    <tr>\n",
       "      <td>PC</td>\n",
       "      <td>0.449713</td>\n",
       "    </tr>\n",
       "    <tr>\n",
       "      <td>MP*1</td>\n",
       "      <td>0.179256</td>\n",
       "    </tr>\n",
       "  </tbody>\n",
       "</table>\n",
       "</div>"
      ],
      "text/plain": [
       "       fraction_triangles\n",
       "2BIO3            0.465385\n",
       "MP               0.507115\n",
       "MP*2             0.379445\n",
       "2BIO2            0.401943\n",
       "2BIO1            0.317647\n",
       "PC*              0.422909\n",
       "PSI*             0.274733\n",
       "PC               0.449713\n",
       "MP*1             0.179256"
      ]
     },
     "execution_count": 197,
     "metadata": {},
     "output_type": "execute_result"
    }
   ],
   "source": [
    "class_values = {}\n",
    "for class_name in el_agg['class1'].unique():\n",
    "    df = el_agg.loc[el_agg['class1'] == class_name]\n",
    "    nodes = df['u1']\n",
    "    class_values.update( {'{}'.format(class_name) : fraction_triangles(df,nodes)} )   \n",
    "class_t = pd.DataFrame(pd.Series(class_values)).rename(columns={0:'{}'.format(fraction_triangles.__name__)})\n",
    "class_t"
   ]
  },
  {
   "cell_type": "code",
   "execution_count": 194,
   "metadata": {
    "ExecuteTime": {
     "end_time": "2020-05-25T12:23:10.413155Z",
     "start_time": "2020-05-25T12:23:10.405670Z"
    }
   },
   "outputs": [],
   "source": [
    "def bootstrap(df,pd_function):\n",
    "    l = []\n",
    "    n = int(df.shape[0]/3)\n",
    "    for i in range(100):\n",
    "        if pd_function == 'mean':\n",
    "            l.append(df.sample(n=n, replace=True).mean())\n",
    "        if pd_function == 'sem':\n",
    "            l.append(df.sample(n=n, replace=True).sem())\n",
    "    return sum(l)/len(l)"
   ]
  },
  {
   "cell_type": "code",
   "execution_count": 195,
   "metadata": {
    "ExecuteTime": {
     "end_time": "2020-05-25T12:23:11.916337Z",
     "start_time": "2020-05-25T12:23:11.794985Z"
    }
   },
   "outputs": [
    {
     "name": "stdout",
     "output_type": "stream",
     "text": [
      "Bootstrapped mean: 0.366\n",
      "Bootstrapped st.error of mean: 0.050\n"
     ]
    }
   ],
   "source": [
    "print('Bootstrapped mean: %.3f' %bootstrap(class_t, 'mean'))\n",
    "print('Bootstrapped st.error of mean: %.3f' %bootstrap(class_t,'sem'))"
   ]
  },
  {
   "cell_type": "markdown",
   "metadata": {},
   "source": [
    "Recall from class that we can define the following measures of homophily. We define **homophily index** inspired by [Currarini et al. (2009)](https://doi.org/10.2139/ssrn.1021650):\n",
    "- share of edges that are same type: $H = \\frac{s}{s+d}$\n",
    "- possible range [0,1]\n",
    "\n",
    "\n",
    "We define **baseline homophily** as: \n",
    "- We count fraction of potential edges in population of nodes which are same type:\n",
    "\n",
    "\\begin{equation}B=\\frac{\\sum_t\\#potential(n_t)}{\\#potential(n)}, \\qquad \\#potential(k)=\\frac{k\\cdot(k-1)}{2}\\end{equation}\n",
    "\n",
    "- Interpretation: Expected homophily from random link formation.     \n",
    "\n",
    "We define **inbreeding homophily** as:      \n",
    "\n",
    "\\begin{equation}IH=\\frac{H-B}{1-B}\\end{equation}\n",
    "\n",
    "\n",
    "> **Ex. 13.1.5**: Compute the inbreeding homophily for each class. Use the class measures to compute the mean. Use a bootstrap to compute whether there is inbreeding homophily."
   ]
  },
  {
   "cell_type": "code",
   "execution_count": 228,
   "metadata": {
    "ExecuteTime": {
     "end_time": "2020-05-25T13:15:56.747779Z",
     "start_time": "2020-05-25T13:15:56.739912Z"
    }
   },
   "outputs": [],
   "source": [
    "def inbreed_homophily(df, type1, type2):\n",
    "    '''\n",
    "    df : the dataframe\n",
    "    type1 : type of node 1 in edge\n",
    "    type2 : type of node 2 in edge\n",
    "    '''\n",
    "    df['same_type'] = type1.eq(type2)\n",
    "    s = df['same_type'][df['same_type'] == True].count()\n",
    "    d = df['same_type'][df['same_type'] == False].count()\n",
    "    \n",
    "    H = s / (s + d)\n",
    "    \n",
    "    def potential(k): return (k*(k-1)) / 2\n",
    "    \n",
    "    B = potential(s) / potential(df.shape[0])\n",
    "    \n",
    "    return (H - B) / (1 - B)"
   ]
  },
  {
   "cell_type": "code",
   "execution_count": 254,
   "metadata": {
    "ExecuteTime": {
     "end_time": "2020-05-25T13:31:01.160742Z",
     "start_time": "2020-05-25T13:31:01.024356Z"
    }
   },
   "outputs": [
    {
     "name": "stdout",
     "output_type": "stream",
     "text": [
      "       inbreed_homophily\n",
      "2BIO3           0.406814\n",
      "MP              0.354772\n",
      "MP*2            0.418380\n",
      "2BIO2           0.349291\n",
      "2BIO1           0.395173\n",
      "PC*             0.360265\n",
      "PSI*            0.377049\n",
      "PC              0.348412\n",
      "MP*1            0.403409\n",
      "\n",
      "\n",
      "Boostrapped mean: 0.377\n",
      "Boostrapped st.error of mean: 0.382\n"
     ]
    }
   ],
   "source": [
    "class_values = {}\n",
    "for class_name in el_agg['class1'].unique():\n",
    "    df = el_agg.loc[el_agg['class1'] == class_name]\n",
    "    class_values.update( {'{}'.format(class_name) : inbreed_homophily(df,df['gender1'], df['gender2'])})   \n",
    "class_t = pd.DataFrame(pd.Series(class_values)).rename(columns={0:'{}'.format(inbreed_homophily.__name__)})\n",
    "\n",
    "print(class_t)\n",
    "print('\\n')\n",
    "print('Boostrapped mean: %.3f' %bootstrap(class_t,'mean'))\n",
    "print('Boostrapped st.error of mean: %.3f' %bootstrap(class_t,'mean'))"
   ]
  },
  {
   "cell_type": "markdown",
   "metadata": {},
   "source": [
    "> **Ex. 13.1.6** (BONUS): Describe what an unsupported edge is. Construct a test of whether there is a preference for forming  triangles within same gender than across.\n",
    ">\n",
    ">> *Hint:*  You can find inspiration in the approach of [Chandrasekhar, Jackson (2018)](https://web.stanford.edu/~arungc/CJ_sugm.pdf) pp. 31-35. They construct an almost identical test for triangle formation across castes in Indian villages."
   ]
  },
  {
   "cell_type": "code",
   "execution_count": null,
   "metadata": {},
   "outputs": [],
   "source": [
    "# [Answer to ex. 13.1.6 here]"
   ]
  }
 ],
 "metadata": {
  "kernelspec": {
   "display_name": "Python 3",
   "language": "python",
   "name": "python3"
  },
  "language_info": {
   "codemirror_mode": {
    "name": "ipython",
    "version": 3
   },
   "file_extension": ".py",
   "mimetype": "text/x-python",
   "name": "python",
   "nbconvert_exporter": "python",
   "pygments_lexer": "ipython3",
   "version": "3.7.4"
  }
 },
 "nbformat": 4,
 "nbformat_minor": 2
}
