{
 "cells": [
  {
   "cell_type": "markdown",
   "metadata": {},
   "source": [
    "### Warmup 11\n",
    "\n",
    "Write a factory function TnFactory(n) that returns as its output the\n",
    "function $ T_n(x) $.\n"
   ]
  },
  {
   "cell_type": "code",
   "execution_count": null,
   "metadata": {},
   "outputs": [],
   "source": [
    "#Chebyshevs polynomials of the frst kind are defined recursively by\n",
    "T(0,x) = 1\n",
    "T(1,x) = x\n",
    "T(n,x) = 2*x*T(n-1,x) - T(n-2,x)\n",
    "# This is made into a function that is inside the factory function.\n",
    "#so we get a factory function which have the output T(n,x). "
   ]
  },
  {
   "cell_type": "code",
   "execution_count": 21,
   "metadata": {},
   "outputs": [],
   "source": [
    "def TnFactory(n):\n",
    "    def t(n,x):\n",
    "        if n==0:\n",
    "            return 1\n",
    "        if n==1:\n",
    "            return x\n",
    "        else:\n",
    "            return 2*x*t(n-1,x) - t(n-2,x)\n",
    "    return lambda x: t(n,x)\n",
    "\n"
   ]
  }
 ],
 "metadata": {
  "kernelspec": {
   "display_name": "Python 3",
   "language": "python",
   "name": "python3"
  },
  "language_info": {
   "codemirror_mode": {
    "name": "ipython",
    "version": 3
   },
   "file_extension": ".py",
   "mimetype": "text/x-python",
   "name": "python",
   "nbconvert_exporter": "python",
   "pygments_lexer": "ipython3",
   "version": "3.7.3"
  }
 },
 "nbformat": 4,
 "nbformat_minor": 2
}
