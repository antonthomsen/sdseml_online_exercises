{
 "cells": [
  {
   "cell_type": "code",
   "execution_count": 112,
   "metadata": {},
   "outputs": [],
   "source": [
    "import numpy as np\n",
    "import random\n",
    "from random import randrange\n",
    "\n",
    "#Q1\n",
    "def simulate(n):\n",
    "    xk = np.random.uniform(0,2/n, size = (n,1))\n",
    "    xk1 = np.random.uniform(xk,2/n, size = (n,1))\n",
    "    x=([i - j for i, j in zip(xk1, xk) if i>j and 2/n<1])\n",
    "    \n",
    "    yk = np.random.uniform(0,2/n, size = (n,1))\n",
    "    yk1 = np.random.uniform(yk,2/n, size = (n,1))\n",
    "    y=([i - j for i, j in zip(yk1, yk) if i>j and 2/n<1])\n",
    "    \n",
    "    return x ,y"
   ]
  },
  {
   "cell_type": "code",
   "execution_count": 174,
   "metadata": {
    "scrolled": true
   },
   "outputs": [
    {
     "name": "stdout",
     "output_type": "stream",
     "text": [
      "[array([0.16226223]), array([0.10669652]), array([0.41353427])]\n"
     ]
    },
    {
     "data": {
      "text/plain": [
       "[array([0.00210563]), array([0.01122065]), array([0.11349834])]"
      ]
     },
     "execution_count": 174,
     "metadata": {},
     "output_type": "execute_result"
    }
   ],
   "source": [
    "#Test\n",
    "x, y = simulate(3)\n",
    "\n",
    "print(x)\n",
    "y"
   ]
  },
  {
   "cell_type": "code",
   "execution_count": 157,
   "metadata": {
    "scrolled": true
   },
   "outputs": [
    {
     "data": {
      "text/plain": [
       "(array([0.37362409]), array([0.49726984]))"
      ]
     },
     "execution_count": 157,
     "metadata": {},
     "output_type": "execute_result"
    }
   ],
   "source": [
    "#Q2\n",
    "x, y = simulate(3) \n",
    "\n",
    "x0=x[0]\n",
    "y0=y[0]\n",
    "\n",
    "def minimize(xk,yk): \n",
    "    s_x0=[]\n",
    "    s_y0=[]\n",
    "    for k in enumerate(x[1:]):\n",
    "        index=k[0]+2\n",
    "        item=k[1]\n",
    "        if x0>item:\n",
    "            s_x=sum(y[:(index)])\n",
    "        else:\n",
    "            s_x=1-sum(y[:(index)])\n",
    "        \n",
    "        s_x0.append(s_x)    \n",
    "    \n",
    "    for k in enumerate(y[1:]):\n",
    "        index=k[0]+2\n",
    "        item=k[1]\n",
    "        if y0>item:\n",
    "            s_y=sum(x[:(index)])\n",
    "        else:\n",
    "            s_y=1-sum(x[:(index)])\n",
    "        \n",
    "        s_y0.append(s_y)\n",
    "       \n",
    "    return min(s_x0), min(s_y0) \n",
    "\n",
    "minimize(x,y)"
   ]
  },
  {
   "cell_type": "code",
   "execution_count": 172,
   "metadata": {},
   "outputs": [],
   "source": [
    "#Q3\n",
    "n=np.arange(10, 1000, 10)\n",
    "y_star=[]\n",
    "\n",
    "for i in list(n):\n",
    "    x,y=simulate(i)\n",
    "    s_x0, s_y0=minimize(x,y)\n",
    "    y_star.append(s_y0)"
   ]
  },
  {
   "cell_type": "code",
   "execution_count": 176,
   "metadata": {},
   "outputs": [
    {
     "data": {
      "image/png": "[encoded data removed]",
      "text/plain": [
       "<Figure size 432x288 with 1 Axes>"
      ]
     },
     "metadata": {
      "needs_background": "light"
     },
     "output_type": "display_data"
    }
   ],
   "source": [
    "import matplotlib.pylab as plt\n",
    "plt.plot(n, y_star, label='sequence')\n",
    "plt.ylabel('$y_k*$')\n",
    "plt.xlabel('n')\n",
    "plt.title('Minimized divided sum seqence')\n",
    "plt.show()"
   ]
  },
  {
   "cell_type": "markdown",
   "metadata": {},
   "source": [
    "The seqence converges to 0 as $n$"
   ]
  }
 ],
 "metadata": {
  "kernelspec": {
   "display_name": "Python 3",
   "language": "python",
   "name": "python3"
  },
  "language_info": {
   "codemirror_mode": {
    "name": "ipython",
    "version": 3
   },
   "file_extension": ".py",
   "mimetype": "text/x-python",
   "name": "python",
   "nbconvert_exporter": "python",
   "pygments_lexer": "ipython3",
   "version": "3.7.4"
  }
 },
 "nbformat": 4,
 "nbformat_minor": 2
}
