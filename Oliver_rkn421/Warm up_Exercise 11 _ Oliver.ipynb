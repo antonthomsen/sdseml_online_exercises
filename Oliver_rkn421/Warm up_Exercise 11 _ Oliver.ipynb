{
 "cells": [
  {
   "cell_type": "code",
   "execution_count": 8,
   "metadata": {
    "scrolled": true
   },
   "outputs": [
    {
     "name": "stdout",
     "output_type": "stream",
     "text": [
      "1\n",
      "x\n",
      "2*x**2 - 1\n"
     ]
    }
   ],
   "source": [
    "from sympy.abc import x\n",
    "\n",
    "def tnFactory(n):\n",
    "    if n==0:\n",
    "        return 1\n",
    "    if n==1:\n",
    "        return x\n",
    "    else:\n",
    "        return 2*x*tnFactory(n-1)-tnFactory(n-2)\n",
    "    \n",
    "print(tnFactory(0))\n",
    "print(tnFactory(1))\n",
    "print(tnFactory(2))"
   ]
  }
 ],
 "metadata": {
  "kernelspec": {
   "display_name": "Python 3",
   "language": "python",
   "name": "python3"
  },
  "language_info": {
   "codemirror_mode": {
    "name": "ipython",
    "version": 3
   },
   "file_extension": ".py",
   "mimetype": "text/x-python",
   "name": "python",
   "nbconvert_exporter": "python",
   "pygments_lexer": "ipython3",
   "version": "3.7.3"
  }
 },
 "nbformat": 4,
 "nbformat_minor": 2
}
