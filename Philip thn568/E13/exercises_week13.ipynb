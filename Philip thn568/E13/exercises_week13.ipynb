{
 "cells": [
  {
   "cell_type": "markdown",
   "metadata": {},
   "source": [
    "# Exercise Set 13: Network formation\n",
    "\n",
    "\n",
    "In this Exercise Set 13 we will investigate network formation among high school pupils. \n",
    "\n",
    "## Part 1: Network formation\n",
    "\n",
    "\n",
    "Load the data using the script below. Read a bit about the dataset [here](http://www.sociopatterns.org/datasets/high-school-contact-and-friendship-networks/) to get an understanding of what is in each variable. \n",
    "\n",
    "The script gives you two dataframes to work with: \n",
    " > `el`, which is an edge-list \n",
    " >\n",
    " > `ind` which contains individual characteristics"
   ]
  },
  {
   "cell_type": "code",
   "execution_count": 686,
   "metadata": {},
   "outputs": [],
   "source": [
    "import networkx as nx\n",
    "import numpy as np\n",
    "import pandas as pd\n",
    "\n",
    "url_base = 'http://www.sociopatterns.org/wp-content/uploads/2015/'\n",
    "\n",
    "# edgelist\n",
    "url_el = url_base + '07/High-School_data_2013.csv.gz'\n",
    "col_names_el = ['timestamp', 'u1', 'u2', 'class1', 'class2']\n",
    "el = pd.read_csv(url_el, header=None, names=col_names_el, delimiter=' ')\n",
    "\n",
    "# individual characteristics\n",
    "url_ind = url_base + '09/metadata_2013.txt'\n",
    "col_names_ind = ['u', 'class', 'gender']\n",
    "ind = pd.read_csv(url_ind, header=None, names=col_names_ind, delimiter='\\t')\\\n",
    "            .set_index('u')\n",
    "\n",
    "# remove observation with missing gender\n",
    "has_gender = ind[ind.gender!='Unknown'].index\n",
    "\n",
    "# DataFrames\n",
    "ind = ind.loc[has_gender].copy()\n",
    "el = el[el.u1.isin(has_gender) &  el.u2.isin(has_gender)].copy()"
   ]
  },
  {
   "cell_type": "markdown",
   "metadata": {},
   "source": [
    "> **Ex. 13.1.1**: Describe the edgelist columns content. Parse the timestamp. What is the resolution of meetings? Use the parsed timestamp to count the meetings by hour in local time."
   ]
  },
  {
   "cell_type": "markdown",
   "metadata": {},
   "source": [
    "the edgelist, el, columns content:\n",
    "* timestamp: Time of link formation\n",
    "* u1: ID of the one person\n",
    "* u2: ID of the other person\n",
    "* class1: class of the one person\n",
    "* class2: class of the other person\n",
    "By printing el[\"timestamp\"].unique() we see that the resolution of the meetings is 20 minutes which aligns with the description of the dataset given on the website."
   ]
  },
  {
   "cell_type": "code",
   "execution_count": 687,
   "metadata": {},
   "outputs": [],
   "source": [
    "el[\"timestamp\"] = pd.to_datetime(el[\"timestamp\"],unit=\"s\") #Default is unix time.\n",
    "#Cannot choose \"Julian\" because this isn't supported on resolution in seconds.\n",
    "\n",
    "el[\"hours\"] = el[\"timestamp\"].dt.hour\n",
    "el[\"days\"]  = el[\"timestamp\"].dt.day"
   ]
  },
  {
   "cell_type": "code",
   "execution_count": 688,
   "metadata": {},
   "outputs": [
    {
     "data": {
      "text/html": [
       "<div>\n",
       "<style scoped>\n",
       "    .dataframe tbody tr th:only-of-type {\n",
       "        vertical-align: middle;\n",
       "    }\n",
       "\n",
       "    .dataframe tbody tr th {\n",
       "        vertical-align: top;\n",
       "    }\n",
       "\n",
       "    .dataframe thead th {\n",
       "        text-align: right;\n",
       "    }\n",
       "</style>\n",
       "<table border=\"1\" class=\"dataframe\">\n",
       "  <thead>\n",
       "    <tr style=\"text-align: right;\">\n",
       "      <th></th>\n",
       "      <th></th>\n",
       "      <th>u1</th>\n",
       "      <th>u2</th>\n",
       "    </tr>\n",
       "    <tr>\n",
       "      <th>days</th>\n",
       "      <th>hours</th>\n",
       "      <th></th>\n",
       "      <th></th>\n",
       "    </tr>\n",
       "  </thead>\n",
       "  <tbody>\n",
       "    <tr>\n",
       "      <th rowspan=\"5\" valign=\"top\">2</th>\n",
       "      <th>11</th>\n",
       "      <td>5556</td>\n",
       "      <td>5556</td>\n",
       "    </tr>\n",
       "    <tr>\n",
       "      <th>12</th>\n",
       "      <td>4259</td>\n",
       "      <td>4259</td>\n",
       "    </tr>\n",
       "    <tr>\n",
       "      <th>13</th>\n",
       "      <td>6617</td>\n",
       "      <td>6617</td>\n",
       "    </tr>\n",
       "    <tr>\n",
       "      <th>14</th>\n",
       "      <td>5715</td>\n",
       "      <td>5715</td>\n",
       "    </tr>\n",
       "    <tr>\n",
       "      <th>15</th>\n",
       "      <td>5972</td>\n",
       "      <td>5972</td>\n",
       "    </tr>\n",
       "    <tr>\n",
       "      <th rowspan=\"9\" valign=\"top\">3</th>\n",
       "      <th>7</th>\n",
       "      <td>6048</td>\n",
       "      <td>6048</td>\n",
       "    </tr>\n",
       "    <tr>\n",
       "      <th>8</th>\n",
       "      <td>5286</td>\n",
       "      <td>5286</td>\n",
       "    </tr>\n",
       "    <tr>\n",
       "      <th>9</th>\n",
       "      <td>7104</td>\n",
       "      <td>7104</td>\n",
       "    </tr>\n",
       "    <tr>\n",
       "      <th>10</th>\n",
       "      <td>5096</td>\n",
       "      <td>5096</td>\n",
       "    </tr>\n",
       "    <tr>\n",
       "      <th>11</th>\n",
       "      <td>4675</td>\n",
       "      <td>4675</td>\n",
       "    </tr>\n",
       "    <tr>\n",
       "      <th>12</th>\n",
       "      <td>4193</td>\n",
       "      <td>4193</td>\n",
       "    </tr>\n",
       "    <tr>\n",
       "      <th>13</th>\n",
       "      <td>5172</td>\n",
       "      <td>5172</td>\n",
       "    </tr>\n",
       "    <tr>\n",
       "      <th>14</th>\n",
       "      <td>3772</td>\n",
       "      <td>3772</td>\n",
       "    </tr>\n",
       "    <tr>\n",
       "      <th>15</th>\n",
       "      <td>4316</td>\n",
       "      <td>4316</td>\n",
       "    </tr>\n",
       "    <tr>\n",
       "      <th rowspan=\"9\" valign=\"top\">4</th>\n",
       "      <th>7</th>\n",
       "      <td>5100</td>\n",
       "      <td>5100</td>\n",
       "    </tr>\n",
       "    <tr>\n",
       "      <th>8</th>\n",
       "      <td>6218</td>\n",
       "      <td>6218</td>\n",
       "    </tr>\n",
       "    <tr>\n",
       "      <th>9</th>\n",
       "      <td>7309</td>\n",
       "      <td>7309</td>\n",
       "    </tr>\n",
       "    <tr>\n",
       "      <th>10</th>\n",
       "      <td>4013</td>\n",
       "      <td>4013</td>\n",
       "    </tr>\n",
       "    <tr>\n",
       "      <th>11</th>\n",
       "      <td>3998</td>\n",
       "      <td>3998</td>\n",
       "    </tr>\n",
       "    <tr>\n",
       "      <th>12</th>\n",
       "      <td>4555</td>\n",
       "      <td>4555</td>\n",
       "    </tr>\n",
       "    <tr>\n",
       "      <th>13</th>\n",
       "      <td>3109</td>\n",
       "      <td>3109</td>\n",
       "    </tr>\n",
       "    <tr>\n",
       "      <th>14</th>\n",
       "      <td>2567</td>\n",
       "      <td>2567</td>\n",
       "    </tr>\n",
       "    <tr>\n",
       "      <th>15</th>\n",
       "      <td>2117</td>\n",
       "      <td>2117</td>\n",
       "    </tr>\n",
       "    <tr>\n",
       "      <th rowspan=\"9\" valign=\"top\">5</th>\n",
       "      <th>7</th>\n",
       "      <td>4603</td>\n",
       "      <td>4603</td>\n",
       "    </tr>\n",
       "    <tr>\n",
       "      <th>8</th>\n",
       "      <td>4851</td>\n",
       "      <td>4851</td>\n",
       "    </tr>\n",
       "    <tr>\n",
       "      <th>9</th>\n",
       "      <td>6146</td>\n",
       "      <td>6146</td>\n",
       "    </tr>\n",
       "    <tr>\n",
       "      <th>10</th>\n",
       "      <td>4230</td>\n",
       "      <td>4230</td>\n",
       "    </tr>\n",
       "    <tr>\n",
       "      <th>11</th>\n",
       "      <td>3063</td>\n",
       "      <td>3063</td>\n",
       "    </tr>\n",
       "    <tr>\n",
       "      <th>12</th>\n",
       "      <td>3039</td>\n",
       "      <td>3039</td>\n",
       "    </tr>\n",
       "    <tr>\n",
       "      <th>13</th>\n",
       "      <td>3680</td>\n",
       "      <td>3680</td>\n",
       "    </tr>\n",
       "    <tr>\n",
       "      <th>14</th>\n",
       "      <td>3461</td>\n",
       "      <td>3461</td>\n",
       "    </tr>\n",
       "    <tr>\n",
       "      <th>15</th>\n",
       "      <td>2595</td>\n",
       "      <td>2595</td>\n",
       "    </tr>\n",
       "    <tr>\n",
       "      <th rowspan=\"9\" valign=\"top\">6</th>\n",
       "      <th>7</th>\n",
       "      <td>3877</td>\n",
       "      <td>3877</td>\n",
       "    </tr>\n",
       "    <tr>\n",
       "      <th>8</th>\n",
       "      <td>4872</td>\n",
       "      <td>4872</td>\n",
       "    </tr>\n",
       "    <tr>\n",
       "      <th>9</th>\n",
       "      <td>6898</td>\n",
       "      <td>6898</td>\n",
       "    </tr>\n",
       "    <tr>\n",
       "      <th>10</th>\n",
       "      <td>5051</td>\n",
       "      <td>5051</td>\n",
       "    </tr>\n",
       "    <tr>\n",
       "      <th>11</th>\n",
       "      <td>4106</td>\n",
       "      <td>4106</td>\n",
       "    </tr>\n",
       "    <tr>\n",
       "      <th>12</th>\n",
       "      <td>3247</td>\n",
       "      <td>3247</td>\n",
       "    </tr>\n",
       "    <tr>\n",
       "      <th>13</th>\n",
       "      <td>1785</td>\n",
       "      <td>1785</td>\n",
       "    </tr>\n",
       "    <tr>\n",
       "      <th>14</th>\n",
       "      <td>2026</td>\n",
       "      <td>2026</td>\n",
       "    </tr>\n",
       "    <tr>\n",
       "      <th>15</th>\n",
       "      <td>1352</td>\n",
       "      <td>1352</td>\n",
       "    </tr>\n",
       "  </tbody>\n",
       "</table>\n",
       "</div>"
      ],
      "text/plain": [
       "              u1    u2\n",
       "days hours            \n",
       "2    11     5556  5556\n",
       "     12     4259  4259\n",
       "     13     6617  6617\n",
       "     14     5715  5715\n",
       "     15     5972  5972\n",
       "3    7      6048  6048\n",
       "     8      5286  5286\n",
       "     9      7104  7104\n",
       "     10     5096  5096\n",
       "     11     4675  4675\n",
       "     12     4193  4193\n",
       "     13     5172  5172\n",
       "     14     3772  3772\n",
       "     15     4316  4316\n",
       "4    7      5100  5100\n",
       "     8      6218  6218\n",
       "     9      7309  7309\n",
       "     10     4013  4013\n",
       "     11     3998  3998\n",
       "     12     4555  4555\n",
       "     13     3109  3109\n",
       "     14     2567  2567\n",
       "     15     2117  2117\n",
       "5    7      4603  4603\n",
       "     8      4851  4851\n",
       "     9      6146  6146\n",
       "     10     4230  4230\n",
       "     11     3063  3063\n",
       "     12     3039  3039\n",
       "     13     3680  3680\n",
       "     14     3461  3461\n",
       "     15     2595  2595\n",
       "6    7      3877  3877\n",
       "     8      4872  4872\n",
       "     9      6898  6898\n",
       "     10     5051  5051\n",
       "     11     4106  4106\n",
       "     12     3247  3247\n",
       "     13     1785  1785\n",
       "     14     2026  2026\n",
       "     15     1352  1352"
      ]
     },
     "execution_count": 688,
     "metadata": {},
     "output_type": "execute_result"
    }
   ],
   "source": [
    "el[[\"u1\",\"u2\",\"hours\",\"days\"]].groupby([\"days\",\"hours\"]).count()"
   ]
  },
  {
   "cell_type": "markdown",
   "metadata": {},
   "source": [
    "> **Ex. 13.1.2**: Count the number of meetings for each edge and save this as a DataFrame called `el_agg`. Filter out edges with less than 5 minutes of meetings. Attach the gender and class of both nodes."
   ]
  },
  {
   "cell_type": "code",
   "execution_count": 689,
   "metadata": {},
   "outputs": [
    {
     "data": {
      "text/html": [
       "<div>\n",
       "<style scoped>\n",
       "    .dataframe tbody tr th:only-of-type {\n",
       "        vertical-align: middle;\n",
       "    }\n",
       "\n",
       "    .dataframe tbody tr th {\n",
       "        vertical-align: top;\n",
       "    }\n",
       "\n",
       "    .dataframe thead th {\n",
       "        text-align: right;\n",
       "    }\n",
       "</style>\n",
       "<table border=\"1\" class=\"dataframe\">\n",
       "  <thead>\n",
       "    <tr style=\"text-align: right;\">\n",
       "      <th></th>\n",
       "      <th>timestamp</th>\n",
       "      <th>u1</th>\n",
       "      <th>u2</th>\n",
       "      <th>class1</th>\n",
       "      <th>class2</th>\n",
       "      <th>hours</th>\n",
       "      <th>days</th>\n",
       "    </tr>\n",
       "  </thead>\n",
       "  <tbody>\n",
       "    <tr>\n",
       "      <th>0</th>\n",
       "      <td>2013-12-02 11:00:20</td>\n",
       "      <td>454</td>\n",
       "      <td>640</td>\n",
       "      <td>MP</td>\n",
       "      <td>MP</td>\n",
       "      <td>11</td>\n",
       "      <td>2</td>\n",
       "    </tr>\n",
       "    <tr>\n",
       "      <th>1</th>\n",
       "      <td>2013-12-02 11:00:20</td>\n",
       "      <td>1</td>\n",
       "      <td>939</td>\n",
       "      <td>2BIO3</td>\n",
       "      <td>2BIO3</td>\n",
       "      <td>11</td>\n",
       "      <td>2</td>\n",
       "    </tr>\n",
       "    <tr>\n",
       "      <th>2</th>\n",
       "      <td>2013-12-02 11:00:20</td>\n",
       "      <td>185</td>\n",
       "      <td>258</td>\n",
       "      <td>PC*</td>\n",
       "      <td>PC*</td>\n",
       "      <td>11</td>\n",
       "      <td>2</td>\n",
       "    </tr>\n",
       "    <tr>\n",
       "      <th>3</th>\n",
       "      <td>2013-12-02 11:00:20</td>\n",
       "      <td>55</td>\n",
       "      <td>170</td>\n",
       "      <td>2BIO3</td>\n",
       "      <td>2BIO3</td>\n",
       "      <td>11</td>\n",
       "      <td>2</td>\n",
       "    </tr>\n",
       "    <tr>\n",
       "      <th>4</th>\n",
       "      <td>2013-12-02 11:00:20</td>\n",
       "      <td>9</td>\n",
       "      <td>453</td>\n",
       "      <td>PC</td>\n",
       "      <td>PC</td>\n",
       "      <td>11</td>\n",
       "      <td>2</td>\n",
       "    </tr>\n",
       "  </tbody>\n",
       "</table>\n",
       "</div>"
      ],
      "text/plain": [
       "            timestamp   u1   u2 class1 class2  hours  days\n",
       "0 2013-12-02 11:00:20  454  640     MP     MP     11     2\n",
       "1 2013-12-02 11:00:20    1  939  2BIO3  2BIO3     11     2\n",
       "2 2013-12-02 11:00:20  185  258    PC*    PC*     11     2\n",
       "3 2013-12-02 11:00:20   55  170  2BIO3  2BIO3     11     2\n",
       "4 2013-12-02 11:00:20    9  453     PC     PC     11     2"
      ]
     },
     "execution_count": 689,
     "metadata": {},
     "output_type": "execute_result"
    }
   ],
   "source": [
    "el.head()"
   ]
  },
  {
   "cell_type": "code",
   "execution_count": 690,
   "metadata": {},
   "outputs": [
    {
     "data": {
      "text/html": [
       "<div>\n",
       "<style scoped>\n",
       "    .dataframe tbody tr th:only-of-type {\n",
       "        vertical-align: middle;\n",
       "    }\n",
       "\n",
       "    .dataframe tbody tr th {\n",
       "        vertical-align: top;\n",
       "    }\n",
       "\n",
       "    .dataframe thead th {\n",
       "        text-align: right;\n",
       "    }\n",
       "</style>\n",
       "<table border=\"1\" class=\"dataframe\">\n",
       "  <thead>\n",
       "    <tr style=\"text-align: right;\">\n",
       "      <th></th>\n",
       "      <th>u1</th>\n",
       "      <th>u2</th>\n",
       "      <th>meet_count</th>\n",
       "    </tr>\n",
       "  </thead>\n",
       "  <tbody>\n",
       "    <tr>\n",
       "      <th>4</th>\n",
       "      <td>1</td>\n",
       "      <td>117</td>\n",
       "      <td>18</td>\n",
       "    </tr>\n",
       "    <tr>\n",
       "      <th>7</th>\n",
       "      <td>1</td>\n",
       "      <td>196</td>\n",
       "      <td>38</td>\n",
       "    </tr>\n",
       "    <tr>\n",
       "      <th>10</th>\n",
       "      <td>1</td>\n",
       "      <td>205</td>\n",
       "      <td>47</td>\n",
       "    </tr>\n",
       "    <tr>\n",
       "      <th>13</th>\n",
       "      <td>1</td>\n",
       "      <td>494</td>\n",
       "      <td>123</td>\n",
       "    </tr>\n",
       "    <tr>\n",
       "      <th>21</th>\n",
       "      <td>1</td>\n",
       "      <td>939</td>\n",
       "      <td>85</td>\n",
       "    </tr>\n",
       "  </tbody>\n",
       "</table>\n",
       "</div>"
      ],
      "text/plain": [
       "    u1   u2  meet_count\n",
       "4    1  117          18\n",
       "7    1  196          38\n",
       "10   1  205          47\n",
       "13   1  494         123\n",
       "21   1  939          85"
      ]
     },
     "execution_count": 690,
     "metadata": {},
     "output_type": "execute_result"
    }
   ],
   "source": [
    "el_agg = el.groupby([\"u1\",\"u2\"])[\"hours\"].count().reset_index()\n",
    "#Above you can count on any column, not just hours. reset_index() to get code below to work.\n",
    "el_agg = el_agg[el_agg[\"hours\"]>=5*(60/20)].rename(columns = {\"hours\":\"meet_count\"})\n",
    "#Above we exclude pairs with less than 5 mins encounter and we rename the arbitrary\n",
    "#column that I counted on (\"hours\") to what it is: encounters (which I found out I have to \n",
    "# call meet_conut to make triangle function work..)\n",
    "\n",
    "el_agg.head()"
   ]
  },
  {
   "cell_type": "code",
   "execution_count": 691,
   "metadata": {},
   "outputs": [
    {
     "data": {
      "text/html": [
       "<div>\n",
       "<style scoped>\n",
       "    .dataframe tbody tr th:only-of-type {\n",
       "        vertical-align: middle;\n",
       "    }\n",
       "\n",
       "    .dataframe tbody tr th {\n",
       "        vertical-align: top;\n",
       "    }\n",
       "\n",
       "    .dataframe thead th {\n",
       "        text-align: right;\n",
       "    }\n",
       "</style>\n",
       "<table border=\"1\" class=\"dataframe\">\n",
       "  <thead>\n",
       "    <tr style=\"text-align: right;\">\n",
       "      <th></th>\n",
       "      <th>class</th>\n",
       "      <th>gender</th>\n",
       "    </tr>\n",
       "    <tr>\n",
       "      <th>u</th>\n",
       "      <th></th>\n",
       "      <th></th>\n",
       "    </tr>\n",
       "  </thead>\n",
       "  <tbody>\n",
       "    <tr>\n",
       "      <th>650</th>\n",
       "      <td>2BIO1</td>\n",
       "      <td>F</td>\n",
       "    </tr>\n",
       "    <tr>\n",
       "      <th>498</th>\n",
       "      <td>2BIO1</td>\n",
       "      <td>F</td>\n",
       "    </tr>\n",
       "    <tr>\n",
       "      <th>627</th>\n",
       "      <td>2BIO1</td>\n",
       "      <td>F</td>\n",
       "    </tr>\n",
       "    <tr>\n",
       "      <th>857</th>\n",
       "      <td>2BIO1</td>\n",
       "      <td>F</td>\n",
       "    </tr>\n",
       "    <tr>\n",
       "      <th>487</th>\n",
       "      <td>2BIO1</td>\n",
       "      <td>F</td>\n",
       "    </tr>\n",
       "  </tbody>\n",
       "</table>\n",
       "</div>"
      ],
      "text/plain": [
       "     class gender\n",
       "u                \n",
       "650  2BIO1      F\n",
       "498  2BIO1      F\n",
       "627  2BIO1      F\n",
       "857  2BIO1      F\n",
       "487  2BIO1      F"
      ]
     },
     "execution_count": 691,
     "metadata": {},
     "output_type": "execute_result"
    }
   ],
   "source": [
    "ind.head()"
   ]
  },
  {
   "cell_type": "markdown",
   "metadata": {},
   "source": [
    "Fortunately, the index in the \"ind\" frame are the student numbers, so we can easily apply loc"
   ]
  },
  {
   "cell_type": "code",
   "execution_count": 692,
   "metadata": {},
   "outputs": [],
   "source": [
    "el_agg[\"class1\"]  = el_agg[\"u1\"].apply(lambda x: ind.loc[x][\"class\"])\n",
    "el_agg[\"class2\"]  = el_agg[\"u2\"].apply(lambda x: ind.loc[x][\"class\"])\n",
    "el_agg[\"gender1\"] = el_agg[\"u1\"].apply(lambda x: ind.loc[x][\"gender\"])\n",
    "el_agg[\"gender2\"] = el_agg[\"u1\"].apply(lambda x: ind.loc[x][\"gender\"])"
   ]
  },
  {
   "cell_type": "code",
   "execution_count": 693,
   "metadata": {},
   "outputs": [
    {
     "data": {
      "text/plain": [
       "(1375, 7)"
      ]
     },
     "execution_count": 693,
     "metadata": {},
     "output_type": "execute_result"
    }
   ],
   "source": [
    "el_agg.shape"
   ]
  },
  {
   "cell_type": "code",
   "execution_count": 694,
   "metadata": {},
   "outputs": [],
   "source": [
    "# [Answer to ex. 13.1.2 here]"
   ]
  },
  {
   "cell_type": "markdown",
   "metadata": {},
   "source": [
    "> **Ex. 13.1.3**: Answer question in the function `fraction_triangles` below. Explain how `fraction_triangles` is related to  computing the clustering coefficient (using `nx.average_clustering`).\n",
    ">\n",
    ">> *Hint:* The following code does the same thing as `fraction_triangles`, but at a scale where you can understand what's going on. If you have a hard time understanding the code in the function you can try to play around with this simpler example\n",
    ">>\n",
    ">> ```python\n",
    ">> import networkx as nx \n",
    ">>\n",
    ">> A  = np.array(\n",
    ">>     [[0, 1, 1, 0],\n",
    ">>      [1, 0, 1, 0],\n",
    ">>      [1, 1, 0, 1],\n",
    ">>      [0, 0, 1, 0]]\n",
    ">> )\n",
    ">>\n",
    ">> G = nx.from_numpy_array(A)\n",
    ">> nx.draw(G,with_labels=True)\n",
    ">>\n",
    ">> def nth(A, n):\n",
    ">>     A_ = A.copy()    \n",
    ">>     for _ in range(1,n):\n",
    ">>         A = A.dot(A_)\n",
    ">>     return A\n",
    ">>\n",
    ">> a_t = nth(A,3).diagonal().sum()/6\n",
    ">> n = len(A[:,0])\n",
    ">> p_t = binom(n, 3)\n",
    ">> ```\n"
   ]
  },
  {
   "cell_type": "code",
   "execution_count": 857,
   "metadata": {},
   "outputs": [],
   "source": [
    "def make_net(el_, nodes):\n",
    "    '''\n",
    "    Convert edgelist to networkx graph which is \n",
    "    binary and undirected.\n",
    "    \n",
    "    Parameters\n",
    "    ----------\n",
    "    el_ : DataFrame\n",
    "        Table containing an edgelist with columns \n",
    "        `u1` and `u2` which are the nodes in the edge.\n",
    "        \n",
    "    nodes : array-like\n",
    "        1d array containing the node identities.\n",
    "    '''    \n",
    "    \n",
    "    nx_input = el_, 'u1', 'u2', 'meet_count', nx.Graph()\n",
    "    g = nx.from_pandas_edgelist(*nx_input)\n",
    "    #print(\"make_net \",g.nodes())\n",
    "    g.add_nodes_from(nodes)\n",
    "    return g"
   ]
  },
  {
   "cell_type": "code",
   "execution_count": 856,
   "metadata": {},
   "outputs": [],
   "source": [
    "from scipy.special import binom\n",
    "\n",
    "def fraction_triangles(el_, nodes):\n",
    "    '''\n",
    "    Compute fraction of actual triangles out \n",
    "    of the potential triangles.\n",
    "    \n",
    "    Parameters\n",
    "    ----------\n",
    "    el_ : DataFrame\n",
    "        Table containing an edgelist with columns \n",
    "        `u1` and `u2` which are the nodes in the edge.\n",
    "        \n",
    "    nodes : array-like\n",
    "        1d array containing the node identities.\n",
    "    '''\n",
    "    \n",
    "    g = make_net(el_, nodes)\n",
    "    #print(\"fraction_triangles : \",nodes)\n",
    "    #Q.1: what is `A`?: the adjacency matrix which is symmetric and binary\n",
    "    #Q.2: what does `A**3` do? compute the number of paths between two nodes\n",
    "    #Q.3: what is diagonal of A_t? the number of actual paths of length 3, \n",
    "    # i.e. triangles, which include the person. these are called cycles\n",
    "    # because they start and end at the same person\n",
    "    \n",
    "    # count actual triangles    \n",
    "    A = nx.to_scipy_sparse_matrix(g)\n",
    "    A_t = A**3\n",
    "    a_t = A_t.diagonal().sum()/6\n",
    "    \n",
    "    #Q.4: what does `binom(n,3)` compute? the number of triangles including the person\n",
    "    \n",
    "    # count potential triangles\n",
    "    n = len(g.nodes())\n",
    "    p_t = binom(n, 3)\n",
    "        \n",
    "    return a_t/p_t"
   ]
  },
  {
   "cell_type": "markdown",
   "metadata": {},
   "source": [
    "**The questions in the code are already answered. As to what fraction_triangles is computing: the fraction of actualy traingles of the potential number of triangles. This is identical to nx.average_clustering (assuming that the clustering coefficient computetd in this library is the global clustering coefficient which is based on triplets by definition)**"
   ]
  },
  {
   "cell_type": "markdown",
   "metadata": {},
   "source": [
    "> **Ex. 13.1.4**: Apply the function `fraction_triangles` to `el_agg` and print the triangle fraction in the network. Next remove all edges that go between classes. Compute triangle fraction within each class and store it. Compute the mean within class triangles and bootstrap the standard error of the mean. Comment on the output.\n",
    ">\n",
    ">> *Hint:* To bootstrap an estimate draw $k>>0$ samples with replacement from the data. Compute the estimate on each of these samples and average them in the end to get the bootstrapped estimate. "
   ]
  },
  {
   "cell_type": "markdown",
   "metadata": {},
   "source": [
    "**Part 1**"
   ]
  },
  {
   "cell_type": "markdown",
   "metadata": {},
   "source": [
    "First, we need to construct something that function can read"
   ]
  },
  {
   "cell_type": "code",
   "execution_count": 697,
   "metadata": {},
   "outputs": [],
   "source": [
    "array1 = el_agg.loc[:,\"u1\"]\n",
    "array2 = el_agg.loc[:,\"u2\"]\n",
    "nodes  = np.unique(np.concatenate((array1,array2),axis=0)).tolist()"
   ]
  },
  {
   "cell_type": "code",
   "execution_count": 698,
   "metadata": {},
   "outputs": [
    {
     "name": "stdout",
     "output_type": "stream",
     "text": [
      "The triangle fraction in the network = 0.0003160278606511087\n"
     ]
    }
   ],
   "source": [
    "print(f\"The triangle fraction in the network = {fraction_triangles(el_agg,nodes)}\")"
   ]
  },
  {
   "cell_type": "markdown",
   "metadata": {},
   "source": [
    "**Part 2**"
   ]
  },
  {
   "cell_type": "code",
   "execution_count": 753,
   "metadata": {},
   "outputs": [],
   "source": [
    "el_agg_same = el_agg[el_agg[\"class1\"] == el_agg[\"class2\"]]\n",
    "class1      = list(el_agg_same.loc[:,\"class1\"].unique())\n",
    "class2      = list(el_agg_same.loc[:,\"class2\"].unique())\n",
    "\n",
    "class_list = class1"
   ]
  },
  {
   "cell_type": "code",
   "execution_count": 892,
   "metadata": {},
   "outputs": [],
   "source": [
    "def triangle_of_klasse(el_agg_):\n",
    "    a1     = el_agg_.loc[:,\"u1\"]\n",
    "    a2     = el_agg_.loc[:,\"u2\"]\n",
    "\n",
    "    nodes_ = np.unique(np.concatenate((a1,a2),axis=0)).tolist()\n",
    "    return fraction_triangles(el_agg_,nodes_)"
   ]
  },
  {
   "cell_type": "code",
   "execution_count": 893,
   "metadata": {},
   "outputs": [
    {
     "name": "stdout",
     "output_type": "stream",
     "text": [
      "fraction_triangles of 2BIO3 = 0.0347165991902834\n",
      "fraction_triangles of 2BIO2 = 0.034274193548387094\n",
      "fraction_triangles of PSI* = 0.010813782991202347\n",
      "fraction_triangles of PC = 0.023406825732407127\n",
      "fraction_triangles of PC* = 0.01981981981981982\n",
      "fraction_triangles of MP*1 = 0.015873015873015872\n",
      "fraction_triangles of MP = 0.02983032293377121\n",
      "fraction_triangles of 2BIO1 = 0.013292589763177999\n",
      "fraction_triangles of MP*2 = 0.02809388335704125\n"
     ]
    }
   ],
   "source": [
    "values = []\n",
    "\n",
    "for i in range(len(class_list)):\n",
    "    result = triangle_of_klasse(el_agg_same[el_agg_same[\"class1\"] == class_list[i]])\n",
    "    print(f\"fraction_triangles of {class_list[i]} = {result}\")\n",
    "    values.append(result)"
   ]
  },
  {
   "cell_type": "markdown",
   "metadata": {},
   "source": [
    "Above is what I was asked to store. Now, we can turn to the bootstrap part of the question"
   ]
  },
  {
   "cell_type": "code",
   "execution_count": 824,
   "metadata": {},
   "outputs": [],
   "source": [
    "def bootstrap_sample(el_agg_same_):\n",
    "    '''\n",
    "    Note that it has to be the el_agg where we have excluded across-class nodes\n",
    "    '''\n",
    "    df_boot = el_agg_same_.sample(n           = int(el_agg_same_.shape[0]/2),\n",
    "                                 replace      = True)\n",
    "    return df_boot"
   ]
  },
  {
   "cell_type": "code",
   "execution_count": 901,
   "metadata": {},
   "outputs": [],
   "source": [
    "def bootstrap_mean_std(toboot,iterations):\n",
    "    ones = np.ones(iterations)\n",
    "    \n",
    "    for i in range(iterations):\n",
    "        boot    = bootstrap_sample(toboot)\n",
    "        ones[i] = triangle_of_klasse(boot)\n",
    "    \n",
    "    return ones.mean(),ones.std()"
   ]
  },
  {
   "cell_type": "code",
   "execution_count": 925,
   "metadata": {},
   "outputs": [
    {
     "name": "stdout",
     "output_type": "stream",
     "text": [
      "std of 2BIO3 = 0.0006\n",
      "std of 2BIO2 = 0.0009\n",
      "std of PSI* = 0.0008\n",
      "std of PC = 0.0005\n",
      "std of PC* = 0.0008\n",
      "std of MP*1 = 0.0011\n",
      "std of MP = 0.0012\n",
      "std of 2BIO1 = 0.0007\n",
      "std of MP*2 = 0.0008\n"
     ]
    }
   ],
   "source": [
    "for i in range(len(class_list)):\n",
    "    df = el_agg_same[el_agg_same[\"class1\"] == class_list[i]]\n",
    "    result = bootstrap_mean_std(df,100)[1]\n",
    "    print(f\"std of {class_list[i]} = {result.round(4)}\")"
   ]
  },
  {
   "cell_type": "markdown",
   "metadata": {},
   "source": [
    "**We can't trust these standard errors because the mean of the bootstrap is not consistent with the actual value of the class. Why this is the case is intuitive as to some nodes will not exist within each bootstrap (with an almost 100% probability) and so the triangle thing will always be too low. The lower the sample we take, the higher will be the bias.**"
   ]
  },
  {
   "cell_type": "markdown",
   "metadata": {},
   "source": [
    "Maybe there is a proof somewhere that consistency in means is not required for consistency in standard errors implying the bootstrap is valid from a standard deviation point of view. I don't know. However, since the mean is biased, and since this mean enters into the formula for the variance, it seems the standard errors will be biased, rendering the bootstrap worthless"
   ]
  },
  {
   "cell_type": "code",
   "execution_count": 927,
   "metadata": {},
   "outputs": [
    {
     "name": "stdout",
     "output_type": "stream",
     "text": [
      "mean of of 2BIO3 = 0.0024\n",
      "mean of of 2BIO2 = 0.0026\n",
      "mean of of PSI* = 0.001\n",
      "mean of of PC = 0.0017\n",
      "mean of of PC* = 0.0016\n",
      "mean of of MP*1 = 0.0016\n",
      "mean of of MP = 0.0024\n",
      "mean of of 2BIO1 = 0.0011\n",
      "mean of of MP*2 = 0.0021\n"
     ]
    }
   ],
   "source": [
    "for i in range(len(class_list)):\n",
    "    df = el_agg_same[el_agg_same[\"class1\"] == class_list[i]]\n",
    "    result = bootstrap_mean_std(df,100)[0]\n",
    "    print(f\"mean of of {class_list[i]} = {result.round(4)}\")"
   ]
  },
  {
   "cell_type": "markdown",
   "metadata": {},
   "source": [
    "A bootstrap scheme that might work would be to create links that don't exist in our data (possibly according to the connectedness of a given node) to compensate for the 0 probability that all links remain unbroken"
   ]
  },
  {
   "cell_type": "markdown",
   "metadata": {},
   "source": [
    "**Part 3: Comment**"
   ]
  },
  {
   "cell_type": "markdown",
   "metadata": {},
   "source": [
    "**Regardless of the bootstrap detour, we see from the class calculations that there are clear differences between classes**"
   ]
  },
  {
   "cell_type": "code",
   "execution_count": null,
   "metadata": {},
   "outputs": [],
   "source": []
  },
  {
   "cell_type": "code",
   "execution_count": null,
   "metadata": {},
   "outputs": [],
   "source": []
  },
  {
   "cell_type": "code",
   "execution_count": null,
   "metadata": {},
   "outputs": [],
   "source": []
  },
  {
   "cell_type": "code",
   "execution_count": 13,
   "metadata": {},
   "outputs": [],
   "source": [
    "# [Answer to ex. 13.1.4 here]"
   ]
  },
  {
   "cell_type": "markdown",
   "metadata": {},
   "source": [
    "Recall from class that we can define the following measures of homophily. We define **homophily index** inspired by [Currarini et al. (2009)](https://doi.org/10.2139/ssrn.1021650):\n",
    "- share of edges that are same type: $H = \\frac{s}{s+d}$\n",
    "- possible range [0,1]\n",
    "\n",
    "\n",
    "We define **baseline homophily** as: \n",
    "- We count fraction of potential edges in population of nodes which are same type:\n",
    "\n",
    "\\begin{equation}B=\\frac{\\sum_t\\#potential(n_t)}{\\#potential(n)}, \\qquad \\#potential(k)=\\frac{k\\cdot(k-1)}{2}\\end{equation}\n",
    "\n",
    "- Interpretation: Expected homophily from random link formation.     \n",
    "\n",
    "We define **inbreeding homophily** as:      \n",
    "\n",
    "\\begin{equation}IH=\\frac{H-B}{1-B}\\end{equation}\n",
    "\n",
    "\n",
    "> **Ex. 13.1.5**: Compute the inbreeding homophily for each class. Use the class measures to compute the mean. Use a bootstrap to compute whether there is inbreeding homophily."
   ]
  },
  {
   "cell_type": "code",
   "execution_count": 15,
   "metadata": {},
   "outputs": [],
   "source": [
    "# [Answer to ex. 13.1.5 here]"
   ]
  },
  {
   "cell_type": "markdown",
   "metadata": {},
   "source": [
    "> **Ex. 13.1.6** (BONUS): Describe what an unsupported edge is. Construct a test of whether there is a preference for forming  triangles within same gender than across.\n",
    ">\n",
    ">> *Hint:*  You can find inspiration in the approach of [Chandrasekhar, Jackson (2018)](https://web.stanford.edu/~arungc/CJ_sugm.pdf) pp. 31-35. They construct an almost identical test for triangle formation across castes in Indian villages."
   ]
  },
  {
   "cell_type": "code",
   "execution_count": null,
   "metadata": {},
   "outputs": [],
   "source": [
    "# [Answer to ex. 13.1.6 here]"
   ]
  }
 ],
 "metadata": {
  "kernelspec": {
   "display_name": "Python 3",
   "language": "python",
   "name": "python3"
  },
  "language_info": {
   "codemirror_mode": {
    "name": "ipython",
    "version": 3
   },
   "file_extension": ".py",
   "mimetype": "text/x-python",
   "name": "python",
   "nbconvert_exporter": "python",
   "pygments_lexer": "ipython3",
   "version": "3.7.3"
  }
 },
 "nbformat": 4,
 "nbformat_minor": 2
}
