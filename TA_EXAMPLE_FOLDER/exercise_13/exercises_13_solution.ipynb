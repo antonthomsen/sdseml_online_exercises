{
 "cells": [
  {
   "cell_type": "markdown",
   "metadata": {},
   "source": [
    "# Exercise Set 13: Network formation\n",
    "\n",
    "In this Exercise Set 13 we will investigate network formation among high school pupils. \n",
    "\n",
    "## Part 1: Network formation\n",
    "\n",
    "\n",
    "Load the data using the script below. Read a bit about the dataset [here](http://www.sociopatterns.org/datasets/high-school-contact-and-friendship-networks/) to get an understanding of what is in each variable. \n",
    "\n",
    "The script gives you two dataframes to work with: \n",
    " > `el`, which is an edge-list \n",
    " >\n",
    " > `ind` which contains individual characteristics"
   ]
  },
  {
   "cell_type": "code",
   "execution_count": 2,
   "metadata": {},
   "outputs": [],
   "source": [
    "import networkx as nx\n",
    "import numpy as np\n",
    "import pandas as pd\n",
    "\n",
    "url_base = 'http://www.sociopatterns.org/wp-content/uploads/2015/'\n",
    "\n",
    "# edgelist\n",
    "url_el = url_base + '07/High-School_data_2013.csv.gz'\n",
    "col_names_el = ['timestamp', 'u1', 'u2', 'class1', 'class2']\n",
    "el = pd.read_csv(url_el, header=None, names=col_names_el, delimiter=' ')\n",
    "\n",
    "# individual characteristics\n",
    "url_ind = url_base + '09/metadata_2013.txt'\n",
    "col_names_ind = ['u', 'class', 'gender']\n",
    "ind = pd.read_csv(url_ind, header=None, names=col_names_ind, delimiter='\\t')\\\n",
    "            .set_index('u')\n",
    "\n",
    "# remove observation with missing gender\n",
    "has_gender = ind[ind.gender!='Unknown'].index\n",
    "\n",
    "# DataFrames\n",
    "ind = ind.loc[has_gender].copy()\n",
    "el = el[el.u1.isin(has_gender) &  el.u2.isin(has_gender)].copy()"
   ]
  },
  {
   "cell_type": "markdown",
   "metadata": {},
   "source": [
    "> **Ex. 13.1.1**: Describe the edgelist columns content. Parse the timestamp. What is the resolution of meetings? Use the parsed timestamp to count the meetings by hour in local time."
   ]
  },
  {
   "cell_type": "code",
   "execution_count": 3,
   "metadata": {},
   "outputs": [],
   "source": [
    "# [Answer to ex. 13.1.1 here]"
   ]
  },
  {
   "cell_type": "code",
   "execution_count": 4,
   "metadata": {},
   "outputs": [
    {
     "data": {
      "text/plain": [
       "<matplotlib.axes._subplots.AxesSubplot at 0x27fc5559a08>"
      ]
     },
     "execution_count": 4,
     "metadata": {},
     "output_type": "execute_result"
    },
    {
     "data": {
      "image/png": "[encoded data removed]",
      "text/plain": [
       "<Figure size 432x288 with 1 Axes>"
      ]
     },
     "metadata": {
      "needs_background": "light"
     },
     "output_type": "display_data"
    }
   ],
   "source": [
    "el['time'] = \\\n",
    "    pd.to_datetime(el.timestamp,unit='s')\\\n",
    "        .dt.tz_localize('UTC')\\\n",
    "        .dt.tz_convert('Europe/Paris')\n",
    "\n",
    "%matplotlib inline\n",
    "el.time.dt.hour.value_counts().sort_index().plot(kind='bar', color='blue')"
   ]
  },
  {
   "cell_type": "markdown",
   "metadata": {},
   "source": [
    "> **Ex. 13.1.2**: Count the number of meetings for each edge and save this as a DataFrame called `el_agg`. Filter out edges with less than 5 minutes of meetings. Attach the gender and class of both nodes."
   ]
  },
  {
   "cell_type": "code",
   "execution_count": 5,
   "metadata": {},
   "outputs": [],
   "source": [
    "# [Answer to ex. 13.1.2 here]"
   ]
  },
  {
   "cell_type": "code",
   "execution_count": 6,
   "metadata": {},
   "outputs": [],
   "source": [
    "el_agg =  el\\\n",
    "        .groupby(['u1', 'u2'])\\\n",
    "        .size()\\\n",
    "        .rename('meet_count')\\\n",
    "        .pipe(lambda s: s[s>=15])\\\n",
    "        .reset_index()\n",
    "\n",
    "# Note: Look up the pipe function. (it borrows from a design idiom in R)\n",
    "\n",
    "for u in '1', '2':\n",
    "    for v in 'class', 'gender':        \n",
    "        s = el_agg['u'+u].map(ind[v])\n",
    "        el_agg[v+u] = s"
   ]
  },
  {
   "cell_type": "markdown",
   "metadata": {},
   "source": [
    "> **Ex. 13.1.3**: Answer question in the function `fraction_triangles` below. Explain how `fraction_triangles` is related to  computing the clustering coefficient (using `nx.average_clustering`).\n",
    ">\n",
    ">> *Hint:* The following code does the same thing as `fraction_triangles`, but at a scale where you can understand what's going on. If you have a hard time understanding the code in the function you can try to play around with this simpler example\n",
    ">>\n",
    ">> ```python\n",
    ">> import networkx as nx \n",
    ">>\n",
    ">> A  = np.array(\n",
    ">>     [[0, 1, 1, 0],\n",
    ">>      [1, 0, 1, 0],\n",
    ">>      [1, 1, 0, 1],\n",
    ">>      [0, 0, 1, 0]]\n",
    ">> )\n",
    ">>\n",
    ">> G = nx.from_numpy_array(A)\n",
    ">> nx.draw(G,with_labels=True)\n",
    ">>\n",
    ">> def nth(A, n):\n",
    ">>     A_ = A.copy()    \n",
    ">>     for _ in range(1,n):\n",
    ">>         A = A.dot(A_)\n",
    ">>     return A\n",
    ">>\n",
    ">> a_t = nth(A,3).diagonal().sum()/6\n",
    ">> n = len(A[:,0])\n",
    ">> p_t = binom(n, 3)\n",
    ">> ```\n"
   ]
  },
  {
   "cell_type": "code",
   "execution_count": 7,
   "metadata": {},
   "outputs": [],
   "source": [
    "def make_net(el_, nodes):\n",
    "    '''\n",
    "    Convert edgelist to networkx graph which is \n",
    "    binary and undirected.\n",
    "    \n",
    "    Parameters\n",
    "    ----------\n",
    "    el_ : DataFrame\n",
    "        Table containing an edgelist with columns \n",
    "        `u1` and `u2` which are the nodes in the edge.\n",
    "        \n",
    "    nodes : array-like\n",
    "        1d array containing the node identities.\n",
    "    '''    \n",
    "    \n",
    "    nx_input = el_, 'u1', 'u2', 'meet_count', nx.Graph()\n",
    "    g = nx.from_pandas_edgelist(*nx_input)\n",
    "    g.add_nodes_from(nodes)\n",
    "    return g"
   ]
  },
  {
   "cell_type": "code",
   "execution_count": 8,
   "metadata": {},
   "outputs": [],
   "source": [
    "from scipy.special import binom\n",
    "\n",
    "def fraction_triangles(el_, nodes):\n",
    "    '''\n",
    "    Compute fraction of actual triangles out \n",
    "    of the potential triangles.\n",
    "    \n",
    "    Parameters\n",
    "    ----------\n",
    "    el_ : DataFrame\n",
    "        Table containing an edgelist with columns \n",
    "        `u1` and `u2` which are the nodes in the edge.\n",
    "        \n",
    "    nodes : array-like\n",
    "        1d array containing the node identities.\n",
    "    '''\n",
    "    \n",
    "    g = make_net(el_, nodes)\n",
    "    \n",
    "    #Q.1: what is `A`?: the adjacency matrix which is symmetric and binary\n",
    "    #Q.2: what does `A**3` do? compute the number of paths between two nodes\n",
    "    #Q.3: what is diagonal of A_t? the number of actual paths of length 3, \n",
    "    # i.e. triangles, which include the person. these are called cycles\n",
    "    # because they start and end at the same person\n",
    "    \n",
    "    # count actual triangles    \n",
    "    A = nx.to_scipy_sparse_matrix(g)\n",
    "    A_t = A**3\n",
    "    a_t = A_t.diagonal().sum()/6\n",
    "    \n",
    "    #Q.4: what does `binom(n,3)` compute? the number of triangles including the person\n",
    "    \n",
    "    # count potential triangles\n",
    "    n = len(g.nodes())\n",
    "    p_t = binom(n, 3)\n",
    "        \n",
    "    return a_t/p_t"
   ]
  },
  {
   "cell_type": "markdown",
   "metadata": {},
   "source": [
    "> **Ex. 13.1.4**: Apply the function `fraction_triangles` to `el_agg` and print the triangle fraction in the network. Next remove all edges that go between classes. Compute triangle fraction within each class and store it. Compute the mean within class triangles and bootstrap the standard error of the mean. Comment on the output.\n",
    ">\n",
    ">> *Hint:* To bootstrap an estimate draw $k>>0$ samples with replacement from the data. Compute the estimate on each of these samples and average them in the end to get the bootstrapped estimate. "
   ]
  },
  {
   "cell_type": "code",
   "execution_count": 10,
   "metadata": {},
   "outputs": [],
   "source": [
    "# [Answer to ex. 13.1.4 here]"
   ]
  },
  {
   "cell_type": "code",
   "execution_count": 11,
   "metadata": {},
   "outputs": [
    {
     "name": "stdout",
     "output_type": "stream",
     "text": [
      "Overall mean 0.0003 \n",
      "\n",
      "Within class mean 0.02211\n",
      "Within class std. error of mean 0.00276 \n",
      "\n",
      "The rate of triangles within classes are much higher (> 50 times). \n",
      "This makes sense because they share class room togeher.\n"
     ]
    }
   ],
   "source": [
    "print('Overall mean', round(fraction_triangles(el_agg, ind.index),5),'\\n')\n",
    "\n",
    "el_agg_same = el_agg[el_agg.class1==el_agg.class2]\n",
    "\n",
    "\n",
    "i_dict = dict(tuple(ind.groupby('class')))\n",
    "el_dict = dict(tuple(el_agg_same.groupby('class1')))\n",
    "classes = el_agg_same.class1.unique()\n",
    "\n",
    "frac_t = []\n",
    "for c in classes:          \n",
    "    f = fraction_triangles(el_ = el_dict[c], \n",
    "                           nodes = i_dict[c].index)\n",
    "    frac_t.append(f)\n",
    "    \n",
    "frac_t_arr = pd.Series(frac_t)    \n",
    "\n",
    "print('Within class mean', round(frac_t_arr.mean(),5))\n",
    "std = np.std([frac_t_arr.sample(frac=1,replace=True).mean() for _ in range(10000)])\n",
    "print('Within class std. error of mean', round(std,5),'\\n')\n",
    "\n",
    "print('The rate of triangles within classes are much higher (> 50 times).',\n",
    "      '\\nThis makes sense because they share class room togeher.')\n"
   ]
  },
  {
   "cell_type": "markdown",
   "metadata": {},
   "source": [
    "Recall from class that we can define the following measures of homophily. We define **homophily index** inspired by [Currarini et al. (2009)](https://doi.org/10.2139/ssrn.1021650):\n",
    "- share of edges that are same type: $H = \\frac{s}{s+d}$\n",
    "- possible range [0,1]\n",
    "\n",
    "\n",
    "We define **baseline homophily** as: \n",
    "- We count fraction of potential edges in population of nodes which are same type:\n",
    "\n",
    "\\begin{equation}B=\\frac{\\sum_t\\#potential(n_t)}{\\#potential(n)}, \\qquad \\#potential(k)=\\frac{k\\cdot(k-1)}{2}\\end{equation}\n",
    "\n",
    "- Interpretation: Expected homophily from random link formation.     \n",
    "\n",
    "We define **inbreeding homophily** as:      \n",
    "\n",
    "\\begin{equation}IH=\\frac{H-B}{1-B}\\end{equation}\n",
    "\n",
    "\n",
    "> **Ex. 13.1.5**: Compute the inbreeding homophily for each class. Use the class measures to compute the mean. Use a bootstrap to compute whether there is inbreeding homophily."
   ]
  },
  {
   "cell_type": "code",
   "execution_count": 12,
   "metadata": {},
   "outputs": [],
   "source": [
    "# [Answer to ex. 13.1.5 here]"
   ]
  },
  {
   "cell_type": "code",
   "execution_count": 22,
   "metadata": {},
   "outputs": [
    {
     "name": "stdout",
     "output_type": "stream",
     "text": [
      "Within class mean 0.1105\n",
      "Test for gender inbreeding homophily, reject null with p= 0.0 \n",
      "\n"
     ]
    }
   ],
   "source": [
    "def edge_active_potential(el_, nodes):        \n",
    "    a = el_.shape[0]    \n",
    "    n_ = len(nodes)\n",
    "    p = n_*(n_-1)/2\n",
    "    return a, p\n",
    "\n",
    "\n",
    "el_agg_same2 = el_agg_same[el_agg_same.gender1==el_agg_same.gender2]\n",
    "\n",
    "el_dict2 = dict(tuple(el_agg_same2.groupby(['class1', 'gender1'])))\n",
    "i_dict2 = dict(tuple(ind.groupby(['class', 'gender'])))\n",
    "\n",
    "H = pd.Series(np.zeros(9))\n",
    "B = pd.Series(np.zeros(9))\n",
    "\n",
    "for i, c in enumerate(classes):     \n",
    "    \n",
    "    a_all, p_all = edge_active_potential(el_dict[c], i_dict[c])    \n",
    "    \n",
    "    \n",
    "    p_same, a_same = 0, 0 \n",
    "    for g in 'M', 'F':\n",
    "        a_same_, p_same_ = \\\n",
    "            edge_active_potential(el_dict2[(c,g)], i_dict2[(c,g)])\n",
    "        \n",
    "        p_same += p_same_\n",
    "        a_same += a_same_\n",
    "    H[i] = a_same/a_all\n",
    "    B[i] = p_same/p_all\n",
    "    \n",
    "        \n",
    "inbreed = (H-B)/(1-B)\n",
    "\n",
    "print('Within class mean', round(inbreed.mean(),4))\n",
    "test = 1-np.mean([inbreed.sample(frac=1,replace=True).mean()>0 for _ in range(10000)])\n",
    "print('Test for gender inbreeding homophily, reject null with p=', round(test,4),'\\n')"
   ]
  },
  {
   "cell_type": "markdown",
   "metadata": {},
   "source": [
    "> **Ex. 13.1.6** (BONUS): Describe what an unsupported edge is. Construct a test of whether there is a preference for forming  triangles within same gender than across.\n",
    ">\n",
    ">> *Hint:*  You can find inspiration in the approach of [Chandrasekhar, Jackson (2018)](https://web.stanford.edu/~arungc/CJ_sugm.pdf) pp. 31-35. They construct an almost identical test for triangle formation across castes in Indian villages."
   ]
  },
  {
   "cell_type": "code",
   "execution_count": null,
   "metadata": {},
   "outputs": [],
   "source": [
    "# [Answer to ex. 13.1.6 here]"
   ]
  }
 ],
 "metadata": {
  "kernelspec": {
   "display_name": "Python 3",
   "language": "python",
   "name": "python3"
  },
  "language_info": {
   "codemirror_mode": {
    "name": "ipython",
    "version": 3
   },
   "file_extension": ".py",
   "mimetype": "text/x-python",
   "name": "python",
   "nbconvert_exporter": "python",
   "pygments_lexer": "ipython3",
   "version": "3.7.4"
  }
 },
 "nbformat": 4,
 "nbformat_minor": 4
}
