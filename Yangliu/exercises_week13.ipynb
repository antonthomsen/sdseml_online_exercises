{
 "cells": [
  {
   "cell_type": "markdown",
   "metadata": {},
   "source": [
    "# Exercise Set 13: Network formation\n",
    "\n",
    "\n",
    "In this Exercise Set 13 we will investigate network formation among high school pupils. \n",
    "\n",
    "## Part 1: Network formation\n",
    "\n",
    "\n",
    "Load the data using the script below. Read a bit about the dataset [here](http://www.sociopatterns.org/datasets/high-school-contact-and-friendship-networks/) to get an understanding of what is in each variable. \n",
    "\n",
    "The script gives you two dataframes to work with: \n",
    " > `el`, which is an edge-list \n",
    " >\n",
    " > `ind` which contains individual characteristics"
   ]
  },
  {
   "cell_type": "code",
   "execution_count": 1,
   "metadata": {},
   "outputs": [],
   "source": [
    "import networkx as nx\n",
    "import numpy as np\n",
    "import pandas as pd\n",
    "\n",
    "url_base = 'http://www.sociopatterns.org/wp-content/uploads/2015/'\n",
    "\n",
    "# edgelist\n",
    "url_el = url_base + '07/High-School_data_2013.csv.gz'\n",
    "col_names_el = ['timestamp', 'u1', 'u2', 'class1', 'class2']\n",
    "el = pd.read_csv(url_el, header=None, names=col_names_el, delimiter=' ')\n",
    "\n",
    "# individual characteristics\n",
    "url_ind = url_base + '09/metadata_2013.txt'\n",
    "col_names_ind = ['u', 'class', 'gender']\n",
    "ind = pd.read_csv(url_ind, header=None, names=col_names_ind, delimiter='\\t')\\\n",
    "            .set_index('u')\n",
    "\n",
    "# remove observation with missing gender\n",
    "has_gender = ind[ind.gender!='Unknown'].index\n",
    "\n",
    "# DataFrames\n",
    "ind = ind.loc[has_gender].copy()\n",
    "el = el[el.u1.isin(has_gender) &  el.u2.isin(has_gender)].copy()"
   ]
  },
  {
   "cell_type": "markdown",
   "metadata": {},
   "source": [
    "> **Ex. 13.1.1**: Describe the edgelist columns content. Parse the timestamp. What is the resolution of meetings? Use the parsed timestamp to count the meetings by hour in local time."
   ]
  },
  {
   "cell_type": "code",
   "execution_count": 2,
   "metadata": {},
   "outputs": [
    {
     "data": {
      "text/html": [
       "<div>\n",
       "<style scoped>\n",
       "    .dataframe tbody tr th:only-of-type {\n",
       "        vertical-align: middle;\n",
       "    }\n",
       "\n",
       "    .dataframe tbody tr th {\n",
       "        vertical-align: top;\n",
       "    }\n",
       "\n",
       "    .dataframe thead th {\n",
       "        text-align: right;\n",
       "    }\n",
       "</style>\n",
       "<table border=\"1\" class=\"dataframe\">\n",
       "  <thead>\n",
       "    <tr style=\"text-align: right;\">\n",
       "      <th></th>\n",
       "      <th>timestamp</th>\n",
       "      <th>u1</th>\n",
       "      <th>u2</th>\n",
       "      <th>class1</th>\n",
       "      <th>class2</th>\n",
       "    </tr>\n",
       "  </thead>\n",
       "  <tbody>\n",
       "    <tr>\n",
       "      <th>0</th>\n",
       "      <td>1385982020</td>\n",
       "      <td>454</td>\n",
       "      <td>640</td>\n",
       "      <td>MP</td>\n",
       "      <td>MP</td>\n",
       "    </tr>\n",
       "    <tr>\n",
       "      <th>1</th>\n",
       "      <td>1385982020</td>\n",
       "      <td>1</td>\n",
       "      <td>939</td>\n",
       "      <td>2BIO3</td>\n",
       "      <td>2BIO3</td>\n",
       "    </tr>\n",
       "    <tr>\n",
       "      <th>2</th>\n",
       "      <td>1385982020</td>\n",
       "      <td>185</td>\n",
       "      <td>258</td>\n",
       "      <td>PC*</td>\n",
       "      <td>PC*</td>\n",
       "    </tr>\n",
       "    <tr>\n",
       "      <th>3</th>\n",
       "      <td>1385982020</td>\n",
       "      <td>55</td>\n",
       "      <td>170</td>\n",
       "      <td>2BIO3</td>\n",
       "      <td>2BIO3</td>\n",
       "    </tr>\n",
       "    <tr>\n",
       "      <th>4</th>\n",
       "      <td>1385982020</td>\n",
       "      <td>9</td>\n",
       "      <td>453</td>\n",
       "      <td>PC</td>\n",
       "      <td>PC</td>\n",
       "    </tr>\n",
       "  </tbody>\n",
       "</table>\n",
       "</div>"
      ],
      "text/plain": [
       "    timestamp   u1   u2 class1 class2\n",
       "0  1385982020  454  640     MP     MP\n",
       "1  1385982020    1  939  2BIO3  2BIO3\n",
       "2  1385982020  185  258    PC*    PC*\n",
       "3  1385982020   55  170  2BIO3  2BIO3\n",
       "4  1385982020    9  453     PC     PC"
      ]
     },
     "execution_count": 2,
     "metadata": {},
     "output_type": "execute_result"
    }
   ],
   "source": [
    "#timestamp refers to the interval during which contact is [t – 20s, t], u1,u2 are the students, C1,C2 are their classes\n",
    "#contacts between students in a high school\n",
    "el.head() "
   ]
  },
  {
   "cell_type": "code",
   "execution_count": 3,
   "metadata": {},
   "outputs": [],
   "source": [
    "el['parse_time']=pd.to_datetime(el.timestamp,unit='s')"
   ]
  },
  {
   "cell_type": "code",
   "execution_count": 4,
   "metadata": {},
   "outputs": [],
   "source": [
    "el['date_time']=el.parse_time.apply(lambda x: str(x.year)+str(x.month)+str(x.day)+str(x.hour))"
   ]
  },
  {
   "cell_type": "code",
   "execution_count": 5,
   "metadata": {},
   "outputs": [
    {
     "data": {
      "text/plain": [
       "date_time\n",
       "201312211    5556\n",
       "201312212    4259\n",
       "201312213    6617\n",
       "201312214    5715\n",
       "201312215    5972\n",
       "201312310    5096\n",
       "201312311    4675\n",
       "201312312    4193\n",
       "201312313    5172\n",
       "201312314    3772\n",
       "201312315    4316\n",
       "20131237     6048\n",
       "20131238     5286\n",
       "20131239     7104\n",
       "201312410    4013\n",
       "201312411    3998\n",
       "201312412    4555\n",
       "201312413    3109\n",
       "201312414    2567\n",
       "201312415    2117\n",
       "20131247     5100\n",
       "20131248     6218\n",
       "20131249     7309\n",
       "201312510    4230\n",
       "201312511    3063\n",
       "201312512    3039\n",
       "201312513    3680\n",
       "201312514    3461\n",
       "201312515    2595\n",
       "20131257     4603\n",
       "20131258     4851\n",
       "20131259     6146\n",
       "201312610    5051\n",
       "201312611    4106\n",
       "201312612    3247\n",
       "201312613    1785\n",
       "201312614    2026\n",
       "201312615    1352\n",
       "20131267     3877\n",
       "20131268     4872\n",
       "20131269     6898\n",
       "dtype: int64"
      ]
     },
     "execution_count": 5,
     "metadata": {},
     "output_type": "execute_result"
    }
   ],
   "source": [
    "el.groupby('date_time').size()"
   ]
  },
  {
   "cell_type": "markdown",
   "metadata": {},
   "source": [
    "> **Ex. 13.1.2**: Count the number of meetings for each edge and save this as a DataFrame called `el_agg`. Filter out edges with less than 5 minutes of meetings. Attach the gender and class of both nodes."
   ]
  },
  {
   "cell_type": "code",
   "execution_count": 6,
   "metadata": {},
   "outputs": [],
   "source": [
    "# [Answer to ex. 13.1.2 hesre]\n",
    "el_agg=el.groupby(['u1','u2']).size().to_frame()"
   ]
  },
  {
   "cell_type": "code",
   "execution_count": 12,
   "metadata": {},
   "outputs": [],
   "source": [
    "ind=ind.reset_index()"
   ]
  },
  {
   "cell_type": "code",
   "execution_count": 10,
   "metadata": {},
   "outputs": [],
   "source": [
    "el_agg=el_agg.reset_index()"
   ]
  },
  {
   "cell_type": "code",
   "execution_count": 8,
   "metadata": {},
   "outputs": [],
   "source": [
    "el_agg.columns=['u1','u2','count']\n",
    "el_agg=el_agg[el_agg['count']>15]"
   ]
  },
  {
   "cell_type": "code",
   "execution_count": 13,
   "metadata": {},
   "outputs": [],
   "source": [
    "for i in range(len(el_agg['u1'])):\n",
    "    el_agg.loc[i,'u1_class'],el_agg.loc[i,'u2_class']=ind[ind['u']==el_agg['u1'][i]]['class'].to_list(),ind[ind['u']==el_agg['u2'][i]]['class'].to_list()\n",
    "    el_agg.loc[i,'u1_gender']=ind[ind['u']==el_agg['u1'][i]]['gender'].to_list()\n",
    "    el_agg.loc[i,'u2_gender']=ind[ind['u']==el_agg['u2'][i]]['gender'].to_list()"
   ]
  },
  {
   "cell_type": "code",
   "execution_count": 14,
   "metadata": {},
   "outputs": [],
   "source": [
    "el_agg=el_agg.drop(columns=['index'])"
   ]
  },
  {
   "cell_type": "code",
   "execution_count": 15,
   "metadata": {},
   "outputs": [
    {
     "data": {
      "text/html": [
       "<div>\n",
       "<style scoped>\n",
       "    .dataframe tbody tr th:only-of-type {\n",
       "        vertical-align: middle;\n",
       "    }\n",
       "\n",
       "    .dataframe tbody tr th {\n",
       "        vertical-align: top;\n",
       "    }\n",
       "\n",
       "    .dataframe thead th {\n",
       "        text-align: right;\n",
       "    }\n",
       "</style>\n",
       "<table border=\"1\" class=\"dataframe\">\n",
       "  <thead>\n",
       "    <tr style=\"text-align: right;\">\n",
       "      <th></th>\n",
       "      <th>u1</th>\n",
       "      <th>u2</th>\n",
       "      <th>count</th>\n",
       "      <th>u1_class</th>\n",
       "      <th>u2_class</th>\n",
       "      <th>u1_gender</th>\n",
       "      <th>u2_gender</th>\n",
       "    </tr>\n",
       "  </thead>\n",
       "  <tbody>\n",
       "    <tr>\n",
       "      <th>0</th>\n",
       "      <td>1</td>\n",
       "      <td>117</td>\n",
       "      <td>18</td>\n",
       "      <td>2BIO3</td>\n",
       "      <td>2BIO3</td>\n",
       "      <td>M</td>\n",
       "      <td>M</td>\n",
       "    </tr>\n",
       "    <tr>\n",
       "      <th>1</th>\n",
       "      <td>1</td>\n",
       "      <td>196</td>\n",
       "      <td>38</td>\n",
       "      <td>2BIO3</td>\n",
       "      <td>2BIO3</td>\n",
       "      <td>M</td>\n",
       "      <td>M</td>\n",
       "    </tr>\n",
       "    <tr>\n",
       "      <th>2</th>\n",
       "      <td>1</td>\n",
       "      <td>205</td>\n",
       "      <td>47</td>\n",
       "      <td>2BIO3</td>\n",
       "      <td>2BIO3</td>\n",
       "      <td>M</td>\n",
       "      <td>M</td>\n",
       "    </tr>\n",
       "    <tr>\n",
       "      <th>3</th>\n",
       "      <td>1</td>\n",
       "      <td>494</td>\n",
       "      <td>123</td>\n",
       "      <td>2BIO3</td>\n",
       "      <td>2BIO3</td>\n",
       "      <td>M</td>\n",
       "      <td>M</td>\n",
       "    </tr>\n",
       "    <tr>\n",
       "      <th>4</th>\n",
       "      <td>1</td>\n",
       "      <td>939</td>\n",
       "      <td>85</td>\n",
       "      <td>2BIO3</td>\n",
       "      <td>2BIO3</td>\n",
       "      <td>M</td>\n",
       "      <td>M</td>\n",
       "    </tr>\n",
       "    <tr>\n",
       "      <th>...</th>\n",
       "      <td>...</td>\n",
       "      <td>...</td>\n",
       "      <td>...</td>\n",
       "      <td>...</td>\n",
       "      <td>...</td>\n",
       "      <td>...</td>\n",
       "      <td>...</td>\n",
       "    </tr>\n",
       "    <tr>\n",
       "      <th>1315</th>\n",
       "      <td>1518</td>\n",
       "      <td>1784</td>\n",
       "      <td>165</td>\n",
       "      <td>MP*2</td>\n",
       "      <td>MP*2</td>\n",
       "      <td>M</td>\n",
       "      <td>M</td>\n",
       "    </tr>\n",
       "    <tr>\n",
       "      <th>1316</th>\n",
       "      <td>1543</td>\n",
       "      <td>1784</td>\n",
       "      <td>29</td>\n",
       "      <td>MP*2</td>\n",
       "      <td>MP*2</td>\n",
       "      <td>M</td>\n",
       "      <td>M</td>\n",
       "    </tr>\n",
       "    <tr>\n",
       "      <th>1317</th>\n",
       "      <td>1594</td>\n",
       "      <td>1819</td>\n",
       "      <td>129</td>\n",
       "      <td>MP*2</td>\n",
       "      <td>MP*2</td>\n",
       "      <td>F</td>\n",
       "      <td>M</td>\n",
       "    </tr>\n",
       "    <tr>\n",
       "      <th>1318</th>\n",
       "      <td>1594</td>\n",
       "      <td>1828</td>\n",
       "      <td>1285</td>\n",
       "      <td>MP*2</td>\n",
       "      <td>MP*2</td>\n",
       "      <td>F</td>\n",
       "      <td>M</td>\n",
       "    </tr>\n",
       "    <tr>\n",
       "      <th>1319</th>\n",
       "      <td>1870</td>\n",
       "      <td>1894</td>\n",
       "      <td>29</td>\n",
       "      <td>MP*2</td>\n",
       "      <td>MP*2</td>\n",
       "      <td>M</td>\n",
       "      <td>F</td>\n",
       "    </tr>\n",
       "  </tbody>\n",
       "</table>\n",
       "<p>1320 rows × 7 columns</p>\n",
       "</div>"
      ],
      "text/plain": [
       "        u1    u2  count u1_class u2_class u1_gender u2_gender\n",
       "0        1   117     18    2BIO3    2BIO3         M         M\n",
       "1        1   196     38    2BIO3    2BIO3         M         M\n",
       "2        1   205     47    2BIO3    2BIO3         M         M\n",
       "3        1   494    123    2BIO3    2BIO3         M         M\n",
       "4        1   939     85    2BIO3    2BIO3         M         M\n",
       "...    ...   ...    ...      ...      ...       ...       ...\n",
       "1315  1518  1784    165     MP*2     MP*2         M         M\n",
       "1316  1543  1784     29     MP*2     MP*2         M         M\n",
       "1317  1594  1819    129     MP*2     MP*2         F         M\n",
       "1318  1594  1828   1285     MP*2     MP*2         F         M\n",
       "1319  1870  1894     29     MP*2     MP*2         M         F\n",
       "\n",
       "[1320 rows x 7 columns]"
      ]
     },
     "execution_count": 15,
     "metadata": {},
     "output_type": "execute_result"
    }
   ],
   "source": [
    "el_agg"
   ]
  },
  {
   "cell_type": "markdown",
   "metadata": {},
   "source": [
    "> **Ex. 13.1.3**: Answer question in the function `fraction_triangles` below. Explain how `fraction_triangles` is related to  computing the clustering coefficient (using `nx.average_clustering`).\n",
    ">\n",
    ">> *Hint:* The following code does the same thing as `fraction_triangles`, but at a scale where you can understand what's going on. If you have a hard time understanding the code in the function you can try to play around with this simpler example\n",
    ">>\n",
    ">> ```python\n",
    ">> import networkx as nx \n",
    ">>\n",
    ">> A  = np.array(\n",
    ">>     [[0, 1, 1, 0],\n",
    ">>      [1, 0, 1, 0],\n",
    ">>      [1, 1, 0, 1],\n",
    ">>      [0, 0, 1, 0]]\n",
    ">> )\n",
    ">>\n",
    ">> G = nx.from_numpy_array(A)\n",
    ">> nx.draw(G,with_labels=True)\n",
    ">>\n",
    ">> def nth(A, n):\n",
    ">>     A_ = A.copy()    \n",
    ">>     for _ in range(1,n):\n",
    ">>         A = A.dot(A_)\n",
    ">>     return A\n",
    ">>\n",
    ">> a_t = nth(A,3).diagonal().sum()/6\n",
    ">> n = len(A[:,0])\n",
    ">> p_t = binom(n, 3)\n",
    ">> ```\n"
   ]
  },
  {
   "cell_type": "markdown",
   "metadata": {},
   "source": [
    "The clustering coefficient and fraction of triangle both measure the degree to which nodes in a network tend to form triangles.The larger they are,the more triangles will be in the network. The fraction of triangles put larger weight on high degree nodes, like node2(there is only one out of three possible triangles around node2,so that the value is lower), whereas the clustering coefficient takes each node as the same weight.\n"
   ]
  },
  {
   "cell_type": "code",
   "execution_count": 16,
   "metadata": {},
   "outputs": [],
   "source": [
    "def make_net(el_, nodes):\n",
    "    '''\n",
    "    Convert edgelist to networkx graph which is \n",
    "    binary and undirected.\n",
    "    \n",
    "    Parameters\n",
    "    ----------\n",
    "    el_ : DataFrame\n",
    "        Table containing an edgelist with columns \n",
    "        `u1` and `u2` which are the nodes in the edge.\n",
    "        \n",
    "    nodes : array-like\n",
    "        1d array containing the node identities.\n",
    "    '''    \n",
    "    \n",
    "    nx_input = el_, 'u1', 'u2', 'count', nx.Graph()\n",
    "    g = nx.from_pandas_edgelist(*nx_input) #unpack argument\n",
    "    g.add_nodes_from(nodes)\n",
    "    return g"
   ]
  },
  {
   "cell_type": "code",
   "execution_count": 17,
   "metadata": {},
   "outputs": [],
   "source": [
    "from scipy.special import binom\n",
    "\n",
    "def fraction_triangles(el_, nodes):\n",
    "    '''\n",
    "    Compute fraction of actual triangles out \n",
    "    of the potential triangles.\n",
    "    \n",
    "    Parameters\n",
    "    ----------\n",
    "    el_ : DataFrame\n",
    "        Table containing an edgelist with columns \n",
    "        `u1` and `u2` which are the nodes in the edge.\n",
    "        \n",
    "    nodes : array-like\n",
    "        1d array containing the node identities.\n",
    "    '''\n",
    "    \n",
    "    g = make_net(el_, nodes)\n",
    "    \n",
    "    #Q.1: what is `A`?: the adjacency matrix which is symmetric and binary\n",
    "    #Q.2: what does `A**3` do? compute the number of paths between two nodes\n",
    "    #Q.3: what is diagonal of A_t? the number of actual paths of length 3, \n",
    "    # i.e. triangles, which include the person. these are called cycles\n",
    "    # because they start and end at the same person\n",
    "    \n",
    "    # count actual triangles    \n",
    "    A = nx.to_scipy_sparse_matrix(g)\n",
    "    A_t = A**3\n",
    "    a_t = A_t.diagonal().sum()/6\n",
    "    \n",
    "    #Q.4: what does `binom(n,3)` compute? the number of triangles including the person\n",
    "    \n",
    "    # count potential triangles\n",
    "    n = len(g.nodes())\n",
    "    p_t = binom(n, 3)\n",
    "        \n",
    "    return a_t/p_t"
   ]
  },
  {
   "cell_type": "markdown",
   "metadata": {},
   "source": [
    "> **Ex. 13.1.4**: Apply the function `fraction_triangles` to `el_agg` and print the triangle fraction in the network. Next remove all edges that go between classes. Compute triangle fraction within each class and store it. Compute the mean within class triangles and bootstrap the standard error of the mean. Comment on the output.\n",
    ">\n",
    ">> *Hint:* To bootstrap an estimate draw $k>>0$ samples with replacement from the data. Compute the estimate on each of these samples and average them in the end to get the bootstrapped estimate. "
   ]
  },
  {
   "cell_type": "code",
   "execution_count": 18,
   "metadata": {},
   "outputs": [
    {
     "data": {
      "text/plain": [
       "0.00028807593795814057"
      ]
     },
     "execution_count": 18,
     "metadata": {},
     "output_type": "execute_result"
    }
   ],
   "source": [
    "# [Answer to ex. 13.1.4 here]\n",
    "fraction_triangles(el_agg, set(el_agg['u1'].to_list()+el_agg['u2'].to_list()))"
   ]
  },
  {
   "cell_type": "code",
   "execution_count": 19,
   "metadata": {},
   "outputs": [],
   "source": [
    "el_agg=el_agg[el_agg['u1_class']==el_agg['u2_class']] #only within classes"
   ]
  },
  {
   "cell_type": "code",
   "execution_count": 21,
   "metadata": {},
   "outputs": [],
   "source": [
    "def classes(el):\n",
    "    return el.apply(lambda x:fraction_triangles(x, set(x['u1'].to_list()+x['u2'].to_list())))"
   ]
  },
  {
   "cell_type": "code",
   "execution_count": 22,
   "metadata": {},
   "outputs": [],
   "source": [
    "class_triangle=classes(el_agg.groupby(['u1_class']))"
   ]
  },
  {
   "cell_type": "code",
   "execution_count": 23,
   "metadata": {},
   "outputs": [
    {
     "data": {
      "text/plain": [
       "u1_class\n",
       "2BIO1    0.012529\n",
       "2BIO2    0.033065\n",
       "2BIO3    0.032591\n",
       "MP       0.028188\n",
       "MP*1     0.014347\n",
       "MP*2     0.026079\n",
       "PC       0.020311\n",
       "PC*      0.016988\n",
       "PSI*     0.009897\n",
       "dtype: float64"
      ]
     },
     "execution_count": 23,
     "metadata": {},
     "output_type": "execute_result"
    }
   ],
   "source": [
    "class_triangle #the fraction of triangles is larger within class"
   ]
  },
  {
   "cell_type": "code",
   "execution_count": 24,
   "metadata": {},
   "outputs": [
    {
     "data": {
      "text/plain": [
       "0.021554986718998446"
      ]
     },
     "execution_count": 24,
     "metadata": {},
     "output_type": "execute_result"
    }
   ],
   "source": [
    "np.mean(class_triangle) #mean "
   ]
  },
  {
   "cell_type": "code",
   "execution_count": 25,
   "metadata": {},
   "outputs": [],
   "source": [
    "def bootstrap(el_):\n",
    "    s=[]\n",
    "    sample=el_.apply(lambda x: np.random.choice(x.index,size=len(x)))\n",
    "    for subsample in sample:\n",
    "        s.append(el_agg.loc[subsample,:])\n",
    "    return s"
   ]
  },
  {
   "cell_type": "code",
   "execution_count": 85,
   "metadata": {},
   "outputs": [],
   "source": [
    "def nodes(el): #nodes within each class\n",
    "    return len(np.unique(el['u1'].to_list()+el['u2'].to_list()))"
   ]
  },
  {
   "cell_type": "code",
   "execution_count": 41,
   "metadata": {},
   "outputs": [],
   "source": [
    "def std(el_,k):\n",
    "    fts=[]\n",
    "    for i in range(k):\n",
    "        ft=[]\n",
    "        sample=bootstrap(el_)\n",
    "        for s in sample:\n",
    "            ft.append(fraction_triangles(s, nodes(s)))\n",
    "        fts.append(np.mean(ft))\n",
    "    return np.std(fts)"
   ]
  },
  {
   "cell_type": "code",
   "execution_count": 42,
   "metadata": {},
   "outputs": [
    {
     "data": {
      "text/plain": [
       "0.0004598694355824293"
      ]
     },
     "execution_count": 42,
     "metadata": {},
     "output_type": "execute_result"
    }
   ],
   "source": [
    "std(el_agg.groupby(['u1_class']),100) #bootstrap std"
   ]
  },
  {
   "cell_type": "markdown",
   "metadata": {},
   "source": [
    "Recall from class that we can define the following measures of homophily. We define **homophily index** inspired by [Currarini et al. (2009)](https://doi.org/10.2139/ssrn.1021650):\n",
    "- share of edges that are same type: $H = \\frac{s}{s+d}$\n",
    "- possible range [0,1]\n",
    "\n",
    "\n",
    "We define **baseline homophily** as: \n",
    "- We count fraction of potential edges in population of nodes which are same type:\n",
    "\n",
    "\\begin{equation}B=\\frac{\\sum_t\\#potential(n_t)}{\\#potential(n)}, \\qquad \\#potential(k)=\\frac{k\\cdot(k-1)}{2}\\end{equation}\n",
    "\n",
    "- Interpretation: Expected homophily from random link formation.     \n",
    "\n",
    "We define **inbreeding homophily** as:      \n",
    "\n",
    "\\begin{equation}IH=\\frac{H-B}{1-B}\\end{equation}\n",
    "\n",
    "\n",
    "> **Ex. 13.1.5**: Compute the inbreeding homophily for each class. Use the class measures to compute the mean. Use a bootstrap to compute whether there is inbreeding homophily."
   ]
  },
  {
   "cell_type": "code",
   "execution_count": 44,
   "metadata": {},
   "outputs": [],
   "source": [
    "def inbreeding_homophily(h,b):\n",
    "    return (h-b)/(1-b)\n",
    "def baseline_homophily(k,ks):\n",
    "    return sum([i*(i-1) for i in ks])/(k*(k-1))\n",
    "def class_gender(el): #number of nodes of different gender within class\n",
    "    el_i=el_agg.loc[el,:]\n",
    "    people=np.unique(np.concatenate([el_i.u1.unique(),el_i.u2.unique()]))\n",
    "    gender=[ind[ind['u']==n]['gender'].to_list() for n in people]\n",
    "    m,f=gender.count(['M']),gender.count(['F'])\n",
    "    return list([m,f])\n",
    "def homophily(el):\n",
    "    el_i=el_agg.loc[el,:]\n",
    "    return len(el_i[el_i['u1_gender']==el_i['u2_gender']])/(len(el_i))"
   ]
  },
  {
   "cell_type": "code",
   "execution_count": 45,
   "metadata": {},
   "outputs": [],
   "source": [
    "el_k=el_agg.groupby(['u1_class']).apply(lambda s:len(nodes(s))) #numder of people in each class\n",
    "el_k_index=el_agg.groupby(['u1_class']).apply(lambda s:s.index) #their index"
   ]
  },
  {
   "cell_type": "code",
   "execution_count": 47,
   "metadata": {},
   "outputs": [
    {
     "data": {
      "text/plain": [
       "0.11533737795720495"
      ]
     },
     "execution_count": 47,
     "metadata": {},
     "output_type": "execute_result"
    }
   ],
   "source": [
    "#averege inbreeding homophily \n",
    "base=[]\n",
    "homo=[]\n",
    "for i in range(len(el_k)):\n",
    "    ks=class_gender(el_k_index[i]) #number of male and female\n",
    "    base.append(baseline_homophily(el_k[i],ks))\n",
    "    homo.append(homophily(el_k_index[i]))\n",
    "i_h=[]\n",
    "for i in range(len(base)):\n",
    "    i_h.append(inbreeding_homophily(homo[i],base[i])) #within class\n",
    "np.mean(i_h)"
   ]
  },
  {
   "cell_type": "code",
   "execution_count": 90,
   "metadata": {},
   "outputs": [
    {
     "data": {
      "text/plain": [
       "u1_class\n",
       "2BIO1    35\n",
       "2BIO2    32\n",
       "2BIO3    40\n",
       "MP       29\n",
       "MP*1     28\n",
       "MP*2     38\n",
       "PC       44\n",
       "PC*      37\n",
       "PSI*     33\n",
       "dtype: int64"
      ]
     },
     "execution_count": 90,
     "metadata": {},
     "output_type": "execute_result"
    }
   ],
   "source": [
    "el_agg.groupby(['u1_class']).apply(lambda s:nodes(s))"
   ]
  },
  {
   "cell_type": "code",
   "execution_count": 112,
   "metadata": {},
   "outputs": [],
   "source": [
    "mean=[]\n",
    "for i in range(10):\n",
    "    sample=bootstrap(el_agg.groupby(['u1_class']))\n",
    "    base=[]\n",
    "    homo=[]\n",
    "    i_h=[]\n",
    "    for s in sample:\n",
    "        el_k=nodes(s)\n",
    "        el_k_index=s.index\n",
    "        ks=class_gender(list(el_k_index))\n",
    "        baseline=baseline_homophily(el_k,ks)\n",
    "        base.append(baseline)\n",
    "        homo.append(homophily(el_k_index))\n",
    "    for i in range(len(base)):\n",
    "        i_h.append(inbreeding_homophily(homo[i],base[i]))\n",
    "    mean.append(np.mean(i_h))\n",
    "        "
   ]
  },
  {
   "cell_type": "code",
   "execution_count": 113,
   "metadata": {},
   "outputs": [
    {
     "data": {
      "text/plain": [
       "0.04903725838399845"
      ]
     },
     "execution_count": 113,
     "metadata": {},
     "output_type": "execute_result"
    }
   ],
   "source": [
    "np.std(mean) #std"
   ]
  },
  {
   "cell_type": "markdown",
   "metadata": {},
   "source": [
    "> **Ex. 13.1.6** (BONUS): Describe what an unsupported edge is. Construct a test of whether there is a preference for forming  triangles within same gender than across.\n",
    ">\n",
    ">> *Hint:*  You can find inspiration in the approach of [Chandrasekhar, Jackson (2018)](https://web.stanford.edu/~arungc/CJ_sugm.pdf) pp. 31-35. They construct an almost identical test for triangle formation across castes in Indian villages."
   ]
  },
  {
   "cell_type": "code",
   "execution_count": null,
   "metadata": {},
   "outputs": [],
   "source": [
    "# [Answer to ex. 13.1.6 here]\n"
   ]
  }
 ],
 "metadata": {
  "kernelspec": {
   "display_name": "Python 3",
   "language": "python",
   "name": "python3"
  },
  "language_info": {
   "codemirror_mode": {
    "name": "ipython",
    "version": 3
   },
   "file_extension": ".py",
   "mimetype": "text/x-python",
   "name": "python",
   "nbconvert_exporter": "python",
   "pygments_lexer": "ipython3",
   "version": "3.7.6"
  }
 },
 "nbformat": 4,
 "nbformat_minor": 2
}
