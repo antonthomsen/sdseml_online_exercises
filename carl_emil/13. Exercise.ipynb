{
 "cells": [
  {
   "cell_type": "markdown",
   "metadata": {},
   "source": [
    "# Exercise Set 13: Network formation\n",
    "\n",
    "\n",
    "In this Exercise Set 13 we will investigate network formation among high school pupils. \n",
    "\n",
    "## Part 1: Network formation\n",
    "\n",
    "\n",
    "Load the data using the script below. Read a bit about the dataset [here](http://www.sociopatterns.org/datasets/high-school-contact-and-friendship-networks/) to get an understanding of what is in each variable. \n",
    "\n",
    "The script gives you two dataframes to work with: \n",
    " > `el`, which is an edge-list \n",
    " >\n",
    " > `ind` which contains individual characteristics"
   ]
  },
  {
   "cell_type": "code",
   "execution_count": 1,
   "metadata": {},
   "outputs": [],
   "source": [
    "import networkx as nx\n",
    "import numpy as np\n",
    "import pandas as pd\n",
    "import matplotlib.pyplot as plt \n",
    "%matplotlib inline\n",
    "\n",
    "url_base = 'http://www.sociopatterns.org/wp-content/uploads/2015/'\n",
    "\n",
    "# edgelist\n",
    "url_el = url_base + '07/High-School_data_2013.csv.gz'\n",
    "col_names_el = ['timestamp', 'u1', 'u2', 'class1', 'class2']\n",
    "el = pd.read_csv(url_el, header=None, names=col_names_el, delimiter=' ')\n",
    "\n",
    "# individual characteristics\n",
    "url_ind = url_base + '09/metadata_2013.txt'\n",
    "col_names_ind = ['u', 'class', 'gender']\n",
    "ind = pd.read_csv(url_ind, header=None, names=col_names_ind, delimiter='\\t')\\\n",
    "            .set_index('u')\n",
    "\n",
    "# remove observation with missing gender\n",
    "has_gender = ind[ind.gender!='Unknown'].index\n",
    "\n",
    "# DataFrames\n",
    "ind = ind.loc[has_gender].copy()\n",
    "el = el[el.u1.isin(has_gender) &  el.u2.isin(has_gender)].copy()"
   ]
  },
  {
   "cell_type": "markdown",
   "metadata": {},
   "source": [
    "> **Ex. 13.1.1**: Describe the edgelist columns content. Parse the timestamp. What is the resolution of meetings? Use the parsed timestamp to count the meetings by hour in local time."
   ]
  },
  {
   "cell_type": "code",
   "execution_count": 2,
   "metadata": {
    "scrolled": true
   },
   "outputs": [
    {
     "data": {
      "image/png": "[encoded data removed]",
      "text/plain": [
       "<Figure size 432x288 with 1 Axes>"
      ]
     },
     "metadata": {
      "needs_background": "light"
     },
     "output_type": "display_data"
    }
   ],
   "source": [
    "el['time'] = pd.to_datetime(el.timestamp, unit = 's')\n",
    "\n",
    "plt.bar(el.time.dt.hour.unique(), el.time.dt.hour.value_counts().sort_index())\n",
    "plt.xticks(np.arange(min(el.time.dt.hour.unique()), max(el.time.dt.hour.unique()+1)))\n",
    "plt.xlabel('Time', size = 14)\n",
    "plt.ylabel('Meetings', size = 14)\n",
    "plt.title('Meetings pr. hour', size = 18)\n",
    "plt.tight_layout()\n",
    "plt.show()"
   ]
  },
  {
   "cell_type": "markdown",
   "metadata": {},
   "source": [
    "> **Ex. 13.1.2**: Count the number of meetings for each edge and save this as a DataFrame called `el_agg`. Filter out edges with less than 5 minutes of meetings. Attach the gender and class of both nodes."
   ]
  },
  {
   "cell_type": "code",
   "execution_count": 3,
   "metadata": {},
   "outputs": [
    {
     "data": {
      "text/html": [
       "<div>\n",
       "<style scoped>\n",
       "    .dataframe tbody tr th:only-of-type {\n",
       "        vertical-align: middle;\n",
       "    }\n",
       "\n",
       "    .dataframe tbody tr th {\n",
       "        vertical-align: top;\n",
       "    }\n",
       "\n",
       "    .dataframe thead th {\n",
       "        text-align: right;\n",
       "    }\n",
       "</style>\n",
       "<table border=\"1\" class=\"dataframe\">\n",
       "  <thead>\n",
       "    <tr style=\"text-align: right;\">\n",
       "      <th></th>\n",
       "      <th>u1</th>\n",
       "      <th>u2</th>\n",
       "      <th>n_meetings</th>\n",
       "      <th>class1</th>\n",
       "      <th>gender1</th>\n",
       "      <th>class2</th>\n",
       "      <th>gender2</th>\n",
       "    </tr>\n",
       "  </thead>\n",
       "  <tbody>\n",
       "    <tr>\n",
       "      <th>3</th>\n",
       "      <td>27</td>\n",
       "      <td>63</td>\n",
       "      <td>19</td>\n",
       "      <td>2BIO2</td>\n",
       "      <td>M</td>\n",
       "      <td>2BIO3</td>\n",
       "      <td>F</td>\n",
       "    </tr>\n",
       "    <tr>\n",
       "      <th>13</th>\n",
       "      <td>70</td>\n",
       "      <td>101</td>\n",
       "      <td>15</td>\n",
       "      <td>2BIO3</td>\n",
       "      <td>F</td>\n",
       "      <td>2BIO3</td>\n",
       "      <td>F</td>\n",
       "    </tr>\n",
       "    <tr>\n",
       "      <th>17</th>\n",
       "      <td>55</td>\n",
       "      <td>106</td>\n",
       "      <td>28</td>\n",
       "      <td>2BIO3</td>\n",
       "      <td>F</td>\n",
       "      <td>2BIO3</td>\n",
       "      <td>F</td>\n",
       "    </tr>\n",
       "    <tr>\n",
       "      <th>20</th>\n",
       "      <td>101</td>\n",
       "      <td>106</td>\n",
       "      <td>23</td>\n",
       "      <td>2BIO3</td>\n",
       "      <td>F</td>\n",
       "      <td>2BIO3</td>\n",
       "      <td>F</td>\n",
       "    </tr>\n",
       "    <tr>\n",
       "      <th>21</th>\n",
       "      <td>1</td>\n",
       "      <td>117</td>\n",
       "      <td>18</td>\n",
       "      <td>2BIO3</td>\n",
       "      <td>M</td>\n",
       "      <td>2BIO3</td>\n",
       "      <td>M</td>\n",
       "    </tr>\n",
       "  </tbody>\n",
       "</table>\n",
       "</div>"
      ],
      "text/plain": [
       "     u1   u2  n_meetings class1 gender1 class2 gender2\n",
       "3    27   63          19  2BIO2       M  2BIO3       F\n",
       "13   70  101          15  2BIO3       F  2BIO3       F\n",
       "17   55  106          28  2BIO3       F  2BIO3       F\n",
       "20  101  106          23  2BIO3       F  2BIO3       F\n",
       "21    1  117          18  2BIO3       M  2BIO3       M"
      ]
     },
     "execution_count": 3,
     "metadata": {},
     "output_type": "execute_result"
    }
   ],
   "source": [
    "el_agg = el.groupby(['u1','u2']).size().rename('n_meetings').reset_index()\n",
    "\n",
    "el_agg = el_agg.merge(ind.add_suffix('1') , left_on = 'u1', right_on = 'u')\n",
    "el_agg = el_agg.merge(ind.add_suffix('2') , left_on = 'u2', right_on = 'u')\n",
    "el_agg = el_agg[el_agg.n_meetings >= 15] # Each meeting is 20s\n",
    "el_agg.head()"
   ]
  },
  {
   "cell_type": "markdown",
   "metadata": {},
   "source": [
    "> **Ex. 13.1.3**: Answer question in the function `fraction_triangles` below. Explain how `fraction_triangles` is related to  computing the clustering coefficient (using `nx.average_clustering`).\n",
    ">\n",
    ">> *Hint:* The following code does the same thing as `fraction_triangles`, but at a scale where you can understand what's going on. If you have a hard time understanding the code in the function you can try to play around with this simpler example\n",
    ">>\n",
    ">> ```python\n",
    ">> import networkx as nx \n",
    ">>\n",
    ">> A  = np.array(\n",
    ">>     [[0, 1, 1, 0],\n",
    ">>      [1, 0, 1, 0],\n",
    ">>      [1, 1, 0, 1],\n",
    ">>      [0, 0, 1, 0]]\n",
    ">> )\n",
    ">>\n",
    ">> G = nx.from_numpy_array(A)\n",
    ">> nx.draw(G,with_labels=True)\n",
    ">>\n",
    ">> def nth(A, n):\n",
    ">>     A_ = A.copy()    \n",
    ">>     for _ in range(1,n):\n",
    ">>         A = A.dot(A_)\n",
    ">>     return A\n",
    ">>\n",
    ">> a_t = nth(A,3).diagonal().sum()/6\n",
    ">> n = len(A[:,0])\n",
    ">> p_t = binom(n, 3)\n",
    ">> ```\n"
   ]
  },
  {
   "cell_type": "code",
   "execution_count": 4,
   "metadata": {},
   "outputs": [],
   "source": [
    "def make_net(el_, nodes):\n",
    "    '''\n",
    "    Convert edgelist to networkx graph which is \n",
    "    binary and undirected.\n",
    "    \n",
    "    Parameters\n",
    "    ----------\n",
    "    el_ : DataFrame\n",
    "        Table containing an edgelist with columns \n",
    "        `u1` and `u2` which are the nodes in the edge.\n",
    "        \n",
    "    nodes : array-like\n",
    "        1d array containing the node identities.\n",
    "    '''    \n",
    "    \n",
    "    nx_input = el_, 'u1', 'u2', 'n_meetings', nx.Graph()\n",
    "    g = nx.from_pandas_edgelist(*nx_input)\n",
    "    g.add_nodes_from(nodes)\n",
    "    return g"
   ]
  },
  {
   "cell_type": "code",
   "execution_count": 5,
   "metadata": {},
   "outputs": [],
   "source": [
    "from scipy.special import binom\n",
    "\n",
    "def fraction_triangles(el_, nodes):\n",
    "    '''\n",
    "    Compute fraction of actual triangles out \n",
    "    of the potential triangles.\n",
    "    \n",
    "    Parameters\n",
    "    ----------\n",
    "    el_ : DataFrame\n",
    "        Table containing an edgelist with columns \n",
    "        `u1` and `u2` which are the nodes in the edge.\n",
    "        \n",
    "    nodes : array-like\n",
    "        1d array containing the node identities.\n",
    "    '''\n",
    "    \n",
    "    g = make_net(el_, nodes)\n",
    "    \n",
    "    #Q.1: what is `A`?: the adjacency matrix which is symmetric and binary\n",
    "    #Q.2: what does `A**3` do? compute the number of paths between two nodes\n",
    "    #Q.3: what is diagonal of A_t? the number of actual paths of length 3, \n",
    "    # i.e. triangles, which include the person. these are called cycles\n",
    "    # because they start and end at the same person\n",
    "    \n",
    "    # count actual triangles    \n",
    "    A = nx.to_scipy_sparse_matrix(g)\n",
    "    A_t = A**3\n",
    "    a_t = A_t.diagonal().sum()/6\n",
    "    \n",
    "    #Q.4: what does `binom(n,3)` compute? the number of triangles including the person\n",
    "    \n",
    "    # count potential triangles\n",
    "    n = len(g.nodes())\n",
    "    p_t = binom(n, 3)\n",
    "        \n",
    "    return a_t/p_t"
   ]
  },
  {
   "cell_type": "markdown",
   "metadata": {},
   "source": [
    "> **Ex. 13.1.4**: Apply the function `fraction_triangles` to `el_agg` and print the triangle fraction in the network. Next remove all edges that go between classes. Compute triangle fraction within each class and store it. Compute the mean within class triangles and bootstrap the standard error of the mean. Comment on the output.\n",
    ">\n",
    ">> *Hint:* To bootstrap an estimate draw $k>>0$ samples with replacement from the data. Compute the estimate on each of these samples and average them in the end to get the bootstrapped estimate. "
   ]
  },
  {
   "cell_type": "markdown",
   "metadata": {},
   "source": [
    ">> **Answer: Ex. 13.1.4**\n",
    "<br>\n",
    ">> We start by computing the overall mean:"
   ]
  },
  {
   "cell_type": "code",
   "execution_count": 6,
   "metadata": {},
   "outputs": [
    {
     "name": "stdout",
     "output_type": "stream",
     "text": [
      "Triangle fraction: 0.00030148894177744237\n"
     ]
    }
   ],
   "source": [
    "print(f'Triangle fraction: {fraction_triangles(el_agg, ind.index)}') "
   ]
  },
  {
   "cell_type": "markdown",
   "metadata": {},
   "source": [
    ">> We then wanna generate a data set where each edge is only within class. In other words, the triangle fraction within each class:"
   ]
  },
  {
   "cell_type": "code",
   "execution_count": 7,
   "metadata": {},
   "outputs": [],
   "source": [
    "el_agg_class = el_agg[el_agg.class1 == el_agg.class2]\n",
    "\n",
    "classes = el_agg_class.class1.unique()\n",
    "\n",
    "triangles = []\n",
    "\n",
    "for i in classes:\n",
    "    fraction = fraction_triangles(dict(tuple(el_agg_class.groupby('class1')))[i],\n",
    "                                             dict(tuple(ind.groupby('class')))[i].index)\n",
    "    triangles.append(fraction)\n"
   ]
  },
  {
   "cell_type": "markdown",
   "metadata": {},
   "source": [
    ">> Given the list of triangles for each class in `triangles`, we can calculate the mean across classes:"
   ]
  },
  {
   "cell_type": "code",
   "execution_count": 8,
   "metadata": {},
   "outputs": [
    {
     "name": "stdout",
     "output_type": "stream",
     "text": [
      "Mean within classes: 0.022109699854589965\n"
     ]
    }
   ],
   "source": [
    "from statistics import mean \n",
    "\n",
    "print(f'Mean within classes: {mean(triangles)}')"
   ]
  },
  {
   "cell_type": "markdown",
   "metadata": {},
   "source": [
    ">> Which naturally is quite a lot larger. This is quite intuitive, as we would expect people to have more frequent (and longer) interactions with people they share a classroom with. With bootstrapping we can find the std. error of the mean:"
   ]
  },
  {
   "cell_type": "code",
   "execution_count": 9,
   "metadata": {},
   "outputs": [
    {
     "name": "stdout",
     "output_type": "stream",
     "text": [
      "Std. Error of mean within classes: 0.002762267281612377\n"
     ]
    }
   ],
   "source": [
    "def bootstrap(df, n_iter):\n",
    "    std = np.std([pd.Series(triangles).sample(frac = 1, replace = True).mean() for _ in range(n_iter)])\n",
    "    return std\n",
    "\n",
    "print(f'Std. Error of mean within classes: {bootstrap(triangles, 10000)}')"
   ]
  },
  {
   "cell_type": "markdown",
   "metadata": {},
   "source": [
    "Recall from class that we can define the following measures of homophily. We define **homophily index** inspired by [Currarini et al. (2009)](https://doi.org/10.2139/ssrn.1021650):\n",
    "- share of edges that are same type: $H = \\frac{s}{s+d}$\n",
    "- possible range [0,1]\n",
    "\n",
    "\n",
    "We define **baseline homophily** as: \n",
    "- We count fraction of potential edges in population of nodes which are same type:\n",
    "\n",
    "\\begin{equation}B=\\frac{\\sum_t\\#potential(n_t)}{\\#potential(n)}, \\qquad \\#potential(k)=\\frac{k\\cdot(k-1)}{2}\\end{equation}\n",
    "\n",
    "- Interpretation: Expected homophily from random link formation.     \n",
    "\n",
    "We define **inbreeding homophily** as:      \n",
    "\n",
    "\\begin{equation}IH=\\frac{H-B}{1-B}\\end{equation}\n",
    "\n",
    "\n",
    "> **Ex. 13.1.5**: Compute the inbreeding homophily for each class. Use the class measures to compute the mean. Use a bootstrap to compute whether there is inbreeding homophily."
   ]
  },
  {
   "cell_type": "markdown",
   "metadata": {},
   "source": [
    "> **Ex. 13.1.6** (BONUS): Describe what an unsupported edge is. Construct a test of whether there is a preference for forming  triangles within same gender than across.\n",
    ">\n",
    ">> *Hint:*  You can find inspiration in the approach of [Chandrasekhar, Jackson (2018)](https://web.stanford.edu/~arungc/CJ_sugm.pdf) pp. 31-35. They construct an almost identical test for triangle formation across castes in Indian villages."
   ]
  },
  {
   "cell_type": "code",
   "execution_count": null,
   "metadata": {},
   "outputs": [],
   "source": [
    "# [Answer to ex. 13.1.6 here]"
   ]
  }
 ],
 "metadata": {
  "kernelspec": {
   "display_name": "Python 3",
   "language": "python",
   "name": "python3"
  },
  "language_info": {
   "codemirror_mode": {
    "name": "ipython",
    "version": 3
   },
   "file_extension": ".py",
   "mimetype": "text/x-python",
   "name": "python",
   "nbconvert_exporter": "python",
   "pygments_lexer": "ipython3",
   "version": "3.7.1"
  }
 },
 "nbformat": 4,
 "nbformat_minor": 2
}
